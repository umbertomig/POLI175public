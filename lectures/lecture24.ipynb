{
 "cells": [
  {
   "cell_type": "markdown",
   "id": "243e38f9",
   "metadata": {
    "slideshow": {
     "slide_type": "slide"
    }
   },
   "source": [
    "# POLI 175 - Lecture 24\n",
    "\n",
    "## Deep Learning II"
   ]
  },
  {
   "cell_type": "markdown",
   "id": "818fb620",
   "metadata": {
    "slideshow": {
     "slide_type": "slide"
    }
   },
   "source": [
    "# Deep Learning"
   ]
  },
  {
   "cell_type": "markdown",
   "id": "1f7683eb",
   "metadata": {
    "slideshow": {
     "slide_type": "slide"
    }
   },
   "source": [
    "## Deep Learning\n",
    "\n",
    "- The next method we are going to cover is deep learning. \n",
    "\n",
    "- Deep learning is now at the frontier of Machine Learning knowledge.\n",
    "\n",
    "- It is one of the most inventive flexible models there is.\n",
    "\n",
    "- It does a fantastic job of predicting hard-to-see patterns in the data."
   ]
  },
  {
   "cell_type": "markdown",
   "id": "319af4e9",
   "metadata": {
    "slideshow": {
     "slide_type": "slide"
    }
   },
   "source": [
    "## Deep Learning\n",
    "\n",
    "- We will see two deep learning methods: *Convoluted Neural Networks*, and *Recurrent Neural Networks*.\n",
    "    + **Convoluted Neural Networks**: Does well with image recognition problems and other problems without recurrent data structures.\n",
    "    + **Recurrent Neural Networks**: Does well with recurrent structures, such as time-series data (where present values depend on past values, such as GDP, stocks, and others).\n",
    "    \n",
    "- The best news computationally is that Google created a library called `TensorFlow`, which does all the estimations for us.\n",
    "\n",
    "- We will learn how to use an interface to this library called `keras`."
   ]
  },
  {
   "cell_type": "markdown",
   "id": "2733207e",
   "metadata": {
    "slideshow": {
     "slide_type": "slide"
    }
   },
   "source": [
    "## Deep Learning\n",
    "\n",
    "- Let us see a very simple *feed-forward* neural network.\n",
    "\n",
    "![nn1](https://raw.githubusercontent.com/umbertomig/POLI175public/main/img/nn1.png)"
   ]
  },
  {
   "cell_type": "markdown",
   "id": "5211a649",
   "metadata": {
    "slideshow": {
     "slide_type": "slide"
    }
   },
   "source": [
    "## Deep Learning\n",
    "\n",
    "- This neural network is, mathematically:\n",
    "\n",
    "$$ f(X) \\ = \\ \\beta_0 + \\sum_k \\beta_k h_k(X) $$\n",
    "\n",
    "- The features we start our NN call the *input layer*.\n",
    "\n",
    "- The output of our NN is called the *output layer*.\n",
    "\n",
    "- And the insides we call the *hidden layers*."
   ]
  },
  {
   "cell_type": "markdown",
   "id": "3ebad74d",
   "metadata": {
    "slideshow": {
     "slide_type": "slide"
    }
   },
   "source": [
    "## Deep Learning \n",
    "\n",
    "- In the case of a single feed-forward structure, we have one hidden layer:\n",
    "\n",
    "![nn1](https://raw.githubusercontent.com/umbertomig/POLI175public/main/img/nn1.png)"
   ]
  },
  {
   "cell_type": "markdown",
   "id": "3e3b7035",
   "metadata": {
    "slideshow": {
     "slide_type": "slide"
    }
   },
   "source": [
    "## Deep Learning \n",
    "\n",
    "- Each hidden layer is comprised by activation functions:\n",
    "\n",
    "$$ A_k \\ = \\ h_k(X) \\ = \\ g(w_{k0} + \\sum_j g(w_{kj}X_j) $$\n",
    "\n",
    "- The activation function is based on the weights $w_{kj}$, estimated from the data\n",
    "\n",
    "- And the $g(.)$ is a non-linear function specified by us."
   ]
  },
  {
   "cell_type": "markdown",
   "id": "4681b542",
   "metadata": {
    "slideshow": {
     "slide_type": "slide"
    }
   },
   "source": [
    "## Deep Learning\n",
    "\n",
    "- The main thing here is the shape of the $g()$ function.\n",
    "\n",
    "- If $g$ is the identity function, we would recover a simple linear regression model.\n",
    "    + The $g$ should be non-linear!"
   ]
  },
  {
   "cell_type": "markdown",
   "id": "97b02f0a",
   "metadata": {
    "slideshow": {
     "slide_type": "slide"
    }
   },
   "source": [
    "## Deep Learning\n",
    "\n",
    "- If you look closely, the name neural networks would then make sense:\n",
    "    + It seems like a bunch of neurons firing up depending on the activation.\n",
    "    \n",
    "- But there is something else going on here:\n",
    "    + If you look at the activation functions carefully, you will realize they have new features!\n",
    "    + So, the strength of Deep Learning is that it comes up with new features based on older features."
   ]
  },
  {
   "cell_type": "markdown",
   "id": "7a89a15e",
   "metadata": {
    "slideshow": {
     "slide_type": "slide"
    }
   },
   "source": [
    "## Deep Learning\n",
    "\n",
    "Choices for $g$: \n",
    "\n",
    "- *Sigmoid* activation function: \n",
    "\n",
    "$$ g(z) \\ = \\ \\dfrac{1}{1 + e^{-z}}$$\n",
    "\n",
    "- *Rectified linear unit* function:\n",
    "\n",
    "$$ g(z) \\ = \\ (z)_+ $$"
   ]
  },
  {
   "cell_type": "markdown",
   "id": "b26f2e04",
   "metadata": {
    "slideshow": {
     "slide_type": "slide"
    }
   },
   "source": [
    "## Deep Learning\n",
    "\n",
    "Example of these $g$s here:\n",
    "\n",
    "![nn2](https://raw.githubusercontent.com/umbertomig/POLI175public/main/img/nn2.png)"
   ]
  },
  {
   "cell_type": "markdown",
   "id": "8ec3c2be",
   "metadata": {
    "slideshow": {
     "slide_type": "slide"
    }
   },
   "source": [
    "## Deep Learning\n",
    "\n",
    "- And the reason why it is so good is that you can fit pretty much all functional forms:\n",
    "    + Example: Can we fit a interaction term ($f(x_1, x_2) = x_1 \\cdot x_2$)? Yes!"
   ]
  },
  {
   "cell_type": "markdown",
   "id": "25642025",
   "metadata": {
    "slideshow": {
     "slide_type": "slide"
    }
   },
   "source": [
    "## Deep Learning\n",
    "\n",
    "- Let: $X = (X_1. X_2)$, $K = 2$, $g(z) = z^2$. Assume we fit a feed-forward with two hidden layers (hence $K = 2$!) and find:\n",
    "\n",
    "$$ \\beta_0 = 0, \\quad \\beta_1 = \\frac{1}{4}, \\quad \\beta_2 = -\\frac{1}{4} $$\n",
    "\n",
    "$$ w_{10} = 0, \\quad w_{11} = 1, \\quad w_{12} = 1 $$\n",
    "\n",
    "$$ w_{20} = 0, \\quad w_{21} = 1, \\quad w_{22} = -1 $$"
   ]
  },
  {
   "cell_type": "markdown",
   "id": "2198dbce",
   "metadata": {
    "slideshow": {
     "slide_type": "slide"
    }
   },
   "source": [
    "## Deep Learning\n",
    "\n",
    "The activation functions are:\n",
    "\n",
    "$$ h_1(X) \\ = \\ (0 + X_1 + X_2)^2 \\ = \\ (X_1 + X_2)^2$$\n",
    "\n",
    "$$ h_2(X) \\ = \\ (0 + X_1 - X_2)^2 \\ = \\ (X_1 - X_2)^2$$\n"
   ]
  },
  {
   "cell_type": "markdown",
   "id": "b9c93c52",
   "metadata": {
    "slideshow": {
     "slide_type": "slide"
    }
   },
   "source": [
    "## Deep Learning\n",
    "\n",
    "And the $f$ is:\n",
    "\n",
    "$$ f(X) \\ = \\ 0 + \\frac{1}{4}h_1(X) - \\frac{1}{4}h_2(X) $$\n",
    "\n",
    "And after some algebra:\n",
    "\n",
    "$$ f(X)  \\ = \\ X_1 X_2 $$\n",
    "\n",
    "- This is awesome! \n",
    "    + We started with a straightforward, functional form and reached a complex interaction term structure.\n",
    "    + And this is the beauty of Deep Learning: it can easily capture the patterns from various functional forms.\n",
    "    \n"
   ]
  },
  {
   "cell_type": "markdown",
   "id": "0fb41dc2",
   "metadata": {
    "slideshow": {
     "slide_type": "slide"
    }
   },
   "source": [
    "## Deep Learning\n",
    "\n",
    "- But most of the time, at the expense of a clear view of what is going on: *low interpretability*\n",
    "\n",
    "Example: hand-writing classification problem discussed in the book.\n",
    "\n",
    "![nn3](https://raw.githubusercontent.com/umbertomig/POLI175public/main/img/nn3.png)"
   ]
  },
  {
   "cell_type": "code",
   "execution_count": null,
   "id": "3abdebf9",
   "metadata": {
    "slideshow": {
     "slide_type": "slide"
    }
   },
   "outputs": [],
   "source": [
    "# Some Keras\n",
    "# To install it in mykernel\n",
    "# source mykernel/bin/activate\n",
    "# pip install tensorflow\n",
    "from tensorflow.keras.models import Sequential\n",
    "from tensorflow.keras.layers import Dense\n",
    "from tensorflow.keras.utils import to_categorical"
   ]
  },
  {
   "cell_type": "code",
   "execution_count": 2,
   "id": "554fbecf",
   "metadata": {
    "slideshow": {
     "slide_type": "slide"
    }
   },
   "outputs": [
    {
     "name": "stdout",
     "output_type": "stream",
     "text": [
      "Model: \"sequential\"\n",
      "_________________________________________________________________\n",
      " Layer (type)                Output Shape              Param #   \n",
      "=================================================================\n",
      " dense (Dense)               (None, 6)                 30        \n",
      "                                                                 \n",
      " dense_1 (Dense)             (None, 1)                 7         \n",
      "                                                                 \n",
      "=================================================================\n",
      "Total params: 37\n",
      "Trainable params: 37\n",
      "Non-trainable params: 0\n",
      "_________________________________________________________________\n"
     ]
    },
    {
     "name": "stderr",
     "output_type": "stream",
     "text": [
      "2023-03-10 23:38:11.856405: W tensorflow/compiler/xla/stream_executor/platform/default/dso_loader.cc:64] Could not load dynamic library 'libcuda.so.1'; dlerror: libcuda.so.1: cannot open shared object file: No such file or directory\n",
      "2023-03-10 23:38:11.856459: W tensorflow/compiler/xla/stream_executor/cuda/cuda_driver.cc:265] failed call to cuInit: UNKNOWN ERROR (303)\n",
      "2023-03-10 23:38:11.856504: I tensorflow/compiler/xla/stream_executor/cuda/cuda_diagnostics.cc:163] no NVIDIA GPU device is present: /dev/nvidia0 does not exist\n",
      "2023-03-10 23:38:11.857089: I tensorflow/core/platform/cpu_feature_guard.cc:193] This TensorFlow binary is optimized with oneAPI Deep Neural Network Library (oneDNN) to use the following CPU instructions in performance-critical operations:  AVX2 AVX512F AVX512_VNNI FMA\n",
      "To enable them in other operations, rebuild TensorFlow with the appropriate compiler flags.\n"
     ]
    }
   ],
   "source": [
    "## Building a simple NN\n",
    "model = Sequential()\n",
    "\n",
    "# Input layer with four neurons (four starting features) and six neurons, 'relu' activation\n",
    "model.add(Dense(6, input_shape=(4,), activation=\"relu\"))\n",
    "\n",
    "# One output layer\n",
    "model.add(Dense(1))\n",
    "\n",
    "# Summarise your model\n",
    "model.summary()\n",
    "\n",
    "# Do you think you can you draw it?"
   ]
  },
  {
   "cell_type": "markdown",
   "id": "12c27e59",
   "metadata": {
    "slideshow": {
     "slide_type": "slide"
    }
   },
   "source": [
    "## Deep Learning\n",
    "\n",
    "<img src=\"https://raw.githubusercontent.com/umbertomig/POLI175public/main/img/nn1.png\" width=\"400\">"
   ]
  },
  {
   "cell_type": "code",
   "execution_count": 3,
   "id": "d84a5aa2",
   "metadata": {
    "slideshow": {
     "slide_type": "fragment"
    }
   },
   "outputs": [],
   "source": [
    "## Now write a code that creates this one here"
   ]
  },
  {
   "cell_type": "markdown",
   "id": "0f5cd083",
   "metadata": {
    "slideshow": {
     "slide_type": "slide"
    }
   },
   "source": [
    "## Deep Learning\n",
    "\n",
    "- Let us get started by fitting a Neural Networking to predict votes in the Chile Dataset."
   ]
  },
  {
   "cell_type": "code",
   "execution_count": 4,
   "id": "b55c5cf0",
   "metadata": {
    "slideshow": {
     "slide_type": "fragment"
    }
   },
   "outputs": [],
   "source": [
    "## Loading the relevant packages\n",
    "import pandas as pd\n",
    "import numpy as np\n",
    "\n",
    "# Plotting things:\n",
    "import seaborn as sns\n",
    "import matplotlib.pyplot as plt\n",
    "\n",
    "# Some statsmodels to deal with GAMs\n",
    "import statsmodels.api as sm\n",
    "from statsmodels.gam.api import GLMGam, BSplines"
   ]
  },
  {
   "cell_type": "code",
   "execution_count": 5,
   "id": "00e6cea4",
   "metadata": {
    "slideshow": {
     "slide_type": "slide"
    }
   },
   "outputs": [],
   "source": [
    "# Scikit Learn\n",
    "from sklearn.linear_model import LogisticRegression, LinearRegression, Ridge, Lasso\n",
    "from sklearn.naive_bayes import GaussianNB\n",
    "from sklearn.discriminant_analysis import LinearDiscriminantAnalysis, QuadraticDiscriminantAnalysis\n",
    "from sklearn.metrics import confusion_matrix, classification_report, precision_score, get_scorer_names, mean_squared_error, r2_score, mean_squared_error, roc_auc_score, ConfusionMatrixDisplay, accuracy_score\n",
    "from sklearn.model_selection import train_test_split, LeaveOneOut, cross_val_score, KFold, GridSearchCV\n",
    "from sklearn.inspection import DecisionBoundaryDisplay\n",
    "from sklearn.tree import DecisionTreeRegressor, DecisionTreeClassifier, plot_tree, export_text\n",
    "from sklearn.neighbors import KNeighborsClassifier\n",
    "from sklearn.preprocessing import StandardScaler, PolynomialFeatures, SplineTransformer\n",
    "from sklearn.feature_selection import SequentialFeatureSelector\n",
    "from sklearn.ensemble import VotingClassifier, BaggingRegressor, BaggingClassifier, RandomForestRegressor, RandomForestClassifier, AdaBoostClassifier, AdaBoostRegressor, GradientBoostingRegressor, GradientBoostingClassifier\n",
    "from sklearn.svm import LinearSVC, SVC"
   ]
  },
  {
   "cell_type": "code",
   "execution_count": 6,
   "id": "6629a71c",
   "metadata": {
    "slideshow": {
     "slide_type": "slide"
    }
   },
   "outputs": [
    {
     "data": {
      "text/html": [
       "<div>\n",
       "<style scoped>\n",
       "    .dataframe tbody tr th:only-of-type {\n",
       "        vertical-align: middle;\n",
       "    }\n",
       "\n",
       "    .dataframe tbody tr th {\n",
       "        vertical-align: top;\n",
       "    }\n",
       "\n",
       "    .dataframe thead th {\n",
       "        text-align: right;\n",
       "    }\n",
       "</style>\n",
       "<table border=\"1\" class=\"dataframe\">\n",
       "  <thead>\n",
       "    <tr style=\"text-align: right;\">\n",
       "      <th></th>\n",
       "      <th>region</th>\n",
       "      <th>population</th>\n",
       "      <th>sex</th>\n",
       "      <th>age</th>\n",
       "      <th>education</th>\n",
       "      <th>income</th>\n",
       "      <th>statusquo</th>\n",
       "      <th>vote</th>\n",
       "      <th>logincome</th>\n",
       "      <th>logpop</th>\n",
       "      <th>sex_M</th>\n",
       "      <th>region_M</th>\n",
       "      <th>region_N</th>\n",
       "      <th>region_S</th>\n",
       "      <th>region_SA</th>\n",
       "      <th>education_PS</th>\n",
       "      <th>education_S</th>\n",
       "    </tr>\n",
       "  </thead>\n",
       "  <tbody>\n",
       "    <tr>\n",
       "      <th>0</th>\n",
       "      <td>N</td>\n",
       "      <td>175000</td>\n",
       "      <td>M</td>\n",
       "      <td>65.0</td>\n",
       "      <td>P</td>\n",
       "      <td>35000.0</td>\n",
       "      <td>1.00820</td>\n",
       "      <td>1</td>\n",
       "      <td>10.463103</td>\n",
       "      <td>12.072541</td>\n",
       "      <td>1</td>\n",
       "      <td>0</td>\n",
       "      <td>1</td>\n",
       "      <td>0</td>\n",
       "      <td>0</td>\n",
       "      <td>0</td>\n",
       "      <td>0</td>\n",
       "    </tr>\n",
       "    <tr>\n",
       "      <th>1</th>\n",
       "      <td>N</td>\n",
       "      <td>175000</td>\n",
       "      <td>M</td>\n",
       "      <td>29.0</td>\n",
       "      <td>PS</td>\n",
       "      <td>7500.0</td>\n",
       "      <td>-1.29617</td>\n",
       "      <td>0</td>\n",
       "      <td>8.922658</td>\n",
       "      <td>12.072541</td>\n",
       "      <td>1</td>\n",
       "      <td>0</td>\n",
       "      <td>1</td>\n",
       "      <td>0</td>\n",
       "      <td>0</td>\n",
       "      <td>1</td>\n",
       "      <td>0</td>\n",
       "    </tr>\n",
       "    <tr>\n",
       "      <th>2</th>\n",
       "      <td>N</td>\n",
       "      <td>175000</td>\n",
       "      <td>F</td>\n",
       "      <td>38.0</td>\n",
       "      <td>P</td>\n",
       "      <td>15000.0</td>\n",
       "      <td>1.23072</td>\n",
       "      <td>1</td>\n",
       "      <td>9.615805</td>\n",
       "      <td>12.072541</td>\n",
       "      <td>0</td>\n",
       "      <td>0</td>\n",
       "      <td>1</td>\n",
       "      <td>0</td>\n",
       "      <td>0</td>\n",
       "      <td>0</td>\n",
       "      <td>0</td>\n",
       "    </tr>\n",
       "    <tr>\n",
       "      <th>3</th>\n",
       "      <td>N</td>\n",
       "      <td>175000</td>\n",
       "      <td>F</td>\n",
       "      <td>49.0</td>\n",
       "      <td>P</td>\n",
       "      <td>35000.0</td>\n",
       "      <td>-1.03163</td>\n",
       "      <td>0</td>\n",
       "      <td>10.463103</td>\n",
       "      <td>12.072541</td>\n",
       "      <td>0</td>\n",
       "      <td>0</td>\n",
       "      <td>1</td>\n",
       "      <td>0</td>\n",
       "      <td>0</td>\n",
       "      <td>0</td>\n",
       "      <td>0</td>\n",
       "    </tr>\n",
       "    <tr>\n",
       "      <th>4</th>\n",
       "      <td>N</td>\n",
       "      <td>175000</td>\n",
       "      <td>F</td>\n",
       "      <td>23.0</td>\n",
       "      <td>S</td>\n",
       "      <td>35000.0</td>\n",
       "      <td>-1.10496</td>\n",
       "      <td>0</td>\n",
       "      <td>10.463103</td>\n",
       "      <td>12.072541</td>\n",
       "      <td>0</td>\n",
       "      <td>0</td>\n",
       "      <td>1</td>\n",
       "      <td>0</td>\n",
       "      <td>0</td>\n",
       "      <td>0</td>\n",
       "      <td>1</td>\n",
       "    </tr>\n",
       "  </tbody>\n",
       "</table>\n",
       "</div>"
      ],
      "text/plain": [
       "  region  population sex   age education   income  statusquo  vote  logincome  \\\n",
       "0      N      175000   M  65.0         P  35000.0    1.00820     1  10.463103   \n",
       "1      N      175000   M  29.0        PS   7500.0   -1.29617     0   8.922658   \n",
       "2      N      175000   F  38.0         P  15000.0    1.23072     1   9.615805   \n",
       "3      N      175000   F  49.0         P  35000.0   -1.03163     0  10.463103   \n",
       "4      N      175000   F  23.0         S  35000.0   -1.10496     0  10.463103   \n",
       "\n",
       "      logpop  sex_M  region_M  region_N  region_S  region_SA  education_PS  \\\n",
       "0  12.072541      1         0         1         0          0             0   \n",
       "1  12.072541      1         0         1         0          0             1   \n",
       "2  12.072541      0         0         1         0          0             0   \n",
       "3  12.072541      0         0         1         0          0             0   \n",
       "4  12.072541      0         0         1         0          0             0   \n",
       "\n",
       "   education_S  \n",
       "0            0  \n",
       "1            0  \n",
       "2            0  \n",
       "3            0  \n",
       "4            1  "
      ]
     },
     "execution_count": 6,
     "metadata": {},
     "output_type": "execute_result"
    }
   ],
   "source": [
    "## Loading Chile data\n",
    "chile = pd.read_csv('https://raw.githubusercontent.com/umbertomig/POLI175public/main/data/chilesurvey.csv')\n",
    "chile_clean = chile.dropna()\n",
    "chile_clean = chile_clean[chile_clean['vote'].isin(['Y', 'N'])]\n",
    "chile_clean['vote'] = np.where(chile_clean['vote'] == 'Y', 1, 0)\n",
    "chile_clean['logincome'] = np.log(chile_clean['income'])\n",
    "chile_clean['logpop'] = np.log(chile_clean['population'])\n",
    "dummies = pd.get_dummies(chile_clean['sex'], prefix = 'sex', drop_first = True)\n",
    "chile_clean = pd.concat([chile_clean, dummies], axis=1)\n",
    "dummies = pd.get_dummies(chile_clean['region'], prefix = 'region', drop_first = True)\n",
    "chile_clean = pd.concat([chile_clean, dummies], axis=1)\n",
    "dummies = pd.get_dummies(chile_clean['education'], prefix = 'education', drop_first = True)\n",
    "chile_clean = pd.concat([chile_clean, dummies], axis=1)\n",
    "chile_clean.head()"
   ]
  },
  {
   "cell_type": "code",
   "execution_count": 7,
   "id": "a85cf3f1",
   "metadata": {
    "slideshow": {
     "slide_type": "slide"
    }
   },
   "outputs": [],
   "source": [
    "## Loading Chile data\n",
    "y = chile_clean['vote']\n",
    "X = chile_clean[['age', 'statusquo']]\n",
    "X_train, X_test, y_train, y_test = train_test_split(X, y, test_size = 0.3, stratify = y, random_state = 12345)"
   ]
  },
  {
   "cell_type": "code",
   "execution_count": 8,
   "id": "8b4b9650",
   "metadata": {
    "slideshow": {
     "slide_type": "slide"
    }
   },
   "outputs": [
    {
     "name": "stdout",
     "output_type": "stream",
     "text": [
      "Model: \"sequential_1\"\n",
      "_________________________________________________________________\n",
      " Layer (type)                Output Shape              Param #   \n",
      "=================================================================\n",
      " dense_2 (Dense)             (None, 10)                30        \n",
      "                                                                 \n",
      " dense_3 (Dense)             (None, 10)                110       \n",
      "                                                                 \n",
      " dense_4 (Dense)             (None, 1)                 11        \n",
      "                                                                 \n",
      "=================================================================\n",
      "Total params: 151\n",
      "Trainable params: 151\n",
      "Non-trainable params: 0\n",
      "_________________________________________________________________\n"
     ]
    }
   ],
   "source": [
    "# Initialize the model\n",
    "model = Sequential()\n",
    "\n",
    "# Getting the two variables and feeding them into 10 neurons\n",
    "model.add(Dense(10, input_shape=(2,), activation='relu'))\n",
    "\n",
    "# Adding 10 extra neurons\n",
    "model.add(Dense(10, activation='relu'))\n",
    "\n",
    "# Spitting out the prediction\n",
    "model.add(Dense(1, activation='sigmoid'))\n",
    "\n",
    "# Compile your model\n",
    "model.compile(loss='binary_crossentropy', optimizer='sgd', metrics=['accuracy'])\n",
    "\n",
    "# Display a summary of your model\n",
    "model.summary()"
   ]
  },
  {
   "cell_type": "code",
   "execution_count": 9,
   "id": "aeee4066",
   "metadata": {
    "slideshow": {
     "slide_type": "slide"
    }
   },
   "outputs": [
    {
     "data": {
      "text/plain": [
       "<keras.callbacks.History at 0x7f4323f42850>"
      ]
     },
     "execution_count": 9,
     "metadata": {},
     "output_type": "execute_result"
    }
   ],
   "source": [
    "# Train your model for 20 epochs\n",
    "model.fit(X_train, y_train, epochs = 50, verbose = 0)"
   ]
  },
  {
   "cell_type": "code",
   "execution_count": 10,
   "id": "8f7ec995",
   "metadata": {
    "slideshow": {
     "slide_type": "fragment"
    }
   },
   "outputs": [
    {
     "name": "stdout",
     "output_type": "stream",
     "text": [
      "16/16 [==============================] - 0s 2ms/step - loss: 0.2032 - accuracy: 0.9354\n",
      "Accuracy: 0.9354207515716553\n"
     ]
    }
   ],
   "source": [
    "# Evaluate your model accuracy on the test set\n",
    "accuracy = model.evaluate(X_test, y_test)[1]\n",
    "\n",
    "# Print accuracy\n",
    "print('Accuracy:', accuracy)"
   ]
  },
  {
   "cell_type": "code",
   "execution_count": 11,
   "id": "cdbd3e15",
   "metadata": {
    "slideshow": {
     "slide_type": "slide"
    }
   },
   "outputs": [],
   "source": [
    "## Your turn: adapt this code to get all variables"
   ]
  },
  {
   "cell_type": "markdown",
   "id": "37b73453",
   "metadata": {
    "slideshow": {
     "slide_type": "slide"
    }
   },
   "source": [
    "## Deep Learning\n",
    "\n",
    "- Now, let us predict a multiple outcomes. \n",
    "\n",
    "- Remember that the Chile dataset the answers were:\n",
    "    + Undecided\n",
    "    + Abstain\n",
    "    + Yes\n",
    "    + No\n",
    "    \n",
    "- Let us see if we can improve upon the results from the multinomial support vector machine."
   ]
  },
  {
   "cell_type": "code",
   "execution_count": 12,
   "id": "a45327d9",
   "metadata": {
    "scrolled": true,
    "slideshow": {
     "slide_type": "slide"
    }
   },
   "outputs": [
    {
     "name": "stdout",
     "output_type": "stream",
     "text": [
      "N    867\n",
      "Y    836\n",
      "U    551\n",
      "A    177\n",
      "Name: vote, dtype: int64\n"
     ]
    },
    {
     "name": "stderr",
     "output_type": "stream",
     "text": [
      "/tmp/ipykernel_190168/1549749199.py:3: SettingWithCopyWarning: \n",
      "A value is trying to be set on a copy of a slice from a DataFrame.\n",
      "Try using .loc[row_indexer,col_indexer] = value instead\n",
      "\n",
      "See the caveats in the documentation: https://pandas.pydata.org/pandas-docs/stable/user_guide/indexing.html#returning-a-view-versus-a-copy\n",
      "  chile_clean2['logincome'] = np.log(chile_clean2['income'])\n",
      "/tmp/ipykernel_190168/1549749199.py:4: SettingWithCopyWarning: \n",
      "A value is trying to be set on a copy of a slice from a DataFrame.\n",
      "Try using .loc[row_indexer,col_indexer] = value instead\n",
      "\n",
      "See the caveats in the documentation: https://pandas.pydata.org/pandas-docs/stable/user_guide/indexing.html#returning-a-view-versus-a-copy\n",
      "  chile_clean2['logpop'] = np.log(chile_clean2['population'])\n"
     ]
    }
   ],
   "source": [
    "## Loading Chile data\n",
    "chile_clean2 = chile.dropna()\n",
    "chile_clean2['logincome'] = np.log(chile_clean2['income'])\n",
    "chile_clean2['logpop'] = np.log(chile_clean2['population'])\n",
    "dummies = pd.get_dummies(chile_clean2['sex'], prefix = 'sex', drop_first = True)\n",
    "chile_clean2 = pd.concat([chile_clean2, dummies], axis=1)\n",
    "dummies = pd.get_dummies(chile_clean2['region'], prefix = 'region', drop_first = True)\n",
    "chile_clean2 = pd.concat([chile_clean2, dummies], axis=1)\n",
    "dummies = pd.get_dummies(chile_clean2['education'], prefix = 'education', drop_first = True)\n",
    "chile_clean2 = pd.concat([chile_clean2, dummies], axis=1)\n",
    "print(chile_clean2.vote.value_counts())"
   ]
  },
  {
   "cell_type": "code",
   "execution_count": 13,
   "id": "0f147ffe",
   "metadata": {
    "slideshow": {
     "slide_type": "slide"
    }
   },
   "outputs": [
    {
     "name": "stdout",
     "output_type": "stream",
     "text": [
      "Model: \"sequential_2\"\n",
      "_________________________________________________________________\n",
      " Layer (type)                Output Shape              Param #   \n",
      "=================================================================\n",
      " dense_5 (Dense)             (None, 22)                264       \n",
      "                                                                 \n",
      " dense_6 (Dense)             (None, 22)                506       \n",
      "                                                                 \n",
      " dense_7 (Dense)             (None, 22)                506       \n",
      "                                                                 \n",
      " dense_8 (Dense)             (None, 22)                506       \n",
      "                                                                 \n",
      " dense_9 (Dense)             (None, 4)                 92        \n",
      "                                                                 \n",
      "=================================================================\n",
      "Total params: 1,874\n",
      "Trainable params: 1,874\n",
      "Non-trainable params: 0\n",
      "_________________________________________________________________\n"
     ]
    }
   ],
   "source": [
    "# Initialize the model\n",
    "model = Sequential()\n",
    "\n",
    "# Getting the 11 variables and feeding them into 22 neurons\n",
    "model.add(Dense(22, input_shape=(11,), activation='sigmoid'))\n",
    "\n",
    "# Adding 22 extra neurons\n",
    "model.add(Dense(22, activation='relu'))\n",
    "\n",
    "# Adding a second layer with 22 extra neurons\n",
    "model.add(Dense(22, activation='sigmoid'))\n",
    "\n",
    "# Adding a third layer with 22 extra neurons\n",
    "model.add(Dense(22, activation='relu'))\n",
    "\n",
    "# Spitting out the predictions (note: softmax, the best when multinomial problem)\n",
    "model.add(Dense(4, activation='softmax'))\n",
    "\n",
    "# Compile your model (note: categorical_crossentropy)\n",
    "model.compile(loss='categorical_crossentropy', optimizer='adam', metrics=['accuracy'])\n",
    "\n",
    "# Display a summary of your model\n",
    "model.summary()"
   ]
  },
  {
   "cell_type": "code",
   "execution_count": 14,
   "id": "ba6ec32c",
   "metadata": {
    "slideshow": {
     "slide_type": "slide"
    }
   },
   "outputs": [
    {
     "data": {
      "text/html": [
       "<div>\n",
       "<style scoped>\n",
       "    .dataframe tbody tr th:only-of-type {\n",
       "        vertical-align: middle;\n",
       "    }\n",
       "\n",
       "    .dataframe tbody tr th {\n",
       "        vertical-align: top;\n",
       "    }\n",
       "\n",
       "    .dataframe thead th {\n",
       "        text-align: right;\n",
       "    }\n",
       "</style>\n",
       "<table border=\"1\" class=\"dataframe\">\n",
       "  <thead>\n",
       "    <tr style=\"text-align: right;\">\n",
       "      <th></th>\n",
       "      <th>region</th>\n",
       "      <th>population</th>\n",
       "      <th>sex</th>\n",
       "      <th>age</th>\n",
       "      <th>education</th>\n",
       "      <th>income</th>\n",
       "      <th>statusquo</th>\n",
       "      <th>vote</th>\n",
       "      <th>logincome</th>\n",
       "      <th>logpop</th>\n",
       "      <th>sex_M</th>\n",
       "      <th>region_M</th>\n",
       "      <th>region_N</th>\n",
       "      <th>region_S</th>\n",
       "      <th>region_SA</th>\n",
       "      <th>education_PS</th>\n",
       "      <th>education_S</th>\n",
       "    </tr>\n",
       "  </thead>\n",
       "  <tbody>\n",
       "    <tr>\n",
       "      <th>0</th>\n",
       "      <td>N</td>\n",
       "      <td>175000</td>\n",
       "      <td>M</td>\n",
       "      <td>65.0</td>\n",
       "      <td>P</td>\n",
       "      <td>35000.0</td>\n",
       "      <td>1.00820</td>\n",
       "      <td>Y</td>\n",
       "      <td>10.463103</td>\n",
       "      <td>12.072541</td>\n",
       "      <td>1</td>\n",
       "      <td>0</td>\n",
       "      <td>1</td>\n",
       "      <td>0</td>\n",
       "      <td>0</td>\n",
       "      <td>0</td>\n",
       "      <td>0</td>\n",
       "    </tr>\n",
       "    <tr>\n",
       "      <th>1</th>\n",
       "      <td>N</td>\n",
       "      <td>175000</td>\n",
       "      <td>M</td>\n",
       "      <td>29.0</td>\n",
       "      <td>PS</td>\n",
       "      <td>7500.0</td>\n",
       "      <td>-1.29617</td>\n",
       "      <td>N</td>\n",
       "      <td>8.922658</td>\n",
       "      <td>12.072541</td>\n",
       "      <td>1</td>\n",
       "      <td>0</td>\n",
       "      <td>1</td>\n",
       "      <td>0</td>\n",
       "      <td>0</td>\n",
       "      <td>1</td>\n",
       "      <td>0</td>\n",
       "    </tr>\n",
       "    <tr>\n",
       "      <th>2</th>\n",
       "      <td>N</td>\n",
       "      <td>175000</td>\n",
       "      <td>F</td>\n",
       "      <td>38.0</td>\n",
       "      <td>P</td>\n",
       "      <td>15000.0</td>\n",
       "      <td>1.23072</td>\n",
       "      <td>Y</td>\n",
       "      <td>9.615805</td>\n",
       "      <td>12.072541</td>\n",
       "      <td>0</td>\n",
       "      <td>0</td>\n",
       "      <td>1</td>\n",
       "      <td>0</td>\n",
       "      <td>0</td>\n",
       "      <td>0</td>\n",
       "      <td>0</td>\n",
       "    </tr>\n",
       "    <tr>\n",
       "      <th>3</th>\n",
       "      <td>N</td>\n",
       "      <td>175000</td>\n",
       "      <td>F</td>\n",
       "      <td>49.0</td>\n",
       "      <td>P</td>\n",
       "      <td>35000.0</td>\n",
       "      <td>-1.03163</td>\n",
       "      <td>N</td>\n",
       "      <td>10.463103</td>\n",
       "      <td>12.072541</td>\n",
       "      <td>0</td>\n",
       "      <td>0</td>\n",
       "      <td>1</td>\n",
       "      <td>0</td>\n",
       "      <td>0</td>\n",
       "      <td>0</td>\n",
       "      <td>0</td>\n",
       "    </tr>\n",
       "    <tr>\n",
       "      <th>4</th>\n",
       "      <td>N</td>\n",
       "      <td>175000</td>\n",
       "      <td>F</td>\n",
       "      <td>23.0</td>\n",
       "      <td>S</td>\n",
       "      <td>35000.0</td>\n",
       "      <td>-1.10496</td>\n",
       "      <td>N</td>\n",
       "      <td>10.463103</td>\n",
       "      <td>12.072541</td>\n",
       "      <td>0</td>\n",
       "      <td>0</td>\n",
       "      <td>1</td>\n",
       "      <td>0</td>\n",
       "      <td>0</td>\n",
       "      <td>0</td>\n",
       "      <td>1</td>\n",
       "    </tr>\n",
       "  </tbody>\n",
       "</table>\n",
       "</div>"
      ],
      "text/plain": [
       "  region  population sex   age education   income  statusquo vote  logincome  \\\n",
       "0      N      175000   M  65.0         P  35000.0    1.00820    Y  10.463103   \n",
       "1      N      175000   M  29.0        PS   7500.0   -1.29617    N   8.922658   \n",
       "2      N      175000   F  38.0         P  15000.0    1.23072    Y   9.615805   \n",
       "3      N      175000   F  49.0         P  35000.0   -1.03163    N  10.463103   \n",
       "4      N      175000   F  23.0         S  35000.0   -1.10496    N  10.463103   \n",
       "\n",
       "      logpop  sex_M  region_M  region_N  region_S  region_SA  education_PS  \\\n",
       "0  12.072541      1         0         1         0          0             0   \n",
       "1  12.072541      1         0         1         0          0             1   \n",
       "2  12.072541      0         0         1         0          0             0   \n",
       "3  12.072541      0         0         1         0          0             0   \n",
       "4  12.072541      0         0         1         0          0             0   \n",
       "\n",
       "   education_S  \n",
       "0            0  \n",
       "1            0  \n",
       "2            0  \n",
       "3            0  \n",
       "4            1  "
      ]
     },
     "execution_count": 14,
     "metadata": {},
     "output_type": "execute_result"
    }
   ],
   "source": [
    "## A bit of pre-processing in the voting variable\n",
    "y2 = chile_clean2['vote']\n",
    "y2 = pd.Categorical(y2)\n",
    "cats = y2.categories\n",
    "y2 = y2.codes\n",
    "y2 = to_categorical(y2)\n",
    "X2 = chile_clean2[['age', 'logincome', 'statusquo', 'logpop', 'sex_M', \n",
    "                  'region_M', 'region_N', 'region_S', 'region_SA', 'education_PS', 'education_S']]\n",
    "X2_train, X2_test, y2_train, y2_test = train_test_split(X2, y2, test_size = 0.3, random_state = 12345)\n",
    "chile_clean2.head()"
   ]
  },
  {
   "cell_type": "code",
   "execution_count": 15,
   "id": "d30ed281",
   "metadata": {
    "slideshow": {
     "slide_type": "slide"
    }
   },
   "outputs": [
    {
     "name": "stdout",
     "output_type": "stream",
     "text": [
      "23/23 [==============================] - 0s 1ms/step\n"
     ]
    },
    {
     "data": {
      "text/plain": [
       "array([[  0,  33,   9,  24],\n",
       "       [  0, 220,  15,  14],\n",
       "       [  0,  57,  44,  76],\n",
       "       [  0,  17,  20, 201]])"
      ]
     },
     "execution_count": 15,
     "metadata": {},
     "output_type": "execute_result"
    }
   ],
   "source": [
    "## Fitting 20 epochs\n",
    "model.fit(X2_train, y2_train, epochs = 20, verbose = 0)\n",
    "preds = model.predict(X2_test)\n",
    "y2_test2 = [np.argmax(pred) for pred in y2_test]\n",
    "y2_pred = np.array([np.argmax(pred) for pred in preds])\n",
    "\n",
    "## Confusion Matrix\n",
    "confusion_matrix(y2_test2, y2_pred)"
   ]
  },
  {
   "cell_type": "code",
   "execution_count": 16,
   "id": "9acdd91a",
   "metadata": {
    "slideshow": {
     "slide_type": "slide"
    }
   },
   "outputs": [
    {
     "name": "stdout",
     "output_type": "stream",
     "text": [
      "Model: \"sequential_3\"\n",
      "_________________________________________________________________\n",
      " Layer (type)                Output Shape              Param #   \n",
      "=================================================================\n",
      " dense_10 (Dense)            (None, 22)                264       \n",
      "                                                                 \n",
      " dense_11 (Dense)            (None, 22)                506       \n",
      "                                                                 \n",
      " dense_12 (Dense)            (None, 22)                506       \n",
      "                                                                 \n",
      " dense_13 (Dense)            (None, 22)                506       \n",
      "                                                                 \n",
      " dense_14 (Dense)            (None, 4)                 92        \n",
      "                                                                 \n",
      "=================================================================\n",
      "Total params: 1,874\n",
      "Trainable params: 1,874\n",
      "Non-trainable params: 0\n",
      "_________________________________________________________________\n"
     ]
    }
   ],
   "source": [
    "## Are we overfitting? We can save the history and check for that!\n",
    "# Initialize the model\n",
    "model = Sequential()\n",
    "\n",
    "# Getting the 11 variables and feeding them into 22 neurons\n",
    "model.add(Dense(22, input_shape=(11,), activation='sigmoid'))\n",
    "\n",
    "# Adding 22 extra neurons\n",
    "model.add(Dense(22, activation='relu'))\n",
    "\n",
    "# Adding a second layer with 22 extra neurons\n",
    "model.add(Dense(22, activation='sigmoid'))\n",
    "\n",
    "# Adding a third layer with 22 extra neurons\n",
    "model.add(Dense(22, activation='relu'))\n",
    "\n",
    "# Spitting out the predictions (note: softmax, the best when multinomial problem)\n",
    "model.add(Dense(4, activation='softmax'))\n",
    "\n",
    "# Compile your model (note: categorical_crossentropy)\n",
    "model.compile(loss='categorical_crossentropy', optimizer='adam', metrics=['accuracy'])\n",
    "\n",
    "# Display a summary of your model\n",
    "model.summary()"
   ]
  },
  {
   "cell_type": "code",
   "execution_count": 17,
   "id": "f3a1a751",
   "metadata": {
    "slideshow": {
     "slide_type": "slide"
    }
   },
   "outputs": [
    {
     "name": "stdout",
     "output_type": "stream",
     "text": [
      "23/23 [==============================] - 0s 2ms/step\n"
     ]
    },
    {
     "data": {
      "text/plain": [
       "array([[  0,  26,  23,  17],\n",
       "       [  0, 213,  23,  13],\n",
       "       [  0,  44,  69,  64],\n",
       "       [  0,  13,  33, 192]])"
      ]
     },
     "execution_count": 17,
     "metadata": {},
     "output_type": "execute_result"
    }
   ],
   "source": [
    "## Are we overfitting? We can save the history and check for that!\n",
    "h_callback = model.fit(X2_train, y2_train, epochs = 100, validation_data=(X2_test, y2_test), verbose = 0)\n",
    "\n",
    "# prep to confusion matrix\n",
    "preds = model.predict(X2_test)\n",
    "y2_test2 = [np.argmax(pred) for pred in y2_test]\n",
    "y2_pred = np.array([np.argmax(pred) for pred in preds])\n",
    "\n",
    "## Confusion Matrix\n",
    "confusion_matrix(y2_test2, y2_pred)"
   ]
  },
  {
   "cell_type": "code",
   "execution_count": 18,
   "id": "42c3c3da",
   "metadata": {},
   "outputs": [
    {
     "data": {
      "image/png": "[encoded data removed]",
      "text/plain": [
       "<Figure size 640x480 with 1 Axes>"
      ]
     },
     "metadata": {},
     "output_type": "display_data"
    }
   ],
   "source": [
    "# Plot train vs test loss during training\n",
    "plt.figure()\n",
    "plt.plot(h_callback.history['loss'])\n",
    "plt.plot(h_callback.history['val_loss'])\n",
    "plt.title('Model loss')\n",
    "plt.ylabel('Loss')\n",
    "plt.xlabel('Epoch')\n",
    "plt.legend(['Train', 'Test'], loc='upper right')\n",
    "plt.show()"
   ]
  },
  {
   "cell_type": "markdown",
   "id": "d8eace45",
   "metadata": {
    "slideshow": {
     "slide_type": "slide"
    }
   },
   "source": [
    "# Questions?"
   ]
  },
  {
   "cell_type": "markdown",
   "id": "22d252e9",
   "metadata": {
    "slideshow": {
     "slide_type": "slide"
    }
   },
   "source": [
    "# See you next class\n"
   ]
  }
 ],
 "metadata": {
  "celltoolbar": "Slideshow",
  "kernelspec": {
   "display_name": "Python 3 (ipykernel)",
   "language": "python",
   "name": "python3"
  },
  "language_info": {
   "codemirror_mode": {
    "name": "ipython",
    "version": 3
   },
   "file_extension": ".py",
   "mimetype": "text/x-python",
   "name": "python",
   "nbconvert_exporter": "python",
   "pygments_lexer": "ipython3",
   "version": "3.9.13"
  }
 },
 "nbformat": 4,
 "nbformat_minor": 5
}
