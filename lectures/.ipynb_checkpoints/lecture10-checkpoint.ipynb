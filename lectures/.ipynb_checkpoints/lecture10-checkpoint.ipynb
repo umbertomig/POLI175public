{
 "cells": [
  {
   "cell_type": "markdown",
   "id": "243e38f9",
   "metadata": {
    "slideshow": {
     "slide_type": "slide"
    }
   },
   "source": [
    "# POLI 175 - Lecture 10\n",
    "\n",
    "## Detour: Git. GitHub, and Command Line"
   ]
  },
  {
   "cell_type": "markdown",
   "id": "a2f7f5fa",
   "metadata": {
    "slideshow": {
     "slide_type": "slide"
    }
   },
   "source": [
    "## Announcement\n",
    "\n",
    "1. Did I answer your email? If no, please send me a `bump`.\n",
    "\n",
    "2. Upon request, today is a technical class on Git, GitHub, a little bit of command line.\n",
    "\n",
    "3. Please let me know if you have any other cool things you want to learn!"
   ]
  },
  {
   "cell_type": "markdown",
   "id": "ea10486b",
   "metadata": {
    "slideshow": {
     "slide_type": "slide"
    }
   },
   "source": [
    "## Recap\n",
    "\n",
    "So far, we learned:\n",
    "\n",
    "- What is Machine Learning, and the main trade-offs involved in it.\n",
    "\n",
    "- How to use `numpy`, `pandas`, `matplotlib`, and `seaborn`.\n",
    "\n",
    "- Linear regression, theory and practice.\n",
    "\n",
    "**Great work!**\n",
    "\n",
    "- Do you have any questions about any of these contents?"
   ]
  },
  {
   "cell_type": "markdown",
   "id": "005ae1b7",
   "metadata": {
    "slideshow": {
     "slide_type": "slide"
    }
   },
   "source": [
    "## Plan for today\n",
    "\n",
    "**Git**:\n",
    "\n",
    "- How to do version control with Git.\n",
    "\n",
    "**GitHub**:\n",
    "\n",
    "- How to empower your Git with its online peer.\n",
    "\n",
    "**Command Line**:\n",
    "\n",
    "- How to use the Unix command line."
   ]
  },
  {
   "cell_type": "markdown",
   "id": "4f851581",
   "metadata": {
    "slideshow": {
     "slide_type": "slide"
    }
   },
   "source": [
    "# Git"
   ]
  },
  {
   "cell_type": "markdown",
   "id": "f40923ad",
   "metadata": {
    "slideshow": {
     "slide_type": "slide"
    }
   },
   "source": [
    "## Git\n",
    "\n",
    "- Tool that manages changes in files and directories in a project.\n",
    "\n",
    "- Git was created by the same creator of the Linux (Linus Torvalds).\n",
    "\n",
    "- The idea is that when you are coding, you make mistakes.\n",
    "    + Mess up with one file\n",
    "    + Mess up with folders\n",
    "    + Fix one thing and breaks another\n",
    "\n",
    "- Those are common mistakes. They happen especially in big teams.\n",
    "\n",
    "- Git is a software that controls the version of files and folders in a given folder, and if needed, goes back to original versions.\n",
    "\n",
    "- Git stores changes in a folder called `.git`."
   ]
  },
  {
   "cell_type": "markdown",
   "id": "c4e262c1",
   "metadata": {
    "slideshow": {
     "slide_type": "slide"
    }
   },
   "source": [
    "## Git\n",
    "\n",
    "- Install Git:\n",
    "    + Check [here](https://git-scm.com/downloads).\n",
    "    \n",
    "- Once you are done installing, you now have `git`!"
   ]
  },
  {
   "cell_type": "markdown",
   "id": "932473fd",
   "metadata": {},
   "source": [
    "## Git\n",
    "\n",
    "**Check State Repo**:\n",
    "    - `git status`: Show files in the staging area.\n",
    "\n",
    "**Checking differences**:\n",
    "    - `git diff`: Check differences in staging area.\n",
    "        + You can also check one file: `git diff my_folder/myfile.ext`\n",
    "\n",
    "**Reading differences**:\n",
    "    - Let's check the differences between lectures in my class folder.\n",
    "\n",
    "**Staging x Commit**:\n",
    "    - When you change files, git saves the changes in something called a staging area.\n",
    "        + Means that your changes are not actually saved!\n",
    "    - When you are done changing, and you reach a good concept, you *commit* the changes.\n",
    "        + This stores the changes in the `.git` folder."
   ]
  },
  {
   "cell_type": "code",
   "execution_count": null,
   "id": "912e9aa5",
   "metadata": {},
   "outputs": [],
   "source": []
  },
  {
   "cell_type": "markdown",
   "id": "d8eace45",
   "metadata": {
    "slideshow": {
     "slide_type": "slide"
    }
   },
   "source": [
    "# Questions?"
   ]
  },
  {
   "cell_type": "markdown",
   "id": "22d252e9",
   "metadata": {
    "slideshow": {
     "slide_type": "slide"
    }
   },
   "source": [
    "# See you next class\n"
   ]
  }
 ],
 "metadata": {
  "celltoolbar": "Slideshow",
  "kernelspec": {
   "display_name": "Python 3 (ipykernel)",
   "language": "python",
   "name": "python3"
  },
  "language_info": {
   "codemirror_mode": {
    "name": "ipython",
    "version": 3
   },
   "file_extension": ".py",
   "mimetype": "text/x-python",
   "name": "python",
   "nbconvert_exporter": "python",
   "pygments_lexer": "ipython3",
   "version": "3.9.12"
  }
 },
 "nbformat": 4,
 "nbformat_minor": 5
}
