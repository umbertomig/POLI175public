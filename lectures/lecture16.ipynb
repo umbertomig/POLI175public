{
 "cells": [
  {
   "cell_type": "markdown",
   "id": "243e38f9",
   "metadata": {
    "slideshow": {
     "slide_type": "slide"
    }
   },
   "source": [
    "# POLI 175 - Lecture 16\n",
    "\n",
    "## Regularization II and Non-linearity I"
   ]
  },
  {
   "cell_type": "markdown",
   "id": "20de95f7",
   "metadata": {
    "slideshow": {
     "slide_type": "slide"
    }
   },
   "source": [
    "## Announcement\n",
    "\n",
    "- Problem Set 03 will be on later this week!\n",
    "\n",
    "- This lecture's participation quiz is on.\n",
    "\n",
    "- The lecture quiz is on for this, the previous, and the next lectures.\n",
    "\n",
    "- Problem Set 02 is hard. PS 03 is even harder. Please reach out if you need help."
   ]
  },
  {
   "cell_type": "markdown",
   "id": "bb985516",
   "metadata": {
    "slideshow": {
     "slide_type": "slide"
    }
   },
   "source": [
    "## Class Examples\n",
    "\n",
    "- Education expenditure dataset\n",
    "\n",
    "- Pinochet voting dataset\n",
    "\n",
    "Let us load them all:"
   ]
  },
  {
   "cell_type": "code",
   "execution_count": 1,
   "id": "b55c5cf0",
   "metadata": {
    "slideshow": {
     "slide_type": "slide"
    }
   },
   "outputs": [],
   "source": [
    "## Loading the relevant packages\n",
    "import pandas as pd\n",
    "import numpy as np\n",
    "\n",
    "# Plotting things:\n",
    "import seaborn as sns\n",
    "import matplotlib.pyplot as plt\n",
    "\n",
    "# Loading scikit learn relevant packages (note our new friends!)\n",
    "from sklearn.linear_model import LogisticRegression, LinearRegression, Ridge, Lasso\n",
    "from sklearn.naive_bayes import GaussianNB\n",
    "from sklearn.discriminant_analysis import LinearDiscriminantAnalysis, QuadraticDiscriminantAnalysis\n",
    "from sklearn.metrics import confusion_matrix, classification_report, precision_score, get_scorer_names, mean_squared_error\n",
    "from sklearn.model_selection import train_test_split, LeaveOneOut, cross_val_score, KFold, GridSearchCV\n",
    "from sklearn.inspection import DecisionBoundaryDisplay\n",
    "from sklearn.tree import DecisionTreeClassifier\n",
    "from sklearn.neighbors import KNeighborsClassifier\n",
    "from sklearn.preprocessing import StandardScaler, PolynomialFeatures\n",
    "from sklearn.feature_selection import SequentialFeatureSelector"
   ]
  },
  {
   "cell_type": "code",
   "execution_count": 2,
   "id": "b696a377",
   "metadata": {
    "slideshow": {
     "slide_type": "slide"
    }
   },
   "outputs": [
    {
     "name": "stdout",
     "output_type": "stream",
     "text": [
      "[2824.0, 350.7, 508.0, 7974976.0, 122990.48999999999, 258064.0, 22521332224.0, 43132764.842999995, 131096512.0]\n",
      "[-0.7236935623908923, -0.3450642975121714, -1.044417328024432, -0.7523179270273195, -0.3599514179092925, -1.03909576213098, -0.7617030030625055, -0.37201867365836544, -0.9953964232882246]\n"
     ]
    },
    {
     "data": {
      "text/html": [
       "<div>\n",
       "<style scoped>\n",
       "    .dataframe tbody tr th:only-of-type {\n",
       "        vertical-align: middle;\n",
       "    }\n",
       "\n",
       "    .dataframe tbody tr th {\n",
       "        vertical-align: top;\n",
       "    }\n",
       "\n",
       "    .dataframe thead th {\n",
       "        text-align: right;\n",
       "    }\n",
       "</style>\n",
       "<table border=\"1\" class=\"dataframe\">\n",
       "  <thead>\n",
       "    <tr style=\"text-align: right;\">\n",
       "      <th></th>\n",
       "      <th>income</th>\n",
       "      <th>young</th>\n",
       "      <th>urban</th>\n",
       "      <th>income_2</th>\n",
       "      <th>young_2</th>\n",
       "      <th>urban_2</th>\n",
       "      <th>income_3</th>\n",
       "      <th>young_3</th>\n",
       "      <th>urban_3</th>\n",
       "    </tr>\n",
       "  </thead>\n",
       "  <tbody>\n",
       "    <tr>\n",
       "      <th>0</th>\n",
       "      <td>2824</td>\n",
       "      <td>350.7</td>\n",
       "      <td>508</td>\n",
       "      <td>7974976</td>\n",
       "      <td>122990.49</td>\n",
       "      <td>258064</td>\n",
       "      <td>22521332224</td>\n",
       "      <td>4.313276e+07</td>\n",
       "      <td>131096512</td>\n",
       "    </tr>\n",
       "    <tr>\n",
       "      <th>1</th>\n",
       "      <td>3259</td>\n",
       "      <td>345.9</td>\n",
       "      <td>564</td>\n",
       "      <td>10621081</td>\n",
       "      <td>119646.81</td>\n",
       "      <td>318096</td>\n",
       "      <td>34614102979</td>\n",
       "      <td>4.138583e+07</td>\n",
       "      <td>179406144</td>\n",
       "    </tr>\n",
       "    <tr>\n",
       "      <th>2</th>\n",
       "      <td>3072</td>\n",
       "      <td>348.5</td>\n",
       "      <td>322</td>\n",
       "      <td>9437184</td>\n",
       "      <td>121452.25</td>\n",
       "      <td>103684</td>\n",
       "      <td>28991029248</td>\n",
       "      <td>4.232611e+07</td>\n",
       "      <td>33386248</td>\n",
       "    </tr>\n",
       "    <tr>\n",
       "      <th>3</th>\n",
       "      <td>3835</td>\n",
       "      <td>335.3</td>\n",
       "      <td>846</td>\n",
       "      <td>14707225</td>\n",
       "      <td>112426.09</td>\n",
       "      <td>715716</td>\n",
       "      <td>56402207875</td>\n",
       "      <td>3.769647e+07</td>\n",
       "      <td>605495736</td>\n",
       "    </tr>\n",
       "    <tr>\n",
       "      <th>4</th>\n",
       "      <td>3549</td>\n",
       "      <td>327.1</td>\n",
       "      <td>871</td>\n",
       "      <td>12595401</td>\n",
       "      <td>106994.41</td>\n",
       "      <td>758641</td>\n",
       "      <td>44701078149</td>\n",
       "      <td>3.499787e+07</td>\n",
       "      <td>660776311</td>\n",
       "    </tr>\n",
       "  </tbody>\n",
       "</table>\n",
       "</div>"
      ],
      "text/plain": [
       "   income  young  urban  income_2    young_2  urban_2     income_3  \\\n",
       "0    2824  350.7    508   7974976  122990.49   258064  22521332224   \n",
       "1    3259  345.9    564  10621081  119646.81   318096  34614102979   \n",
       "2    3072  348.5    322   9437184  121452.25   103684  28991029248   \n",
       "3    3835  335.3    846  14707225  112426.09   715716  56402207875   \n",
       "4    3549  327.1    871  12595401  106994.41   758641  44701078149   \n",
       "\n",
       "        young_3    urban_3  \n",
       "0  4.313276e+07  131096512  \n",
       "1  4.138583e+07  179406144  \n",
       "2  4.232611e+07   33386248  \n",
       "3  3.769647e+07  605495736  \n",
       "4  3.499787e+07  660776311  "
      ]
     },
     "execution_count": 2,
     "metadata": {},
     "output_type": "execute_result"
    }
   ],
   "source": [
    "## Education Expenditure Dataset\n",
    "educ = pd.read_csv('https://raw.githubusercontent.com/umbertomig/POLI175public/main/data/educexp.csv')\n",
    "educ = educ.set_index('states')\n",
    "for i in educ.columns:\n",
    "    educ[i + '_log'] = np.log(educ[i])\n",
    "\n",
    "raws = ['income', 'young', 'urban']\n",
    "y = educ['education']\n",
    "X = educ.reset_index()[raws]\n",
    "Xraws = educ.reset_index()[raws]\n",
    "for power in range(2, 4):\n",
    "    for var in raws:\n",
    "        X[var + '_' + str(power)] = X[[var]] ** power\n",
    "        \n",
    "## Standardizing the X variables\n",
    "scaler = StandardScaler()\n",
    "X_scaled = scaler.fit_transform(X)\n",
    "# First observation:\n",
    "print(list(X.iloc[0]))\n",
    "print(list(X_scaled[0])) \n",
    "X.head()"
   ]
  },
  {
   "cell_type": "markdown",
   "id": "6b72f2f6",
   "metadata": {
    "slideshow": {
     "slide_type": "slide"
    }
   },
   "source": [
    "# Linear Model Selection and Regularization\n",
    "\n",
    "- In this class, we are going to focus on two of the most used methods for model selection:\n",
    "    + **Ridge**\n",
    "    + **Lasso**\n",
    "\n",
    "- These methods are different from the subset selection in special ways:\n",
    "    + They are meant to \"*shrink*\" the coefficients toward zero!\n",
    "\n",
    "- It may be counter-intuitive, but these methods are great tools to reduce the variance of the estimates (recall the bias-variance trade-offs)."
   ]
  },
  {
   "cell_type": "markdown",
   "id": "05794a41",
   "metadata": {
    "slideshow": {
     "slide_type": "slide"
    }
   },
   "source": [
    "# Lasso Regression\n",
    "\n",
    "## Lasso Regression\n",
    "\n",
    "- Ridge regression has one disadvantage: it always include $p$ predictors.\n",
    "\n",
    "- The shrinkage never sets coefficients to be exactly zero (that is, be removed from the prediction).\n",
    "\n",
    "- This could potentially make subset selection better than ridge."
   ]
  },
  {
   "cell_type": "markdown",
   "id": "f697d9d7",
   "metadata": {
    "slideshow": {
     "slide_type": "slide"
    }
   },
   "source": [
    "## Lasso Regression\n",
    "\n",
    "- But one alternative, using the same principles as the ridge regression is the **lasso** regression.\n",
    "\n",
    "- In the lasso regression, the objective function becomes:\n",
    "\n",
    "$$ RSS + \\alpha \\sum_{j=1}^p|\\beta_j| $$\n",
    "\n",
    "- Does the same as ridge: the larger the $\\alpha$, the more the *shrinkage*."
   ]
  },
  {
   "cell_type": "markdown",
   "id": "ec711f60",
   "metadata": {
    "slideshow": {
     "slide_type": "slide"
    }
   },
   "source": [
    "## Lasso Regression\n",
    "\n",
    "- Unlike ridge, for some values of $\\alpha$, **lasso** actually force coefficients to be exactly equal to zero.\n",
    "\n",
    "- Thus, **lasso** performs variable selection, much like the subset selection models we have seen.\n",
    "\n",
    "- **Side-effect**: Makes models easier to interpret!\n",
    "    + Yields *sparse* models: models that only involve a subset of the variables.\n",
    "    \n",
    "- Like ridge, selecting a good $\\alpha$ is critical."
   ]
  },
  {
   "cell_type": "code",
   "execution_count": 3,
   "id": "1ed7a99e",
   "metadata": {
    "slideshow": {
     "slide_type": "slide"
    }
   },
   "outputs": [
    {
     "name": "stdout",
     "output_type": "stream",
     "text": [
      "The R-squared for this regression is: 0.7505141127635888\n"
     ]
    },
    {
     "name": "stderr",
     "output_type": "stream",
     "text": [
      "/opt/anaconda3/lib/python3.9/site-packages/sklearn/linear_model/_coordinate_descent.py:631: ConvergenceWarning: Objective did not converge. You might want to increase the number of iterations, check the scale of the features or consider increasing regularisation. Duality gap: 1.363e+04, tolerance: 1.079e+01\n",
      "  model = cd_fast.enet_coordinate_descent(\n"
     ]
    },
    {
     "data": {
      "image/png": "[encoded data removed]",
      "text/plain": [
       "<Figure size 640x480 with 1 Axes>"
      ]
     },
     "metadata": {},
     "output_type": "display_data"
    }
   ],
   "source": [
    "## Lasso Regression (badly done)\n",
    "lasso = Lasso(alpha = 1).fit(X, y)\n",
    "print('The R-squared for this regression is: ' + str(lasso.score(X, y)))\n",
    "plt.bar(X.columns, lasso.coef_)\n",
    "plt.xticks(rotation=45)\n",
    "plt.show()"
   ]
  },
  {
   "cell_type": "code",
   "execution_count": 10,
   "id": "84848a07",
   "metadata": {
    "slideshow": {
     "slide_type": "slide"
    }
   },
   "outputs": [
    {
     "name": "stdout",
     "output_type": "stream",
     "text": [
      "The R-squared for this regression is: 0.6965025797685898\n"
     ]
    },
    {
     "data": {
      "image/png": "[encoded data removed]",
      "text/plain": [
       "<Figure size 640x480 with 1 Axes>"
      ]
     },
     "metadata": {},
     "output_type": "display_data"
    },
    {
     "name": "stdout",
     "output_type": "stream",
     "text": [
      "196.31372549019608\n",
      "196.31372549019608\n"
     ]
    }
   ],
   "source": [
    "## Lasso Regression (greatly done)\n",
    "lasso = Lasso(alpha = 1).fit(X_scaled, y)\n",
    "print('The R-squared for this regression is: ' + str(lasso.score(X_scaled, y)))\n",
    "plt.bar(X.columns, lasso.coef_)\n",
    "plt.xticks(rotation=45)\n",
    "plt.show()\n",
    "print(lasso.intercept_)\n",
    "print(np.mean(y))"
   ]
  },
  {
   "cell_type": "markdown",
   "id": "10333971",
   "metadata": {
    "slideshow": {
     "slide_type": "slide"
    }
   },
   "source": [
    "## Lasso (the book calls the regularization parameter $\\lambda$) \n",
    "\n",
    "![img](../img/lasso1.png)"
   ]
  },
  {
   "cell_type": "code",
   "execution_count": 5,
   "id": "4bf5a069",
   "metadata": {
    "slideshow": {
     "slide_type": "slide"
    }
   },
   "outputs": [
    {
     "name": "stdout",
     "output_type": "stream",
     "text": [
      "[496.7391981233972, 496.73919989324065, 496.73920222958094, 496.73920531374625, 496.7392093851063]\n"
     ]
    },
    {
     "data": {
      "text/html": [
       "<div>\n",
       "<style scoped>\n",
       "    .dataframe tbody tr th:only-of-type {\n",
       "        vertical-align: middle;\n",
       "    }\n",
       "\n",
       "    .dataframe tbody tr th {\n",
       "        vertical-align: top;\n",
       "    }\n",
       "\n",
       "    .dataframe thead th {\n",
       "        text-align: right;\n",
       "    }\n",
       "</style>\n",
       "<table border=\"1\" class=\"dataframe\">\n",
       "  <thead>\n",
       "    <tr style=\"text-align: right;\">\n",
       "      <th></th>\n",
       "      <th>income</th>\n",
       "      <th>young</th>\n",
       "      <th>urban</th>\n",
       "      <th>income_2</th>\n",
       "      <th>young_2</th>\n",
       "      <th>urban_2</th>\n",
       "      <th>income_3</th>\n",
       "      <th>young_3</th>\n",
       "      <th>urban_3</th>\n",
       "    </tr>\n",
       "  </thead>\n",
       "  <tbody>\n",
       "    <tr>\n",
       "      <th>0.000001</th>\n",
       "      <td>-66.792132</td>\n",
       "      <td>-2038.536608</td>\n",
       "      <td>210.834245</td>\n",
       "      <td>383.886449</td>\n",
       "      <td>3912.272581</td>\n",
       "      <td>-541.632507</td>\n",
       "      <td>-276.160246</td>\n",
       "      <td>-1856.260174</td>\n",
       "      <td>318.797890</td>\n",
       "    </tr>\n",
       "    <tr>\n",
       "      <th>0.000001</th>\n",
       "      <td>-66.787782</td>\n",
       "      <td>-2038.347428</td>\n",
       "      <td>210.826610</td>\n",
       "      <td>383.875788</td>\n",
       "      <td>3911.896663</td>\n",
       "      <td>-541.615738</td>\n",
       "      <td>-276.154241</td>\n",
       "      <td>-1856.072990</td>\n",
       "      <td>318.788988</td>\n",
       "    </tr>\n",
       "    <tr>\n",
       "      <th>0.000001</th>\n",
       "      <td>-66.782784</td>\n",
       "      <td>-2038.130069</td>\n",
       "      <td>210.817838</td>\n",
       "      <td>383.863538</td>\n",
       "      <td>3911.464753</td>\n",
       "      <td>-541.596470</td>\n",
       "      <td>-276.147341</td>\n",
       "      <td>-1855.857924</td>\n",
       "      <td>318.778759</td>\n",
       "    </tr>\n",
       "    <tr>\n",
       "      <th>0.000002</th>\n",
       "      <td>-66.777042</td>\n",
       "      <td>-2037.880335</td>\n",
       "      <td>210.807758</td>\n",
       "      <td>383.849464</td>\n",
       "      <td>3910.968512</td>\n",
       "      <td>-541.574333</td>\n",
       "      <td>-276.139413</td>\n",
       "      <td>-1855.610825</td>\n",
       "      <td>318.767006</td>\n",
       "    </tr>\n",
       "    <tr>\n",
       "      <th>0.000002</th>\n",
       "      <td>-66.770444</td>\n",
       "      <td>-2037.593404</td>\n",
       "      <td>210.796178</td>\n",
       "      <td>383.833293</td>\n",
       "      <td>3910.398355</td>\n",
       "      <td>-541.548899</td>\n",
       "      <td>-276.130305</td>\n",
       "      <td>-1855.326921</td>\n",
       "      <td>318.753503</td>\n",
       "    </tr>\n",
       "  </tbody>\n",
       "</table>\n",
       "</div>"
      ],
      "text/plain": [
       "             income        young       urban    income_2      young_2  \\\n",
       "0.000001 -66.792132 -2038.536608  210.834245  383.886449  3912.272581   \n",
       "0.000001 -66.787782 -2038.347428  210.826610  383.875788  3911.896663   \n",
       "0.000001 -66.782784 -2038.130069  210.817838  383.863538  3911.464753   \n",
       "0.000002 -66.777042 -2037.880335  210.807758  383.849464  3910.968512   \n",
       "0.000002 -66.770444 -2037.593404  210.796178  383.833293  3910.398355   \n",
       "\n",
       "             urban_2    income_3      young_3     urban_3  \n",
       "0.000001 -541.632507 -276.160246 -1856.260174  318.797890  \n",
       "0.000001 -541.615738 -276.154241 -1856.072990  318.788988  \n",
       "0.000001 -541.596470 -276.147341 -1855.857924  318.778759  \n",
       "0.000002 -541.574333 -276.139413 -1855.610825  318.767006  \n",
       "0.000002 -541.548899 -276.130305 -1855.326921  318.753503  "
      ]
     },
     "execution_count": 5,
     "metadata": {},
     "output_type": "execute_result"
    }
   ],
   "source": [
    "## Example by Kornel Kielczewski in the sklearn Ridge documentation, adapted by me.\n",
    "lasso = Lasso(max_iter = 20000000)\n",
    "coefs = list()\n",
    "errors = list()\n",
    "alphas = np.logspace(-6, 6, 200)\n",
    "\n",
    "for a in alphas:\n",
    "    lasso.set_params(alpha = a).fit(X_scaled, y)\n",
    "    coefs.append(lasso.coef_)\n",
    "    errors.append(np.mean((lasso.predict(X_scaled) - y) ** 2))\n",
    "\n",
    "coefs = pd.DataFrame(coefs, columns = X.columns, index = alphas)\n",
    "print(errors[0:5])\n",
    "coefs.head()"
   ]
  },
  {
   "cell_type": "code",
   "execution_count": 6,
   "id": "0d903124",
   "metadata": {
    "slideshow": {
     "slide_type": "slide"
    }
   },
   "outputs": [
    {
     "data": {
      "image/png": "[encoded data removed]",
      "text/plain": [
       "<Figure size 640x480 with 1 Axes>"
      ]
     },
     "metadata": {},
     "output_type": "display_data"
    }
   ],
   "source": [
    "# Lasso coefficients as a function of the regularization paramenter alpha\n",
    "g = sns.lineplot(data = coefs)\n",
    "g.set(xscale='log')\n",
    "plt.show()"
   ]
  },
  {
   "cell_type": "code",
   "execution_count": 11,
   "id": "0084cdf8",
   "metadata": {
    "slideshow": {
     "slide_type": "slide"
    }
   },
   "outputs": [
    {
     "ename": "NameError",
     "evalue": "name 'alphas' is not defined",
     "output_type": "error",
     "traceback": [
      "\u001b[0;31m---------------------------------------------------------------------------\u001b[0m",
      "\u001b[0;31mNameError\u001b[0m                                 Traceback (most recent call last)",
      "\u001b[0;32m/var/folders/57/5cl1vf6549d34n3t9xpfz0fr0000gn/T/ipykernel_70133/3075082969.py\u001b[0m in \u001b[0;36m<module>\u001b[0;34m\u001b[0m\n\u001b[1;32m      1\u001b[0m \u001b[0;31m# Lasso Mean Squared Error as a function of the regularization paramenter alpha\u001b[0m\u001b[0;34m\u001b[0m\u001b[0;34m\u001b[0m\u001b[0m\n\u001b[0;32m----> 2\u001b[0;31m \u001b[0mg\u001b[0m \u001b[0;34m=\u001b[0m \u001b[0msns\u001b[0m\u001b[0;34m.\u001b[0m\u001b[0mlineplot\u001b[0m\u001b[0;34m(\u001b[0m\u001b[0mx\u001b[0m \u001b[0;34m=\u001b[0m \u001b[0malphas\u001b[0m\u001b[0;34m,\u001b[0m \u001b[0my\u001b[0m \u001b[0;34m=\u001b[0m \u001b[0merrors\u001b[0m\u001b[0;34m)\u001b[0m\u001b[0;34m\u001b[0m\u001b[0;34m\u001b[0m\u001b[0m\n\u001b[0m\u001b[1;32m      3\u001b[0m \u001b[0mg\u001b[0m\u001b[0;34m.\u001b[0m\u001b[0mset\u001b[0m\u001b[0;34m(\u001b[0m\u001b[0mxscale\u001b[0m\u001b[0;34m=\u001b[0m\u001b[0;34m'log'\u001b[0m\u001b[0;34m)\u001b[0m\u001b[0;34m\u001b[0m\u001b[0;34m\u001b[0m\u001b[0m\n\u001b[1;32m      4\u001b[0m \u001b[0mplt\u001b[0m\u001b[0;34m.\u001b[0m\u001b[0mshow\u001b[0m\u001b[0;34m(\u001b[0m\u001b[0;34m)\u001b[0m\u001b[0;34m\u001b[0m\u001b[0;34m\u001b[0m\u001b[0m\n",
      "\u001b[0;31mNameError\u001b[0m: name 'alphas' is not defined"
     ]
    }
   ],
   "source": [
    "# Lasso Mean Squared Error as a function of the regularization paramenter alpha\n",
    "g = sns.lineplot(x = alphas, y = errors)\n",
    "g.set(xscale='log')\n",
    "plt.show()"
   ]
  },
  {
   "cell_type": "markdown",
   "id": "64bd57b5",
   "metadata": {
    "slideshow": {
     "slide_type": "slide"
    }
   },
   "source": [
    "## Lasso x Ridge Regression (the book calls the regularization parameter $\\lambda$) \n",
    "\n",
    "- Selection property of lasso: \n",
    "    + Lasso and ridge are equivalent to a constraint on the shape of the acceptable parameter space.\n",
    "    + But the \"diamond shape\" of lasso makes it shrinks some coefficients towards zero.\n",
    "\n",
    "![img](../img/lassovsridge3.png)"
   ]
  },
  {
   "cell_type": "markdown",
   "id": "fe5f488f",
   "metadata": {
    "slideshow": {
     "slide_type": "slide"
    }
   },
   "source": [
    "## Lasso x Ridge Regression (the book calls the regularization parameter $\\lambda$) \n",
    "\n",
    "- Lasso performs similarly to ridge in most cases. In these cases, I'd say that lasso is better:\n",
    "    + Reduces the complexity in the model.\n",
    "\n",
    "![img](../img/lassovsridge1.png)"
   ]
  },
  {
   "cell_type": "markdown",
   "id": "1a9c8d08",
   "metadata": {
    "slideshow": {
     "slide_type": "slide"
    }
   },
   "source": [
    "## Lasso x Ridge Regression (the book calls the regularization parameter $\\lambda$) \n",
    "\n",
    "- But when all coefficients are different from zero, then ridge is better.\n",
    "\n",
    "![img](../img/lassovsridge2.png)"
   ]
  },
  {
   "cell_type": "markdown",
   "id": "405961b4",
   "metadata": {
    "slideshow": {
     "slide_type": "slide"
    }
   },
   "source": [
    "## Lasso x Ridge Regression\n",
    "\n",
    "- To summarize, none is better in all situations.\n",
    "\n",
    "- You may need to search which model is better.\n",
    "\n",
    "- Moreover, finding $\\alpha$ is also a big deal. Cross-validation can help us with that!"
   ]
  },
  {
   "cell_type": "markdown",
   "id": "e341490e",
   "metadata": {
    "slideshow": {
     "slide_type": "slide"
    }
   },
   "source": [
    "\n",
    "# Cross-Validation\n",
    "\n",
    "## Cross-Validation\n",
    "\n",
    "- To select the tuning parameters you can use cross-validation.\n",
    "\n",
    "- The idea is to search through a grid of tuning parameter candidates, selecting the one that does best in the cross-validation.\n",
    "\n",
    "- It is indeed a very straight-forward idea, if you think about it."
   ]
  },
  {
   "cell_type": "code",
   "execution_count": 8,
   "id": "70d71300",
   "metadata": {},
   "outputs": [
    {
     "name": "stdout",
     "output_type": "stream",
     "text": [
      "The alpha that minimizes the Lasso Cross-Validation MSE is: 0.1011637979766207\n"
     ]
    }
   ],
   "source": [
    "## Lasso with Cross-Validation\n",
    "lasso = Lasso(max_iter = 20000000)\n",
    "coefs = list()\n",
    "errors = list()\n",
    "CVerrors = list()\n",
    "alphas = np.logspace(-6, 6, 200)\n",
    "X_train, X_test, y_train, y_test = train_test_split(X_scaled, y, test_size = 0.2, random_state = 12345)\n",
    "\n",
    "for a in alphas:\n",
    "    lasso.set_params(alpha = a).fit(X_train, y_train)\n",
    "    CVerrors.append(np.mean((lasso.predict(X_test) - y_test) ** 2))\n",
    "    errors.append(np.mean((lasso.predict(X_train) - y_train) ** 2))\n",
    "\n",
    "print('The alpha that minimizes the Lasso Cross-Validation MSE is: ' + str(alphas[CVerrors.index(min(CVerrors))]))\n",
    "    \n",
    "mses = pd.DataFrame({\n",
    "    'trainMSE': errors,\n",
    "    'testMSE': CVerrors}, index = alphas)"
   ]
  },
  {
   "cell_type": "code",
   "execution_count": 9,
   "id": "991743e6",
   "metadata": {
    "slideshow": {
     "slide_type": "slide"
    }
   },
   "outputs": [
    {
     "data": {
      "image/png": "[encoded data removed]",
      "text/plain": [
       "<Figure size 640x480 with 1 Axes>"
      ]
     },
     "metadata": {},
     "output_type": "display_data"
    }
   ],
   "source": [
    "# Cross Validation Lasso MSE as a function of the regularization parameter alpha\n",
    "g = sns.lineplot(data = mses)\n",
    "g.set(xscale='log')\n",
    "plt.show()"
   ]
  },
  {
   "cell_type": "markdown",
   "id": "256a1fba",
   "metadata": {
    "slideshow": {
     "slide_type": "slide"
    }
   },
   "source": [
    "# Beyond Linearity I"
   ]
  },
  {
   "cell_type": "markdown",
   "id": "bff5a223",
   "metadata": {
    "slideshow": {
     "slide_type": "slide"
    }
   },
   "source": [
    "## Beyond Linearity\n",
    "\n",
    "- So far, we have focused on linear models.\n",
    "\n",
    "- Most of the time, linear approximations are excellent:\n",
    "    + Easy to interpret\n",
    "    + Easy to run\n",
    "\n",
    "- And all the GLM flavors afford lots of flexibility regarding how we deal with data.\n",
    "\n",
    "- In the following two lectures, we relax the linearity assumption but keep it as simple as possible."
   ]
  },
  {
   "cell_type": "markdown",
   "id": "797cddd0",
   "metadata": {
    "slideshow": {
     "slide_type": "slide"
    }
   },
   "source": [
    "## Polynomial Regression\n",
    "\n",
    "- Expands the default model ($y_i = \\beta_0 + \\beta_1x_i + \\varepsilon_i$) to consider a polynomial $d$:\n",
    "\n",
    "$$ y_i = \\beta_0 + \\beta_1x_i + \\beta_2x_i^2 +\\cdots + \\beta_dx_i^d + \\varepsilon_i $$\n",
    "                     \n",
    "- Lots of flexibility here, but we seldom use $d>4$ because then it gets *excessively* flexible.\n",
    "\n",
    "- Prediction very straightforward:\n",
    "\n",
    "$$ \\hat{f}(x_0) = \\hat{\\beta}_0 + \\hat{\\beta}_1x_0 + \\hat{\\beta}_2x_0^2 +\\cdots + \\hat{\\beta}_dx_0^d $$"
   ]
  },
  {
   "cell_type": "markdown",
   "id": "21a35d11",
   "metadata": {
    "slideshow": {
     "slide_type": "slide"
    }
   },
   "source": [
    "## Polynomial Regression\n",
    "\n",
    "![img](../img/polyreg1.png)"
   ]
  },
  {
   "cell_type": "markdown",
   "id": "ea01a5a8",
   "metadata": {
    "slideshow": {
     "slide_type": "slide"
    }
   },
   "source": [
    "## Polynomial Regression"
   ]
  },
  {
   "cell_type": "code",
   "execution_count": 10,
   "id": "5410a180",
   "metadata": {
    "slideshow": {
     "slide_type": "fragment"
    }
   },
   "outputs": [
    {
     "name": "stdout",
     "output_type": "stream",
     "text": [
      "['1', 'income', 'income^2', 'income^3', 'income^4']\n"
     ]
    }
   ],
   "source": [
    "## Create the polynomials (with interaction terms!)\n",
    "poly = PolynomialFeatures(degree = 4)\n",
    "X = educ.reset_index()['income'].to_frame()\n",
    "X = poly.fit_transform(X)\n",
    "print(list(poly.get_feature_names_out(['income'])))"
   ]
  },
  {
   "cell_type": "code",
   "execution_count": 11,
   "id": "b538376e",
   "metadata": {
    "slideshow": {
     "slide_type": "slide"
    }
   },
   "outputs": [
    {
     "name": "stdout",
     "output_type": "stream",
     "text": [
      "The MSE for a quartic polynomial is: 1157.9289247888587\n"
     ]
    }
   ],
   "source": [
    "## Fit a linear regression\n",
    "reg = LinearRegression().fit(X, y)\n",
    "print('The MSE for a quartic polynomial is: ' + str(np.mean((reg.predict(X) - y) ** 2)))"
   ]
  },
  {
   "cell_type": "code",
   "execution_count": 12,
   "id": "65ce0748",
   "metadata": {
    "slideshow": {
     "slide_type": "slide"
    }
   },
   "outputs": [
    {
     "name": "stdout",
     "output_type": "stream",
     "text": [
      "['1', 'income', 'urban', 'young', 'income^2', 'income urban', 'income young', 'urban^2', 'urban young', 'young^2', 'income^3', 'income^2 urban', 'income^2 young', 'income urban^2', 'income urban young', 'income young^2', 'urban^3', 'urban^2 young', 'urban young^2', 'young^3', 'income^4', 'income^3 urban', 'income^3 young', 'income^2 urban^2', 'income^2 urban young', 'income^2 young^2', 'income urban^3', 'income urban^2 young', 'income urban young^2', 'income young^3', 'urban^4', 'urban^3 young', 'urban^2 young^2', 'urban young^3', 'young^4']\n",
      "\n",
      "\n",
      "The MSE for a quartic polynomial on income, urban, and \n",
      "young + interactions, is: 839.7125065728393\n"
     ]
    }
   ],
   "source": [
    "# For the fully-specified model (lots of interactions...)\n",
    "poly = PolynomialFeatures(degree = 4)\n",
    "X = educ.reset_index()[['income', 'urban', 'young']]\n",
    "X = poly.fit_transform(X)\n",
    "print(list(poly.get_feature_names_out(['income', 'urban', 'young'])))\n",
    "## Fit a linear regression\n",
    "reg = LinearRegression().fit(X, y)\n",
    "print('\\n\\nThe MSE for a quartic polynomial on income, urban, and \\nyoung + interactions, is: ' + str(np.mean((reg.predict(X) - y) ** 2)))"
   ]
  },
  {
   "cell_type": "code",
   "execution_count": 13,
   "id": "2a8859ea",
   "metadata": {
    "slideshow": {
     "slide_type": "slide"
    }
   },
   "outputs": [
    {
     "name": "stdout",
     "output_type": "stream",
     "text": [
      "The CV-MSE for a quartic polynomial on income is: 976.9088666334937\n"
     ]
    }
   ],
   "source": [
    "## With cross-validation now\n",
    "\n",
    "# Only income\n",
    "X = educ.reset_index()['income'].to_frame()\n",
    "X_train, X_test, y_train, y_test = train_test_split(X, y, test_size = 0.25, random_state = 12345)\n",
    "X_train = poly.fit_transform(X_train)\n",
    "X_test = poly.fit_transform(X_test)\n",
    "reg = LinearRegression().fit(X_train, y_train)\n",
    "print('The CV-MSE for a quartic polynomial on income is: ' + str(np.mean((reg.predict(X_test) - y_test) ** 2)))"
   ]
  },
  {
   "cell_type": "code",
   "execution_count": 14,
   "id": "9f69fc0a",
   "metadata": {
    "slideshow": {
     "slide_type": "slide"
    }
   },
   "outputs": [
    {
     "name": "stdout",
     "output_type": "stream",
     "text": [
      "The CV-MSE for a quartic polynomial on income, urban, and \n",
      "young + interactions, is: 3659358.495521982\n"
     ]
    }
   ],
   "source": [
    "## With cross-validation now\n",
    "\n",
    "# For the fully-specified model (lots of interactions...)\n",
    "X = educ.reset_index()[['income', 'urban', 'young']]\n",
    "X_train, X_test, y_train, y_test = train_test_split(X, y, test_size = 0.25, random_state = 12345)\n",
    "X_train = poly.fit_transform(X_train)\n",
    "X_test = poly.fit_transform(X_test)\n",
    "reg = LinearRegression().fit(X_train, y_train)\n",
    "print('The CV-MSE for a quartic polynomial on income, urban, and \\nyoung + interactions, is: ' + str(np.mean((reg.predict(X_test) - y_test) ** 2)))"
   ]
  },
  {
   "cell_type": "markdown",
   "id": "66c29e2f",
   "metadata": {
    "slideshow": {
     "slide_type": "slide"
    }
   },
   "source": [
    "## Piecewise-constant Regression\n",
    "\n",
    "- Here, we would be breaks in the predictor, making it an ordered categorical variable instead of a continuous variable.\n",
    "\n",
    "- Let a variable $X$, the indicator function $I(.)$, and a set of cutpoints $\\{c_1, c_2, \\cdots, c_k\\}$. The stepped variable $X$, $C_j(X)$, becomes:\n",
    "\n",
    "$$\n",
    "\\begin{align}\n",
    "C_{0}(X) &= I(X < c_1) \\\\\n",
    "C_{1}(X) &= I(c_1 \\leq X < c_2) \\\\\n",
    "C_{2}(X) &= I(c_2 \\leq X < c_3) \\\\\n",
    "&\\vdots\\\\\n",
    "C_{K-1}(X) &= I(c_{K-1} \\leq X < c_K) \\\\\n",
    "C_{K}(X) &= I(X \\geq c_K)\n",
    "\\end{align}\n",
    "$$"
   ]
  },
  {
   "cell_type": "markdown",
   "id": "b847beec",
   "metadata": {
    "slideshow": {
     "slide_type": "slide"
    }
   },
   "source": [
    "## Piecewise-constant Regression\n",
    "\n",
    "- Example use: when age is defined in 5-years bins.\n",
    "\n",
    "- Detail: $C_0(x_i) + C_1(x_i) + \\cdots + C_K(x_i) = 1$. This would make adding all pieces impossible:\n",
    "    + Perfect Collinearity.\n",
    "\n",
    "- The regression model becomes:\n",
    "\n",
    "$$ y_i = \\beta_0 + \\beta_1C_1(x_i) + \\beta_2C_2(x_i) +\\cdots + \\beta_KC_K(x_i) + \\varepsilon_i $$"
   ]
  },
  {
   "cell_type": "markdown",
   "id": "9cd797fb",
   "metadata": {
    "slideshow": {
     "slide_type": "slide"
    }
   },
   "source": [
    "## Piecewise-constant Regression\n",
    "\n",
    "![img](../img/pcreg1.png)"
   ]
  },
  {
   "cell_type": "markdown",
   "id": "445b0714",
   "metadata": {
    "slideshow": {
     "slide_type": "slide"
    }
   },
   "source": [
    "## Piecewise-constant Regression"
   ]
  },
  {
   "cell_type": "code",
   "execution_count": 15,
   "id": "fd5590cd",
   "metadata": {
    "slideshow": {
     "slide_type": "fragment"
    }
   },
   "outputs": [
    {
     "name": "stdout",
     "output_type": "stream",
     "text": [
      "The MSE for this piecewise constant regression is: 1138.5444810091867\n"
     ]
    }
   ],
   "source": [
    "## Piecewise-constant Regression\n",
    "X = educ.reset_index()['income'].to_frame()\n",
    "X = pd.cut(X.income, bins = [0, 2500, 3000, 3200, 3500, 4000, 5000])\n",
    "X = pd.get_dummies(X, drop_first = True)\n",
    "reg = LinearRegression().fit(X, y)\n",
    "print('The MSE for this piecewise constant regression is: ' + str(np.mean((reg.predict(X) - y) ** 2)))"
   ]
  },
  {
   "cell_type": "code",
   "execution_count": 16,
   "id": "55e30f8c",
   "metadata": {
    "slideshow": {
     "slide_type": "slide"
    }
   },
   "outputs": [
    {
     "name": "stdout",
     "output_type": "stream",
     "text": [
      "The CV-MSE for this piecewise constant regression is: 1241.6923076923076\n"
     ]
    }
   ],
   "source": [
    "## With cross-validation now\n",
    "X = educ.reset_index()['income'].to_frame()\n",
    "X = pd.cut(X.income, bins = [0, 2500, 3000, 3200, 3500, 4000, 5000])\n",
    "X = pd.get_dummies(X, drop_first = True)\n",
    "X_train, X_test, y_train, y_test = train_test_split(X, y, test_size = 0.25, random_state = 12345)\n",
    "X_train = poly.fit_transform(X_train)\n",
    "X_test = poly.fit_transform(X_test)\n",
    "reg = LinearRegression().fit(X_train, y_train)\n",
    "print('The CV-MSE for this piecewise constant regression is: ' + str(np.mean((reg.predict(X_test) - y_test) ** 2)))"
   ]
  },
  {
   "cell_type": "markdown",
   "id": "d8eace45",
   "metadata": {
    "slideshow": {
     "slide_type": "slide"
    }
   },
   "source": [
    "# Questions?"
   ]
  },
  {
   "cell_type": "markdown",
   "id": "22d252e9",
   "metadata": {
    "slideshow": {
     "slide_type": "slide"
    }
   },
   "source": [
    "# See you next class\n"
   ]
  }
 ],
 "metadata": {
  "celltoolbar": "Slideshow",
  "kernelspec": {
   "display_name": "Python 3 (ipykernel)",
   "language": "python",
   "name": "python3"
  },
  "language_info": {
   "codemirror_mode": {
    "name": "ipython",
    "version": 3
   },
   "file_extension": ".py",
   "mimetype": "text/x-python",
   "name": "python",
   "nbconvert_exporter": "python",
   "pygments_lexer": "ipython3",
   "version": "3.9.13"
  }
 },
 "nbformat": 4,
 "nbformat_minor": 5
}
