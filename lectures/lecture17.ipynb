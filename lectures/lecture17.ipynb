{
 "cells": [
  {
   "cell_type": "markdown",
   "id": "243e38f9",
   "metadata": {
    "slideshow": {
     "slide_type": "slide"
    }
   },
   "source": [
    "# POLI 175 - Lecture 17\n",
    "\n",
    "## Non-linearity II"
   ]
  },
  {
   "cell_type": "markdown",
   "id": "bb985516",
   "metadata": {
    "slideshow": {
     "slide_type": "slide"
    }
   },
   "source": [
    "## Some new data\n",
    "\n",
    "- Countries dataset: \n",
    "    + Let us create a model to predict the **proportion of seats held by women in the national parliament** (`wdi_wip`).\n",
    "    \n",
    "- Explanatory variables I propose ([you can find others here](https://www.qogdata.pol.gu.se/data/bas_codebook_jan23.pdf)):\n",
    "\n",
    "1. (`pwt_pop`) Population\n",
    "2. (`wdi_expedu`) Expenditure on education (% of GDP)\n",
    "3. (`mad_gdppc`) Real GDP per capita"
   ]
  },
  {
   "cell_type": "code",
   "execution_count": 1,
   "id": "b55c5cf0",
   "metadata": {
    "slideshow": {
     "slide_type": "slide"
    }
   },
   "outputs": [],
   "source": [
    "## Loading the relevant packages\n",
    "import pandas as pd\n",
    "import numpy as np\n",
    "\n",
    "# Plotting things:\n",
    "import seaborn as sns\n",
    "import matplotlib.pyplot as plt\n",
    "\n",
    "# Look at our friend here to help with GAM\n",
    "import statsmodels.api as sm\n",
    "from statsmodels.gam.api import GLMGam, BSplines\n",
    "\n",
    "# Loading scikit learn relevant packages (note our new friends!)\n",
    "from sklearn.linear_model import LogisticRegression, LinearRegression, Ridge, Lasso\n",
    "from sklearn.naive_bayes import GaussianNB\n",
    "from sklearn.discriminant_analysis import LinearDiscriminantAnalysis, QuadraticDiscriminantAnalysis\n",
    "from sklearn.metrics import confusion_matrix, classification_report, precision_score, get_scorer_names, mean_squared_error, r2_score\n",
    "from sklearn.model_selection import train_test_split, LeaveOneOut, cross_val_score, KFold, GridSearchCV\n",
    "from sklearn.inspection import DecisionBoundaryDisplay\n",
    "from sklearn.tree import DecisionTreeClassifier\n",
    "from sklearn.neighbors import KNeighborsClassifier\n",
    "from sklearn.preprocessing import StandardScaler, PolynomialFeatures, SplineTransformer\n",
    "from sklearn.feature_selection import SequentialFeatureSelector"
   ]
  },
  {
   "cell_type": "code",
   "execution_count": 2,
   "id": "b696a377",
   "metadata": {
    "slideshow": {
     "slide_type": "slide"
    }
   },
   "outputs": [
    {
     "data": {
      "text/html": [
       "<div>\n",
       "<style scoped>\n",
       "    .dataframe tbody tr th:only-of-type {\n",
       "        vertical-align: middle;\n",
       "    }\n",
       "\n",
       "    .dataframe tbody tr th {\n",
       "        vertical-align: top;\n",
       "    }\n",
       "\n",
       "    .dataframe thead th {\n",
       "        text-align: right;\n",
       "    }\n",
       "</style>\n",
       "<table border=\"1\" class=\"dataframe\">\n",
       "  <thead>\n",
       "    <tr style=\"text-align: right;\">\n",
       "      <th></th>\n",
       "      <th>ccodealp</th>\n",
       "      <th>year</th>\n",
       "      <th>cname</th>\n",
       "      <th>wdi_wip</th>\n",
       "      <th>pwt_pop</th>\n",
       "      <th>wdi_expedu</th>\n",
       "      <th>mad_gdppc</th>\n",
       "    </tr>\n",
       "  </thead>\n",
       "  <tbody>\n",
       "    <tr>\n",
       "      <th>0</th>\n",
       "      <td>ALB</td>\n",
       "      <td>1999</td>\n",
       "      <td>Albania</td>\n",
       "      <td>5.161290</td>\n",
       "      <td>3.122697</td>\n",
       "      <td>3.59293</td>\n",
       "      <td>4432.0426</td>\n",
       "    </tr>\n",
       "    <tr>\n",
       "      <th>1</th>\n",
       "      <td>ALB</td>\n",
       "      <td>2000</td>\n",
       "      <td>Albania</td>\n",
       "      <td>5.161290</td>\n",
       "      <td>3.129243</td>\n",
       "      <td>3.43017</td>\n",
       "      <td>4808.4796</td>\n",
       "    </tr>\n",
       "    <tr>\n",
       "      <th>2</th>\n",
       "      <td>ALB</td>\n",
       "      <td>2001</td>\n",
       "      <td>Albania</td>\n",
       "      <td>5.714286</td>\n",
       "      <td>3.129704</td>\n",
       "      <td>3.45870</td>\n",
       "      <td>5285.8091</td>\n",
       "    </tr>\n",
       "    <tr>\n",
       "      <th>3</th>\n",
       "      <td>ALB</td>\n",
       "      <td>2002</td>\n",
       "      <td>Albania</td>\n",
       "      <td>5.714286</td>\n",
       "      <td>3.126187</td>\n",
       "      <td>3.11780</td>\n",
       "      <td>5608.9623</td>\n",
       "    </tr>\n",
       "    <tr>\n",
       "      <th>4</th>\n",
       "      <td>ALB</td>\n",
       "      <td>2003</td>\n",
       "      <td>Albania</td>\n",
       "      <td>5.714286</td>\n",
       "      <td>3.118023</td>\n",
       "      <td>3.13823</td>\n",
       "      <td>6004.6452</td>\n",
       "    </tr>\n",
       "  </tbody>\n",
       "</table>\n",
       "</div>"
      ],
      "text/plain": [
       "  ccodealp  year    cname   wdi_wip   pwt_pop  wdi_expedu  mad_gdppc\n",
       "0      ALB  1999  Albania  5.161290  3.122697     3.59293  4432.0426\n",
       "1      ALB  2000  Albania  5.161290  3.129243     3.43017  4808.4796\n",
       "2      ALB  2001  Albania  5.714286  3.129704     3.45870  5285.8091\n",
       "3      ALB  2002  Albania  5.714286  3.126187     3.11780  5608.9623\n",
       "4      ALB  2003  Albania  5.714286  3.118023     3.13823  6004.6452"
      ]
     },
     "execution_count": 2,
     "metadata": {},
     "output_type": "execute_result"
    }
   ],
   "source": [
    "## Countries Dataset\n",
    "countr = pd.read_csv('https://raw.githubusercontent.com/umbertomig/POLI175public/main/data/countrdat.csv')\n",
    "countr.head()"
   ]
  },
  {
   "cell_type": "code",
   "execution_count": 3,
   "id": "56729f6a",
   "metadata": {
    "slideshow": {
     "slide_type": "slide"
    }
   },
   "outputs": [
    {
     "data": {
      "text/html": [
       "<div>\n",
       "<style scoped>\n",
       "    .dataframe tbody tr th:only-of-type {\n",
       "        vertical-align: middle;\n",
       "    }\n",
       "\n",
       "    .dataframe tbody tr th {\n",
       "        vertical-align: top;\n",
       "    }\n",
       "\n",
       "    .dataframe thead th {\n",
       "        text-align: right;\n",
       "    }\n",
       "</style>\n",
       "<table border=\"1\" class=\"dataframe\">\n",
       "  <thead>\n",
       "    <tr style=\"text-align: right;\">\n",
       "      <th></th>\n",
       "      <th>education</th>\n",
       "      <th>income</th>\n",
       "    </tr>\n",
       "  </thead>\n",
       "  <tbody>\n",
       "    <tr>\n",
       "      <th>0</th>\n",
       "      <td>189</td>\n",
       "      <td>2824</td>\n",
       "    </tr>\n",
       "    <tr>\n",
       "      <th>1</th>\n",
       "      <td>169</td>\n",
       "      <td>3259</td>\n",
       "    </tr>\n",
       "    <tr>\n",
       "      <th>2</th>\n",
       "      <td>230</td>\n",
       "      <td>3072</td>\n",
       "    </tr>\n",
       "    <tr>\n",
       "      <th>3</th>\n",
       "      <td>168</td>\n",
       "      <td>3835</td>\n",
       "    </tr>\n",
       "    <tr>\n",
       "      <th>4</th>\n",
       "      <td>180</td>\n",
       "      <td>3549</td>\n",
       "    </tr>\n",
       "  </tbody>\n",
       "</table>\n",
       "</div>"
      ],
      "text/plain": [
       "   education  income\n",
       "0        189    2824\n",
       "1        169    3259\n",
       "2        230    3072\n",
       "3        168    3835\n",
       "4        180    3549"
      ]
     },
     "execution_count": 3,
     "metadata": {},
     "output_type": "execute_result"
    }
   ],
   "source": [
    "## Education Expenditure Dataset\n",
    "educ = pd.read_csv('https://raw.githubusercontent.com/umbertomig/POLI175public/main/data/educexp.csv')\n",
    "educ = educ[['education', 'income']]\n",
    "educ.head()"
   ]
  },
  {
   "cell_type": "markdown",
   "id": "66c29e2f",
   "metadata": {
    "slideshow": {
     "slide_type": "slide"
    }
   },
   "source": [
    "## Piecewise-constant Regression\n",
    "\n",
    "- Here, we would be breaks in the predictor, making it an ordered categorical variable instead of a continuous variable.\n",
    "\n",
    "- Let a variable $X$, the indicator function $I(.)$, and a set of cutpoints $\\{c_1, c_2, \\cdots, c_k\\}$. The stepped variable $X$, $C_j(X)$, becomes:\n",
    "\n",
    "$$\n",
    "\\begin{align}\n",
    "C_{0}(X) &= I(X < c_1) \\\\\n",
    "C_{1}(X) &= I(c_1 \\leq X < c_2) \\\\\n",
    "C_{2}(X) &= I(c_2 \\leq X < c_3) \\\\\n",
    "&\\vdots\\\\\n",
    "C_{K-1}(X) &= I(c_{K-1} \\leq X < c_K) \\\\\n",
    "C_{K}(X) &= I(X \\geq c_K)\n",
    "\\end{align}\n",
    "$$"
   ]
  },
  {
   "cell_type": "markdown",
   "id": "b847beec",
   "metadata": {
    "slideshow": {
     "slide_type": "slide"
    }
   },
   "source": [
    "## Piecewise-constant Regression\n",
    "\n",
    "- Example use: when age is defined in 5-years bins.\n",
    "\n",
    "- Detail: $C_0(x_i) + C_1(x_i) + \\cdots + C_K(x_i) = 1$. This would make adding all pieces impossible:\n",
    "    + Perfect Collinearity.\n",
    "\n",
    "- The regression model becomes:\n",
    "\n",
    "$$ y_i = \\beta_0 + \\beta_1C_1(x_i) + \\beta_2C_2(x_i) +\\cdots + \\beta_KC_K(x_i) + \\varepsilon_i $$"
   ]
  },
  {
   "cell_type": "markdown",
   "id": "9cd797fb",
   "metadata": {
    "slideshow": {
     "slide_type": "slide"
    }
   },
   "source": [
    "## Piecewise-constant Regression\n",
    "\n",
    "![img](../img/pcreg1.png)"
   ]
  },
  {
   "cell_type": "markdown",
   "id": "445b0714",
   "metadata": {
    "slideshow": {
     "slide_type": "slide"
    }
   },
   "source": [
    "## Piecewise-constant Regression"
   ]
  },
  {
   "cell_type": "code",
   "execution_count": 4,
   "id": "fd5590cd",
   "metadata": {
    "slideshow": {
     "slide_type": "fragment"
    }
   },
   "outputs": [
    {
     "name": "stdout",
     "output_type": "stream",
     "text": [
      "The MSE for this piecewise constant regression is: education    1138.544481\n",
      "dtype: float64\n"
     ]
    }
   ],
   "source": [
    "## Piecewise-constant Regression\n",
    "y = educ[['education']]\n",
    "X = educ[['income']]\n",
    "X = pd.cut(X.income, bins = [0, 2500, 3000, 3200, 3500, 4000, 5000])\n",
    "X = pd.get_dummies(X, drop_first = True)\n",
    "reg = LinearRegression().fit(X, y)\n",
    "print('The MSE for this piecewise constant regression is: ' + str(np.mean((reg.predict(X) - y) ** 2, axis=0)))"
   ]
  },
  {
   "cell_type": "code",
   "execution_count": 5,
   "id": "55e30f8c",
   "metadata": {
    "slideshow": {
     "slide_type": "slide"
    }
   },
   "outputs": [
    {
     "name": "stdout",
     "output_type": "stream",
     "text": [
      "The CV-MSE for this piecewise constant regression is: education    1241.692308\n",
      "dtype: float64\n"
     ]
    }
   ],
   "source": [
    "## With cross-validation now\n",
    "poly = PolynomialFeatures(degree = 4)\n",
    "X = educ[['income']]\n",
    "X = pd.cut(X.income, bins = [0, 2500, 3000, 3200, 3500, 4000, 5000])\n",
    "X = pd.get_dummies(X, drop_first = True)\n",
    "X_train, X_test, y_train, y_test = train_test_split(X, y, test_size = 0.25, random_state = 12345)\n",
    "X_train = poly.fit_transform(X_train)\n",
    "X_test = poly.fit_transform(X_test)\n",
    "reg = LinearRegression().fit(X_train, y_train)\n",
    "print('The CV-MSE for this piecewise constant regression is: ' + str(np.mean((reg.predict(X_test) - y_test) ** 2, axis=0)))"
   ]
  },
  {
   "cell_type": "markdown",
   "id": "6b72f2f6",
   "metadata": {
    "slideshow": {
     "slide_type": "slide"
    }
   },
   "source": [
    "# Non-Linearity\n",
    "\n",
    "- So far, we have seen polynomial regression and constant-piecewise regression.\n",
    "\n",
    "- Now let us study:\n",
    "    + Splines and Smoothing Splines\n",
    "    + GAMs"
   ]
  },
  {
   "cell_type": "code",
   "execution_count": 6,
   "id": "f0227a9c",
   "metadata": {
    "slideshow": {
     "slide_type": "slide"
    }
   },
   "outputs": [
    {
     "data": {
      "text/html": [
       "<div>\n",
       "<style scoped>\n",
       "    .dataframe tbody tr th:only-of-type {\n",
       "        vertical-align: middle;\n",
       "    }\n",
       "\n",
       "    .dataframe tbody tr th {\n",
       "        vertical-align: top;\n",
       "    }\n",
       "\n",
       "    .dataframe thead th {\n",
       "        text-align: right;\n",
       "    }\n",
       "</style>\n",
       "<table border=\"1\" class=\"dataframe\">\n",
       "  <thead>\n",
       "    <tr style=\"text-align: right;\">\n",
       "      <th></th>\n",
       "      <th>wdi_expedu</th>\n",
       "    </tr>\n",
       "  </thead>\n",
       "  <tbody>\n",
       "    <tr>\n",
       "      <th>0</th>\n",
       "      <td>-0.450176</td>\n",
       "    </tr>\n",
       "    <tr>\n",
       "      <th>1</th>\n",
       "      <td>-0.547556</td>\n",
       "    </tr>\n",
       "    <tr>\n",
       "      <th>2</th>\n",
       "      <td>-0.530486</td>\n",
       "    </tr>\n",
       "    <tr>\n",
       "      <th>3</th>\n",
       "      <td>-0.734450</td>\n",
       "    </tr>\n",
       "    <tr>\n",
       "      <th>4</th>\n",
       "      <td>-0.722226</td>\n",
       "    </tr>\n",
       "  </tbody>\n",
       "</table>\n",
       "</div>"
      ],
      "text/plain": [
       "   wdi_expedu\n",
       "0   -0.450176\n",
       "1   -0.547556\n",
       "2   -0.530486\n",
       "3   -0.734450\n",
       "4   -0.722226"
      ]
     },
     "execution_count": 6,
     "metadata": {},
     "output_type": "execute_result"
    }
   ],
   "source": [
    "## Process dataset\n",
    "y = countr['wdi_wip']\n",
    "X = countr[['wdi_expedu']]\n",
    "X_zed = StandardScaler().set_output(transform = 'pandas').fit_transform(X)\n",
    "X_zed.head()"
   ]
  },
  {
   "cell_type": "markdown",
   "id": "05794a41",
   "metadata": {
    "slideshow": {
     "slide_type": "slide"
    }
   },
   "source": [
    "## Basis Functions\n",
    "\n",
    "- Family of transformations $b_i(X)$ such that, instead of fitting a regression model in $X$, we fit:\n",
    "\n",
    "$$ y_i \\ = \\ \\beta_0 + \\beta_1b_1(x_i) + \\beta_2b_2(x_i) + \\cdots + \\beta_kb_k(x_i) + \\varepsilon_i $$\n",
    "\n",
    "- In this sense:\n",
    "    - Polynomial Regression: $b_j(x_i) = x_i^j$\n",
    "    - Constant-piecewise Regression: $b_j(x_i) = C_j(x_i) = I(c_j \\leq X < c_{j+1})$\n",
    "    \n",
    "- Meaning: they are cases of a broader set of basis functions."
   ]
  },
  {
   "cell_type": "markdown",
   "id": "f697d9d7",
   "metadata": {
    "slideshow": {
     "slide_type": "slide"
    }
   },
   "source": [
    "## Basis Functions\n",
    "\n",
    "- Other cases:\n",
    "    + [Fourier series](https://en.wikipedia.org/wiki/Fourier_series)\n",
    "    + [Splines](https://en.wikipedia.org/wiki/Spline_(mathematics))\n",
    "    + [GAMs](https://en.wikipedia.org/wiki/Generalized_additive_model)\n",
    "    \n",
    "- We are going to study Splines and GAMs here."
   ]
  },
  {
   "cell_type": "markdown",
   "id": "ec711f60",
   "metadata": {
    "slideshow": {
     "slide_type": "slide"
    }
   },
   "source": [
    "## Splines\n",
    "\n",
    "- Suppose we want to fit a cubic polynomial. We can use the least square method very effectively for this case:\n",
    "\n",
    "$$ y_i = \\beta_0 + \\beta_1x_i + \\beta_2x_i^2 + \\beta_3x_i^3 + \\varepsilon_i $$\n",
    "\n",
    "- Very straightforward: use OLS and done!"
   ]
  },
  {
   "cell_type": "markdown",
   "id": "10333971",
   "metadata": {
    "slideshow": {
     "slide_type": "slide"
    }
   },
   "source": [
    "## Splines\n",
    "\n",
    "- Now, suppose that we want this polynomial to change its curvature for different parts of the data.\n",
    "\n",
    "- We may want to fit a particular polynomial in one-half of the data and a different one in the other part of the data."
   ]
  },
  {
   "cell_type": "markdown",
   "id": "64bd57b5",
   "metadata": {
    "slideshow": {
     "slide_type": "slide"
    }
   },
   "source": [
    "## Splines\n",
    "\n",
    "- Let $x = c$ the threshold (we call it *knot*). Then:\n",
    "\n",
    "$$ y_i = \\left\\{\\begin{align}\n",
    "        \\beta_{01} + \\beta_{11}x_i + \\beta_{21}x_i^2 + \\beta_{31}x_i^3 + \\varepsilon_i & \\ \\ \\text{ if } x_i < c\\\\\n",
    "        \\beta_{02} + \\beta_{12}x_i + \\beta_{22}x_i^2 + \\beta_{32}x_i^3 + \\varepsilon_i & \\ \\ \\text{ if } x_i \\geq c\n",
    "        \\end{align} \\right. $$\n",
    "        \n",
    "- And thus, we would fit eight coefficients. Four for each piece. If we add $K$ knots, we would fit $K+1$ polynomials.\n",
    "\n",
    "- The more knots, the more flexible the polynomial becomes.\n",
    "\n",
    "- Piecewise-constant: The degree of the polynomial is zero."
   ]
  },
  {
   "cell_type": "markdown",
   "id": "fe5f488f",
   "metadata": {
    "slideshow": {
     "slide_type": "slide"
    }
   },
   "source": [
    "## Splines\n",
    "\n",
    "- The problem with fitting splines is that we need to add constraints. Example:\n",
    "\n",
    "![img](../img/spl1.png)"
   ]
  },
  {
   "cell_type": "markdown",
   "id": "1a9c8d08",
   "metadata": {
    "slideshow": {
     "slide_type": "slide"
    }
   },
   "source": [
    "## Splines\n",
    "\n",
    "- We want our polynomials to be smooth. This needs us to add constraints on the end-points and the derivatives at these points.\n",
    "\n",
    "- End-points should meet. Derivatives should be the same at the knot (added smoothness).\n",
    "\n",
    "- Let this be the basis function:\n",
    "\n",
    "$$ y_i \\ = \\ \\beta_0 + \\beta_1b_1(x_i) + \\beta_2b_2(x_i) + \\cdots + \\beta_kb_k(x_i) + \\varepsilon_i $$\n",
    "\n",
    "- What are the $b$'s that would make this a cubic spline with all continuous derivatives?"
   ]
  },
  {
   "cell_type": "markdown",
   "id": "405961b4",
   "metadata": {
    "slideshow": {
     "slide_type": "slide"
    }
   },
   "source": [
    "## Splines\n",
    "\n",
    "- To achieve the smoothness on a cubic spline with a knot in $\\xi$, we can use the basis function:\n",
    "\n",
    "$$ \n",
    "h(x, \\xi) \\ = \\ (x-\\xi)^3_+ \\ = \\ \\left\\{\\begin{align}\n",
    "        (x - \\xi)^3 & \\ \\ \\text{ if } x > \\xi \\\\\n",
    "        0 & \\ \\ \\text{ otherwise }\n",
    "        \\end{align} \\right.\n",
    "$$\n",
    "\n",
    "- And for a K-knots cubic spline: $b_0(X) = 1$, $b_1(X) = X$, $b_2(X) = X^2$, $b_3(X) = X^3$, $b_4(X) = h(X, \\xi_1)$, $b_5(X) = h(X, \\xi_2)$, $\\cdots$ , $b_{K + 3}(X) = h(X, \\xi_K)$.\n",
    "\n",
    "- This spline uses $K + 4$ degress of freedom."
   ]
  },
  {
   "cell_type": "code",
   "execution_count": 7,
   "id": "15618366",
   "metadata": {
    "slideshow": {
     "slide_type": "slide"
    }
   },
   "outputs": [
    {
     "name": "stdout",
     "output_type": "stream",
     "text": [
      "The Cross-Validated R-squared for this regression is: 0.11301155061581361\n"
     ]
    }
   ],
   "source": [
    "## Baseline: OLS\n",
    "X_full = X_zed\n",
    "cv = KFold(n_splits=10, shuffle=True)\n",
    "reg = LinearRegression()\n",
    "r2s = cross_val_score(reg, X_zed, y, \n",
    "                      scoring = 'r2',\n",
    "                      cv = cv, n_jobs = -1)\n",
    "\n",
    "print('The Cross-Validated R-squared for this regression is: ' + str(np.mean(r2s)))"
   ]
  },
  {
   "cell_type": "code",
   "execution_count": 8,
   "id": "a4053598",
   "metadata": {
    "slideshow": {
     "slide_type": "slide"
    }
   },
   "outputs": [
    {
     "name": "stdout",
     "output_type": "stream",
     "text": [
      "The Cross-Validated R-squared for this regression is: 0.13138260221264517\n"
     ]
    }
   ],
   "source": [
    "## Splines with five knots\n",
    "splines = SplineTransformer(n_knots = 5, \n",
    "                            degree = 3, \n",
    "                            knots = 'quantile',\n",
    "                            extrapolation = 'constant')\n",
    "\n",
    "X_full = splines.set_output(transform = 'pandas').fit_transform(X_zed)\n",
    "cv = KFold(n_splits = 10, shuffle = True)\n",
    "reg = LinearRegression()\n",
    "r2s = cross_val_score(reg, X_full, y, \n",
    "                      scoring = 'r2',\n",
    "                      cv = cv, n_jobs = -1)\n",
    "print('The Cross-Validated R-squared for this regression is: ' + str(np.mean(r2s)))"
   ]
  },
  {
   "cell_type": "markdown",
   "id": "e341490e",
   "metadata": {
    "slideshow": {
     "slide_type": "slide"
    }
   },
   "source": [
    "## Splines\n",
    "\n",
    "- *Natural spline:* add the requirement to local-linear in the bounds (below the first knot and above the last knot).\n",
    "\n",
    "![img](../img/natvscubspl1.png)"
   ]
  },
  {
   "cell_type": "markdown",
   "id": "bff5a223",
   "metadata": {
    "slideshow": {
     "slide_type": "slide"
    }
   },
   "source": [
    "## Splines\n",
    "\n",
    "- When we fit a spline, where should we place the knots?\n",
    "\n",
    "- Usually, we choose a uniformly distributed amount of knots placed on the percentiles (e.g., Q1, Median, and Q3).\n",
    "\n",
    "- To find a uniformly distributed amount of knots, one can use cross-validation:\n",
    "    1. Fit a model with $K$ knots\n",
    "    2. Look at the cross-validated RSS and change to $K+1$ or $K-1$, accordingly."
   ]
  },
  {
   "cell_type": "markdown",
   "id": "797cddd0",
   "metadata": {
    "slideshow": {
     "slide_type": "slide"
    }
   },
   "source": [
    "## Splines\n",
    "\n",
    "![img](../img/natvscubspl2.png)"
   ]
  },
  {
   "cell_type": "markdown",
   "id": "21a35d11",
   "metadata": {
    "slideshow": {
     "slide_type": "slide"
    }
   },
   "source": [
    "## Splines\n",
    "\n",
    "- Natural Cubic Splines (15dfs) x degree-15 polynomial\n",
    "\n",
    "![img](../img/ncubspl.png)"
   ]
  },
  {
   "cell_type": "code",
   "execution_count": 9,
   "id": "4b26117c",
   "metadata": {
    "slideshow": {
     "slide_type": "slide"
    }
   },
   "outputs": [
    {
     "name": "stdout",
     "output_type": "stream",
     "text": [
      "The Cross-Validated R-squared for this regression is: 0.1289229579564595\n"
     ]
    }
   ],
   "source": [
    "## Natural Splines\n",
    "splines = SplineTransformer(n_knots = 5, \n",
    "                            degree = 3, \n",
    "                            knots = 'quantile',\n",
    "                            extrapolation = 'linear')\n",
    "\n",
    "X_full = splines.set_output(transform = 'pandas').fit_transform(X_zed)\n",
    "cv = KFold(n_splits = 10, shuffle = True)\n",
    "reg = LinearRegression()\n",
    "r2s = cross_val_score(reg, X_full, y, \n",
    "                      scoring = 'r2',\n",
    "                      cv = cv, n_jobs = -1)\n",
    "print('The Cross-Validated R-squared for this regression is: ' + str(np.mean(r2s)))"
   ]
  },
  {
   "cell_type": "code",
   "execution_count": 10,
   "id": "049ec139",
   "metadata": {
    "slideshow": {
     "slide_type": "slide"
    }
   },
   "outputs": [
    {
     "name": "stdout",
     "output_type": "stream",
     "text": [
      "The best number of knots is 6.\n",
      "\n",
      "The CV R-squared associated with it is 0.171539374693903.\n"
     ]
    }
   ],
   "source": [
    "## Natural Splines: picking the best number of knots\n",
    "scores = []\n",
    "knots = []\n",
    "X_train, X_test, y_train, y_test = train_test_split(X_zed, y, test_size = 0.2)\n",
    "for i in range(2, 100):\n",
    "    knots.append(i)\n",
    "    splines = SplineTransformer(n_knots = i, degree = 3, \n",
    "                                knots = 'quantile', extrapolation = 'linear')\n",
    "    X_trainstep = splines.set_output(transform = 'pandas').fit_transform(X_train)\n",
    "    X_teststep =  splines.set_output(transform = 'pandas').fit_transform(X_test)\n",
    "    reg = LinearRegression().fit(X_trainstep, y_train)\n",
    "    score = reg.score(X_teststep, y_test)\n",
    "    scores.append(score)\n",
    "\n",
    "print('The best number of knots is {a}.\\n\\nThe CV R-squared associated with it is {b}.'.format(a = str(knots[scores.index(max(scores))]), b = str(max(scores))))"
   ]
  },
  {
   "cell_type": "code",
   "execution_count": 11,
   "id": "d9f292f8",
   "metadata": {
    "slideshow": {
     "slide_type": "slide"
    }
   },
   "outputs": [
    {
     "data": {
      "image/png": "[encoded data removed]",
      "text/plain": [
       "<Figure size 640x480 with 1 Axes>"
      ]
     },
     "metadata": {},
     "output_type": "display_data"
    }
   ],
   "source": [
    "## Natural Splines: picking the best number of knots\n",
    "sns.lineplot(x = knots, y = scores)\n",
    "plt.title('Natural Spline Cross-Validated Number of Knots')\n",
    "plt.xlabel('knots\\n' + 'Best number of knots is {a}.\\nThe CV R-squared associated with it is {b}.'.format(a = str(knots[scores.index(max(scores))]), b = str(max(scores))))\n",
    "plt.ylabel('R-Squared')\n",
    "plt.scatter(knots[scores.index(max(scores))], max(scores), marker='X', color = 'red')\n",
    "plt.show()"
   ]
  },
  {
   "cell_type": "markdown",
   "id": "d4046a13",
   "metadata": {
    "slideshow": {
     "slide_type": "slide"
    }
   },
   "source": [
    "## GAMs\n",
    "\n",
    "- A different way to think about the problem is: Suppose we have $p$ variables. \n",
    "\n",
    "- Then, we could have a flexible function for each variable:\n",
    "\n",
    "$$ y_i \\ = \\ \\beta_0 + f_1(x_{i1}) + f_2(x_{i2}) + \\cdots + f_p(x_{ip}) + \\varepsilon_i $$\n",
    "\n",
    "- This is called **Generalized Additive Models**, or **GAMs** for short."
   ]
  },
  {
   "cell_type": "markdown",
   "id": "7b879690",
   "metadata": {
    "slideshow": {
     "slide_type": "slide"
    }
   },
   "source": [
    "## GAMs\n",
    "\n",
    "- For each $f$, we can combine natural splines (continuous) and piecewise-constant functions (discrete).\n",
    "\n",
    "- The book wage example summarizes this well. In here: $ \\text{wage} = \\beta_0 + f_1(\\text{year}) + f_2(\\text{age}) + f_3(\\text{education}) + \\varepsilon $\n",
    "\n",
    "- $f_1$ and $f_2$ are natural splines; $f_3$ piecewise constant.\n",
    "\n",
    "![img](../img/gam.png)"
   ]
  },
  {
   "cell_type": "markdown",
   "id": "dde1bd55",
   "metadata": {
    "slideshow": {
     "slide_type": "slide"
    }
   },
   "source": [
    "## GAMs\n",
    "\n",
    "**Positives**:\n",
    "\n",
    "- GAMs are *easy* to interpret: the interpretation of each pattern would be: holding other things constant, this is how $x_j$ affects $y$.\n",
    "\n",
    "- Non-linear fits can make more accurate predictions.\n",
    "\n",
    "- Additivity brings a good deal of interpretability to models.\n",
    "\n",
    "- Smoothness can be summarized by the degrees of freedom consumed in the fit.\n",
    "\n",
    "- Can be implemented for Logistic Regression (useful for classification!)"
   ]
  },
  {
   "cell_type": "markdown",
   "id": "639cf822",
   "metadata": {
    "slideshow": {
     "slide_type": "slide"
    }
   },
   "source": [
    "## GAMs\n",
    "\n",
    "**Negatives**:\n",
    "\n",
    "- Restricted to be additive: Interactions are missed.\n",
    "\n",
    "- Smoothing splines GAM fit is not trivial (does not use the least square method).\n",
    "\n",
    "- But there are efficient iterative methods for fitting smoothing splines, so not that bad."
   ]
  },
  {
   "cell_type": "code",
   "execution_count": 17,
   "id": "00a4ab3e",
   "metadata": {
    "slideshow": {
     "slide_type": "slide"
    }
   },
   "outputs": [
    {
     "data": {
      "text/html": [
       "<div>\n",
       "<style scoped>\n",
       "    .dataframe tbody tr th:only-of-type {\n",
       "        vertical-align: middle;\n",
       "    }\n",
       "\n",
       "    .dataframe tbody tr th {\n",
       "        vertical-align: top;\n",
       "    }\n",
       "\n",
       "    .dataframe thead th {\n",
       "        text-align: right;\n",
       "    }\n",
       "</style>\n",
       "<table border=\"1\" class=\"dataframe\">\n",
       "  <thead>\n",
       "    <tr style=\"text-align: right;\">\n",
       "      <th></th>\n",
       "      <th>wdi_expedu</th>\n",
       "      <th>pwt_pop</th>\n",
       "      <th>mad_gdppc</th>\n",
       "    </tr>\n",
       "  </thead>\n",
       "  <tbody>\n",
       "    <tr>\n",
       "      <th>0</th>\n",
       "      <td>-0.450176</td>\n",
       "      <td>-0.267807</td>\n",
       "      <td>-0.691774</td>\n",
       "    </tr>\n",
       "    <tr>\n",
       "      <th>1</th>\n",
       "      <td>-0.547556</td>\n",
       "      <td>-0.267764</td>\n",
       "      <td>-0.670224</td>\n",
       "    </tr>\n",
       "    <tr>\n",
       "      <th>2</th>\n",
       "      <td>-0.530486</td>\n",
       "      <td>-0.267761</td>\n",
       "      <td>-0.642898</td>\n",
       "    </tr>\n",
       "    <tr>\n",
       "      <th>3</th>\n",
       "      <td>-0.734450</td>\n",
       "      <td>-0.267784</td>\n",
       "      <td>-0.624399</td>\n",
       "    </tr>\n",
       "    <tr>\n",
       "      <th>4</th>\n",
       "      <td>-0.722226</td>\n",
       "      <td>-0.267838</td>\n",
       "      <td>-0.601747</td>\n",
       "    </tr>\n",
       "  </tbody>\n",
       "</table>\n",
       "</div>"
      ],
      "text/plain": [
       "   wdi_expedu   pwt_pop  mad_gdppc\n",
       "0   -0.450176 -0.267807  -0.691774\n",
       "1   -0.547556 -0.267764  -0.670224\n",
       "2   -0.530486 -0.267761  -0.642898\n",
       "3   -0.734450 -0.267784  -0.624399\n",
       "4   -0.722226 -0.267838  -0.601747"
      ]
     },
     "execution_count": 17,
     "metadata": {},
     "output_type": "execute_result"
    }
   ],
   "source": [
    "## GAM: Prep the data\n",
    "y = countr['wdi_wip']\n",
    "X = countr[['wdi_expedu', 'pwt_pop', 'mad_gdppc']]\n",
    "X_zed = StandardScaler().set_output(transform = 'pandas').fit_transform(X)\n",
    "X_zed.head()"
   ]
  },
  {
   "cell_type": "code",
   "execution_count": 19,
   "id": "4f7eb395",
   "metadata": {
    "slideshow": {
     "slide_type": "slide"
    }
   },
   "outputs": [
    {
     "data": {
      "text/html": [
       "<table class=\"simpletable\">\n",
       "<caption>Generalized Linear Model Regression Results</caption>\n",
       "<tr>\n",
       "  <th>Dep. Variable:</th>        <td>wdi_wip</td>     <th>  No. Observations:  </th>  <td>  2404</td> \n",
       "</tr>\n",
       "<tr>\n",
       "  <th>Model:</th>                <td>GLMGam</td>      <th>  Df Residuals:      </th> <td> 2185.00</td>\n",
       "</tr>\n",
       "<tr>\n",
       "  <th>Model Family:</th>        <td>Gaussian</td>     <th>  Df Model:          </th> <td>  218.00</td>\n",
       "</tr>\n",
       "<tr>\n",
       "  <th>Link Function:</th>       <td>identity</td>     <th>  Scale:             </th> <td>  16.558</td>\n",
       "</tr>\n",
       "<tr>\n",
       "  <th>Method:</th>                <td>PIRLS</td>      <th>  Log-Likelihood:    </th> <td> -6670.2</td>\n",
       "</tr>\n",
       "<tr>\n",
       "  <th>Date:</th>            <td>Wed, 22 Feb 2023</td> <th>  Deviance:          </th> <td>  36179.</td>\n",
       "</tr>\n",
       "<tr>\n",
       "  <th>Time:</th>                <td>18:40:32</td>     <th>  Pearson chi2:      </th> <td>3.62e+04</td>\n",
       "</tr>\n",
       "<tr>\n",
       "  <th>No. Iterations:</th>          <td>3</td>        <th>  Pseudo R-squ. (CS):</th>  <td>0.9989</td> \n",
       "</tr>\n",
       "<tr>\n",
       "  <th>Covariance Type:</th>     <td>nonrobust</td>    <th>                     </th>     <td> </td>   \n",
       "</tr>\n",
       "</table>\n",
       "<table class=\"simpletable\">\n",
       "<tr>\n",
       "         <td></td>            <th>coef</th>     <th>std err</th>      <th>z</th>      <th>P>|z|</th>  <th>[0.025</th>    <th>0.975]</th>  \n",
       "</tr>\n",
       "<tr>\n",
       "  <th>Intercept</th>       <td>   16.5130</td> <td>   13.847</td> <td>    1.193</td> <td> 0.233</td> <td>  -10.627</td> <td>   43.653</td>\n",
       "</tr>\n",
       "<tr>\n",
       "  <th>C(year)[T.1998]</th> <td>    0.5394</td> <td>    0.944</td> <td>    0.571</td> <td> 0.568</td> <td>   -1.311</td> <td>    2.390</td>\n",
       "</tr>\n",
       "<tr>\n",
       "  <th>C(year)[T.1999]</th> <td>    0.5988</td> <td>    0.912</td> <td>    0.657</td> <td> 0.511</td> <td>   -1.189</td> <td>    2.386</td>\n",
       "</tr>\n",
       "<tr>\n",
       "  <th>C(year)[T.2000]</th> <td>    1.0396</td> <td>    0.906</td> <td>    1.148</td> <td> 0.251</td> <td>   -0.736</td> <td>    2.815</td>\n",
       "</tr>\n",
       "<tr>\n",
       "  <th>C(year)[T.2001]</th> <td>    2.0181</td> <td>    0.911</td> <td>    2.215</td> <td> 0.027</td> <td>    0.232</td> <td>    3.804</td>\n",
       "</tr>\n",
       "<tr>\n",
       "  <th>C(year)[T.2002]</th> <td>    2.6822</td> <td>    0.916</td> <td>    2.927</td> <td> 0.003</td> <td>    0.886</td> <td>    4.478</td>\n",
       "</tr>\n",
       "<tr>\n",
       "  <th>C(year)[T.2003]</th> <td>    3.7086</td> <td>    0.923</td> <td>    4.019</td> <td> 0.000</td> <td>    1.900</td> <td>    5.517</td>\n",
       "</tr>\n",
       "<tr>\n",
       "  <th>C(year)[T.2004]</th> <td>    4.7384</td> <td>    0.915</td> <td>    5.180</td> <td> 0.000</td> <td>    2.946</td> <td>    6.531</td>\n",
       "</tr>\n",
       "<tr>\n",
       "  <th>C(year)[T.2005]</th> <td>    5.4053</td> <td>    0.932</td> <td>    5.800</td> <td> 0.000</td> <td>    3.579</td> <td>    7.232</td>\n",
       "</tr>\n",
       "<tr>\n",
       "  <th>C(year)[T.2006]</th> <td>    5.6519</td> <td>    0.947</td> <td>    5.970</td> <td> 0.000</td> <td>    3.796</td> <td>    7.507</td>\n",
       "</tr>\n",
       "<tr>\n",
       "  <th>C(year)[T.2007]</th> <td>    7.1269</td> <td>    0.970</td> <td>    7.351</td> <td> 0.000</td> <td>    5.227</td> <td>    9.027</td>\n",
       "</tr>\n",
       "<tr>\n",
       "  <th>C(year)[T.2008]</th> <td>    7.5808</td> <td>    0.976</td> <td>    7.766</td> <td> 0.000</td> <td>    5.667</td> <td>    9.494</td>\n",
       "</tr>\n",
       "<tr>\n",
       "  <th>C(year)[T.2009]</th> <td>    7.8593</td> <td>    0.981</td> <td>    8.015</td> <td> 0.000</td> <td>    5.937</td> <td>    9.781</td>\n",
       "</tr>\n",
       "<tr>\n",
       "  <th>C(year)[T.2010]</th> <td>    8.0459</td> <td>    0.985</td> <td>    8.170</td> <td> 0.000</td> <td>    6.116</td> <td>    9.976</td>\n",
       "</tr>\n",
       "<tr>\n",
       "  <th>C(year)[T.2011]</th> <td>    8.8399</td> <td>    0.998</td> <td>    8.860</td> <td> 0.000</td> <td>    6.884</td> <td>   10.795</td>\n",
       "</tr>\n",
       "<tr>\n",
       "  <th>C(year)[T.2012]</th> <td>    9.6479</td> <td>    1.009</td> <td>    9.561</td> <td> 0.000</td> <td>    7.670</td> <td>   11.626</td>\n",
       "</tr>\n",
       "<tr>\n",
       "  <th>C(year)[T.2013]</th> <td>   10.3127</td> <td>    1.029</td> <td>   10.026</td> <td> 0.000</td> <td>    8.297</td> <td>   12.329</td>\n",
       "</tr>\n",
       "<tr>\n",
       "  <th>C(year)[T.2014]</th> <td>   10.8624</td> <td>    1.040</td> <td>   10.444</td> <td> 0.000</td> <td>    8.824</td> <td>   12.901</td>\n",
       "</tr>\n",
       "<tr>\n",
       "  <th>C(year)[T.2015]</th> <td>   11.1867</td> <td>    1.051</td> <td>   10.648</td> <td> 0.000</td> <td>    9.128</td> <td>   13.246</td>\n",
       "</tr>\n",
       "<tr>\n",
       "  <th>C(year)[T.2016]</th> <td>   11.5630</td> <td>    1.062</td> <td>   10.886</td> <td> 0.000</td> <td>    9.481</td> <td>   13.645</td>\n",
       "</tr>\n",
       "<tr>\n",
       "  <th>C(year)[T.2017]</th> <td>   11.8338</td> <td>    1.081</td> <td>   10.951</td> <td> 0.000</td> <td>    9.716</td> <td>   13.952</td>\n",
       "</tr>\n",
       "<tr>\n",
       "  <th>C(year)[T.2018]</th> <td>   12.3643</td> <td>    1.100</td> <td>   11.242</td> <td> 0.000</td> <td>   10.209</td> <td>   14.520</td>\n",
       "</tr>\n",
       "<tr>\n",
       "  <th>ccodealp[T.ALB]</th> <td>  -11.8859</td> <td>    3.616</td> <td>   -3.287</td> <td> 0.001</td> <td>  -18.973</td> <td>   -4.799</td>\n",
       "</tr>\n",
       "<tr>\n",
       "  <th>ccodealp[T.ARE]</th> <td>   -2.0219</td> <td>    3.502</td> <td>   -0.577</td> <td> 0.564</td> <td>   -8.886</td> <td>    4.843</td>\n",
       "</tr>\n",
       "<tr>\n",
       "  <th>ccodealp[T.ARG]</th> <td>    3.9007</td> <td>    2.287</td> <td>    1.706</td> <td> 0.088</td> <td>   -0.582</td> <td>    8.383</td>\n",
       "</tr>\n",
       "<tr>\n",
       "  <th>ccodealp[T.ARM]</th> <td>  -17.2406</td> <td>    3.573</td> <td>   -4.826</td> <td> 0.000</td> <td>  -24.243</td> <td>  -10.239</td>\n",
       "</tr>\n",
       "<tr>\n",
       "  <th>ccodealp[T.AUS]</th> <td>    2.4639</td> <td>    2.683</td> <td>    0.918</td> <td> 0.358</td> <td>   -2.795</td> <td>    7.722</td>\n",
       "</tr>\n",
       "<tr>\n",
       "  <th>ccodealp[T.AUT]</th> <td>    9.3979</td> <td>    2.987</td> <td>    3.146</td> <td> 0.002</td> <td>    3.544</td> <td>   15.252</td>\n",
       "</tr>\n",
       "<tr>\n",
       "  <th>ccodealp[T.AZE]</th> <td>  -10.7791</td> <td>    2.327</td> <td>   -4.633</td> <td> 0.000</td> <td>  -15.339</td> <td>   -6.219</td>\n",
       "</tr>\n",
       "<tr>\n",
       "  <th>ccodealp[T.BDI]</th> <td>    7.6644</td> <td>    2.738</td> <td>    2.799</td> <td> 0.005</td> <td>    2.298</td> <td>   13.031</td>\n",
       "</tr>\n",
       "<tr>\n",
       "  <th>ccodealp[T.BEL]</th> <td>   11.2278</td> <td>    2.833</td> <td>    3.963</td> <td> 0.000</td> <td>    5.674</td> <td>   16.781</td>\n",
       "</tr>\n",
       "<tr>\n",
       "  <th>ccodealp[T.BEN]</th> <td>  -14.8240</td> <td>    2.451</td> <td>   -6.048</td> <td> 0.000</td> <td>  -19.628</td> <td>  -10.020</td>\n",
       "</tr>\n",
       "<tr>\n",
       "  <th>ccodealp[T.BFA]</th> <td>  -13.5663</td> <td>    2.293</td> <td>   -5.915</td> <td> 0.000</td> <td>  -18.061</td> <td>   -9.071</td>\n",
       "</tr>\n",
       "<tr>\n",
       "  <th>ccodealp[T.BGD]</th> <td>  -33.9612</td> <td>    4.740</td> <td>   -7.165</td> <td> 0.000</td> <td>  -43.251</td> <td>  -24.671</td>\n",
       "</tr>\n",
       "<tr>\n",
       "  <th>ccodealp[T.BGR]</th> <td>   -1.6363</td> <td>    2.600</td> <td>   -0.629</td> <td> 0.529</td> <td>   -6.733</td> <td>    3.460</td>\n",
       "</tr>\n",
       "<tr>\n",
       "  <th>ccodealp[T.BHR]</th> <td>  -18.4677</td> <td>    4.789</td> <td>   -3.856</td> <td> 0.000</td> <td>  -27.854</td> <td>   -9.081</td>\n",
       "</tr>\n",
       "<tr>\n",
       "  <th>ccodealp[T.BLR]</th> <td>    4.3428</td> <td>    2.483</td> <td>    1.749</td> <td> 0.080</td> <td>   -0.524</td> <td>    9.210</td>\n",
       "</tr>\n",
       "<tr>\n",
       "  <th>ccodealp[T.BOL]</th> <td>    6.7133</td> <td>    2.572</td> <td>    2.610</td> <td> 0.009</td> <td>    1.673</td> <td>   11.754</td>\n",
       "</tr>\n",
       "<tr>\n",
       "  <th>ccodealp[T.BRA]</th> <td>  -44.6127</td> <td>    5.598</td> <td>   -7.969</td> <td> 0.000</td> <td>  -55.586</td> <td>  -33.640</td>\n",
       "</tr>\n",
       "<tr>\n",
       "  <th>ccodealp[T.BRB]</th> <td>  -16.9760</td> <td>    8.934</td> <td>   -1.900</td> <td> 0.057</td> <td>  -34.487</td> <td>    0.535</td>\n",
       "</tr>\n",
       "<tr>\n",
       "  <th>ccodealp[T.BWA]</th> <td>  -20.8945</td> <td>    4.337</td> <td>   -4.818</td> <td> 0.000</td> <td>  -29.394</td> <td>  -12.395</td>\n",
       "</tr>\n",
       "<tr>\n",
       "  <th>ccodealp[T.CAF]</th> <td>   -9.5467</td> <td>    3.331</td> <td>   -2.866</td> <td> 0.004</td> <td>  -16.075</td> <td>   -3.018</td>\n",
       "</tr>\n",
       "<tr>\n",
       "  <th>ccodealp[T.CAN]</th> <td>   -4.0754</td> <td>    2.805</td> <td>   -1.453</td> <td> 0.146</td> <td>   -9.574</td> <td>    1.423</td>\n",
       "</tr>\n",
       "<tr>\n",
       "  <th>ccodealp[T.CHE]</th> <td>    9.6170</td> <td>    3.240</td> <td>    2.969</td> <td> 0.003</td> <td>    3.267</td> <td>   15.967</td>\n",
       "</tr>\n",
       "<tr>\n",
       "  <th>ccodealp[T.CHL]</th> <td>  -10.7704</td> <td>    1.819</td> <td>   -5.920</td> <td> 0.000</td> <td>  -14.336</td> <td>   -7.205</td>\n",
       "</tr>\n",
       "<tr>\n",
       "  <th>ccodealp[T.CHN]</th> <td>  -28.4649</td> <td>   24.192</td> <td>   -1.177</td> <td> 0.239</td> <td>  -75.881</td> <td>   18.951</td>\n",
       "</tr>\n",
       "<tr>\n",
       "  <th>ccodealp[T.CIV]</th> <td>  -17.6649</td> <td>    1.616</td> <td>  -10.933</td> <td> 0.000</td> <td>  -20.832</td> <td>  -14.498</td>\n",
       "</tr>\n",
       "<tr>\n",
       "  <th>ccodealp[T.CMR]</th> <td>   -9.9193</td> <td>    1.692</td> <td>   -5.861</td> <td> 0.000</td> <td>  -13.236</td> <td>   -6.602</td>\n",
       "</tr>\n",
       "<tr>\n",
       "  <th>ccodealp[T.COD]</th> <td>  -29.5649</td> <td>    4.423</td> <td>   -6.684</td> <td> 0.000</td> <td>  -38.234</td> <td>  -20.895</td>\n",
       "</tr>\n",
       "<tr>\n",
       "  <th>ccodealp[T.COG]</th> <td>  -16.5093</td> <td>    3.377</td> <td>   -4.889</td> <td> 0.000</td> <td>  -23.128</td> <td>   -9.891</td>\n",
       "</tr>\n",
       "<tr>\n",
       "  <th>ccodealp[T.COL]</th> <td>  -21.8640</td> <td>    2.258</td> <td>   -9.683</td> <td> 0.000</td> <td>  -26.290</td> <td>  -17.438</td>\n",
       "</tr>\n",
       "<tr>\n",
       "  <th>ccodealp[T.COM]</th> <td>  -23.5752</td> <td>    6.063</td> <td>   -3.889</td> <td> 0.000</td> <td>  -35.458</td> <td>  -11.693</td>\n",
       "</tr>\n",
       "<tr>\n",
       "  <th>ccodealp[T.CPV]</th> <td>  -12.9992</td> <td>    6.975</td> <td>   -1.864</td> <td> 0.062</td> <td>  -26.670</td> <td>    0.671</td>\n",
       "</tr>\n",
       "<tr>\n",
       "  <th>ccodealp[T.CRI]</th> <td>   10.4750</td> <td>    3.249</td> <td>    3.224</td> <td> 0.001</td> <td>    4.107</td> <td>   16.843</td>\n",
       "</tr>\n",
       "<tr>\n",
       "  <th>ccodealp[T.CYP]</th> <td>  -12.4671</td> <td>    5.520</td> <td>   -2.259</td> <td> 0.024</td> <td>  -23.286</td> <td>   -1.649</td>\n",
       "</tr>\n",
       "<tr>\n",
       "  <th>ccodealp[T.CZE]</th> <td>   -5.9851</td> <td>    2.319</td> <td>   -2.581</td> <td> 0.010</td> <td>  -10.530</td> <td>   -1.440</td>\n",
       "</tr>\n",
       "<tr>\n",
       "  <th>ccodealp[T.DEU]</th> <td>   -5.7817</td> <td>    4.138</td> <td>   -1.397</td> <td> 0.162</td> <td>  -13.892</td> <td>    2.329</td>\n",
       "</tr>\n",
       "<tr>\n",
       "  <th>ccodealp[T.DJI]</th> <td>  -18.6906</td> <td>    5.552</td> <td>   -3.366</td> <td> 0.001</td> <td>  -29.573</td> <td>   -7.808</td>\n",
       "</tr>\n",
       "<tr>\n",
       "  <th>ccodealp[T.DMA]</th> <td>  -14.5304</td> <td>   13.572</td> <td>   -1.071</td> <td> 0.284</td> <td>  -41.132</td> <td>   12.071</td>\n",
       "</tr>\n",
       "<tr>\n",
       "  <th>ccodealp[T.DNK]</th> <td>   16.6165</td> <td>    3.395</td> <td>    4.895</td> <td> 0.000</td> <td>    9.963</td> <td>   23.270</td>\n",
       "</tr>\n",
       "<tr>\n",
       "  <th>ccodealp[T.DOM]</th> <td>   -5.9299</td> <td>    2.325</td> <td>   -2.550</td> <td> 0.011</td> <td>  -10.487</td> <td>   -1.373</td>\n",
       "</tr>\n",
       "<tr>\n",
       "  <th>ccodealp[T.DZA]</th> <td>  -14.0301</td> <td>    2.216</td> <td>   -6.331</td> <td> 0.000</td> <td>  -18.373</td> <td>   -9.687</td>\n",
       "</tr>\n",
       "<tr>\n",
       "  <th>ccodealp[T.ECU]</th> <td>    2.4630</td> <td>    1.873</td> <td>    1.315</td> <td> 0.188</td> <td>   -1.207</td> <td>    6.133</td>\n",
       "</tr>\n",
       "<tr>\n",
       "  <th>ccodealp[T.EGY]</th> <td>  -37.6158</td> <td>    3.575</td> <td>  -10.521</td> <td> 0.000</td> <td>  -44.623</td> <td>  -30.608</td>\n",
       "</tr>\n",
       "<tr>\n",
       "  <th>ccodealp[T.ESP]</th> <td>    2.4280</td> <td>    2.825</td> <td>    0.859</td> <td> 0.390</td> <td>   -3.109</td> <td>    7.965</td>\n",
       "</tr>\n",
       "<tr>\n",
       "  <th>ccodealp[T.EST]</th> <td>   -3.1651</td> <td>    4.527</td> <td>   -0.699</td> <td> 0.485</td> <td>  -12.039</td> <td>    5.709</td>\n",
       "</tr>\n",
       "<tr>\n",
       "  <th>ccodealp[T.ETH]</th> <td>  -14.9977</td> <td>    4.088</td> <td>   -3.669</td> <td> 0.000</td> <td>  -23.010</td> <td>   -6.985</td>\n",
       "</tr>\n",
       "<tr>\n",
       "  <th>ccodealp[T.FIN]</th> <td>   19.4128</td> <td>    3.312</td> <td>    5.862</td> <td> 0.000</td> <td>   12.922</td> <td>   25.904</td>\n",
       "</tr>\n",
       "<tr>\n",
       "  <th>ccodealp[T.FRA]</th> <td>  -11.9902</td> <td>    3.829</td> <td>   -3.132</td> <td> 0.002</td> <td>  -19.494</td> <td>   -4.486</td>\n",
       "</tr>\n",
       "<tr>\n",
       "  <th>ccodealp[T.GAB]</th> <td>  -11.1820</td> <td>    4.356</td> <td>   -2.567</td> <td> 0.010</td> <td>  -19.720</td> <td>   -2.644</td>\n",
       "</tr>\n",
       "<tr>\n",
       "  <th>ccodealp[T.GBR]</th> <td>  -13.1149</td> <td>    3.662</td> <td>   -3.582</td> <td> 0.000</td> <td>  -20.291</td> <td>   -5.938</td>\n",
       "</tr>\n",
       "<tr>\n",
       "  <th>ccodealp[T.GEO]</th> <td>  -13.8016</td> <td>    3.281</td> <td>   -4.206</td> <td> 0.000</td> <td>  -20.233</td> <td>   -7.370</td>\n",
       "</tr>\n",
       "<tr>\n",
       "  <th>ccodealp[T.GHA]</th> <td>  -19.3737</td> <td>    1.647</td> <td>  -11.760</td> <td> 0.000</td> <td>  -22.603</td> <td>  -16.145</td>\n",
       "</tr>\n",
       "<tr>\n",
       "  <th>ccodealp[T.GIN]</th> <td>   -5.1247</td> <td>    2.507</td> <td>   -2.044</td> <td> 0.041</td> <td>  -10.039</td> <td>   -0.210</td>\n",
       "</tr>\n",
       "<tr>\n",
       "  <th>ccodealp[T.GMB]</th> <td>  -14.9481</td> <td>    4.195</td> <td>   -3.563</td> <td> 0.000</td> <td>  -23.171</td> <td>   -6.725</td>\n",
       "</tr>\n",
       "<tr>\n",
       "  <th>ccodealp[T.GNB]</th> <td>  -12.8715</td> <td>    4.479</td> <td>   -2.874</td> <td> 0.004</td> <td>  -21.650</td> <td>   -4.093</td>\n",
       "</tr>\n",
       "<tr>\n",
       "  <th>ccodealp[T.GNQ]</th> <td>  -14.0502</td> <td>    7.497</td> <td>   -1.874</td> <td> 0.061</td> <td>  -28.745</td> <td>    0.644</td>\n",
       "</tr>\n",
       "<tr>\n",
       "  <th>ccodealp[T.GRC]</th> <td>   -8.9552</td> <td>    2.295</td> <td>   -3.903</td> <td> 0.000</td> <td>  -13.452</td> <td>   -4.458</td>\n",
       "</tr>\n",
       "<tr>\n",
       "  <th>ccodealp[T.GTM]</th> <td>  -17.9245</td> <td>    1.886</td> <td>   -9.504</td> <td> 0.000</td> <td>  -21.621</td> <td>  -14.228</td>\n",
       "</tr>\n",
       "<tr>\n",
       "  <th>ccodealp[T.HND]</th> <td>   -7.8135</td> <td>    2.848</td> <td>   -2.744</td> <td> 0.006</td> <td>  -13.395</td> <td>   -2.232</td>\n",
       "</tr>\n",
       "<tr>\n",
       "  <th>ccodealp[T.HRV]</th> <td>   -1.3846</td> <td>    3.339</td> <td>   -0.415</td> <td> 0.678</td> <td>   -7.929</td> <td>    5.160</td>\n",
       "</tr>\n",
       "<tr>\n",
       "  <th>ccodealp[T.HTI]</th> <td>  -26.1156</td> <td>    2.871</td> <td>   -9.095</td> <td> 0.000</td> <td>  -31.743</td> <td>  -20.488</td>\n",
       "</tr>\n",
       "<tr>\n",
       "  <th>ccodealp[T.HUN]</th> <td>  -14.1569</td> <td>    2.334</td> <td>   -6.066</td> <td> 0.000</td> <td>  -18.731</td> <td>   -9.583</td>\n",
       "</tr>\n",
       "<tr>\n",
       "  <th>ccodealp[T.IDN]</th> <td>  -43.9330</td> <td>    6.590</td> <td>   -6.667</td> <td> 0.000</td> <td>  -56.848</td> <td>  -31.018</td>\n",
       "</tr>\n",
       "<tr>\n",
       "  <th>ccodealp[T.IND]</th> <td>  -44.2122</td> <td>   24.398</td> <td>   -1.812</td> <td> 0.070</td> <td>  -92.032</td> <td>    3.607</td>\n",
       "</tr>\n",
       "<tr>\n",
       "  <th>ccodealp[T.IRL]</th> <td>   -2.6084</td> <td>    3.637</td> <td>   -0.717</td> <td> 0.473</td> <td>   -9.737</td> <td>    4.520</td>\n",
       "</tr>\n",
       "<tr>\n",
       "  <th>ccodealp[T.IRN]</th> <td>  -35.1319</td> <td>    3.367</td> <td>  -10.435</td> <td> 0.000</td> <td>  -41.730</td> <td>  -28.533</td>\n",
       "</tr>\n",
       "<tr>\n",
       "  <th>ccodealp[T.IRQ]</th> <td>   -8.9432</td> <td>    3.378</td> <td>   -2.647</td> <td> 0.008</td> <td>  -15.564</td> <td>   -2.322</td>\n",
       "</tr>\n",
       "<tr>\n",
       "  <th>ccodealp[T.ISL]</th> <td>    8.7975</td> <td>    8.539</td> <td>    1.030</td> <td> 0.303</td> <td>   -7.939</td> <td>   25.534</td>\n",
       "</tr>\n",
       "<tr>\n",
       "  <th>ccodealp[T.ISR]</th> <td>   -2.8533</td> <td>    2.799</td> <td>   -1.019</td> <td> 0.308</td> <td>   -8.340</td> <td>    2.633</td>\n",
       "</tr>\n",
       "<tr>\n",
       "  <th>ccodealp[T.ITA]</th> <td>  -14.6485</td> <td>    3.519</td> <td>   -4.163</td> <td> 0.000</td> <td>  -21.546</td> <td>   -7.751</td>\n",
       "</tr>\n",
       "<tr>\n",
       "  <th>ccodealp[T.JAM]</th> <td>  -13.2762</td> <td>    3.735</td> <td>   -3.555</td> <td> 0.000</td> <td>  -20.597</td> <td>   -5.956</td>\n",
       "</tr>\n",
       "<tr>\n",
       "  <th>ccodealp[T.JOR]</th> <td>  -16.4997</td> <td>    2.625</td> <td>   -6.285</td> <td> 0.000</td> <td>  -21.645</td> <td>  -11.354</td>\n",
       "</tr>\n",
       "<tr>\n",
       "  <th>ccodealp[T.JPN]</th> <td>  -34.7431</td> <td>    4.798</td> <td>   -7.241</td> <td> 0.000</td> <td>  -44.147</td> <td>  -25.339</td>\n",
       "</tr>\n",
       "<tr>\n",
       "  <th>ccodealp[T.KAZ]</th> <td>   -7.7951</td> <td>    1.777</td> <td>   -4.387</td> <td> 0.000</td> <td>  -11.277</td> <td>   -4.313</td>\n",
       "</tr>\n",
       "<tr>\n",
       "  <th>ccodealp[T.KEN]</th> <td>  -21.9298</td> <td>    2.251</td> <td>   -9.741</td> <td> 0.000</td> <td>  -26.342</td> <td>  -17.517</td>\n",
       "</tr>\n",
       "<tr>\n",
       "  <th>ccodealp[T.KGZ]</th> <td>   -9.2427</td> <td>    3.046</td> <td>   -3.035</td> <td> 0.002</td> <td>  -15.212</td> <td>   -3.273</td>\n",
       "</tr>\n",
       "<tr>\n",
       "  <th>ccodealp[T.KHM]</th> <td>  -11.6772</td> <td>    1.982</td> <td>   -5.891</td> <td> 0.000</td> <td>  -15.562</td> <td>   -7.792</td>\n",
       "</tr>\n",
       "<tr>\n",
       "  <th>ccodealp[T.KOR]</th> <td>  -20.3757</td> <td>    3.176</td> <td>   -6.416</td> <td> 0.000</td> <td>  -26.600</td> <td>  -14.151</td>\n",
       "</tr>\n",
       "<tr>\n",
       "  <th>ccodealp[T.KWT]</th> <td>  -15.6474</td> <td>    4.220</td> <td>   -3.708</td> <td> 0.000</td> <td>  -23.919</td> <td>   -7.376</td>\n",
       "</tr>\n",
       "<tr>\n",
       "  <th>ccodealp[T.LAO]</th> <td>    0.2464</td> <td>    2.818</td> <td>    0.087</td> <td> 0.930</td> <td>   -5.276</td> <td>    5.769</td>\n",
       "</tr>\n",
       "<tr>\n",
       "  <th>ccodealp[T.LBN]</th> <td>  -20.2998</td> <td>    2.937</td> <td>   -6.912</td> <td> 0.000</td> <td>  -26.056</td> <td>  -14.543</td>\n",
       "</tr>\n",
       "<tr>\n",
       "  <th>ccodealp[T.LBR]</th> <td>  -11.2085</td> <td>    3.494</td> <td>   -3.208</td> <td> 0.001</td> <td>  -18.056</td> <td>   -4.361</td>\n",
       "</tr>\n",
       "<tr>\n",
       "  <th>ccodealp[T.LCA]</th> <td>  -19.0845</td> <td>   10.913</td> <td>   -1.749</td> <td> 0.080</td> <td>  -40.474</td> <td>    2.305</td>\n",
       "</tr>\n",
       "<tr>\n",
       "  <th>ccodealp[T.LKA]</th> <td>  -23.4500</td> <td>    1.598</td> <td>  -14.679</td> <td> 0.000</td> <td>  -26.581</td> <td>  -20.319</td>\n",
       "</tr>\n",
       "<tr>\n",
       "  <th>ccodealp[T.LSO]</th> <td>  -10.7205</td> <td>    4.258</td> <td>   -2.517</td> <td> 0.012</td> <td>  -19.067</td> <td>   -2.374</td>\n",
       "</tr>\n",
       "<tr>\n",
       "  <th>ccodealp[T.LTU]</th> <td>   -2.9002</td> <td>    3.520</td> <td>   -0.824</td> <td> 0.410</td> <td>   -9.798</td> <td>    3.998</td>\n",
       "</tr>\n",
       "<tr>\n",
       "  <th>ccodealp[T.LUX]</th> <td>   -0.6619</td> <td>    6.953</td> <td>   -0.095</td> <td> 0.924</td> <td>  -14.290</td> <td>   12.966</td>\n",
       "</tr>\n",
       "<tr>\n",
       "  <th>ccodealp[T.LVA]</th> <td>   -4.5838</td> <td>    3.891</td> <td>   -1.178</td> <td> 0.239</td> <td>  -12.209</td> <td>    3.041</td>\n",
       "</tr>\n",
       "<tr>\n",
       "  <th>ccodealp[T.MAR]</th> <td>  -19.8011</td> <td>    1.947</td> <td>  -10.170</td> <td> 0.000</td> <td>  -23.617</td> <td>  -15.985</td>\n",
       "</tr>\n",
       "<tr>\n",
       "  <th>ccodealp[T.MDA]</th> <td>   -6.5878</td> <td>    3.428</td> <td>   -1.922</td> <td> 0.055</td> <td>  -13.307</td> <td>    0.131</td>\n",
       "</tr>\n",
       "<tr>\n",
       "  <th>ccodealp[T.MDG]</th> <td>  -12.0732</td> <td>    1.984</td> <td>   -6.086</td> <td> 0.000</td> <td>  -15.962</td> <td>   -8.185</td>\n",
       "</tr>\n",
       "<tr>\n",
       "  <th>ccodealp[T.MEX]</th> <td>  -15.6989</td> <td>    3.962</td> <td>   -3.963</td> <td> 0.000</td> <td>  -23.463</td> <td>   -7.935</td>\n",
       "</tr>\n",
       "<tr>\n",
       "  <th>ccodealp[T.MKD]</th> <td>   -4.5082</td> <td>    5.576</td> <td>   -0.808</td> <td> 0.419</td> <td>  -15.437</td> <td>    6.421</td>\n",
       "</tr>\n",
       "<tr>\n",
       "  <th>ccodealp[T.MLI]</th> <td>  -13.6445</td> <td>    2.102</td> <td>   -6.492</td> <td> 0.000</td> <td>  -17.764</td> <td>   -9.525</td>\n",
       "</tr>\n",
       "<tr>\n",
       "  <th>ccodealp[T.MLT]</th> <td>  -17.9585</td> <td>    7.297</td> <td>   -2.461</td> <td> 0.014</td> <td>  -32.260</td> <td>   -3.657</td>\n",
       "</tr>\n",
       "<tr>\n",
       "  <th>ccodealp[T.MMR]</th> <td>  -33.2115</td> <td>    2.724</td> <td>  -12.194</td> <td> 0.000</td> <td>  -38.550</td> <td>  -27.873</td>\n",
       "</tr>\n",
       "<tr>\n",
       "  <th>ccodealp[T.MNG]</th> <td>  -15.4642</td> <td>    3.729</td> <td>   -4.147</td> <td> 0.000</td> <td>  -22.773</td> <td>   -8.156</td>\n",
       "</tr>\n",
       "<tr>\n",
       "  <th>ccodealp[T.MOZ]</th> <td>   10.7403</td> <td>    2.319</td> <td>    4.632</td> <td> 0.000</td> <td>    6.196</td> <td>   15.285</td>\n",
       "</tr>\n",
       "<tr>\n",
       "  <th>ccodealp[T.MRT]</th> <td>   -8.5487</td> <td>    3.617</td> <td>   -2.364</td> <td> 0.018</td> <td>  -15.637</td> <td>   -1.460</td>\n",
       "</tr>\n",
       "<tr>\n",
       "  <th>ccodealp[T.MUS]</th> <td>  -11.4458</td> <td>    4.706</td> <td>   -2.432</td> <td> 0.015</td> <td>  -20.670</td> <td>   -2.222</td>\n",
       "</tr>\n",
       "<tr>\n",
       "  <th>ccodealp[T.MWI]</th> <td>   -9.6115</td> <td>    2.417</td> <td>   -3.976</td> <td> 0.000</td> <td>  -14.349</td> <td>   -4.874</td>\n",
       "</tr>\n",
       "<tr>\n",
       "  <th>ccodealp[T.MYS]</th> <td>  -16.7404</td> <td>    1.803</td> <td>   -9.283</td> <td> 0.000</td> <td>  -20.275</td> <td>  -13.206</td>\n",
       "</tr>\n",
       "<tr>\n",
       "  <th>ccodealp[T.NAM]</th> <td>    0.5664</td> <td>    4.081</td> <td>    0.139</td> <td> 0.890</td> <td>   -7.432</td> <td>    8.565</td>\n",
       "</tr>\n",
       "<tr>\n",
       "  <th>ccodealp[T.NER]</th> <td>  -13.1128</td> <td>    2.413</td> <td>   -5.434</td> <td> 0.000</td> <td>  -17.842</td> <td>   -8.383</td>\n",
       "</tr>\n",
       "<tr>\n",
       "  <th>ccodealp[T.NGA]</th> <td>  -49.0932</td> <td>    5.598</td> <td>   -8.770</td> <td> 0.000</td> <td>  -60.065</td> <td>  -38.122</td>\n",
       "</tr>\n",
       "<tr>\n",
       "  <th>ccodealp[T.NIC]</th> <td>    4.7095</td> <td>    3.044</td> <td>    1.547</td> <td> 0.122</td> <td>   -1.256</td> <td>   10.676</td>\n",
       "</tr>\n",
       "<tr>\n",
       "  <th>ccodealp[T.NLD]</th> <td>   14.5283</td> <td>    2.599</td> <td>    5.589</td> <td> 0.000</td> <td>    9.433</td> <td>   19.623</td>\n",
       "</tr>\n",
       "<tr>\n",
       "  <th>ccodealp[T.NOR]</th> <td>   21.3946</td> <td>    3.924</td> <td>    5.452</td> <td> 0.000</td> <td>   13.704</td> <td>   29.085</td>\n",
       "</tr>\n",
       "<tr>\n",
       "  <th>ccodealp[T.NPL]</th> <td>   -6.5624</td> <td>    1.729</td> <td>   -3.795</td> <td> 0.000</td> <td>   -9.951</td> <td>   -3.174</td>\n",
       "</tr>\n",
       "<tr>\n",
       "  <th>ccodealp[T.NZL]</th> <td>   11.2753</td> <td>    3.389</td> <td>    3.328</td> <td> 0.001</td> <td>    4.634</td> <td>   17.917</td>\n",
       "</tr>\n",
       "<tr>\n",
       "  <th>ccodealp[T.OMN]</th> <td>  -20.6957</td> <td>    3.787</td> <td>   -5.465</td> <td> 0.000</td> <td>  -28.118</td> <td>  -13.273</td>\n",
       "</tr>\n",
       "<tr>\n",
       "  <th>ccodealp[T.PAK]</th> <td>  -34.0946</td> <td>    5.333</td> <td>   -6.393</td> <td> 0.000</td> <td>  -44.547</td> <td>  -23.642</td>\n",
       "</tr>\n",
       "<tr>\n",
       "  <th>ccodealp[T.PAN]</th> <td>   -8.8435</td> <td>    3.435</td> <td>   -2.574</td> <td> 0.010</td> <td>  -15.577</td> <td>   -2.110</td>\n",
       "</tr>\n",
       "<tr>\n",
       "  <th>ccodealp[T.PER]</th> <td>   -7.0771</td> <td>    1.530</td> <td>   -4.625</td> <td> 0.000</td> <td>  -10.076</td> <td>   -4.078</td>\n",
       "</tr>\n",
       "<tr>\n",
       "  <th>ccodealp[T.PHL]</th> <td>  -22.0179</td> <td>    3.535</td> <td>   -6.228</td> <td> 0.000</td> <td>  -28.947</td> <td>  -15.089</td>\n",
       "</tr>\n",
       "<tr>\n",
       "  <th>ccodealp[T.POL]</th> <td>   -9.1563</td> <td>    2.248</td> <td>   -4.073</td> <td> 0.000</td> <td>  -13.563</td> <td>   -4.750</td>\n",
       "</tr>\n",
       "<tr>\n",
       "  <th>ccodealp[T.PRT]</th> <td>    2.5091</td> <td>    2.398</td> <td>    1.046</td> <td> 0.295</td> <td>   -2.191</td> <td>    7.209</td>\n",
       "</tr>\n",
       "<tr>\n",
       "  <th>ccodealp[T.PRY]</th> <td>  -13.9925</td> <td>    2.830</td> <td>   -4.945</td> <td> 0.000</td> <td>  -19.538</td> <td>   -8.447</td>\n",
       "</tr>\n",
       "<tr>\n",
       "  <th>ccodealp[T.QAT]</th> <td>  -20.2280</td> <td>    7.526</td> <td>   -2.688</td> <td> 0.007</td> <td>  -34.978</td> <td>   -5.478</td>\n",
       "</tr>\n",
       "<tr>\n",
       "  <th>ccodealp[T.ROU]</th> <td>  -13.3476</td> <td>    1.644</td> <td>   -8.118</td> <td> 0.000</td> <td>  -16.570</td> <td>  -10.125</td>\n",
       "</tr>\n",
       "<tr>\n",
       "  <th>ccodealp[T.RUS]</th> <td>  -35.2737</td> <td>    4.764</td> <td>   -7.405</td> <td> 0.000</td> <td>  -44.610</td> <td>  -25.937</td>\n",
       "</tr>\n",
       "<tr>\n",
       "  <th>ccodealp[T.RWA]</th> <td>   27.1194</td> <td>    2.468</td> <td>   10.987</td> <td> 0.000</td> <td>   22.282</td> <td>   31.957</td>\n",
       "</tr>\n",
       "<tr>\n",
       "  <th>ccodealp[T.SAU]</th> <td>  -19.1099</td> <td>    2.724</td> <td>   -7.017</td> <td> 0.000</td> <td>  -24.448</td> <td>  -13.772</td>\n",
       "</tr>\n",
       "<tr>\n",
       "  <th>ccodealp[T.SDN]</th> <td>  -14.8473</td> <td>    2.357</td> <td>   -6.299</td> <td> 0.000</td> <td>  -19.467</td> <td>  -10.227</td>\n",
       "</tr>\n",
       "<tr>\n",
       "  <th>ccodealp[T.SEN]</th> <td>    0.7985</td> <td>    2.097</td> <td>    0.381</td> <td> 0.703</td> <td>   -3.312</td> <td>    4.909</td>\n",
       "</tr>\n",
       "<tr>\n",
       "  <th>ccodealp[T.SGP]</th> <td>    3.0666</td> <td>    3.528</td> <td>    0.869</td> <td> 0.385</td> <td>   -3.848</td> <td>    9.981</td>\n",
       "</tr>\n",
       "<tr>\n",
       "  <th>ccodealp[T.SLE]</th> <td>   -8.4975</td> <td>    2.850</td> <td>   -2.981</td> <td> 0.003</td> <td>  -14.084</td> <td>   -2.911</td>\n",
       "</tr>\n",
       "<tr>\n",
       "  <th>ccodealp[T.SLV]</th> <td>   -4.0858</td> <td>    2.800</td> <td>   -1.459</td> <td> 0.145</td> <td>   -9.574</td> <td>    1.403</td>\n",
       "</tr>\n",
       "<tr>\n",
       "  <th>ccodealp[T.SRB]</th> <td>    1.7910</td> <td>    2.832</td> <td>    0.632</td> <td> 0.527</td> <td>   -3.759</td> <td>    7.341</td>\n",
       "</tr>\n",
       "<tr>\n",
       "  <th>ccodealp[T.STP]</th> <td>  -20.6131</td> <td>   10.762</td> <td>   -1.915</td> <td> 0.055</td> <td>  -41.707</td> <td>    0.480</td>\n",
       "</tr>\n",
       "<tr>\n",
       "  <th>ccodealp[T.SVK]</th> <td>   -3.3961</td> <td>    2.935</td> <td>   -1.157</td> <td> 0.247</td> <td>   -9.148</td> <td>    2.356</td>\n",
       "</tr>\n",
       "<tr>\n",
       "  <th>ccodealp[T.SVN]</th> <td>   -1.6564</td> <td>    3.996</td> <td>   -0.414</td> <td> 0.679</td> <td>   -9.489</td> <td>    6.176</td>\n",
       "</tr>\n",
       "<tr>\n",
       "  <th>ccodealp[T.SWE]</th> <td>   22.0384</td> <td>    2.910</td> <td>    7.572</td> <td> 0.000</td> <td>   16.334</td> <td>   27.743</td>\n",
       "</tr>\n",
       "<tr>\n",
       "  <th>ccodealp[T.SWZ]</th> <td>  -19.6623</td> <td>    4.975</td> <td>   -3.952</td> <td> 0.000</td> <td>  -29.413</td> <td>   -9.912</td>\n",
       "</tr>\n",
       "<tr>\n",
       "  <th>ccodealp[T.SYC]</th> <td>    1.8640</td> <td>   12.792</td> <td>    0.146</td> <td> 0.884</td> <td>  -23.208</td> <td>   26.936</td>\n",
       "</tr>\n",
       "<tr>\n",
       "  <th>ccodealp[T.SYR]</th> <td>  -14.6741</td> <td>    1.917</td> <td>   -7.656</td> <td> 0.000</td> <td>  -18.431</td> <td>  -10.917</td>\n",
       "</tr>\n",
       "<tr>\n",
       "  <th>ccodealp[T.TCD]</th> <td>  -14.4487</td> <td>    2.175</td> <td>   -6.644</td> <td> 0.000</td> <td>  -18.711</td> <td>  -10.187</td>\n",
       "</tr>\n",
       "<tr>\n",
       "  <th>ccodealp[T.TGO]</th> <td>   -9.8462</td> <td>    2.867</td> <td>   -3.434</td> <td> 0.001</td> <td>  -15.466</td> <td>   -4.226</td>\n",
       "</tr>\n",
       "<tr>\n",
       "  <th>ccodealp[T.THA]</th> <td>  -28.9347</td> <td>    3.190</td> <td>   -9.069</td> <td> 0.000</td> <td>  -35.188</td> <td>  -22.681</td>\n",
       "</tr>\n",
       "<tr>\n",
       "  <th>ccodealp[T.TJK]</th> <td>   -7.6912</td> <td>    2.656</td> <td>   -2.896</td> <td> 0.004</td> <td>  -12.897</td> <td>   -2.486</td>\n",
       "</tr>\n",
       "<tr>\n",
       "  <th>ccodealp[T.TKM]</th> <td>   -5.3582</td> <td>    4.996</td> <td>   -1.073</td> <td> 0.283</td> <td>  -15.149</td> <td>    4.433</td>\n",
       "</tr>\n",
       "<tr>\n",
       "  <th>ccodealp[T.TTO]</th> <td>   -0.1356</td> <td>    4.592</td> <td>   -0.030</td> <td> 0.976</td> <td>   -9.136</td> <td>    8.865</td>\n",
       "</tr>\n",
       "<tr>\n",
       "  <th>ccodealp[T.TUN]</th> <td>   -5.8738</td> <td>    2.246</td> <td>   -2.615</td> <td> 0.009</td> <td>  -10.276</td> <td>   -1.471</td>\n",
       "</tr>\n",
       "<tr>\n",
       "  <th>ccodealp[T.TUR]</th> <td>  -28.5475</td> <td>    3.403</td> <td>   -8.388</td> <td> 0.000</td> <td>  -35.218</td> <td>  -21.877</td>\n",
       "</tr>\n",
       "<tr>\n",
       "  <th>ccodealp[T.TZA]</th> <td>   -2.2227</td> <td>    2.450</td> <td>   -0.907</td> <td> 0.364</td> <td>   -7.025</td> <td>    2.579</td>\n",
       "</tr>\n",
       "<tr>\n",
       "  <th>ccodealp[T.UGA]</th> <td>    1.5521</td> <td>    2.142</td> <td>    0.725</td> <td> 0.469</td> <td>   -2.646</td> <td>    5.751</td>\n",
       "</tr>\n",
       "<tr>\n",
       "  <th>ccodealp[T.UKR]</th> <td>  -27.5676</td> <td>    2.345</td> <td>  -11.758</td> <td> 0.000</td> <td>  -32.163</td> <td>  -22.972</td>\n",
       "</tr>\n",
       "<tr>\n",
       "  <th>ccodealp[T.URY]</th> <td>   -9.2538</td> <td>    3.506</td> <td>   -2.639</td> <td> 0.008</td> <td>  -16.126</td> <td>   -2.382</td>\n",
       "</tr>\n",
       "<tr>\n",
       "  <th>ccodealp[T.USA]</th> <td>  -41.9190</td> <td>    8.758</td> <td>   -4.786</td> <td> 0.000</td> <td>  -59.084</td> <td>  -24.753</td>\n",
       "</tr>\n",
       "<tr>\n",
       "  <th>ccodealp[T.UZB]</th> <td>  -15.7373</td> <td>    1.989</td> <td>   -7.911</td> <td> 0.000</td> <td>  -19.636</td> <td>  -11.838</td>\n",
       "</tr>\n",
       "<tr>\n",
       "  <th>ccodealp[T.VEN]</th> <td>  -11.9920</td> <td>    2.223</td> <td>   -5.394</td> <td> 0.000</td> <td>  -16.350</td> <td>   -7.634</td>\n",
       "</tr>\n",
       "<tr>\n",
       "  <th>ccodealp[T.VNM]</th> <td>  -20.9449</td> <td>    3.574</td> <td>   -5.860</td> <td> 0.000</td> <td>  -27.951</td> <td>  -13.939</td>\n",
       "</tr>\n",
       "<tr>\n",
       "  <th>ccodealp[T.YEM]</th> <td>  -28.4828</td> <td>    2.095</td> <td>  -13.596</td> <td> 0.000</td> <td>  -32.589</td> <td>  -24.377</td>\n",
       "</tr>\n",
       "<tr>\n",
       "  <th>ccodealp[T.ZAF]</th> <td>    0.5282</td> <td>    2.544</td> <td>    0.208</td> <td> 0.836</td> <td>   -4.458</td> <td>    5.514</td>\n",
       "</tr>\n",
       "<tr>\n",
       "  <th>ccodealp[T.ZMB]</th> <td>  -14.8306</td> <td>    1.959</td> <td>   -7.570</td> <td> 0.000</td> <td>  -18.670</td> <td>  -10.991</td>\n",
       "</tr>\n",
       "<tr>\n",
       "  <th>ccodealp[T.ZWE]</th> <td>   -1.2822</td> <td>    2.499</td> <td>   -0.513</td> <td> 0.608</td> <td>   -6.180</td> <td>    3.616</td>\n",
       "</tr>\n",
       "<tr>\n",
       "  <th>wdi_expedu_s0</th>   <td>    2.4860</td> <td>    6.068</td> <td>    0.410</td> <td> 0.682</td> <td>   -9.408</td> <td>   14.380</td>\n",
       "</tr>\n",
       "<tr>\n",
       "  <th>wdi_expedu_s1</th>   <td>   -3.2296</td> <td>    3.855</td> <td>   -0.838</td> <td> 0.402</td> <td>  -10.785</td> <td>    4.325</td>\n",
       "</tr>\n",
       "<tr>\n",
       "  <th>wdi_expedu_s2</th>   <td>   -0.7739</td> <td>    4.079</td> <td>   -0.190</td> <td> 0.850</td> <td>   -8.768</td> <td>    7.220</td>\n",
       "</tr>\n",
       "<tr>\n",
       "  <th>wdi_expedu_s3</th>   <td>   -3.1516</td> <td>    3.964</td> <td>   -0.795</td> <td> 0.427</td> <td>  -10.920</td> <td>    4.617</td>\n",
       "</tr>\n",
       "<tr>\n",
       "  <th>wdi_expedu_s4</th>   <td>   -0.7343</td> <td>    4.031</td> <td>   -0.182</td> <td> 0.855</td> <td>   -8.634</td> <td>    7.165</td>\n",
       "</tr>\n",
       "<tr>\n",
       "  <th>wdi_expedu_s5</th>   <td>   -1.3780</td> <td>    4.012</td> <td>   -0.344</td> <td> 0.731</td> <td>   -9.240</td> <td>    6.485</td>\n",
       "</tr>\n",
       "<tr>\n",
       "  <th>wdi_expedu_s6</th>   <td>   -0.0942</td> <td>    4.019</td> <td>   -0.023</td> <td> 0.981</td> <td>   -7.971</td> <td>    7.783</td>\n",
       "</tr>\n",
       "<tr>\n",
       "  <th>wdi_expedu_s7</th>   <td>   -2.2609</td> <td>    4.019</td> <td>   -0.563</td> <td> 0.574</td> <td>  -10.138</td> <td>    5.616</td>\n",
       "</tr>\n",
       "<tr>\n",
       "  <th>wdi_expedu_s8</th>   <td>   -0.7408</td> <td>    4.023</td> <td>   -0.184</td> <td> 0.854</td> <td>   -8.625</td> <td>    7.143</td>\n",
       "</tr>\n",
       "<tr>\n",
       "  <th>wdi_expedu_s9</th>   <td>   -1.4069</td> <td>    4.017</td> <td>   -0.350</td> <td> 0.726</td> <td>   -9.280</td> <td>    6.466</td>\n",
       "</tr>\n",
       "<tr>\n",
       "  <th>wdi_expedu_s10</th>  <td>   -1.2159</td> <td>    4.013</td> <td>   -0.303</td> <td> 0.762</td> <td>   -9.082</td> <td>    6.650</td>\n",
       "</tr>\n",
       "<tr>\n",
       "  <th>wdi_expedu_s11</th>  <td>    1.7903</td> <td>    4.433</td> <td>    0.404</td> <td> 0.686</td> <td>   -6.897</td> <td>   10.478</td>\n",
       "</tr>\n",
       "<tr>\n",
       "  <th>wdi_expedu_s12</th>  <td>    7.2168</td> <td>    5.362</td> <td>    1.346</td> <td> 0.178</td> <td>   -3.293</td> <td>   17.726</td>\n",
       "</tr>\n",
       "<tr>\n",
       "  <th>wdi_expedu_s13</th>  <td>   -2.6841</td> <td>    5.329</td> <td>   -0.504</td> <td> 0.615</td> <td>  -13.129</td> <td>    7.761</td>\n",
       "</tr>\n",
       "<tr>\n",
       "  <th>pwt_pop_s0</th>      <td>   -1.9702</td> <td>   12.565</td> <td>   -0.157</td> <td> 0.875</td> <td>  -26.597</td> <td>   22.657</td>\n",
       "</tr>\n",
       "<tr>\n",
       "  <th>pwt_pop_s1</th>      <td>   -6.2061</td> <td>   11.761</td> <td>   -0.528</td> <td> 0.598</td> <td>  -29.257</td> <td>   16.845</td>\n",
       "</tr>\n",
       "<tr>\n",
       "  <th>pwt_pop_s2</th>      <td>   -4.7021</td> <td>   12.271</td> <td>   -0.383</td> <td> 0.702</td> <td>  -28.753</td> <td>   19.349</td>\n",
       "</tr>\n",
       "<tr>\n",
       "  <th>pwt_pop_s3</th>      <td>   -9.2388</td> <td>   12.150</td> <td>   -0.760</td> <td> 0.447</td> <td>  -33.052</td> <td>   14.574</td>\n",
       "</tr>\n",
       "<tr>\n",
       "  <th>pwt_pop_s4</th>      <td>   -7.7688</td> <td>   12.542</td> <td>   -0.619</td> <td> 0.536</td> <td>  -32.350</td> <td>   16.812</td>\n",
       "</tr>\n",
       "<tr>\n",
       "  <th>pwt_pop_s5</th>      <td>   -7.8808</td> <td>   12.678</td> <td>   -0.622</td> <td> 0.534</td> <td>  -32.729</td> <td>   16.967</td>\n",
       "</tr>\n",
       "<tr>\n",
       "  <th>pwt_pop_s6</th>      <td>   -4.5035</td> <td>   12.904</td> <td>   -0.349</td> <td> 0.727</td> <td>  -29.795</td> <td>   20.788</td>\n",
       "</tr>\n",
       "<tr>\n",
       "  <th>pwt_pop_s7</th>      <td>   -2.2218</td> <td>   13.196</td> <td>   -0.168</td> <td> 0.866</td> <td>  -28.085</td> <td>   23.642</td>\n",
       "</tr>\n",
       "<tr>\n",
       "  <th>pwt_pop_s8</th>      <td>   -5.9553</td> <td>   13.449</td> <td>   -0.443</td> <td> 0.658</td> <td>  -32.315</td> <td>   20.405</td>\n",
       "</tr>\n",
       "<tr>\n",
       "  <th>pwt_pop_s9</th>      <td>    0.1619</td> <td>   13.812</td> <td>    0.012</td> <td> 0.991</td> <td>  -26.909</td> <td>   27.233</td>\n",
       "</tr>\n",
       "<tr>\n",
       "  <th>pwt_pop_s10</th>     <td>    6.5617</td> <td>   14.546</td> <td>    0.451</td> <td> 0.652</td> <td>  -21.948</td> <td>   35.071</td>\n",
       "</tr>\n",
       "<tr>\n",
       "  <th>pwt_pop_s11</th>     <td>   69.3174</td> <td>   24.554</td> <td>    2.823</td> <td> 0.005</td> <td>   21.192</td> <td>  117.443</td>\n",
       "</tr>\n",
       "<tr>\n",
       "  <th>pwt_pop_s12</th>     <td>   20.6650</td> <td>   36.858</td> <td>    0.561</td> <td> 0.575</td> <td>  -51.575</td> <td>   92.905</td>\n",
       "</tr>\n",
       "<tr>\n",
       "  <th>pwt_pop_s13</th>     <td>   16.7537</td> <td>   29.354</td> <td>    0.571</td> <td> 0.568</td> <td>  -40.780</td> <td>   74.287</td>\n",
       "</tr>\n",
       "<tr>\n",
       "  <th>mad_gdppc_s0</th>    <td>    8.4963</td> <td>    2.928</td> <td>    2.901</td> <td> 0.004</td> <td>    2.757</td> <td>   14.236</td>\n",
       "</tr>\n",
       "<tr>\n",
       "  <th>mad_gdppc_s1</th>    <td>    3.8494</td> <td>    2.323</td> <td>    1.657</td> <td> 0.098</td> <td>   -0.704</td> <td>    8.403</td>\n",
       "</tr>\n",
       "<tr>\n",
       "  <th>mad_gdppc_s2</th>    <td>    9.9057</td> <td>    2.701</td> <td>    3.667</td> <td> 0.000</td> <td>    4.612</td> <td>   15.200</td>\n",
       "</tr>\n",
       "<tr>\n",
       "  <th>mad_gdppc_s3</th>    <td>   10.3317</td> <td>    2.729</td> <td>    3.785</td> <td> 0.000</td> <td>    4.982</td> <td>   15.681</td>\n",
       "</tr>\n",
       "<tr>\n",
       "  <th>mad_gdppc_s4</th>    <td>    9.3444</td> <td>    2.901</td> <td>    3.221</td> <td> 0.001</td> <td>    3.658</td> <td>   15.031</td>\n",
       "</tr>\n",
       "<tr>\n",
       "  <th>mad_gdppc_s5</th>    <td>   10.6712</td> <td>    2.888</td> <td>    3.696</td> <td> 0.000</td> <td>    5.012</td> <td>   16.331</td>\n",
       "</tr>\n",
       "<tr>\n",
       "  <th>mad_gdppc_s6</th>    <td>    9.3620</td> <td>    2.998</td> <td>    3.123</td> <td> 0.002</td> <td>    3.487</td> <td>   15.237</td>\n",
       "</tr>\n",
       "<tr>\n",
       "  <th>mad_gdppc_s7</th>    <td>    8.2121</td> <td>    3.066</td> <td>    2.679</td> <td> 0.007</td> <td>    2.204</td> <td>   14.221</td>\n",
       "</tr>\n",
       "<tr>\n",
       "  <th>mad_gdppc_s8</th>    <td>    6.0839</td> <td>    3.199</td> <td>    1.902</td> <td> 0.057</td> <td>   -0.185</td> <td>   12.353</td>\n",
       "</tr>\n",
       "<tr>\n",
       "  <th>mad_gdppc_s9</th>    <td>    5.6822</td> <td>    3.317</td> <td>    1.713</td> <td> 0.087</td> <td>   -0.819</td> <td>   12.184</td>\n",
       "</tr>\n",
       "<tr>\n",
       "  <th>mad_gdppc_s10</th>   <td>    6.7174</td> <td>    3.666</td> <td>    1.832</td> <td> 0.067</td> <td>   -0.469</td> <td>   13.904</td>\n",
       "</tr>\n",
       "<tr>\n",
       "  <th>mad_gdppc_s11</th>   <td>   -3.9491</td> <td>    5.617</td> <td>   -0.703</td> <td> 0.482</td> <td>  -14.959</td> <td>    7.061</td>\n",
       "</tr>\n",
       "<tr>\n",
       "  <th>mad_gdppc_s12</th>   <td>    6.2431</td> <td>    8.672</td> <td>    0.720</td> <td> 0.472</td> <td>  -10.753</td> <td>   23.239</td>\n",
       "</tr>\n",
       "<tr>\n",
       "  <th>mad_gdppc_s13</th>   <td>    2.0119</td> <td>    7.491</td> <td>    0.269</td> <td> 0.788</td> <td>  -12.671</td> <td>   16.695</td>\n",
       "</tr>\n",
       "</table>"
      ],
      "text/plain": [
       "<class 'statsmodels.iolib.summary.Summary'>\n",
       "\"\"\"\n",
       "                 Generalized Linear Model Regression Results                  \n",
       "==============================================================================\n",
       "Dep. Variable:                wdi_wip   No. Observations:                 2404\n",
       "Model:                         GLMGam   Df Residuals:                  2185.00\n",
       "Model Family:                Gaussian   Df Model:                       218.00\n",
       "Link Function:               identity   Scale:                          16.558\n",
       "Method:                         PIRLS   Log-Likelihood:                -6670.2\n",
       "Date:                Wed, 22 Feb 2023   Deviance:                       36179.\n",
       "Time:                        18:40:32   Pearson chi2:                 3.62e+04\n",
       "No. Iterations:                     3   Pseudo R-squ. (CS):             0.9989\n",
       "Covariance Type:            nonrobust                                         \n",
       "===================================================================================\n",
       "                      coef    std err          z      P>|z|      [0.025      0.975]\n",
       "-----------------------------------------------------------------------------------\n",
       "Intercept          16.5130     13.847      1.193      0.233     -10.627      43.653\n",
       "C(year)[T.1998]     0.5394      0.944      0.571      0.568      -1.311       2.390\n",
       "C(year)[T.1999]     0.5988      0.912      0.657      0.511      -1.189       2.386\n",
       "C(year)[T.2000]     1.0396      0.906      1.148      0.251      -0.736       2.815\n",
       "C(year)[T.2001]     2.0181      0.911      2.215      0.027       0.232       3.804\n",
       "C(year)[T.2002]     2.6822      0.916      2.927      0.003       0.886       4.478\n",
       "C(year)[T.2003]     3.7086      0.923      4.019      0.000       1.900       5.517\n",
       "C(year)[T.2004]     4.7384      0.915      5.180      0.000       2.946       6.531\n",
       "C(year)[T.2005]     5.4053      0.932      5.800      0.000       3.579       7.232\n",
       "C(year)[T.2006]     5.6519      0.947      5.970      0.000       3.796       7.507\n",
       "C(year)[T.2007]     7.1269      0.970      7.351      0.000       5.227       9.027\n",
       "C(year)[T.2008]     7.5808      0.976      7.766      0.000       5.667       9.494\n",
       "C(year)[T.2009]     7.8593      0.981      8.015      0.000       5.937       9.781\n",
       "C(year)[T.2010]     8.0459      0.985      8.170      0.000       6.116       9.976\n",
       "C(year)[T.2011]     8.8399      0.998      8.860      0.000       6.884      10.795\n",
       "C(year)[T.2012]     9.6479      1.009      9.561      0.000       7.670      11.626\n",
       "C(year)[T.2013]    10.3127      1.029     10.026      0.000       8.297      12.329\n",
       "C(year)[T.2014]    10.8624      1.040     10.444      0.000       8.824      12.901\n",
       "C(year)[T.2015]    11.1867      1.051     10.648      0.000       9.128      13.246\n",
       "C(year)[T.2016]    11.5630      1.062     10.886      0.000       9.481      13.645\n",
       "C(year)[T.2017]    11.8338      1.081     10.951      0.000       9.716      13.952\n",
       "C(year)[T.2018]    12.3643      1.100     11.242      0.000      10.209      14.520\n",
       "ccodealp[T.ALB]   -11.8859      3.616     -3.287      0.001     -18.973      -4.799\n",
       "ccodealp[T.ARE]    -2.0219      3.502     -0.577      0.564      -8.886       4.843\n",
       "ccodealp[T.ARG]     3.9007      2.287      1.706      0.088      -0.582       8.383\n",
       "ccodealp[T.ARM]   -17.2406      3.573     -4.826      0.000     -24.243     -10.239\n",
       "ccodealp[T.AUS]     2.4639      2.683      0.918      0.358      -2.795       7.722\n",
       "ccodealp[T.AUT]     9.3979      2.987      3.146      0.002       3.544      15.252\n",
       "ccodealp[T.AZE]   -10.7791      2.327     -4.633      0.000     -15.339      -6.219\n",
       "ccodealp[T.BDI]     7.6644      2.738      2.799      0.005       2.298      13.031\n",
       "ccodealp[T.BEL]    11.2278      2.833      3.963      0.000       5.674      16.781\n",
       "ccodealp[T.BEN]   -14.8240      2.451     -6.048      0.000     -19.628     -10.020\n",
       "ccodealp[T.BFA]   -13.5663      2.293     -5.915      0.000     -18.061      -9.071\n",
       "ccodealp[T.BGD]   -33.9612      4.740     -7.165      0.000     -43.251     -24.671\n",
       "ccodealp[T.BGR]    -1.6363      2.600     -0.629      0.529      -6.733       3.460\n",
       "ccodealp[T.BHR]   -18.4677      4.789     -3.856      0.000     -27.854      -9.081\n",
       "ccodealp[T.BLR]     4.3428      2.483      1.749      0.080      -0.524       9.210\n",
       "ccodealp[T.BOL]     6.7133      2.572      2.610      0.009       1.673      11.754\n",
       "ccodealp[T.BRA]   -44.6127      5.598     -7.969      0.000     -55.586     -33.640\n",
       "ccodealp[T.BRB]   -16.9760      8.934     -1.900      0.057     -34.487       0.535\n",
       "ccodealp[T.BWA]   -20.8945      4.337     -4.818      0.000     -29.394     -12.395\n",
       "ccodealp[T.CAF]    -9.5467      3.331     -2.866      0.004     -16.075      -3.018\n",
       "ccodealp[T.CAN]    -4.0754      2.805     -1.453      0.146      -9.574       1.423\n",
       "ccodealp[T.CHE]     9.6170      3.240      2.969      0.003       3.267      15.967\n",
       "ccodealp[T.CHL]   -10.7704      1.819     -5.920      0.000     -14.336      -7.205\n",
       "ccodealp[T.CHN]   -28.4649     24.192     -1.177      0.239     -75.881      18.951\n",
       "ccodealp[T.CIV]   -17.6649      1.616    -10.933      0.000     -20.832     -14.498\n",
       "ccodealp[T.CMR]    -9.9193      1.692     -5.861      0.000     -13.236      -6.602\n",
       "ccodealp[T.COD]   -29.5649      4.423     -6.684      0.000     -38.234     -20.895\n",
       "ccodealp[T.COG]   -16.5093      3.377     -4.889      0.000     -23.128      -9.891\n",
       "ccodealp[T.COL]   -21.8640      2.258     -9.683      0.000     -26.290     -17.438\n",
       "ccodealp[T.COM]   -23.5752      6.063     -3.889      0.000     -35.458     -11.693\n",
       "ccodealp[T.CPV]   -12.9992      6.975     -1.864      0.062     -26.670       0.671\n",
       "ccodealp[T.CRI]    10.4750      3.249      3.224      0.001       4.107      16.843\n",
       "ccodealp[T.CYP]   -12.4671      5.520     -2.259      0.024     -23.286      -1.649\n",
       "ccodealp[T.CZE]    -5.9851      2.319     -2.581      0.010     -10.530      -1.440\n",
       "ccodealp[T.DEU]    -5.7817      4.138     -1.397      0.162     -13.892       2.329\n",
       "ccodealp[T.DJI]   -18.6906      5.552     -3.366      0.001     -29.573      -7.808\n",
       "ccodealp[T.DMA]   -14.5304     13.572     -1.071      0.284     -41.132      12.071\n",
       "ccodealp[T.DNK]    16.6165      3.395      4.895      0.000       9.963      23.270\n",
       "ccodealp[T.DOM]    -5.9299      2.325     -2.550      0.011     -10.487      -1.373\n",
       "ccodealp[T.DZA]   -14.0301      2.216     -6.331      0.000     -18.373      -9.687\n",
       "ccodealp[T.ECU]     2.4630      1.873      1.315      0.188      -1.207       6.133\n",
       "ccodealp[T.EGY]   -37.6158      3.575    -10.521      0.000     -44.623     -30.608\n",
       "ccodealp[T.ESP]     2.4280      2.825      0.859      0.390      -3.109       7.965\n",
       "ccodealp[T.EST]    -3.1651      4.527     -0.699      0.485     -12.039       5.709\n",
       "ccodealp[T.ETH]   -14.9977      4.088     -3.669      0.000     -23.010      -6.985\n",
       "ccodealp[T.FIN]    19.4128      3.312      5.862      0.000      12.922      25.904\n",
       "ccodealp[T.FRA]   -11.9902      3.829     -3.132      0.002     -19.494      -4.486\n",
       "ccodealp[T.GAB]   -11.1820      4.356     -2.567      0.010     -19.720      -2.644\n",
       "ccodealp[T.GBR]   -13.1149      3.662     -3.582      0.000     -20.291      -5.938\n",
       "ccodealp[T.GEO]   -13.8016      3.281     -4.206      0.000     -20.233      -7.370\n",
       "ccodealp[T.GHA]   -19.3737      1.647    -11.760      0.000     -22.603     -16.145\n",
       "ccodealp[T.GIN]    -5.1247      2.507     -2.044      0.041     -10.039      -0.210\n",
       "ccodealp[T.GMB]   -14.9481      4.195     -3.563      0.000     -23.171      -6.725\n",
       "ccodealp[T.GNB]   -12.8715      4.479     -2.874      0.004     -21.650      -4.093\n",
       "ccodealp[T.GNQ]   -14.0502      7.497     -1.874      0.061     -28.745       0.644\n",
       "ccodealp[T.GRC]    -8.9552      2.295     -3.903      0.000     -13.452      -4.458\n",
       "ccodealp[T.GTM]   -17.9245      1.886     -9.504      0.000     -21.621     -14.228\n",
       "ccodealp[T.HND]    -7.8135      2.848     -2.744      0.006     -13.395      -2.232\n",
       "ccodealp[T.HRV]    -1.3846      3.339     -0.415      0.678      -7.929       5.160\n",
       "ccodealp[T.HTI]   -26.1156      2.871     -9.095      0.000     -31.743     -20.488\n",
       "ccodealp[T.HUN]   -14.1569      2.334     -6.066      0.000     -18.731      -9.583\n",
       "ccodealp[T.IDN]   -43.9330      6.590     -6.667      0.000     -56.848     -31.018\n",
       "ccodealp[T.IND]   -44.2122     24.398     -1.812      0.070     -92.032       3.607\n",
       "ccodealp[T.IRL]    -2.6084      3.637     -0.717      0.473      -9.737       4.520\n",
       "ccodealp[T.IRN]   -35.1319      3.367    -10.435      0.000     -41.730     -28.533\n",
       "ccodealp[T.IRQ]    -8.9432      3.378     -2.647      0.008     -15.564      -2.322\n",
       "ccodealp[T.ISL]     8.7975      8.539      1.030      0.303      -7.939      25.534\n",
       "ccodealp[T.ISR]    -2.8533      2.799     -1.019      0.308      -8.340       2.633\n",
       "ccodealp[T.ITA]   -14.6485      3.519     -4.163      0.000     -21.546      -7.751\n",
       "ccodealp[T.JAM]   -13.2762      3.735     -3.555      0.000     -20.597      -5.956\n",
       "ccodealp[T.JOR]   -16.4997      2.625     -6.285      0.000     -21.645     -11.354\n",
       "ccodealp[T.JPN]   -34.7431      4.798     -7.241      0.000     -44.147     -25.339\n",
       "ccodealp[T.KAZ]    -7.7951      1.777     -4.387      0.000     -11.277      -4.313\n",
       "ccodealp[T.KEN]   -21.9298      2.251     -9.741      0.000     -26.342     -17.517\n",
       "ccodealp[T.KGZ]    -9.2427      3.046     -3.035      0.002     -15.212      -3.273\n",
       "ccodealp[T.KHM]   -11.6772      1.982     -5.891      0.000     -15.562      -7.792\n",
       "ccodealp[T.KOR]   -20.3757      3.176     -6.416      0.000     -26.600     -14.151\n",
       "ccodealp[T.KWT]   -15.6474      4.220     -3.708      0.000     -23.919      -7.376\n",
       "ccodealp[T.LAO]     0.2464      2.818      0.087      0.930      -5.276       5.769\n",
       "ccodealp[T.LBN]   -20.2998      2.937     -6.912      0.000     -26.056     -14.543\n",
       "ccodealp[T.LBR]   -11.2085      3.494     -3.208      0.001     -18.056      -4.361\n",
       "ccodealp[T.LCA]   -19.0845     10.913     -1.749      0.080     -40.474       2.305\n",
       "ccodealp[T.LKA]   -23.4500      1.598    -14.679      0.000     -26.581     -20.319\n",
       "ccodealp[T.LSO]   -10.7205      4.258     -2.517      0.012     -19.067      -2.374\n",
       "ccodealp[T.LTU]    -2.9002      3.520     -0.824      0.410      -9.798       3.998\n",
       "ccodealp[T.LUX]    -0.6619      6.953     -0.095      0.924     -14.290      12.966\n",
       "ccodealp[T.LVA]    -4.5838      3.891     -1.178      0.239     -12.209       3.041\n",
       "ccodealp[T.MAR]   -19.8011      1.947    -10.170      0.000     -23.617     -15.985\n",
       "ccodealp[T.MDA]    -6.5878      3.428     -1.922      0.055     -13.307       0.131\n",
       "ccodealp[T.MDG]   -12.0732      1.984     -6.086      0.000     -15.962      -8.185\n",
       "ccodealp[T.MEX]   -15.6989      3.962     -3.963      0.000     -23.463      -7.935\n",
       "ccodealp[T.MKD]    -4.5082      5.576     -0.808      0.419     -15.437       6.421\n",
       "ccodealp[T.MLI]   -13.6445      2.102     -6.492      0.000     -17.764      -9.525\n",
       "ccodealp[T.MLT]   -17.9585      7.297     -2.461      0.014     -32.260      -3.657\n",
       "ccodealp[T.MMR]   -33.2115      2.724    -12.194      0.000     -38.550     -27.873\n",
       "ccodealp[T.MNG]   -15.4642      3.729     -4.147      0.000     -22.773      -8.156\n",
       "ccodealp[T.MOZ]    10.7403      2.319      4.632      0.000       6.196      15.285\n",
       "ccodealp[T.MRT]    -8.5487      3.617     -2.364      0.018     -15.637      -1.460\n",
       "ccodealp[T.MUS]   -11.4458      4.706     -2.432      0.015     -20.670      -2.222\n",
       "ccodealp[T.MWI]    -9.6115      2.417     -3.976      0.000     -14.349      -4.874\n",
       "ccodealp[T.MYS]   -16.7404      1.803     -9.283      0.000     -20.275     -13.206\n",
       "ccodealp[T.NAM]     0.5664      4.081      0.139      0.890      -7.432       8.565\n",
       "ccodealp[T.NER]   -13.1128      2.413     -5.434      0.000     -17.842      -8.383\n",
       "ccodealp[T.NGA]   -49.0932      5.598     -8.770      0.000     -60.065     -38.122\n",
       "ccodealp[T.NIC]     4.7095      3.044      1.547      0.122      -1.256      10.676\n",
       "ccodealp[T.NLD]    14.5283      2.599      5.589      0.000       9.433      19.623\n",
       "ccodealp[T.NOR]    21.3946      3.924      5.452      0.000      13.704      29.085\n",
       "ccodealp[T.NPL]    -6.5624      1.729     -3.795      0.000      -9.951      -3.174\n",
       "ccodealp[T.NZL]    11.2753      3.389      3.328      0.001       4.634      17.917\n",
       "ccodealp[T.OMN]   -20.6957      3.787     -5.465      0.000     -28.118     -13.273\n",
       "ccodealp[T.PAK]   -34.0946      5.333     -6.393      0.000     -44.547     -23.642\n",
       "ccodealp[T.PAN]    -8.8435      3.435     -2.574      0.010     -15.577      -2.110\n",
       "ccodealp[T.PER]    -7.0771      1.530     -4.625      0.000     -10.076      -4.078\n",
       "ccodealp[T.PHL]   -22.0179      3.535     -6.228      0.000     -28.947     -15.089\n",
       "ccodealp[T.POL]    -9.1563      2.248     -4.073      0.000     -13.563      -4.750\n",
       "ccodealp[T.PRT]     2.5091      2.398      1.046      0.295      -2.191       7.209\n",
       "ccodealp[T.PRY]   -13.9925      2.830     -4.945      0.000     -19.538      -8.447\n",
       "ccodealp[T.QAT]   -20.2280      7.526     -2.688      0.007     -34.978      -5.478\n",
       "ccodealp[T.ROU]   -13.3476      1.644     -8.118      0.000     -16.570     -10.125\n",
       "ccodealp[T.RUS]   -35.2737      4.764     -7.405      0.000     -44.610     -25.937\n",
       "ccodealp[T.RWA]    27.1194      2.468     10.987      0.000      22.282      31.957\n",
       "ccodealp[T.SAU]   -19.1099      2.724     -7.017      0.000     -24.448     -13.772\n",
       "ccodealp[T.SDN]   -14.8473      2.357     -6.299      0.000     -19.467     -10.227\n",
       "ccodealp[T.SEN]     0.7985      2.097      0.381      0.703      -3.312       4.909\n",
       "ccodealp[T.SGP]     3.0666      3.528      0.869      0.385      -3.848       9.981\n",
       "ccodealp[T.SLE]    -8.4975      2.850     -2.981      0.003     -14.084      -2.911\n",
       "ccodealp[T.SLV]    -4.0858      2.800     -1.459      0.145      -9.574       1.403\n",
       "ccodealp[T.SRB]     1.7910      2.832      0.632      0.527      -3.759       7.341\n",
       "ccodealp[T.STP]   -20.6131     10.762     -1.915      0.055     -41.707       0.480\n",
       "ccodealp[T.SVK]    -3.3961      2.935     -1.157      0.247      -9.148       2.356\n",
       "ccodealp[T.SVN]    -1.6564      3.996     -0.414      0.679      -9.489       6.176\n",
       "ccodealp[T.SWE]    22.0384      2.910      7.572      0.000      16.334      27.743\n",
       "ccodealp[T.SWZ]   -19.6623      4.975     -3.952      0.000     -29.413      -9.912\n",
       "ccodealp[T.SYC]     1.8640     12.792      0.146      0.884     -23.208      26.936\n",
       "ccodealp[T.SYR]   -14.6741      1.917     -7.656      0.000     -18.431     -10.917\n",
       "ccodealp[T.TCD]   -14.4487      2.175     -6.644      0.000     -18.711     -10.187\n",
       "ccodealp[T.TGO]    -9.8462      2.867     -3.434      0.001     -15.466      -4.226\n",
       "ccodealp[T.THA]   -28.9347      3.190     -9.069      0.000     -35.188     -22.681\n",
       "ccodealp[T.TJK]    -7.6912      2.656     -2.896      0.004     -12.897      -2.486\n",
       "ccodealp[T.TKM]    -5.3582      4.996     -1.073      0.283     -15.149       4.433\n",
       "ccodealp[T.TTO]    -0.1356      4.592     -0.030      0.976      -9.136       8.865\n",
       "ccodealp[T.TUN]    -5.8738      2.246     -2.615      0.009     -10.276      -1.471\n",
       "ccodealp[T.TUR]   -28.5475      3.403     -8.388      0.000     -35.218     -21.877\n",
       "ccodealp[T.TZA]    -2.2227      2.450     -0.907      0.364      -7.025       2.579\n",
       "ccodealp[T.UGA]     1.5521      2.142      0.725      0.469      -2.646       5.751\n",
       "ccodealp[T.UKR]   -27.5676      2.345    -11.758      0.000     -32.163     -22.972\n",
       "ccodealp[T.URY]    -9.2538      3.506     -2.639      0.008     -16.126      -2.382\n",
       "ccodealp[T.USA]   -41.9190      8.758     -4.786      0.000     -59.084     -24.753\n",
       "ccodealp[T.UZB]   -15.7373      1.989     -7.911      0.000     -19.636     -11.838\n",
       "ccodealp[T.VEN]   -11.9920      2.223     -5.394      0.000     -16.350      -7.634\n",
       "ccodealp[T.VNM]   -20.9449      3.574     -5.860      0.000     -27.951     -13.939\n",
       "ccodealp[T.YEM]   -28.4828      2.095    -13.596      0.000     -32.589     -24.377\n",
       "ccodealp[T.ZAF]     0.5282      2.544      0.208      0.836      -4.458       5.514\n",
       "ccodealp[T.ZMB]   -14.8306      1.959     -7.570      0.000     -18.670     -10.991\n",
       "ccodealp[T.ZWE]    -1.2822      2.499     -0.513      0.608      -6.180       3.616\n",
       "wdi_expedu_s0       2.4860      6.068      0.410      0.682      -9.408      14.380\n",
       "wdi_expedu_s1      -3.2296      3.855     -0.838      0.402     -10.785       4.325\n",
       "wdi_expedu_s2      -0.7739      4.079     -0.190      0.850      -8.768       7.220\n",
       "wdi_expedu_s3      -3.1516      3.964     -0.795      0.427     -10.920       4.617\n",
       "wdi_expedu_s4      -0.7343      4.031     -0.182      0.855      -8.634       7.165\n",
       "wdi_expedu_s5      -1.3780      4.012     -0.344      0.731      -9.240       6.485\n",
       "wdi_expedu_s6      -0.0942      4.019     -0.023      0.981      -7.971       7.783\n",
       "wdi_expedu_s7      -2.2609      4.019     -0.563      0.574     -10.138       5.616\n",
       "wdi_expedu_s8      -0.7408      4.023     -0.184      0.854      -8.625       7.143\n",
       "wdi_expedu_s9      -1.4069      4.017     -0.350      0.726      -9.280       6.466\n",
       "wdi_expedu_s10     -1.2159      4.013     -0.303      0.762      -9.082       6.650\n",
       "wdi_expedu_s11      1.7903      4.433      0.404      0.686      -6.897      10.478\n",
       "wdi_expedu_s12      7.2168      5.362      1.346      0.178      -3.293      17.726\n",
       "wdi_expedu_s13     -2.6841      5.329     -0.504      0.615     -13.129       7.761\n",
       "pwt_pop_s0         -1.9702     12.565     -0.157      0.875     -26.597      22.657\n",
       "pwt_pop_s1         -6.2061     11.761     -0.528      0.598     -29.257      16.845\n",
       "pwt_pop_s2         -4.7021     12.271     -0.383      0.702     -28.753      19.349\n",
       "pwt_pop_s3         -9.2388     12.150     -0.760      0.447     -33.052      14.574\n",
       "pwt_pop_s4         -7.7688     12.542     -0.619      0.536     -32.350      16.812\n",
       "pwt_pop_s5         -7.8808     12.678     -0.622      0.534     -32.729      16.967\n",
       "pwt_pop_s6         -4.5035     12.904     -0.349      0.727     -29.795      20.788\n",
       "pwt_pop_s7         -2.2218     13.196     -0.168      0.866     -28.085      23.642\n",
       "pwt_pop_s8         -5.9553     13.449     -0.443      0.658     -32.315      20.405\n",
       "pwt_pop_s9          0.1619     13.812      0.012      0.991     -26.909      27.233\n",
       "pwt_pop_s10         6.5617     14.546      0.451      0.652     -21.948      35.071\n",
       "pwt_pop_s11        69.3174     24.554      2.823      0.005      21.192     117.443\n",
       "pwt_pop_s12        20.6650     36.858      0.561      0.575     -51.575      92.905\n",
       "pwt_pop_s13        16.7537     29.354      0.571      0.568     -40.780      74.287\n",
       "mad_gdppc_s0        8.4963      2.928      2.901      0.004       2.757      14.236\n",
       "mad_gdppc_s1        3.8494      2.323      1.657      0.098      -0.704       8.403\n",
       "mad_gdppc_s2        9.9057      2.701      3.667      0.000       4.612      15.200\n",
       "mad_gdppc_s3       10.3317      2.729      3.785      0.000       4.982      15.681\n",
       "mad_gdppc_s4        9.3444      2.901      3.221      0.001       3.658      15.031\n",
       "mad_gdppc_s5       10.6712      2.888      3.696      0.000       5.012      16.331\n",
       "mad_gdppc_s6        9.3620      2.998      3.123      0.002       3.487      15.237\n",
       "mad_gdppc_s7        8.2121      3.066      2.679      0.007       2.204      14.221\n",
       "mad_gdppc_s8        6.0839      3.199      1.902      0.057      -0.185      12.353\n",
       "mad_gdppc_s9        5.6822      3.317      1.713      0.087      -0.819      12.184\n",
       "mad_gdppc_s10       6.7174      3.666      1.832      0.067      -0.469      13.904\n",
       "mad_gdppc_s11      -3.9491      5.617     -0.703      0.482     -14.959       7.061\n",
       "mad_gdppc_s12       6.2431      8.672      0.720      0.472     -10.753      23.239\n",
       "mad_gdppc_s13       2.0119      7.491      0.269      0.788     -12.671      16.695\n",
       "===================================================================================\n",
       "\"\"\""
      ]
     },
     "execution_count": 19,
     "metadata": {},
     "output_type": "execute_result"
    }
   ],
   "source": [
    "## GAM with FEs for year and country\n",
    "bspline = BSplines(X_zed, df=[15, 15, 15], degree=[3, 3, 3])\n",
    "gam = GLMGam.from_formula('wdi_wip ~ C(year) + ccodealp', data = countr, smoother = bspline)\n",
    "## Find best penalty (takes a few hours!)\n",
    "#gam.select_penweight_kfold()[0]\n",
    "resgam = gam.fit()\n",
    "resgam.summary()"
   ]
  },
  {
   "cell_type": "code",
   "execution_count": 20,
   "id": "ec87a82f",
   "metadata": {
    "scrolled": true,
    "slideshow": {
     "slide_type": "slide"
    }
   },
   "outputs": [
    {
     "data": {
      "image/png": "[encoded data removed]",
      "text/plain": [
       "<Figure size 640x480 with 1 Axes>"
      ]
     },
     "metadata": {},
     "output_type": "display_data"
    }
   ],
   "source": [
    "## Education Expenditure\n",
    "resgam.plot_partial(0, cpr = True)\n",
    "plt.show()"
   ]
  },
  {
   "cell_type": "code",
   "execution_count": 21,
   "id": "f6c97366",
   "metadata": {
    "scrolled": true,
    "slideshow": {
     "slide_type": "slide"
    }
   },
   "outputs": [
    {
     "data": {
      "image/png": "[encoded data removed]",
      "text/plain": [
       "<Figure size 640x480 with 1 Axes>"
      ]
     },
     "metadata": {},
     "output_type": "display_data"
    }
   ],
   "source": [
    "## Population\n",
    "resgam.plot_partial(1, cpr = True)\n",
    "plt.show()"
   ]
  },
  {
   "cell_type": "code",
   "execution_count": 24,
   "id": "9a6db5e2",
   "metadata": {
    "scrolled": true,
    "slideshow": {
     "slide_type": "slide"
    }
   },
   "outputs": [
    {
     "data": {
      "image/png": "[encoded data removed]",
      "text/plain": [
       "<Figure size 640x480 with 1 Axes>"
      ]
     },
     "metadata": {},
     "output_type": "display_data"
    }
   ],
   "source": [
    "## GDP per capita\n",
    "resgam.plot_partial(2, cpr = True)\n",
    "plt.show()"
   ]
  },
  {
   "cell_type": "markdown",
   "id": "d8eace45",
   "metadata": {
    "slideshow": {
     "slide_type": "slide"
    }
   },
   "source": [
    "# Questions?"
   ]
  },
  {
   "cell_type": "markdown",
   "id": "22d252e9",
   "metadata": {
    "slideshow": {
     "slide_type": "slide"
    }
   },
   "source": [
    "# See you next class\n"
   ]
  },
  {
   "cell_type": "markdown",
   "id": "51857e01",
   "metadata": {
    "slideshow": {
     "slide_type": "slide"
    }
   },
   "source": [
    "# Extra"
   ]
  },
  {
   "cell_type": "markdown",
   "id": "ea01a5a8",
   "metadata": {
    "slideshow": {
     "slide_type": "slide"
    }
   },
   "source": [
    "## Smoothing Splines\n",
    "\n",
    "- So far, we define a set of knots, whether we want a natural or regular spline, and fit the coefficients using least squares.\n",
    "\n",
    "- Another approach that looks much like Lasso or Ridge is the *smoothing splines*."
   ]
  },
  {
   "cell_type": "markdown",
   "id": "16935ce7",
   "metadata": {
    "slideshow": {
     "slide_type": "slide"
    }
   },
   "source": [
    "## Smoothing Splines\n",
    "\n",
    "- Let a function $g(x)$, we want the function to minimize the $\\text{RSS} = \\sum (y_i - g(x_i))^2$. \n",
    "\n",
    "- The problem is that we can choose $g$ as a cubic spline with as many knots as points: $\\text{RSS} = 0$!\n",
    "\n",
    "- However, we can add a penalty requiring the function to be smooth. We then minimize the following:\n",
    "\n",
    "$$ \\sum_{i=1}^n (y_i - g(x_i))^2 + \\alpha \\int g''(t)^2dt $$"
   ]
  },
  {
   "cell_type": "markdown",
   "id": "8747f3fe",
   "metadata": {
    "slideshow": {
     "slide_type": "slide"
    }
   },
   "source": [
    "## Smoothing Splines\n",
    "\n",
    "- $\\int g''(t)^2dt$ measures the amount of wiggling that the function $g$ will do.\n",
    "\n",
    "- $\\alpha = 0$: You could have a polynomial that interpolates every point.\n",
    "    + $\\text{RSS} = 0$, zero bias, lots of variance.\n",
    "\n",
    "- $\\alpha \\rightarrow \\infty$: Straight line."
   ]
  },
  {
   "cell_type": "markdown",
   "id": "1ed337cd",
   "metadata": {
    "slideshow": {
     "slide_type": "slide"
    }
   },
   "source": [
    "## Smoothing Splines\n",
    "\n",
    "- Interesting: $\\alpha$ indirectly controls the degrees of freedom!\n",
    "\n",
    "- Effective degrees of freedom: One can determine the fitted values by using the following decomposition:\n",
    "\n",
    "$$ \\hat{\\bf{g}}_\\alpha = \\bf{S}_\\alpha\\bf{y} $$\n",
    "\n",
    "- The effective number of degrees of freedom will be:\n",
    "\n",
    "$$ \\text{df}_\\alpha \\ = \\ \\text{tr}(\\bf{S}_\\alpha) $$"
   ]
  },
  {
   "cell_type": "markdown",
   "id": "94d6bfb1",
   "metadata": {
    "slideshow": {
     "slide_type": "slide"
    }
   },
   "source": [
    "## Smoothing Splines\n",
    "\n",
    "- And to find $\\alpha$, cross-validation here is very effective. The LOOCV for this case is:\n",
    "\n",
    "$$ \\text{RSS}_{cv} \\ = \\ \\sum_{i=1}^n (y_i - \\hat{g}_\\alpha^{(-i)}(x_i))^2  \\ = \\ \\sum_{i=1}^n \\left[\\dfrac{y_i - \\hat{g}_\\alpha(x_i)}{1-\\{\\bf{S}_\\alpha\\}_{ii}}\\right]^2 $$"
   ]
  },
  {
   "cell_type": "markdown",
   "id": "1d02ed53",
   "metadata": {
    "slideshow": {
     "slide_type": "slide"
    }
   },
   "source": [
    "## Smoothing Splines\n",
    "\n",
    "![img](../img/smspl1.png)"
   ]
  },
  {
   "cell_type": "markdown",
   "id": "d7889dc5",
   "metadata": {
    "slideshow": {
     "slide_type": "slide"
    }
   },
   "source": [
    "## Local Regression\n",
    "\n",
    "- Fitting a non-linear flexible function only on points around a place of interest.\n",
    "\n",
    "- The figure below shows local regressions around 0.05 and 0.4.\n",
    "\n",
    "![img](../img/loclinreg1.png)"
   ]
  },
  {
   "cell_type": "markdown",
   "id": "f7cc56b1",
   "metadata": {
    "slideshow": {
     "slide_type": "slide"
    }
   },
   "source": [
    "## Local Regression\n",
    "\n",
    "**Algorithm**: To fit a local regression around $x_0$:\n",
    "\n",
    "1. Gather the fraction $s = k/n$ of training points whose $x_i$ are closest to $x_0$.\n",
    "\n",
    "2. Assign a weight $K_{i0} = K(x_i, x_0)$ to each point in this neighborhood so that the point furthest from $x_0$ has weight zero, and the closest has the highest weight. All but these $k$ nearest neighbors get weight zero.\n",
    "\n",
    "3. Fit a weighted least squares regression of the $y_i$ on the $x_i$ using the aforementioned weights, by finding $\\hat{\\beta}_0$ and $\\hat{\\beta}_1$ that minimizes:\n",
    "$$ \\sum_{i=1}^nK_{i0}(y_i - \\beta_0 - \\beta_1x_i)^2 $$\n",
    "\n",
    "4. The fitted value at $x_0$ is given by $\\hat{f}(x_0) = \\hat{\\beta}_0 + \\hat{\\beta}_1x_0$"
   ]
  },
  {
   "cell_type": "markdown",
   "id": "a6545ed1",
   "metadata": {
    "slideshow": {
     "slide_type": "slide"
    }
   },
   "source": [
    "## Local Regression\n",
    "\n",
    "- Important choices:\n",
    "\n",
    "    1. $s$: The share of points we use in the surroundings. The smaller, the lower the bias, and the higher the variance.\n",
    "    2. If multiple variables, then one can make the model local in some variables and global in others.\n",
    "    3. Weights are essential!"
   ]
  },
  {
   "cell_type": "markdown",
   "id": "7626d515",
   "metadata": {
    "slideshow": {
     "slide_type": "slide"
    }
   },
   "source": [
    "## Local Regression\n",
    "\n",
    "![img](../img/loclinreg2.png)"
   ]
  },
  {
   "cell_type": "code",
   "execution_count": null,
   "id": "0b1488f8",
   "metadata": {
    "slideshow": {
     "slide_type": "slide"
    }
   },
   "outputs": [],
   "source": [
    "## Two-way FE model with Cross-Validated splines for education expenditure\n",
    "## to predict percentage of women in the parliament\n",
    "\n",
    "# Baseline\n",
    "X_time = pd.get_dummies(countr['year'], prefix = 'year', drop_first = True)\n",
    "X_country = pd.get_dummies(countr['cname'], prefix = 'cname', drop_first = True)\n",
    "X_train, X_test, y_train, y_test = train_test_split(X_time.join(X_country), y, \n",
    "                                                    test_size = 0.1, random_state = 12345)\n",
    "reg = LinearRegression().fit(X_train, y_train)\n",
    "score = reg.score(X_test, y_test)\n",
    "\n",
    "print('The baseline score, with only the FEs is {a}.'.format(a = str(score)))"
   ]
  },
  {
   "cell_type": "code",
   "execution_count": null,
   "id": "a17b43bb",
   "metadata": {},
   "outputs": [],
   "source": [
    "## Two-way FE model with Cross-Validated splines for education expenditure\n",
    "## to predict percentage of women in the parliament\n",
    "scores = []\n",
    "knots = []\n",
    "X_time = pd.get_dummies(countr['year'], prefix = 'year', drop_first = True)\n",
    "X_country = pd.get_dummies(countr['cname'], prefix = 'cname', drop_first = True)\n",
    "X_train, X_test, y_train, y_test = train_test_split(X_zed.join(X_time.join(X_country)), y, \n",
    "                                                    test_size = 0.1, random_state = 12345)\n",
    "for i in range(2, 100):\n",
    "    knots.append(i)\n",
    "    splines = SplineTransformer(n_knots = i, degree = 3, \n",
    "                                knots = 'quantile', extrapolation = 'linear')\n",
    "    X_trainstep = splines.set_output(transform = 'pandas').fit_transform(X_train[['wdi_expedu']])\n",
    "    X_trainstep = X_trainstep.join(X_train.drop('wdi_expedu', axis = 1))\n",
    "    X_teststep = splines.set_output(transform = 'pandas').fit_transform(X_test[['wdi_expedu']])\n",
    "    X_teststep = X_teststep.join(X_test.drop('wdi_expedu', axis = 1))\n",
    "    reg = LinearRegression().fit(X_trainstep, y_train)\n",
    "    score = reg.score(X_teststep, y_test)\n",
    "    scores.append(score)\n",
    "\n",
    "print('The best number of knots is {a}.\\nThe CV R-squared associated with it is {b}.'.format(a = str(knots[scores.index(max(scores))]), b = str(max(scores))))"
   ]
  },
  {
   "cell_type": "code",
   "execution_count": null,
   "id": "fb833c25",
   "metadata": {
    "slideshow": {
     "slide_type": "slide"
    }
   },
   "outputs": [],
   "source": [
    "## Two-way FE model with Cross-Validated splines for education expenditure\n",
    "sns.lineplot(x = knots, y = scores)\n",
    "plt.title('Natural Spline Cross-Validated Number of Knots')\n",
    "plt.xlabel('knots\\n' + 'Best number of knots is {a}.\\nThe CV R-squared associated with it is {b}.'.format(a = str(knots[scores.index(max(scores))]), b = str(max(scores))))\n",
    "plt.ylabel('R-Squared')\n",
    "plt.scatter(knots[scores.index(max(scores))], max(scores), marker='X', color = 'red')\n",
    "plt.show()"
   ]
  }
 ],
 "metadata": {
  "celltoolbar": "Slideshow",
  "kernelspec": {
   "display_name": "Python 3 (ipykernel)",
   "language": "python",
   "name": "python3"
  },
  "language_info": {
   "codemirror_mode": {
    "name": "ipython",
    "version": 3
   },
   "file_extension": ".py",
   "mimetype": "text/x-python",
   "name": "python",
   "nbconvert_exporter": "python",
   "pygments_lexer": "ipython3",
   "version": "3.9.13"
  }
 },
 "nbformat": 4,
 "nbformat_minor": 5
}
