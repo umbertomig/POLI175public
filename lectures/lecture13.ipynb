{
 "cells": [
  {
   "cell_type": "markdown",
   "id": "243e38f9",
   "metadata": {
    "slideshow": {
     "slide_type": "slide"
    }
   },
   "source": [
    "# POLI 175 - Lecture 13\n",
    "\n",
    "## Resampling"
   ]
  },
  {
   "cell_type": "markdown",
   "id": "20de95f7",
   "metadata": {
    "slideshow": {
     "slide_type": "slide"
    }
   },
   "source": [
    "## Announcement\n",
    "\n",
    "- Problem Set 02 is on!\n",
    "\n",
    "- This lecture's quiz is on.\n",
    "\n",
    "- I hope Python is treating you well! If not, we have plenty of office hours."
   ]
  },
  {
   "cell_type": "markdown",
   "id": "754b027f",
   "metadata": {
    "slideshow": {
     "slide_type": "slide"
    }
   },
   "source": [
    "# Resampling"
   ]
  },
  {
   "cell_type": "markdown",
   "id": "d3773c9f",
   "metadata": {
    "slideshow": {
     "slide_type": "slide"
    }
   },
   "source": [
    "## Resampling\n",
    "\n",
    "- Involve repeatedly drawing `samples` for a `training dataset` to obtain fitting information.\n",
    "\n",
    "- `Samples`: A randomly selected fraction of the original data.\n",
    "    + Do not mistake it for a different sample from a population.\n",
    "    \n",
    "- `Training`: Training the model means to fit the model."
   ]
  },
  {
   "cell_type": "markdown",
   "id": "692b2555",
   "metadata": {
    "slideshow": {
     "slide_type": "slide"
    }
   },
   "source": [
    "## Resampling\n",
    "\n",
    "- This sounds weird: why not fit the model into the actual data?\n",
    "    + We would not have a measure of how well our model is doing.\n",
    "    + In the end, this matters! And matters especially for the data that we did not train the model!\n",
    "\n",
    "- In this sense, resampling is a clever trick to see how the model would do in the `real world`, without going to the real world."
   ]
  },
  {
   "cell_type": "markdown",
   "id": "e82158a7",
   "metadata": {
    "slideshow": {
     "slide_type": "slide"
    }
   },
   "source": [
    "## Resampling\n",
    "\n",
    "- It helps us to:\n",
    "    + Evaluate the performance of the model (`Model assessment`).\n",
    "    + Select the proper flexibility for our model (`Model selection`).\n",
    "\n",
    "- Drawback: they are computationally intensive.\n",
    "    + Usually involves refitting the model again and again.\n",
    "    \n",
    "- We are going to discuss the following:\n",
    "    + `Cross-validation`: Measure the performance and select appropriate flexibility.\n",
    "    + (not this now) `Bootstrap`: Measure the accuracy of parameters."
   ]
  },
  {
   "cell_type": "markdown",
   "id": "bb985516",
   "metadata": {
    "slideshow": {
     "slide_type": "slide"
    }
   },
   "source": [
    "## Class Examples\n",
    "\n",
    "- Education expenditure dataset\n",
    "\n",
    "- Pinochet voting dataset\n",
    "\n",
    "Let us load them all:"
   ]
  },
  {
   "cell_type": "code",
   "execution_count": 23,
   "id": "b55c5cf0",
   "metadata": {
    "slideshow": {
     "slide_type": "slide"
    }
   },
   "outputs": [],
   "source": [
    "## Loading the relevant packages\n",
    "import pandas as pd\n",
    "import numpy as np\n",
    "\n",
    "# Plotting things:\n",
    "import seaborn as sns\n",
    "import matplotlib.pyplot as plt\n",
    "\n",
    "# Loading scikit learn relevant packages (note our new friends!)\n",
    "from sklearn.linear_model import LogisticRegression, LinearRegression\n",
    "from sklearn.naive_bayes import GaussianNB\n",
    "from sklearn.discriminant_analysis import LinearDiscriminantAnalysis, QuadraticDiscriminantAnalysis\n",
    "from sklearn.metrics import confusion_matrix, classification_report, precision_score, get_scorer_names\n",
    "from sklearn.model_selection import train_test_split, LeaveOneOut, cross_val_score, KFold\n",
    "from sklearn.inspection import DecisionBoundaryDisplay\n",
    "from sklearn.tree import DecisionTreeClassifier\n",
    "from sklearn.neighbors import KNeighborsClassifier"
   ]
  },
  {
   "cell_type": "code",
   "execution_count": 24,
   "id": "4704653f",
   "metadata": {
    "slideshow": {
     "slide_type": "slide"
    }
   },
   "outputs": [
    {
     "data": {
      "text/html": [
       "<div>\n",
       "<style scoped>\n",
       "    .dataframe tbody tr th:only-of-type {\n",
       "        vertical-align: middle;\n",
       "    }\n",
       "\n",
       "    .dataframe tbody tr th {\n",
       "        vertical-align: top;\n",
       "    }\n",
       "\n",
       "    .dataframe thead th {\n",
       "        text-align: right;\n",
       "    }\n",
       "</style>\n",
       "<table border=\"1\" class=\"dataframe\">\n",
       "  <thead>\n",
       "    <tr style=\"text-align: right;\">\n",
       "      <th></th>\n",
       "      <th>region</th>\n",
       "      <th>population</th>\n",
       "      <th>sex</th>\n",
       "      <th>age</th>\n",
       "      <th>education</th>\n",
       "      <th>income</th>\n",
       "      <th>statusquo</th>\n",
       "      <th>vote</th>\n",
       "      <th>logincome</th>\n",
       "      <th>logpop</th>\n",
       "      <th>sex_M</th>\n",
       "      <th>region_M</th>\n",
       "      <th>region_N</th>\n",
       "      <th>region_S</th>\n",
       "      <th>region_SA</th>\n",
       "      <th>education_PS</th>\n",
       "      <th>education_S</th>\n",
       "    </tr>\n",
       "  </thead>\n",
       "  <tbody>\n",
       "    <tr>\n",
       "      <th>0</th>\n",
       "      <td>N</td>\n",
       "      <td>175000</td>\n",
       "      <td>M</td>\n",
       "      <td>65.0</td>\n",
       "      <td>P</td>\n",
       "      <td>35000.0</td>\n",
       "      <td>1.00820</td>\n",
       "      <td>1</td>\n",
       "      <td>10.463103</td>\n",
       "      <td>12.072541</td>\n",
       "      <td>1</td>\n",
       "      <td>0</td>\n",
       "      <td>1</td>\n",
       "      <td>0</td>\n",
       "      <td>0</td>\n",
       "      <td>0</td>\n",
       "      <td>0</td>\n",
       "    </tr>\n",
       "    <tr>\n",
       "      <th>1</th>\n",
       "      <td>N</td>\n",
       "      <td>175000</td>\n",
       "      <td>M</td>\n",
       "      <td>29.0</td>\n",
       "      <td>PS</td>\n",
       "      <td>7500.0</td>\n",
       "      <td>-1.29617</td>\n",
       "      <td>0</td>\n",
       "      <td>8.922658</td>\n",
       "      <td>12.072541</td>\n",
       "      <td>1</td>\n",
       "      <td>0</td>\n",
       "      <td>1</td>\n",
       "      <td>0</td>\n",
       "      <td>0</td>\n",
       "      <td>1</td>\n",
       "      <td>0</td>\n",
       "    </tr>\n",
       "    <tr>\n",
       "      <th>2</th>\n",
       "      <td>N</td>\n",
       "      <td>175000</td>\n",
       "      <td>F</td>\n",
       "      <td>38.0</td>\n",
       "      <td>P</td>\n",
       "      <td>15000.0</td>\n",
       "      <td>1.23072</td>\n",
       "      <td>1</td>\n",
       "      <td>9.615805</td>\n",
       "      <td>12.072541</td>\n",
       "      <td>0</td>\n",
       "      <td>0</td>\n",
       "      <td>1</td>\n",
       "      <td>0</td>\n",
       "      <td>0</td>\n",
       "      <td>0</td>\n",
       "      <td>0</td>\n",
       "    </tr>\n",
       "    <tr>\n",
       "      <th>3</th>\n",
       "      <td>N</td>\n",
       "      <td>175000</td>\n",
       "      <td>F</td>\n",
       "      <td>49.0</td>\n",
       "      <td>P</td>\n",
       "      <td>35000.0</td>\n",
       "      <td>-1.03163</td>\n",
       "      <td>0</td>\n",
       "      <td>10.463103</td>\n",
       "      <td>12.072541</td>\n",
       "      <td>0</td>\n",
       "      <td>0</td>\n",
       "      <td>1</td>\n",
       "      <td>0</td>\n",
       "      <td>0</td>\n",
       "      <td>0</td>\n",
       "      <td>0</td>\n",
       "    </tr>\n",
       "    <tr>\n",
       "      <th>4</th>\n",
       "      <td>N</td>\n",
       "      <td>175000</td>\n",
       "      <td>F</td>\n",
       "      <td>23.0</td>\n",
       "      <td>S</td>\n",
       "      <td>35000.0</td>\n",
       "      <td>-1.10496</td>\n",
       "      <td>0</td>\n",
       "      <td>10.463103</td>\n",
       "      <td>12.072541</td>\n",
       "      <td>0</td>\n",
       "      <td>0</td>\n",
       "      <td>1</td>\n",
       "      <td>0</td>\n",
       "      <td>0</td>\n",
       "      <td>0</td>\n",
       "      <td>1</td>\n",
       "    </tr>\n",
       "  </tbody>\n",
       "</table>\n",
       "</div>"
      ],
      "text/plain": [
       "  region  population sex   age education   income  statusquo  vote  logincome  \\\n",
       "0      N      175000   M  65.0         P  35000.0    1.00820     1  10.463103   \n",
       "1      N      175000   M  29.0        PS   7500.0   -1.29617     0   8.922658   \n",
       "2      N      175000   F  38.0         P  15000.0    1.23072     1   9.615805   \n",
       "3      N      175000   F  49.0         P  35000.0   -1.03163     0  10.463103   \n",
       "4      N      175000   F  23.0         S  35000.0   -1.10496     0  10.463103   \n",
       "\n",
       "      logpop  sex_M  region_M  region_N  region_S  region_SA  education_PS  \\\n",
       "0  12.072541      1         0         1         0          0             0   \n",
       "1  12.072541      1         0         1         0          0             1   \n",
       "2  12.072541      0         0         1         0          0             0   \n",
       "3  12.072541      0         0         1         0          0             0   \n",
       "4  12.072541      0         0         1         0          0             0   \n",
       "\n",
       "   education_S  \n",
       "0            0  \n",
       "1            0  \n",
       "2            0  \n",
       "3            0  \n",
       "4            1  "
      ]
     },
     "execution_count": 24,
     "metadata": {},
     "output_type": "execute_result"
    }
   ],
   "source": [
    "## Loading Chile data\n",
    "chile = pd.read_csv('https://raw.githubusercontent.com/umbertomig/POLI175public/main/data/chilesurvey.csv')\n",
    "chile_clean = chile.dropna()\n",
    "chile_clean = chile_clean[chile_clean['vote'].isin(['Y', 'N'])]\n",
    "chile_clean['vote'] = np.where(chile_clean['vote'] == 'Y', 1, 0)\n",
    "chile_clean['logincome'] = np.log(chile_clean['income'])\n",
    "chile_clean['logpop'] = np.log(chile_clean['population'])\n",
    "dummies = pd.get_dummies(chile_clean['sex'], prefix = 'sex', drop_first = True)\n",
    "chile_clean = pd.concat([chile_clean, dummies], axis=1)\n",
    "dummies = pd.get_dummies(chile_clean['region'], prefix = 'region', drop_first = True)\n",
    "chile_clean = pd.concat([chile_clean, dummies], axis=1)\n",
    "dummies = pd.get_dummies(chile_clean['education'], prefix = 'education', drop_first = True)\n",
    "chile_clean = pd.concat([chile_clean, dummies], axis=1)\n",
    "chile_clean.head()"
   ]
  },
  {
   "cell_type": "code",
   "execution_count": 25,
   "id": "b696a377",
   "metadata": {
    "slideshow": {
     "slide_type": "slide"
    }
   },
   "outputs": [
    {
     "data": {
      "text/html": [
       "<div>\n",
       "<style scoped>\n",
       "    .dataframe tbody tr th:only-of-type {\n",
       "        vertical-align: middle;\n",
       "    }\n",
       "\n",
       "    .dataframe tbody tr th {\n",
       "        vertical-align: top;\n",
       "    }\n",
       "\n",
       "    .dataframe thead th {\n",
       "        text-align: right;\n",
       "    }\n",
       "</style>\n",
       "<table border=\"1\" class=\"dataframe\">\n",
       "  <thead>\n",
       "    <tr style=\"text-align: right;\">\n",
       "      <th></th>\n",
       "      <th>education</th>\n",
       "      <th>income</th>\n",
       "      <th>young</th>\n",
       "      <th>urban</th>\n",
       "      <th>education_log</th>\n",
       "      <th>income_log</th>\n",
       "      <th>young_log</th>\n",
       "      <th>urban_log</th>\n",
       "    </tr>\n",
       "    <tr>\n",
       "      <th>states</th>\n",
       "      <th></th>\n",
       "      <th></th>\n",
       "      <th></th>\n",
       "      <th></th>\n",
       "      <th></th>\n",
       "      <th></th>\n",
       "      <th></th>\n",
       "      <th></th>\n",
       "    </tr>\n",
       "  </thead>\n",
       "  <tbody>\n",
       "    <tr>\n",
       "      <th>ME</th>\n",
       "      <td>189</td>\n",
       "      <td>2824</td>\n",
       "      <td>350.7</td>\n",
       "      <td>508</td>\n",
       "      <td>5.241747</td>\n",
       "      <td>7.945910</td>\n",
       "      <td>5.859931</td>\n",
       "      <td>6.230481</td>\n",
       "    </tr>\n",
       "    <tr>\n",
       "      <th>NH</th>\n",
       "      <td>169</td>\n",
       "      <td>3259</td>\n",
       "      <td>345.9</td>\n",
       "      <td>564</td>\n",
       "      <td>5.129899</td>\n",
       "      <td>8.089176</td>\n",
       "      <td>5.846150</td>\n",
       "      <td>6.335054</td>\n",
       "    </tr>\n",
       "    <tr>\n",
       "      <th>VT</th>\n",
       "      <td>230</td>\n",
       "      <td>3072</td>\n",
       "      <td>348.5</td>\n",
       "      <td>322</td>\n",
       "      <td>5.438079</td>\n",
       "      <td>8.030084</td>\n",
       "      <td>5.853638</td>\n",
       "      <td>5.774552</td>\n",
       "    </tr>\n",
       "    <tr>\n",
       "      <th>MA</th>\n",
       "      <td>168</td>\n",
       "      <td>3835</td>\n",
       "      <td>335.3</td>\n",
       "      <td>846</td>\n",
       "      <td>5.123964</td>\n",
       "      <td>8.251925</td>\n",
       "      <td>5.815026</td>\n",
       "      <td>6.740519</td>\n",
       "    </tr>\n",
       "    <tr>\n",
       "      <th>RI</th>\n",
       "      <td>180</td>\n",
       "      <td>3549</td>\n",
       "      <td>327.1</td>\n",
       "      <td>871</td>\n",
       "      <td>5.192957</td>\n",
       "      <td>8.174421</td>\n",
       "      <td>5.790266</td>\n",
       "      <td>6.769642</td>\n",
       "    </tr>\n",
       "  </tbody>\n",
       "</table>\n",
       "</div>"
      ],
      "text/plain": [
       "        education  income  young  urban  education_log  income_log  young_log  \\\n",
       "states                                                                          \n",
       "ME            189    2824  350.7    508       5.241747    7.945910   5.859931   \n",
       "NH            169    3259  345.9    564       5.129899    8.089176   5.846150   \n",
       "VT            230    3072  348.5    322       5.438079    8.030084   5.853638   \n",
       "MA            168    3835  335.3    846       5.123964    8.251925   5.815026   \n",
       "RI            180    3549  327.1    871       5.192957    8.174421   5.790266   \n",
       "\n",
       "        urban_log  \n",
       "states             \n",
       "ME       6.230481  \n",
       "NH       6.335054  \n",
       "VT       5.774552  \n",
       "MA       6.740519  \n",
       "RI       6.769642  "
      ]
     },
     "execution_count": 25,
     "metadata": {},
     "output_type": "execute_result"
    }
   ],
   "source": [
    "## Education Expenditure Dataset\n",
    "educ = pd.read_csv('https://raw.githubusercontent.com/umbertomig/POLI175public/main/data/educexp.csv')\n",
    "educ = educ.set_index('states')\n",
    "for i in educ.columns:\n",
    "    educ[i + '_log'] = np.log(educ[i])\n",
    "educ.head()"
   ]
  },
  {
   "cell_type": "markdown",
   "id": "6b72f2f6",
   "metadata": {
    "slideshow": {
     "slide_type": "slide"
    }
   },
   "source": [
    "## Cross-Validation\n",
    "\n",
    "- We talked about it in Class 02.\n",
    "\n",
    "- In that context, we looked at the idea of a\n",
    "    + `training error rate` (the boring one): The error when fitting the model to data that was used to train the parameters, and\n",
    "    + `test error rate` (the cool one): The error associated with fitting the model to ***unseen*** data."
   ]
  },
  {
   "cell_type": "markdown",
   "id": "266e9a46",
   "metadata": {
    "slideshow": {
     "slide_type": "slide"
    }
   },
   "source": [
    "## Cross-Validation\n",
    "\n",
    "### Validation Set Approach\n",
    "\n",
    "- Randomly divide the data into two sets:\n",
    "    + `Training set`: The data used to fit the model\n",
    "    + `Testing set`: The data used to test the performance of the fitted model."
   ]
  },
  {
   "cell_type": "markdown",
   "id": "33edcd3c",
   "metadata": {
    "slideshow": {
     "slide_type": "slide"
    }
   },
   "source": [
    "## Cross-Validation\n",
    "\n",
    "### Validation Set Approach\n",
    "\n",
    "- Split the sample in half training - half testing and running the estimation:\n",
    "\n",
    "![img vsa](../img/cv1.png)"
   ]
  },
  {
   "cell_type": "code",
   "execution_count": 28,
   "id": "6acd2f40",
   "metadata": {
    "slideshow": {
     "slide_type": "slide"
    }
   },
   "outputs": [
    {
     "data": {
      "text/plain": [
       "0.420869636137682"
      ]
     },
     "execution_count": 28,
     "metadata": {},
     "output_type": "execute_result"
    }
   ],
   "source": [
    "## With 50% split (no urban_log)\n",
    "y = educ['education_log']\n",
    "X = educ[['income_log', 'young_log']]\n",
    "\n",
    "X_train, X_test, y_train, y_test = train_test_split(X, y, test_size = 0.5, random_state = 1234)\n",
    "\n",
    "reg = LinearRegression().fit(X_train, y_train)\n",
    "\n",
    "y_pred = reg.predict(X_test)\n",
    "\n",
    "np.sum((y_pred - y_test) ** 2)"
   ]
  },
  {
   "cell_type": "code",
   "execution_count": 37,
   "id": "c2e6847d",
   "metadata": {
    "slideshow": {
     "slide_type": "slide"
    }
   },
   "outputs": [
    {
     "data": {
      "text/plain": [
       "0.13648708256611777"
      ]
     },
     "execution_count": 37,
     "metadata": {},
     "output_type": "execute_result"
    }
   ],
   "source": [
    "## With 50% split (with urban_log)\n",
    "y = educ['education_log']\n",
    "X = educ[['income_log', 'young_log', 'urban_log']]\n",
    "X_train, X_test, y_train, y_test = train_test_split(X, y, test_size = 0.1, random_state = 1234)\n",
    "reg = LinearRegression().fit(X_train, y_train)\n",
    "y_pred = reg.predict(X_test)\n",
    "np.sum((y_pred - y_test) ** 2)"
   ]
  },
  {
   "cell_type": "code",
   "execution_count": 6,
   "id": "750ac6ed",
   "metadata": {
    "slideshow": {
     "slide_type": "slide"
    }
   },
   "outputs": [],
   "source": [
    "## Your turn: Check the MSE when removing income_log. Is it\n",
    "##  better?"
   ]
  },
  {
   "cell_type": "code",
   "execution_count": 7,
   "id": "1eb05831",
   "metadata": {
    "slideshow": {
     "slide_type": "slide"
    }
   },
   "outputs": [],
   "source": [
    "## Your turn: Check the MSE when removing 'urban_pop' \n",
    "##   with only 20% of observations in the testing set."
   ]
  },
  {
   "cell_type": "markdown",
   "id": "43173a8a",
   "metadata": {
    "slideshow": {
     "slide_type": "slide"
    }
   },
   "source": [
    "## Cross-Validation\n",
    "\n",
    "### Leave-One-Out Cross-Validation\n",
    "\n",
    "- It does what it says: leaves one observation out and fits the model with $n-1$ cases.\n",
    "\n",
    "- Then, it predicts the results in the case left out.\n",
    "\n",
    "- **Great** for small datasets and when prediction is critical.\n",
    "\n",
    "- **Bad** in terms of computational time.\n",
    "\n",
    "$$ CV_n \\ = \\ \\dfrac{1}{n}\\sum_i MSE_i $$"
   ]
  },
  {
   "cell_type": "markdown",
   "id": "36ae8ab3",
   "metadata": {
    "slideshow": {
     "slide_type": "slide"
    }
   },
   "source": [
    "## Cross-Validation\n",
    "\n",
    "### Leave-One-Out Cross-Validation\n",
    "\n",
    "![img](../img/cv2.png)"
   ]
  },
  {
   "cell_type": "code",
   "execution_count": 40,
   "id": "c75f039a",
   "metadata": {
    "slideshow": {
     "slide_type": "slide"
    }
   },
   "outputs": [
    {
     "name": "stdout",
     "output_type": "stream",
     "text": [
      "0.1438784463664138\n"
     ]
    },
    {
     "data": {
      "text/plain": [
       "0.02070100732881302"
      ]
     },
     "execution_count": 40,
     "metadata": {},
     "output_type": "execute_result"
    }
   ],
   "source": [
    "## LOOCV\n",
    "## Variables: model without urban population\n",
    "y = educ['education_log']\n",
    "X = educ[['income_log','young_log']]\n",
    "\n",
    "## Leave-One-Out-CV\n",
    "cv = LeaveOneOut()\n",
    "reg = LinearRegression()\n",
    "\n",
    "## Run the CV\n",
    "scores = cross_val_score(reg, X, y,\n",
    "                         scoring = 'neg_mean_squared_error',\n",
    "                         cv = cv)\n",
    "\n",
    "## RMSE\n",
    "print(np.sqrt(np.mean(np.absolute(scores))))\n",
    "\n",
    "## MSE\n",
    "np.mean(np.absolute(scores))"
   ]
  },
  {
   "cell_type": "code",
   "execution_count": 41,
   "id": "a4d0d15e",
   "metadata": {
    "slideshow": {
     "slide_type": "slide"
    }
   },
   "outputs": [
    {
     "name": "stdout",
     "output_type": "stream",
     "text": [
      "0.018296937636424527\n"
     ]
    },
    {
     "data": {
      "text/plain": [
       "0.13526617328964594"
      ]
     },
     "execution_count": 41,
     "metadata": {},
     "output_type": "execute_result"
    }
   ],
   "source": [
    "## LOOCV\n",
    "## Variables: model **with** urban population\n",
    "y = educ['education_log']\n",
    "X = educ[['income_log', 'young_log', 'urban_log']]\n",
    "\n",
    "## Leave-One-Out-CV\n",
    "cv = LeaveOneOut()\n",
    "reg = LinearRegression()\n",
    "\n",
    "\n",
    "## Run the CV\n",
    "scores = cross_val_score(reg, X, y, \n",
    "                         scoring = 'neg_mean_squared_error',\n",
    "                         cv = cv)\n",
    "\n",
    "## MSE\n",
    "print(np.mean(np.absolute(scores)))\n",
    "\n",
    "## RMSE\n",
    "np.sqrt(np.mean(np.absolute(scores)))"
   ]
  },
  {
   "cell_type": "code",
   "execution_count": 10,
   "id": "34eb9e5f",
   "metadata": {
    "slideshow": {
     "slide_type": "slide"
    }
   },
   "outputs": [],
   "source": [
    "## Your turn: compare the model with x without logs\n",
    "## Note: the target has to be the same!"
   ]
  },
  {
   "cell_type": "markdown",
   "id": "85cd4cbe",
   "metadata": {
    "slideshow": {
     "slide_type": "slide"
    }
   },
   "source": [
    "## Cross-Validation\n",
    "\n",
    "### Metrics\n",
    "\n",
    "- To do the comparison, you need a metric.\n",
    "\n",
    "- `scikit learn` has many matrics available:"
   ]
  },
  {
   "cell_type": "code",
   "execution_count": 42,
   "id": "cbb2d6dd",
   "metadata": {
    "slideshow": {
     "slide_type": "slide"
    }
   },
   "outputs": [
    {
     "name": "stdout",
     "output_type": "stream",
     "text": [
      "['accuracy', 'adjusted_mutual_info_score', 'adjusted_rand_score', 'average_precision', 'balanced_accuracy', 'completeness_score', 'explained_variance', 'f1', 'f1_macro', 'f1_micro', 'f1_samples', 'f1_weighted', 'fowlkes_mallows_score', 'homogeneity_score', 'jaccard', 'jaccard_macro', 'jaccard_micro', 'jaccard_samples', 'jaccard_weighted', 'matthews_corrcoef', 'max_error', 'mutual_info_score', 'neg_brier_score', 'neg_log_loss', 'neg_mean_absolute_error', 'neg_mean_absolute_percentage_error', 'neg_mean_gamma_deviance', 'neg_mean_poisson_deviance', 'neg_mean_squared_error', 'neg_mean_squared_log_error', 'neg_median_absolute_error', 'neg_negative_likelihood_ratio', 'neg_root_mean_squared_error', 'normalized_mutual_info_score', 'positive_likelihood_ratio', 'precision', 'precision_macro', 'precision_micro', 'precision_samples', 'precision_weighted', 'r2', 'rand_score', 'recall', 'recall_macro', 'recall_micro', 'recall_samples', 'recall_weighted', 'roc_auc', 'roc_auc_ovo', 'roc_auc_ovo_weighted', 'roc_auc_ovr', 'roc_auc_ovr_weighted', 'top_k_accuracy', 'v_measure_score']\n"
     ]
    }
   ],
   "source": [
    "## Lots of stats to compute the error:\n",
    "print(get_scorer_names())"
   ]
  },
  {
   "cell_type": "code",
   "execution_count": 12,
   "id": "6cbf55dc",
   "metadata": {
    "slideshow": {
     "slide_type": "slide"
    }
   },
   "outputs": [],
   "source": [
    "## Your turn: find and use R-squared as the parameter for a\n",
    "## LOOCV. What is the difference?"
   ]
  },
  {
   "cell_type": "markdown",
   "id": "87217f23",
   "metadata": {
    "slideshow": {
     "slide_type": "slide"
    }
   },
   "source": [
    "## Cross-Validation\n",
    "\n",
    "### K-Fold Cross-Validation\n",
    "\n",
    "- Leaves $k$ groups out and fits the model with the observations outside each group.\n",
    "\n",
    "- Then, it predicts the results in the cases left out.\n",
    "\n",
    "- **Great** in most cases.\n",
    "\n",
    "- **Bad** *sometimes* computationally expensive.\n",
    "\n",
    "$$ CV_k \\ = \\ \\dfrac{1}{k}\\sum_i MSE_i $$"
   ]
  },
  {
   "cell_type": "markdown",
   "id": "f5b281b3",
   "metadata": {
    "slideshow": {
     "slide_type": "slide"
    }
   },
   "source": [
    "## Cross-Validation\n",
    "\n",
    "### K-Fold Cross-Validation\n",
    "\n",
    "![img](../img/cv3.png)"
   ]
  },
  {
   "cell_type": "code",
   "execution_count": 43,
   "id": "253bf01f",
   "metadata": {
    "slideshow": {
     "slide_type": "slide"
    }
   },
   "outputs": [
    {
     "name": "stdout",
     "output_type": "stream",
     "text": [
      "0.023330828312154113\n"
     ]
    },
    {
     "data": {
      "text/plain": [
       "0.15274432333855853"
      ]
     },
     "execution_count": 43,
     "metadata": {},
     "output_type": "execute_result"
    }
   ],
   "source": [
    "## K-Fold CV (k = 5)\n",
    "y = educ['education_log']\n",
    "X = educ[['income_log', 'young_log']]\n",
    "\n",
    "## k-Fold CV (n_splits = k, shuffle: reshuffle data before split)\n",
    "cv = KFold(n_splits = 5, random_state = 1234, shuffle = True) \n",
    "reg = LinearRegression()\n",
    "\n",
    "\n",
    "## Run the CV\n",
    "scores = cross_val_score(reg, X, y,\n",
    "                         scoring = 'neg_mean_squared_error',\n",
    "                         cv = cv)\n",
    "\n",
    "## MSE\n",
    "print(np.mean(np.absolute(scores)))\n",
    "\n",
    "## RMSE\n",
    "np.sqrt(np.mean(np.absolute(scores)))"
   ]
  },
  {
   "cell_type": "code",
   "execution_count": 44,
   "id": "29899042",
   "metadata": {
    "slideshow": {
     "slide_type": "slide"
    }
   },
   "outputs": [
    {
     "name": "stdout",
     "output_type": "stream",
     "text": [
      "0.02108853432951009\n"
     ]
    },
    {
     "data": {
      "text/plain": [
       "0.1452189186349702"
      ]
     },
     "execution_count": 44,
     "metadata": {},
     "output_type": "execute_result"
    }
   ],
   "source": [
    "## K-Fold CV (k = 5)\n",
    "y = educ['education_log']\n",
    "X = educ[['income_log', 'young_log', 'urban_log']]\n",
    "\n",
    "## k-Fold CV (n_splits = k, shuffle: reshuffle data before split)\n",
    "cv = KFold(n_splits = 5, random_state = 1234, shuffle = True) \n",
    "reg = LinearRegression()\n",
    "\n",
    "\n",
    "## Run the CV\n",
    "scores = cross_val_score(reg, X, y,\n",
    "                         scoring = 'neg_mean_squared_error',\n",
    "                         cv = cv)\n",
    "\n",
    "## MSE\n",
    "print(np.mean(np.absolute(scores)))\n",
    "\n",
    "## RMSE\n",
    "np.sqrt(np.mean(np.absolute(scores)))"
   ]
  },
  {
   "cell_type": "code",
   "execution_count": 15,
   "id": "c8a3be41",
   "metadata": {
    "slideshow": {
     "slide_type": "slide"
    }
   },
   "outputs": [],
   "source": [
    "## Your turn: Run a 10-fold CV? Any differences?"
   ]
  },
  {
   "cell_type": "markdown",
   "id": "05794a41",
   "metadata": {
    "slideshow": {
     "slide_type": "slide"
    }
   },
   "source": [
    "## Cross-Validation\n",
    "\n",
    "### Bias-Variance Trade-off\n",
    "\n",
    "- k-Fold CV is more computationally efficient than LOOCV. But how about Bias-Variance Trade-offs?\n",
    "\n",
    "- Larger fractions in a two-split leads to high bias: over-estimates the error rates.\n",
    "\n",
    "- LOOCV: leaves just one, so it gives an unbiased estimate of the testing error rates: \n",
    "    + Very good for bias reduction!"
   ]
  },
  {
   "cell_type": "markdown",
   "id": "f697d9d7",
   "metadata": {
    "slideshow": {
     "slide_type": "slide"
    }
   },
   "source": [
    "## Cross-Validation\n",
    "\n",
    "### Bias-Variance Trade-off\n",
    "\n",
    "- LOOCV has high variance: almost the same observations at each run!\n",
    "    + Very bad for variance.\n",
    "    \n",
    "- k-Fold CV:\n",
    "    + Each subset is a *bit more different* than the other.\n",
    "    + Leads to less correlation between each fold.\n",
    "    + Good balance usually with $k=5$ or $k=10$."
   ]
  },
  {
   "cell_type": "markdown",
   "id": "ec711f60",
   "metadata": {
    "slideshow": {
     "slide_type": "slide"
    }
   },
   "source": [
    "## Cross-Validation\n",
    "\n",
    "### Bias-Variance Trade-off\n",
    "\n",
    "![img](../img/cv4.png)"
   ]
  },
  {
   "cell_type": "markdown",
   "id": "64bd57b5",
   "metadata": {
    "slideshow": {
     "slide_type": "slide"
    }
   },
   "source": [
    "## Cross-Validation\n",
    "\n",
    "### CV on Classification Problems\n",
    "\n",
    "- When we have a classification, we must change how we evaluate the error.\n",
    "\n",
    "- With classification, the LOOCV would look like this:\n",
    "\n",
    "$$ CV_n \\ = \\ \\dfrac{1}{n} \\sum_i I(y_i \\neq \\widehat{y}_i) $$\n",
    "\n",
    "- And the `accuracy` measure will be $I(y_i = \\widehat{y}_i)$, so we need to subtract 1."
   ]
  },
  {
   "cell_type": "markdown",
   "id": "fe5f488f",
   "metadata": {
    "slideshow": {
     "slide_type": "slide"
    }
   },
   "source": [
    "## Cross-Validation\n",
    "\n",
    "### CV on Classification Problems\n",
    "\n",
    "![img](../img/cv5.png)"
   ]
  },
  {
   "cell_type": "code",
   "execution_count": 45,
   "id": "5c912014",
   "metadata": {
    "slideshow": {
     "slide_type": "slide"
    }
   },
   "outputs": [
    {
     "name": "stdout",
     "output_type": "stream",
     "text": [
      "For polynomial order 1, the Logistic Regression Error Rate is 0.4509688784497945.\n",
      "\n",
      "For polynomial order 2, the Logistic Regression Error Rate is 0.4386376981796829.\n",
      "\n",
      "For polynomial order 3, the Logistic Regression Error Rate is 0.45155607751027593.\n",
      "\n",
      "For polynomial order 4, the Logistic Regression Error Rate is 0.43687610099823837.\n",
      "\n",
      "For polynomial order 5, the Logistic Regression Error Rate is 0.5091015854374633.\n",
      "\n"
     ]
    }
   ],
   "source": [
    "## LOOCV on a Logistic Regression\n",
    "# Checking best polynomial for Age\n",
    "poly = list(range(1, 6))\n",
    "errmea = []\n",
    "y = chile_clean['vote']\n",
    "for p in poly:\n",
    "    if p == 1:\n",
    "        X = pd.DataFrame({\n",
    "            'age_1': chile_clean['age']\n",
    "        })\n",
    "    else:\n",
    "        X['age_' + str(p)] = X['age_1'] ** p\n",
    "    cv = LeaveOneOut()\n",
    "    logreg = LogisticRegression()\n",
    "    scores = cross_val_score(logreg, X, y, \n",
    "                             scoring = 'accuracy',\n",
    "                             cv = cv, n_jobs = -1)\n",
    "    print('For polynomial order {a}, the Logistic Regression Error Rate is {b}.\\n'.format(a = str(p), b = str(1-scores.mean())))\n",
    "    errmea.append(1-scores.mean())"
   ]
  },
  {
   "cell_type": "markdown",
   "id": "e8e97dd5",
   "metadata": {
    "slideshow": {
     "slide_type": "slide"
    }
   },
   "source": [
    "## Classification\n",
    "\n",
    "### K-Nearest Neighbors Classifier\n",
    "\n",
    "- Little detour back to talk about a good algorithm for classification (also very intuitive).\n",
    "\n",
    "- Given an integer $K$, and a test observation, it says that:\n",
    "\n",
    "$$ \\mathbb{P}(Y = j| X = x_0) \\ = \\ \\dfrac{1}{K}\\sum_{i \\in N_0} I(y_i = j) $$\n",
    "\n",
    "- Meaning: classify the observation based on the class of the closest $K$ obs:\n",
    "    + The one more frequent is the winner.\n",
    "    \n",
    "- Closest: the idea of a metric."
   ]
  },
  {
   "cell_type": "markdown",
   "id": "b2cc8989",
   "metadata": {
    "slideshow": {
     "slide_type": "slide"
    }
   },
   "source": [
    "## Classification\n",
    "\n",
    "### K-Nearest Neighbors Classifier\n",
    "\n",
    "![img](../img/knn1.png)"
   ]
  },
  {
   "cell_type": "markdown",
   "id": "6f917d93",
   "metadata": {
    "slideshow": {
     "slide_type": "slide"
    }
   },
   "source": [
    "## Classification\n",
    "\n",
    "### K-Nearest Neighbors Classifier\n",
    "\n",
    "![img](../img/knn2.png)"
   ]
  },
  {
   "cell_type": "code",
   "execution_count": 17,
   "id": "9eacec81",
   "metadata": {
    "slideshow": {
     "slide_type": "slide"
    }
   },
   "outputs": [
    {
     "data": {
      "image/png": "[encoded data removed]",
      "text/plain": [
       "<Figure size 640x480 with 1 Axes>"
      ]
     },
     "metadata": {},
     "output_type": "display_data"
    }
   ],
   "source": [
    "# KNN\n",
    "X = chile_clean[['age', 'statusquo']]\n",
    "y = chile_clean['vote']\n",
    "\n",
    "# Create the model\n",
    "knn = KNeighborsClassifier(n_neighbors = 10).fit(X, y)\n",
    "\n",
    "# Plotting the tree boundaries\n",
    "fig = DecisionBoundaryDisplay.from_estimator(knn, X, response_method=\"predict\",\n",
    "                                             alpha=0.5, cmap=plt.cm.coolwarm)\n",
    "\n",
    "# Plotting the data points    \n",
    "fig.ax_.scatter(x = chile_clean['age'], y = chile_clean['statusquo'], \n",
    "                c = y, alpha = 0.5,\n",
    "                cmap = plt.cm.coolwarm)\n",
    "\n",
    "plt.show()"
   ]
  },
  {
   "cell_type": "code",
   "execution_count": 18,
   "id": "2d4871d6",
   "metadata": {
    "slideshow": {
     "slide_type": "slide"
    }
   },
   "outputs": [
    {
     "name": "stdout",
     "output_type": "stream",
     "text": [
      "Best K is 8.\n"
     ]
    }
   ],
   "source": [
    "## Now choose K!\n",
    "bigK = list(range(1, 100))\n",
    "errmea = []\n",
    "y = chile_clean['vote']\n",
    "X = chile_clean[['statusquo', 'logincome', 'logpop', 'age']]\n",
    "for smallk in bigK:\n",
    "    cv = KFold(n_splits = 10, random_state = 1234, shuffle = True)\n",
    "    knn = KNeighborsClassifier(n_neighbors = smallk)\n",
    "    scores = cross_val_score(knn, X, y, \n",
    "                             scoring = 'accuracy',\n",
    "                             cv = cv, n_jobs = -1)\n",
    "    errmea.append(1-scores.mean())\n",
    "print('Best K is {a}.'.format(a = str(bigK[errmea.index(min(errmea))])))"
   ]
  },
  {
   "cell_type": "code",
   "execution_count": 19,
   "id": "e74ef717",
   "metadata": {
    "slideshow": {
     "slide_type": "slide"
    }
   },
   "outputs": [
    {
     "data": {
      "image/png": "[encoded data removed]",
      "text/plain": [
       "<Figure size 640x480 with 1 Axes>"
      ]
     },
     "metadata": {},
     "output_type": "display_data"
    }
   ],
   "source": [
    "sns.lineplot(x = bigK, y = errmea)\n",
    "plt.title('KNN algorithm')\n",
    "plt.xlabel('K')\n",
    "plt.ylabel('Error Rate')\n",
    "plt.scatter(bigK[errmea.index(min(errmea))], min(errmea), marker='X', color = 'red')\n",
    "plt.show()"
   ]
  },
  {
   "cell_type": "markdown",
   "id": "d8eace45",
   "metadata": {
    "slideshow": {
     "slide_type": "slide"
    }
   },
   "source": [
    "# Questions?"
   ]
  },
  {
   "cell_type": "markdown",
   "id": "22d252e9",
   "metadata": {
    "slideshow": {
     "slide_type": "slide"
    }
   },
   "source": [
    "# See you next class\n"
   ]
  },
  {
   "cell_type": "code",
   "execution_count": 20,
   "id": "0fbad572",
   "metadata": {
    "slideshow": {
     "slide_type": "slide"
    }
   },
   "outputs": [
    {
     "data": {
      "text/html": [
       "<div>\n",
       "<style scoped>\n",
       "    .dataframe tbody tr th:only-of-type {\n",
       "        vertical-align: middle;\n",
       "    }\n",
       "\n",
       "    .dataframe tbody tr th {\n",
       "        vertical-align: top;\n",
       "    }\n",
       "\n",
       "    .dataframe thead th {\n",
       "        text-align: right;\n",
       "    }\n",
       "</style>\n",
       "<table border=\"1\" class=\"dataframe\">\n",
       "  <thead>\n",
       "    <tr style=\"text-align: right;\">\n",
       "      <th></th>\n",
       "      <th>type</th>\n",
       "      <th>income</th>\n",
       "      <th>education</th>\n",
       "      <th>prestige</th>\n",
       "      <th>type_prof</th>\n",
       "      <th>type_wc</th>\n",
       "    </tr>\n",
       "    <tr>\n",
       "      <th>profession</th>\n",
       "      <th></th>\n",
       "      <th></th>\n",
       "      <th></th>\n",
       "      <th></th>\n",
       "      <th></th>\n",
       "      <th></th>\n",
       "    </tr>\n",
       "  </thead>\n",
       "  <tbody>\n",
       "    <tr>\n",
       "      <th>accountant</th>\n",
       "      <td>prof</td>\n",
       "      <td>62</td>\n",
       "      <td>86</td>\n",
       "      <td>82</td>\n",
       "      <td>1</td>\n",
       "      <td>0</td>\n",
       "    </tr>\n",
       "    <tr>\n",
       "      <th>pilot</th>\n",
       "      <td>prof</td>\n",
       "      <td>72</td>\n",
       "      <td>76</td>\n",
       "      <td>83</td>\n",
       "      <td>1</td>\n",
       "      <td>0</td>\n",
       "    </tr>\n",
       "    <tr>\n",
       "      <th>architect</th>\n",
       "      <td>prof</td>\n",
       "      <td>75</td>\n",
       "      <td>92</td>\n",
       "      <td>90</td>\n",
       "      <td>1</td>\n",
       "      <td>0</td>\n",
       "    </tr>\n",
       "    <tr>\n",
       "      <th>author</th>\n",
       "      <td>prof</td>\n",
       "      <td>55</td>\n",
       "      <td>90</td>\n",
       "      <td>76</td>\n",
       "      <td>1</td>\n",
       "      <td>0</td>\n",
       "    </tr>\n",
       "    <tr>\n",
       "      <th>chemist</th>\n",
       "      <td>prof</td>\n",
       "      <td>64</td>\n",
       "      <td>86</td>\n",
       "      <td>90</td>\n",
       "      <td>1</td>\n",
       "      <td>0</td>\n",
       "    </tr>\n",
       "  </tbody>\n",
       "</table>\n",
       "</div>"
      ],
      "text/plain": [
       "            type  income  education  prestige  type_prof  type_wc\n",
       "profession                                                       \n",
       "accountant  prof      62         86        82          1        0\n",
       "pilot       prof      72         76        83          1        0\n",
       "architect   prof      75         92        90          1        0\n",
       "author      prof      55         90        76          1        0\n",
       "chemist     prof      64         86        90          1        0"
      ]
     },
     "execution_count": 20,
     "metadata": {},
     "output_type": "execute_result"
    }
   ],
   "source": [
    "## Prestige Dataset\n",
    "prestige = pd.read_csv('https://raw.githubusercontent.com/umbertomig/POLI175public/main/data/Duncan.csv')\n",
    "prestige = prestige.set_index('profession')\n",
    "dummies = pd.get_dummies(prestige['type'], prefix = 'type', drop_first = True)\n",
    "prestige = pd.concat([prestige, dummies], axis=1)\n",
    "prestige.head()"
   ]
  }
 ],
 "metadata": {
  "celltoolbar": "Slideshow",
  "kernelspec": {
   "display_name": "Python 3 (ipykernel)",
   "language": "python",
   "name": "python3"
  },
  "language_info": {
   "codemirror_mode": {
    "name": "ipython",
    "version": 3
   },
   "file_extension": ".py",
   "mimetype": "text/x-python",
   "name": "python",
   "nbconvert_exporter": "python",
   "pygments_lexer": "ipython3",
   "version": "3.9.13"
  }
 },
 "nbformat": 4,
 "nbformat_minor": 5
}
