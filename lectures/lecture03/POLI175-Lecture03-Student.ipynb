{
 "cells": [
  {
   "cell_type": "markdown",
   "metadata": {
    "slideshow": {
     "slide_type": "slide"
    }
   },
   "source": [
    "# POLI 175 - Machine Learning for Social Sciences\n",
    "\n",
    "## Python Refresh I\n",
    "\n",
    "---"
   ]
  },
  {
   "cell_type": "markdown",
   "metadata": {
    "slideshow": {
     "slide_type": "slide"
    }
   },
   "source": [
    "# Data Science with Pandas"
   ]
  },
  {
   "cell_type": "markdown",
   "metadata": {
    "slideshow": {
     "slide_type": "fragment"
    }
   },
   "source": [
    "## Load Pandas\n",
    "\n",
    "Load pandas is very easy. Provided that the package is installed (if not, check [here](https://pandas.pydata.org/pandas-docs/stable/getting_started/install.html) how to install it), type:"
   ]
  },
  {
   "cell_type": "code",
   "execution_count": 1,
   "metadata": {
    "slideshow": {
     "slide_type": "fragment"
    }
   },
   "outputs": [],
   "source": [
    "# My code here\n",
    "import pandas as pd\n",
    "import numpy as np"
   ]
  },
  {
   "cell_type": "markdown",
   "metadata": {
    "slideshow": {
     "slide_type": "slide"
    }
   },
   "source": [
    "## Load Data into Python\n",
    "\n",
    "To start having fun, we need to load data into Python. We can do this in three ways: from a local file, from the internet, and from data typed in the keyboard.\n",
    "\n",
    "### From Locale\n",
    "\n",
    "First, we need to find the working directory. To do that, we need to use the library `os`. To do this you need to:\n",
    "\n",
    "```\n",
    "import os\n",
    "print(os.getcwd())\n",
    "```"
   ]
  },
  {
   "cell_type": "markdown",
   "metadata": {
    "slideshow": {
     "slide_type": "slide"
    }
   },
   "source": [
    "## Load Data into Python\n",
    "\n",
    "Then, you need to put the file in the folder. If you need to change the folder, use the function:\n",
    "\n",
    "```\n",
    "os.chdir(\"new_path_here\")\n",
    "```\n",
    "\n",
    "Now that we know the folder, and the file is there, we can load it:\n",
    "\n",
    "```\n",
    "dat = pd.read_csv('file_name_here.csv')\n",
    "```"
   ]
  },
  {
   "cell_type": "markdown",
   "metadata": {
    "slideshow": {
     "slide_type": "slide"
    }
   },
   "source": [
    "### Load Dataset on the internet\n",
    "\n",
    "The way we will load here is from the internet. \n",
    "\n",
    "For example, suppose the following dataset: https://raw.githubusercontent.com/umbertomig/qtm150/master/datasets/PErisk.csv.\n",
    "\n",
    "To open, we use the `read_csv` command as we did with the locale version."
   ]
  },
  {
   "cell_type": "code",
   "execution_count": 20,
   "metadata": {
    "slideshow": {
     "slide_type": "fragment"
    }
   },
   "outputs": [],
   "source": [
    "# My code here\n",
    "dat = pd.read_csv('https://raw.githubusercontent.com/umbertomig/POLI175public/main/data/tips.csv')\n"
   ]
  },
  {
   "cell_type": "markdown",
   "metadata": {
    "slideshow": {
     "slide_type": "slide"
    }
   },
   "source": [
    "### From typing in the keyboard\n",
    "\n",
    "We can also build a dataset from scratch.\n",
    "\n",
    "For example, we could build a simple dataset in the following way:\n",
    "\n",
    "```\n",
    "dat = pd.DataFrame({\n",
    "    \"v1\": ['d1', 'd2', 'd3'],\n",
    "    \"v2\": [1, 2, 3],\n",
    "    \"v3\": ['A', 'B', 'A'],\n",
    "    \"v4\": [2.0, 1.1, 2.2]})\n",
    "```\n",
    "\n",
    "And this works for small datasets, with the inconvenience of having to type."
   ]
  },
  {
   "cell_type": "markdown",
   "metadata": {
    "slideshow": {
     "slide_type": "slide"
    }
   },
   "source": [
    "## Dataset Information\n",
    "\n",
    "Suppose we have a pandas dataset called `dat`. To make it more realistic, use the following example:\n",
    "\n",
    "```\n",
    "# For me: PErisk\n",
    "dat = pd.read_csv('https://raw.githubusercontent.com/umbertomig/qtm150/master/datasets/PErisk.csv')\n",
    "\n",
    "# For you: tips\n",
    "dat2 = pd.read_csv('https://raw.githubusercontent.com/umbertomig/qtm151/main/datasets/tips.csv')\n",
    "```\n",
    "\n",
    "If you are having VPN issues, let me know."
   ]
  },
  {
   "cell_type": "code",
   "execution_count": 21,
   "metadata": {
    "slideshow": {
     "slide_type": "fragment"
    }
   },
   "outputs": [],
   "source": [
    "# For me: PErisk\n",
    "dat = pd.read_csv('https://raw.githubusercontent.com/umbertomig/qtm150/master/datasets/PErisk.csv')\n",
    "\n",
    "# For you: tips\n",
    "dat2 = pd.read_csv('https://raw.githubusercontent.com/umbertomig/qtm151/main/datasets/tips.csv')"
   ]
  },
  {
   "cell_type": "markdown",
   "metadata": {
    "slideshow": {
     "slide_type": "slide"
    }
   },
   "source": [
    "### .info(.)\n",
    "\n",
    "This method prints the information about the content of a dataset.\n",
    "\n",
    "Syntax and Usage: `print(dat.info())`"
   ]
  },
  {
   "cell_type": "code",
   "execution_count": 4,
   "metadata": {
    "slideshow": {
     "slide_type": "fragment"
    }
   },
   "outputs": [
    {
     "name": "stdout",
     "output_type": "stream",
     "text": [
      "<class 'pandas.core.frame.DataFrame'>\n",
      "RangeIndex: 62 entries, 0 to 61\n",
      "Data columns (total 6 columns):\n",
      " #   Column    Non-Null Count  Dtype  \n",
      "---  ------    --------------  -----  \n",
      " 0   country   62 non-null     object \n",
      " 1   courts    62 non-null     int64  \n",
      " 2   barb2     62 non-null     float64\n",
      " 3   prsexp2   62 non-null     int64  \n",
      " 4   prscorr2  62 non-null     int64  \n",
      " 5   gdpw2     62 non-null     float64\n",
      "dtypes: float64(2), int64(3), object(1)\n",
      "memory usage: 3.0+ KB\n",
      "None\n"
     ]
    }
   ],
   "source": [
    "# My code here\n",
    "print(dat.info())"
   ]
  },
  {
   "cell_type": "markdown",
   "metadata": {
    "slideshow": {
     "slide_type": "slide"
    }
   },
   "source": [
    "### .head(.)\n",
    "\n",
    "This method prints the first few observations of the dataset.\n",
    "\n",
    "Syntax and Usage: `print(dat.head())`"
   ]
  },
  {
   "cell_type": "code",
   "execution_count": 5,
   "metadata": {
    "slideshow": {
     "slide_type": "fragment"
    }
   },
   "outputs": [
    {
     "data": {
      "text/html": [
       "<div>\n",
       "<style scoped>\n",
       "    .dataframe tbody tr th:only-of-type {\n",
       "        vertical-align: middle;\n",
       "    }\n",
       "\n",
       "    .dataframe tbody tr th {\n",
       "        vertical-align: top;\n",
       "    }\n",
       "\n",
       "    .dataframe thead th {\n",
       "        text-align: right;\n",
       "    }\n",
       "</style>\n",
       "<table border=\"1\" class=\"dataframe\">\n",
       "  <thead>\n",
       "    <tr style=\"text-align: right;\">\n",
       "      <th></th>\n",
       "      <th>country</th>\n",
       "      <th>courts</th>\n",
       "      <th>barb2</th>\n",
       "      <th>prsexp2</th>\n",
       "      <th>prscorr2</th>\n",
       "      <th>gdpw2</th>\n",
       "    </tr>\n",
       "  </thead>\n",
       "  <tbody>\n",
       "    <tr>\n",
       "      <th>0</th>\n",
       "      <td>Argentina</td>\n",
       "      <td>0</td>\n",
       "      <td>-0.720775</td>\n",
       "      <td>1</td>\n",
       "      <td>3</td>\n",
       "      <td>9.690170</td>\n",
       "    </tr>\n",
       "    <tr>\n",
       "      <th>1</th>\n",
       "      <td>Australia</td>\n",
       "      <td>1</td>\n",
       "      <td>-6.907755</td>\n",
       "      <td>5</td>\n",
       "      <td>4</td>\n",
       "      <td>10.304840</td>\n",
       "    </tr>\n",
       "    <tr>\n",
       "      <th>2</th>\n",
       "      <td>Austria</td>\n",
       "      <td>1</td>\n",
       "      <td>-4.910337</td>\n",
       "      <td>5</td>\n",
       "      <td>4</td>\n",
       "      <td>10.100940</td>\n",
       "    </tr>\n",
       "    <tr>\n",
       "      <th>3</th>\n",
       "      <td>Bangladesh</td>\n",
       "      <td>0</td>\n",
       "      <td>0.775975</td>\n",
       "      <td>1</td>\n",
       "      <td>0</td>\n",
       "      <td>8.379768</td>\n",
       "    </tr>\n",
       "    <tr>\n",
       "      <th>4</th>\n",
       "      <td>Belgium</td>\n",
       "      <td>1</td>\n",
       "      <td>-4.617344</td>\n",
       "      <td>5</td>\n",
       "      <td>4</td>\n",
       "      <td>10.250120</td>\n",
       "    </tr>\n",
       "  </tbody>\n",
       "</table>\n",
       "</div>"
      ],
      "text/plain": [
       "      country  courts     barb2  prsexp2  prscorr2      gdpw2\n",
       "0   Argentina       0 -0.720775        1         3   9.690170\n",
       "1   Australia       1 -6.907755        5         4  10.304840\n",
       "2     Austria       1 -4.910337        5         4  10.100940\n",
       "3  Bangladesh       0  0.775975        1         0   8.379768\n",
       "4     Belgium       1 -4.617344        5         4  10.250120"
      ]
     },
     "execution_count": 5,
     "metadata": {},
     "output_type": "execute_result"
    }
   ],
   "source": [
    "# My code here\n",
    "dat.head()"
   ]
  },
  {
   "cell_type": "markdown",
   "metadata": {
    "slideshow": {
     "slide_type": "slide"
    }
   },
   "source": [
    "### .shape\n",
    "\n",
    "This prints the number of rows and columns of a dataset.\n",
    "\n",
    "Syntax and Usage: `print(dat.shape)`\n",
    "\n",
    "Note: no parenthesis necessary."
   ]
  },
  {
   "cell_type": "code",
   "execution_count": 6,
   "metadata": {
    "slideshow": {
     "slide_type": "fragment"
    }
   },
   "outputs": [
    {
     "data": {
      "text/plain": [
       "(62, 6)"
      ]
     },
     "execution_count": 6,
     "metadata": {},
     "output_type": "execute_result"
    }
   ],
   "source": [
    "# My code here\n",
    "dat.shape"
   ]
  },
  {
   "cell_type": "markdown",
   "metadata": {
    "slideshow": {
     "slide_type": "slide"
    }
   },
   "source": [
    "### .describe(.)\n",
    "\n",
    "This method gives us a few summary statistics of the dataset.\n",
    "\n",
    "Syntax and Usage: `print(dat.describe())`"
   ]
  },
  {
   "cell_type": "code",
   "execution_count": 7,
   "metadata": {
    "slideshow": {
     "slide_type": "fragment"
    }
   },
   "outputs": [
    {
     "data": {
      "text/html": [
       "<div>\n",
       "<style scoped>\n",
       "    .dataframe tbody tr th:only-of-type {\n",
       "        vertical-align: middle;\n",
       "    }\n",
       "\n",
       "    .dataframe tbody tr th {\n",
       "        vertical-align: top;\n",
       "    }\n",
       "\n",
       "    .dataframe thead th {\n",
       "        text-align: right;\n",
       "    }\n",
       "</style>\n",
       "<table border=\"1\" class=\"dataframe\">\n",
       "  <thead>\n",
       "    <tr style=\"text-align: right;\">\n",
       "      <th></th>\n",
       "      <th>courts</th>\n",
       "      <th>barb2</th>\n",
       "      <th>prsexp2</th>\n",
       "      <th>prscorr2</th>\n",
       "      <th>gdpw2</th>\n",
       "    </tr>\n",
       "  </thead>\n",
       "  <tbody>\n",
       "    <tr>\n",
       "      <th>count</th>\n",
       "      <td>62.000000</td>\n",
       "      <td>62.000000</td>\n",
       "      <td>62.000000</td>\n",
       "      <td>62.000000</td>\n",
       "      <td>62.000000</td>\n",
       "    </tr>\n",
       "    <tr>\n",
       "      <th>mean</th>\n",
       "      <td>0.451613</td>\n",
       "      <td>-2.925557</td>\n",
       "      <td>3.274194</td>\n",
       "      <td>2.532258</td>\n",
       "      <td>9.041875</td>\n",
       "    </tr>\n",
       "    <tr>\n",
       "      <th>std</th>\n",
       "      <td>0.501716</td>\n",
       "      <td>2.707211</td>\n",
       "      <td>1.369089</td>\n",
       "      <td>1.501013</td>\n",
       "      <td>0.970264</td>\n",
       "    </tr>\n",
       "    <tr>\n",
       "      <th>min</th>\n",
       "      <td>0.000000</td>\n",
       "      <td>-6.907755</td>\n",
       "      <td>0.000000</td>\n",
       "      <td>0.000000</td>\n",
       "      <td>7.029973</td>\n",
       "    </tr>\n",
       "    <tr>\n",
       "      <th>25%</th>\n",
       "      <td>0.000000</td>\n",
       "      <td>-4.894882</td>\n",
       "      <td>3.000000</td>\n",
       "      <td>1.250000</td>\n",
       "      <td>8.381027</td>\n",
       "    </tr>\n",
       "    <tr>\n",
       "      <th>50%</th>\n",
       "      <td>0.000000</td>\n",
       "      <td>-2.353233</td>\n",
       "      <td>3.000000</td>\n",
       "      <td>2.000000</td>\n",
       "      <td>9.185412</td>\n",
       "    </tr>\n",
       "    <tr>\n",
       "      <th>75%</th>\n",
       "      <td>1.000000</td>\n",
       "      <td>-1.301007</td>\n",
       "      <td>4.000000</td>\n",
       "      <td>4.000000</td>\n",
       "      <td>9.889280</td>\n",
       "    </tr>\n",
       "    <tr>\n",
       "      <th>max</th>\n",
       "      <td>1.000000</td>\n",
       "      <td>2.337425</td>\n",
       "      <td>5.000000</td>\n",
       "      <td>5.000000</td>\n",
       "      <td>10.410180</td>\n",
       "    </tr>\n",
       "  </tbody>\n",
       "</table>\n",
       "</div>"
      ],
      "text/plain": [
       "          courts      barb2    prsexp2   prscorr2      gdpw2\n",
       "count  62.000000  62.000000  62.000000  62.000000  62.000000\n",
       "mean    0.451613  -2.925557   3.274194   2.532258   9.041875\n",
       "std     0.501716   2.707211   1.369089   1.501013   0.970264\n",
       "min     0.000000  -6.907755   0.000000   0.000000   7.029973\n",
       "25%     0.000000  -4.894882   3.000000   1.250000   8.381027\n",
       "50%     0.000000  -2.353233   3.000000   2.000000   9.185412\n",
       "75%     1.000000  -1.301007   4.000000   4.000000   9.889280\n",
       "max     1.000000   2.337425   5.000000   5.000000  10.410180"
      ]
     },
     "execution_count": 7,
     "metadata": {},
     "output_type": "execute_result"
    }
   ],
   "source": [
    "# My code here\n",
    "dat.describe()"
   ]
  },
  {
   "cell_type": "markdown",
   "metadata": {
    "slideshow": {
     "slide_type": "slide"
    }
   },
   "source": [
    "### .values\n",
    "\n",
    "This prints the observations in the dataset.\n",
    "\n",
    "Syntax and Usage: `print(dat.values)`\n",
    "\n",
    "Note: no parenthesis necessary."
   ]
  },
  {
   "cell_type": "code",
   "execution_count": 8,
   "metadata": {
    "slideshow": {
     "slide_type": "fragment"
    }
   },
   "outputs": [
    {
     "data": {
      "text/plain": [
       "array([['Argentina', 0, -0.7207754, 1, 3, 9.69017],\n",
       "       ['Australia', 1, -6.907755, 5, 4, 10.30484],\n",
       "       ['Austria', 1, -4.910337, 5, 4, 10.10094],\n",
       "       ['Bangladesh', 0, 0.7759748, 1, 0, 8.379768],\n",
       "       ['Belgium', 1, -4.617344, 5, 4, 10.25012],\n",
       "       ['Bolivia', 0, -2.46144, 0, 0, 8.583543],\n",
       "       ['Botswana', 1, -1.244868, 4, 3, 8.77771],\n",
       "       ['Brazil', 1, -0.4570337, 4, 3, 9.375601],\n",
       "       ['Burma', 0, 1.604343, 3, 1, 7.096721],\n",
       "       ['Cameroon', 0, -4.229065, 3, 1, 8.120886],\n",
       "       ['Canada', 1, -6.907755, 5, 5, 10.41018],\n",
       "       ['Chile', 1, -1.542761, 3, 2, 9.261224],\n",
       "       ['Colombia', 0, -2.057821, 3, 2, 9.191973],\n",
       "       ['Congo-Kinshasa', 0, -2.323288, 1, 0, 7.095064],\n",
       "       ['Costa Rica', 1, -5.090003, 3, 4, 9.167329],\n",
       "       [\"Cote d'Ivoire\", 1, -4.229065, 4, 2, 8.228711],\n",
       "       ['Denmark', 1, -6.907755, 5, 5, 10.10651],\n",
       "       ['Dominican Republic', 0, -2.378862, 2, 2, 8.899731],\n",
       "       ['Ecuador', 1, -1.845337, 3, 2, 9.117786],\n",
       "       ['Finland', 1, -6.907755, 5, 5, 10.12367],\n",
       "       ['Gambia, The', 0, -1.543332, 4, 2, 7.501082],\n",
       "       ['Ghana', 0, -1.011517, 2, 1, 7.597396],\n",
       "       ['Greece', 0, -2.073237, 3, 3, 9.701494],\n",
       "       ['Hungary', 1, -0.9041942, 4, 3, 9.35184],\n",
       "       ['India', 0, -2.105104, 4, 2, 7.970049],\n",
       "       ['Indonesia', 0, -2.100232, 3, 0, 8.39231],\n",
       "       ['Iran', 0, 2.337425, 0, 2, 9.368114],\n",
       "       ['Ireland', 1, -6.907755, 5, 4, 9.891465],\n",
       "       ['Israel', 0, -2.319996, 4, 4, 10.06777],\n",
       "       ['Italy', 1, -6.907755, 4, 3, 10.26078],\n",
       "       ['Japan', 1, -6.907755, 5, 4, 9.892022],\n",
       "       ['Kenya', 0, -2.327605, 2, 2, 7.619724],\n",
       "       ['Korea, South', 0, -2.655795, 4, 1, 9.422787],\n",
       "       ['Malawi', 0, -1.469424, 3, 3, 7.029973],\n",
       "       ['Malaysia', 1, -3.927949, 4, 3, 9.178953],\n",
       "       ['Mexico', 0, -1.657935, 2, 2, 9.661735],\n",
       "       ['Morocco', 0, -3.156958, 3, 1, 8.78048],\n",
       "       ['New Zealand', 1, -6.907755, 5, 5, 10.17626],\n",
       "       ['Nigeria', 0, 0.3001068, 1, 1, 7.68708],\n",
       "       ['Norway', 1, -6.907755, 5, 5, 10.29833],\n",
       "       ['Papua New Guinea', 1, -2.636158, 4, 2, 8.126518],\n",
       "       ['Paraguay', 0, -0.9707628, 3, 0, 8.727616],\n",
       "       ['Philippines', 0, -2.964776, 1, 1, 8.384804],\n",
       "       ['Poland', 1, 1.317021, 3, 3, 9.0524],\n",
       "       ['Portugal', 1, -2.459625, 4, 3, 9.444543],\n",
       "       ['Sierra Leone', 0, 1.406406, 3, 1, 7.759614],\n",
       "       ['Singapore', 1, -4.848516, 5, 5, 9.882724],\n",
       "       ['South Africa', 0, -2.17582, 3, 4, 9.191871],\n",
       "       ['Spain', 1, -6.907755, 5, 3, 10.04733],\n",
       "       ['Sri Lanka', 0, -1.864343, 2, 2, 8.627661],\n",
       "       ['Sweden', 1, -6.907755, 4, 5, 10.22434],\n",
       "       ['Switzerland', 1, -6.907755, 5, 5, 10.3411],\n",
       "       ['Syria', 0, 1.725166, 1, 1, 9.664151],\n",
       "       ['Thailand', 0, -6.907755, 3, 2, 8.548692],\n",
       "       ['Togo', 0, -4.229065, 4, 1, 7.331715],\n",
       "       ['Tunisia', 0, -2.585399, 2, 2, 9.047586],\n",
       "       ['Turkey', 0, -2.673243, 3, 2, 8.978912],\n",
       "       ['United Kingdom', 1, -6.907755, 5, 5, 10.12727],\n",
       "       ['Uruguay', 0, -2.127775, 2, 2, 9.414342],\n",
       "       ['Venezuela', 1, 0.428845, 3, 2, 9.84882],\n",
       "       ['Zambia', 0, 0.9658105, 3, 1, 7.726213],\n",
       "       ['Zimbabwe', 0, -0.6403214, 3, 2, 7.965893]], dtype=object)"
      ]
     },
     "execution_count": 8,
     "metadata": {},
     "output_type": "execute_result"
    }
   ],
   "source": [
    "# My code here\n",
    "dat.values"
   ]
  },
  {
   "cell_type": "markdown",
   "metadata": {
    "slideshow": {
     "slide_type": "slide"
    }
   },
   "source": [
    "### .columns\n",
    "\n",
    "This prints the variables information of the dataset.\n",
    "\n",
    "Syntax and Usage: `print(dat.columns)`\n",
    "\n",
    "Note: no parenthesis necessary."
   ]
  },
  {
   "cell_type": "code",
   "execution_count": 9,
   "metadata": {
    "slideshow": {
     "slide_type": "fragment"
    }
   },
   "outputs": [
    {
     "data": {
      "text/plain": [
       "Index(['country', 'courts', 'barb2', 'prsexp2', 'prscorr2', 'gdpw2'], dtype='object')"
      ]
     },
     "execution_count": 9,
     "metadata": {},
     "output_type": "execute_result"
    }
   ],
   "source": [
    "# My code here\n",
    "dat.columns"
   ]
  },
  {
   "cell_type": "markdown",
   "metadata": {
    "slideshow": {
     "slide_type": "slide"
    }
   },
   "source": [
    "### .index\n",
    "\n",
    "This prints informations about the dataset rows.\n",
    "\n",
    "Syntax and Usage: `print(dat.index)`\n",
    "\n",
    "Note: no parenthesis necessary."
   ]
  },
  {
   "cell_type": "code",
   "execution_count": 10,
   "metadata": {
    "slideshow": {
     "slide_type": "fragment"
    }
   },
   "outputs": [
    {
     "data": {
      "text/plain": [
       "RangeIndex(start=0, stop=62, step=1)"
      ]
     },
     "execution_count": 10,
     "metadata": {},
     "output_type": "execute_result"
    }
   ],
   "source": [
    "# My code here\n",
    "dat.index"
   ]
  },
  {
   "cell_type": "markdown",
   "metadata": {
    "slideshow": {
     "slide_type": "slide"
    }
   },
   "source": [
    "**Exercise**: Run the same examples for the dataset `dat2`"
   ]
  },
  {
   "cell_type": "code",
   "execution_count": 11,
   "metadata": {
    "slideshow": {
     "slide_type": "fragment"
    }
   },
   "outputs": [
    {
     "data": {
      "text/html": [
       "<div>\n",
       "<style scoped>\n",
       "    .dataframe tbody tr th:only-of-type {\n",
       "        vertical-align: middle;\n",
       "    }\n",
       "\n",
       "    .dataframe tbody tr th {\n",
       "        vertical-align: top;\n",
       "    }\n",
       "\n",
       "    .dataframe thead th {\n",
       "        text-align: right;\n",
       "    }\n",
       "</style>\n",
       "<table border=\"1\" class=\"dataframe\">\n",
       "  <thead>\n",
       "    <tr style=\"text-align: right;\">\n",
       "      <th></th>\n",
       "      <th>obs</th>\n",
       "      <th>totbill</th>\n",
       "      <th>tip</th>\n",
       "      <th>size</th>\n",
       "    </tr>\n",
       "  </thead>\n",
       "  <tbody>\n",
       "    <tr>\n",
       "      <th>count</th>\n",
       "      <td>244.000000</td>\n",
       "      <td>244.000000</td>\n",
       "      <td>244.000000</td>\n",
       "      <td>244.000000</td>\n",
       "    </tr>\n",
       "    <tr>\n",
       "      <th>mean</th>\n",
       "      <td>122.500000</td>\n",
       "      <td>19.785943</td>\n",
       "      <td>2.998279</td>\n",
       "      <td>2.569672</td>\n",
       "    </tr>\n",
       "    <tr>\n",
       "      <th>std</th>\n",
       "      <td>70.580923</td>\n",
       "      <td>8.902412</td>\n",
       "      <td>1.383638</td>\n",
       "      <td>0.951100</td>\n",
       "    </tr>\n",
       "    <tr>\n",
       "      <th>min</th>\n",
       "      <td>1.000000</td>\n",
       "      <td>3.070000</td>\n",
       "      <td>1.000000</td>\n",
       "      <td>1.000000</td>\n",
       "    </tr>\n",
       "    <tr>\n",
       "      <th>25%</th>\n",
       "      <td>61.750000</td>\n",
       "      <td>13.347500</td>\n",
       "      <td>2.000000</td>\n",
       "      <td>2.000000</td>\n",
       "    </tr>\n",
       "    <tr>\n",
       "      <th>50%</th>\n",
       "      <td>122.500000</td>\n",
       "      <td>17.795000</td>\n",
       "      <td>2.900000</td>\n",
       "      <td>2.000000</td>\n",
       "    </tr>\n",
       "    <tr>\n",
       "      <th>75%</th>\n",
       "      <td>183.250000</td>\n",
       "      <td>24.127500</td>\n",
       "      <td>3.562500</td>\n",
       "      <td>3.000000</td>\n",
       "    </tr>\n",
       "    <tr>\n",
       "      <th>max</th>\n",
       "      <td>244.000000</td>\n",
       "      <td>50.810000</td>\n",
       "      <td>10.000000</td>\n",
       "      <td>6.000000</td>\n",
       "    </tr>\n",
       "  </tbody>\n",
       "</table>\n",
       "</div>"
      ],
      "text/plain": [
       "              obs     totbill         tip        size\n",
       "count  244.000000  244.000000  244.000000  244.000000\n",
       "mean   122.500000   19.785943    2.998279    2.569672\n",
       "std     70.580923    8.902412    1.383638    0.951100\n",
       "min      1.000000    3.070000    1.000000    1.000000\n",
       "25%     61.750000   13.347500    2.000000    2.000000\n",
       "50%    122.500000   17.795000    2.900000    2.000000\n",
       "75%    183.250000   24.127500    3.562500    3.000000\n",
       "max    244.000000   50.810000   10.000000    6.000000"
      ]
     },
     "execution_count": 11,
     "metadata": {},
     "output_type": "execute_result"
    }
   ],
   "source": [
    "## Your answers here!\n",
    "dat2.describe()\n"
   ]
  },
  {
   "cell_type": "markdown",
   "metadata": {
    "slideshow": {
     "slide_type": "slide"
    }
   },
   "source": [
    "## Data Manipulation\n",
    "\n",
    "### Subsetting variables (columns)\n",
    "\n",
    "To subset variables the sintax is simple. When it is only one variable:\n",
    "\n",
    "```\n",
    "dat[\"var_name\"]\n",
    "```\n",
    "\n",
    "When it is two or more, you need to enclose them in a list:\n",
    "\n",
    "```\n",
    "dat[[\"var1\", \"var2\"]]\n",
    "```"
   ]
  },
  {
   "cell_type": "code",
   "execution_count": 27,
   "metadata": {
    "slideshow": {
     "slide_type": "slide"
    }
   },
   "outputs": [
    {
     "data": {
      "text/html": [
       "<div>\n",
       "<style scoped>\n",
       "    .dataframe tbody tr th:only-of-type {\n",
       "        vertical-align: middle;\n",
       "    }\n",
       "\n",
       "    .dataframe tbody tr th {\n",
       "        vertical-align: top;\n",
       "    }\n",
       "\n",
       "    .dataframe thead th {\n",
       "        text-align: right;\n",
       "    }\n",
       "</style>\n",
       "<table border=\"1\" class=\"dataframe\">\n",
       "  <thead>\n",
       "    <tr style=\"text-align: right;\">\n",
       "      <th></th>\n",
       "      <th>courts</th>\n",
       "      <th>barb2</th>\n",
       "    </tr>\n",
       "  </thead>\n",
       "  <tbody>\n",
       "    <tr>\n",
       "      <th>0</th>\n",
       "      <td>0</td>\n",
       "      <td>-0.720775</td>\n",
       "    </tr>\n",
       "    <tr>\n",
       "      <th>1</th>\n",
       "      <td>1</td>\n",
       "      <td>-6.907755</td>\n",
       "    </tr>\n",
       "    <tr>\n",
       "      <th>2</th>\n",
       "      <td>1</td>\n",
       "      <td>-4.910337</td>\n",
       "    </tr>\n",
       "    <tr>\n",
       "      <th>3</th>\n",
       "      <td>0</td>\n",
       "      <td>0.775975</td>\n",
       "    </tr>\n",
       "    <tr>\n",
       "      <th>4</th>\n",
       "      <td>1</td>\n",
       "      <td>-4.617344</td>\n",
       "    </tr>\n",
       "  </tbody>\n",
       "</table>\n",
       "</div>"
      ],
      "text/plain": [
       "   courts     barb2\n",
       "0       0 -0.720775\n",
       "1       1 -6.907755\n",
       "2       1 -4.910337\n",
       "3       0  0.775975\n",
       "4       1 -4.617344"
      ]
     },
     "execution_count": 27,
     "metadata": {},
     "output_type": "execute_result"
    }
   ],
   "source": [
    "# My code here\n",
    "dat.head()\n",
    "dat[['courts', 'barb2']].head()"
   ]
  },
  {
   "cell_type": "markdown",
   "metadata": {
    "slideshow": {
     "slide_type": "slide"
    }
   },
   "source": [
    "### Subsetting cases (rows)\n",
    "\n",
    "Now, to work with cases, notice that pandas allows us to do vectorized operations. For instance:\n",
    "\n",
    "```\n",
    "dat[\"var_name\"] > some_number\n",
    "```\n",
    "\n",
    "Returns True, if the variable is greater than the number, and False otherwise. To subset the dataset, you need to:\n",
    "\n",
    "```\n",
    "dat[dat[\"var_name\"] > some_number]\n",
    "```"
   ]
  },
  {
   "cell_type": "markdown",
   "metadata": {
    "slideshow": {
     "slide_type": "slide"
    }
   },
   "source": [
    "### Subsetting cases (rows)\n",
    "\n",
    "For multiple comparisons, the syntax is also easy to use:\n",
    "\n",
    "```\n",
    "dat[ (dat[\"v1\"] == \"some_value\") & (dat[\"v2\"] == \"some_other_value\") ]\n",
    "```\n",
    "\n",
    "And if we want a command similar to `%in%` in R, we can use the `.isin(.)` method:\n",
    "\n",
    "```\n",
    "dat[ dat[\"v1\"].isin([\"some_value\", \"some_other_value\"]) ]\n",
    "```"
   ]
  },
  {
   "cell_type": "code",
   "execution_count": 40,
   "metadata": {
    "slideshow": {
     "slide_type": "slide"
    }
   },
   "outputs": [
    {
     "data": {
      "text/html": [
       "<div>\n",
       "<style scoped>\n",
       "    .dataframe tbody tr th:only-of-type {\n",
       "        vertical-align: middle;\n",
       "    }\n",
       "\n",
       "    .dataframe tbody tr th {\n",
       "        vertical-align: top;\n",
       "    }\n",
       "\n",
       "    .dataframe thead th {\n",
       "        text-align: right;\n",
       "    }\n",
       "</style>\n",
       "<table border=\"1\" class=\"dataframe\">\n",
       "  <thead>\n",
       "    <tr style=\"text-align: right;\">\n",
       "      <th></th>\n",
       "      <th>country</th>\n",
       "      <th>courts</th>\n",
       "      <th>barb2</th>\n",
       "      <th>prsexp2</th>\n",
       "      <th>prscorr2</th>\n",
       "      <th>gdpw2</th>\n",
       "    </tr>\n",
       "  </thead>\n",
       "  <tbody>\n",
       "    <tr>\n",
       "      <th>1</th>\n",
       "      <td>Australia</td>\n",
       "      <td>1</td>\n",
       "      <td>-6.907755</td>\n",
       "      <td>5</td>\n",
       "      <td>4</td>\n",
       "      <td>10.304840</td>\n",
       "    </tr>\n",
       "    <tr>\n",
       "      <th>2</th>\n",
       "      <td>Austria</td>\n",
       "      <td>1</td>\n",
       "      <td>-4.910337</td>\n",
       "      <td>5</td>\n",
       "      <td>4</td>\n",
       "      <td>10.100940</td>\n",
       "    </tr>\n",
       "    <tr>\n",
       "      <th>4</th>\n",
       "      <td>Belgium</td>\n",
       "      <td>1</td>\n",
       "      <td>-4.617344</td>\n",
       "      <td>5</td>\n",
       "      <td>4</td>\n",
       "      <td>10.250120</td>\n",
       "    </tr>\n",
       "    <tr>\n",
       "      <th>10</th>\n",
       "      <td>Canada</td>\n",
       "      <td>1</td>\n",
       "      <td>-6.907755</td>\n",
       "      <td>5</td>\n",
       "      <td>5</td>\n",
       "      <td>10.410180</td>\n",
       "    </tr>\n",
       "    <tr>\n",
       "      <th>16</th>\n",
       "      <td>Denmark</td>\n",
       "      <td>1</td>\n",
       "      <td>-6.907755</td>\n",
       "      <td>5</td>\n",
       "      <td>5</td>\n",
       "      <td>10.106510</td>\n",
       "    </tr>\n",
       "    <tr>\n",
       "      <th>19</th>\n",
       "      <td>Finland</td>\n",
       "      <td>1</td>\n",
       "      <td>-6.907755</td>\n",
       "      <td>5</td>\n",
       "      <td>5</td>\n",
       "      <td>10.123670</td>\n",
       "    </tr>\n",
       "    <tr>\n",
       "      <th>27</th>\n",
       "      <td>Ireland</td>\n",
       "      <td>1</td>\n",
       "      <td>-6.907755</td>\n",
       "      <td>5</td>\n",
       "      <td>4</td>\n",
       "      <td>9.891465</td>\n",
       "    </tr>\n",
       "    <tr>\n",
       "      <th>28</th>\n",
       "      <td>Israel</td>\n",
       "      <td>0</td>\n",
       "      <td>-2.319996</td>\n",
       "      <td>4</td>\n",
       "      <td>4</td>\n",
       "      <td>10.067770</td>\n",
       "    </tr>\n",
       "    <tr>\n",
       "      <th>30</th>\n",
       "      <td>Japan</td>\n",
       "      <td>1</td>\n",
       "      <td>-6.907755</td>\n",
       "      <td>5</td>\n",
       "      <td>4</td>\n",
       "      <td>9.892022</td>\n",
       "    </tr>\n",
       "    <tr>\n",
       "      <th>37</th>\n",
       "      <td>New Zealand</td>\n",
       "      <td>1</td>\n",
       "      <td>-6.907755</td>\n",
       "      <td>5</td>\n",
       "      <td>5</td>\n",
       "      <td>10.176260</td>\n",
       "    </tr>\n",
       "    <tr>\n",
       "      <th>39</th>\n",
       "      <td>Norway</td>\n",
       "      <td>1</td>\n",
       "      <td>-6.907755</td>\n",
       "      <td>5</td>\n",
       "      <td>5</td>\n",
       "      <td>10.298330</td>\n",
       "    </tr>\n",
       "    <tr>\n",
       "      <th>46</th>\n",
       "      <td>Singapore</td>\n",
       "      <td>1</td>\n",
       "      <td>-4.848516</td>\n",
       "      <td>5</td>\n",
       "      <td>5</td>\n",
       "      <td>9.882724</td>\n",
       "    </tr>\n",
       "    <tr>\n",
       "      <th>50</th>\n",
       "      <td>Sweden</td>\n",
       "      <td>1</td>\n",
       "      <td>-6.907755</td>\n",
       "      <td>4</td>\n",
       "      <td>5</td>\n",
       "      <td>10.224340</td>\n",
       "    </tr>\n",
       "    <tr>\n",
       "      <th>51</th>\n",
       "      <td>Switzerland</td>\n",
       "      <td>1</td>\n",
       "      <td>-6.907755</td>\n",
       "      <td>5</td>\n",
       "      <td>5</td>\n",
       "      <td>10.341100</td>\n",
       "    </tr>\n",
       "    <tr>\n",
       "      <th>57</th>\n",
       "      <td>United Kingdom</td>\n",
       "      <td>1</td>\n",
       "      <td>-6.907755</td>\n",
       "      <td>5</td>\n",
       "      <td>5</td>\n",
       "      <td>10.127270</td>\n",
       "    </tr>\n",
       "  </tbody>\n",
       "</table>\n",
       "</div>"
      ],
      "text/plain": [
       "           country  courts     barb2  prsexp2  prscorr2      gdpw2\n",
       "1        Australia       1 -6.907755        5         4  10.304840\n",
       "2          Austria       1 -4.910337        5         4  10.100940\n",
       "4          Belgium       1 -4.617344        5         4  10.250120\n",
       "10          Canada       1 -6.907755        5         5  10.410180\n",
       "16         Denmark       1 -6.907755        5         5  10.106510\n",
       "19         Finland       1 -6.907755        5         5  10.123670\n",
       "27         Ireland       1 -6.907755        5         4   9.891465\n",
       "28          Israel       0 -2.319996        4         4  10.067770\n",
       "30           Japan       1 -6.907755        5         4   9.892022\n",
       "37     New Zealand       1 -6.907755        5         5  10.176260\n",
       "39          Norway       1 -6.907755        5         5  10.298330\n",
       "46       Singapore       1 -4.848516        5         5   9.882724\n",
       "50          Sweden       1 -6.907755        4         5  10.224340\n",
       "51     Switzerland       1 -6.907755        5         5  10.341100\n",
       "57  United Kingdom       1 -6.907755        5         5  10.127270"
      ]
     },
     "execution_count": 40,
     "metadata": {},
     "output_type": "execute_result"
    }
   ],
   "source": [
    "# My code here\n",
    "dat[(dat['prsexp2'].isin([4, 5])) & (dat['prscorr2'].isin([4, 5]))]\n"
   ]
  },
  {
   "cell_type": "markdown",
   "metadata": {
    "slideshow": {
     "slide_type": "slide"
    }
   },
   "source": [
    "**Exercise**: Filter the `tips` dataset (our `dat2`) by:\n",
    "\n",
    "1. Bills of more than 10 dollars\n",
    "2. Smokers\n",
    "3. Weekend\n",
    "\n",
    "Do each of these separately, then do all together."
   ]
  },
  {
   "cell_type": "code",
   "execution_count": 14,
   "metadata": {
    "slideshow": {
     "slide_type": "fragment"
    }
   },
   "outputs": [],
   "source": [
    "## Your answers here!"
   ]
  },
  {
   "cell_type": "markdown",
   "metadata": {
    "slideshow": {
     "slide_type": "slide"
    }
   },
   "source": [
    "### Simple computations\n",
    "\n",
    "It is simple to create new variables from older ones.\n",
    "\n",
    "```\n",
    "# Summing two variables\n",
    "dat[\"my_new_var\"] = dat[\"my_old_var1\"] + dat[\"my_old_var2\"]\n",
    "\n",
    "# Multiplying by a constant\n",
    "dat[\"my_new_var\"] = dat[\"my_old_var1\"] * constant\n",
    "\n",
    "# Apply some numpy function (try to always use numpy functions, as pandas is based on numpy)\n",
    "import numpy as np\n",
    "dat[\"my_new_logged_var\"] = np.log(dat[\"my_old_var\"])\n",
    "```"
   ]
  },
  {
   "cell_type": "code",
   "execution_count": 45,
   "metadata": {
    "scrolled": true,
    "slideshow": {
     "slide_type": "slide"
    }
   },
   "outputs": [
    {
     "data": {
      "text/html": [
       "<div>\n",
       "<style scoped>\n",
       "    .dataframe tbody tr th:only-of-type {\n",
       "        vertical-align: middle;\n",
       "    }\n",
       "\n",
       "    .dataframe tbody tr th {\n",
       "        vertical-align: top;\n",
       "    }\n",
       "\n",
       "    .dataframe thead th {\n",
       "        text-align: right;\n",
       "    }\n",
       "</style>\n",
       "<table border=\"1\" class=\"dataframe\">\n",
       "  <thead>\n",
       "    <tr style=\"text-align: right;\">\n",
       "      <th></th>\n",
       "      <th>country</th>\n",
       "      <th>courts</th>\n",
       "      <th>barb2</th>\n",
       "      <th>prsexp2</th>\n",
       "      <th>prscorr2</th>\n",
       "      <th>gdpw2</th>\n",
       "      <th>gdppc</th>\n",
       "    </tr>\n",
       "  </thead>\n",
       "  <tbody>\n",
       "    <tr>\n",
       "      <th>0</th>\n",
       "      <td>Argentina</td>\n",
       "      <td>0</td>\n",
       "      <td>-0.720775</td>\n",
       "      <td>1</td>\n",
       "      <td>3</td>\n",
       "      <td>9.690170</td>\n",
       "      <td>16157.990919</td>\n",
       "    </tr>\n",
       "    <tr>\n",
       "      <th>1</th>\n",
       "      <td>Australia</td>\n",
       "      <td>1</td>\n",
       "      <td>-6.907755</td>\n",
       "      <td>5</td>\n",
       "      <td>4</td>\n",
       "      <td>10.304840</td>\n",
       "      <td>29876.873543</td>\n",
       "    </tr>\n",
       "    <tr>\n",
       "      <th>2</th>\n",
       "      <td>Austria</td>\n",
       "      <td>1</td>\n",
       "      <td>-4.910337</td>\n",
       "      <td>5</td>\n",
       "      <td>4</td>\n",
       "      <td>10.100940</td>\n",
       "      <td>24365.902611</td>\n",
       "    </tr>\n",
       "    <tr>\n",
       "      <th>3</th>\n",
       "      <td>Bangladesh</td>\n",
       "      <td>0</td>\n",
       "      <td>0.775975</td>\n",
       "      <td>1</td>\n",
       "      <td>0</td>\n",
       "      <td>8.379768</td>\n",
       "      <td>4357.997753</td>\n",
       "    </tr>\n",
       "    <tr>\n",
       "      <th>4</th>\n",
       "      <td>Belgium</td>\n",
       "      <td>1</td>\n",
       "      <td>-4.617344</td>\n",
       "      <td>5</td>\n",
       "      <td>4</td>\n",
       "      <td>10.250120</td>\n",
       "      <td>28285.936029</td>\n",
       "    </tr>\n",
       "  </tbody>\n",
       "</table>\n",
       "</div>"
      ],
      "text/plain": [
       "      country  courts     barb2  prsexp2  prscorr2      gdpw2         gdppc\n",
       "0   Argentina       0 -0.720775        1         3   9.690170  16157.990919\n",
       "1   Australia       1 -6.907755        5         4  10.304840  29876.873543\n",
       "2     Austria       1 -4.910337        5         4  10.100940  24365.902611\n",
       "3  Bangladesh       0  0.775975        1         0   8.379768   4357.997753\n",
       "4     Belgium       1 -4.617344        5         4  10.250120  28285.936029"
      ]
     },
     "execution_count": 45,
     "metadata": {},
     "output_type": "execute_result"
    }
   ],
   "source": [
    "# My code here\n",
    "dat['gdppc'] = np.exp(dat['gdpw2'])\n",
    "dat.head()"
   ]
  },
  {
   "cell_type": "markdown",
   "metadata": {
    "slideshow": {
     "slide_type": "slide"
    }
   },
   "source": [
    "**Exercise**: In the `tips` dataset, create the variable `prop_tip`, which is the proportion of the tip with relation to the total bill."
   ]
  },
  {
   "cell_type": "code",
   "execution_count": 16,
   "metadata": {
    "slideshow": {
     "slide_type": "fragment"
    }
   },
   "outputs": [],
   "source": [
    "## Your answers here!"
   ]
  },
  {
   "cell_type": "markdown",
   "metadata": {
    "slideshow": {
     "slide_type": "slide"
    }
   },
   "source": [
    "## Statistics\n",
    "\n",
    "We can easily compute statistics from the data. Here are a few methods that we have available:\n",
    "\n",
    "| Method           | Description                  |\n",
    "|------------------|------------------------------|\n",
    "| `.median()`      | Median                       |\n",
    "| `.mean()`        | Mean                         |\n",
    "| `.min()`         | Minimum                      |\n",
    "| `.max()`         | Maximum                      |\n",
    "| `.var()`         | Variance                     |\n",
    "| `.std()`         | Standard Deviation           |\n",
    "| `.sum()`         | Sum values                   |\n",
    "| `.mode()`        | More frequent values         |\n",
    "| `.quantile(val)` | Quantile value (btw 0 and 1) |"
   ]
  },
  {
   "cell_type": "markdown",
   "metadata": {
    "slideshow": {
     "slide_type": "slide"
    }
   },
   "source": [
    "## Statistics"
   ]
  },
  {
   "cell_type": "code",
   "execution_count": 52,
   "metadata": {
    "slideshow": {
     "slide_type": "fragment"
    }
   },
   "outputs": [
    {
     "data": {
      "text/plain": [
       "767443.8833463824"
      ]
     },
     "execution_count": 52,
     "metadata": {},
     "output_type": "execute_result"
    }
   ],
   "source": [
    "# My code here\n",
    "dat.head()\n",
    "dat['gdppc'].sum()"
   ]
  },
  {
   "cell_type": "markdown",
   "metadata": {
    "slideshow": {
     "slide_type": "slide"
    }
   },
   "source": [
    "**Exercise**: For the `tips` dataset:\n",
    "\n",
    "1. Compute the mean and median of tip\n",
    "2. Compute the mode of day\n",
    "3. Compute the first quartile of the totbill."
   ]
  },
  {
   "cell_type": "code",
   "execution_count": 18,
   "metadata": {
    "slideshow": {
     "slide_type": "fragment"
    }
   },
   "outputs": [],
   "source": [
    "## Your answers here!"
   ]
  },
  {
   "cell_type": "markdown",
   "metadata": {
    "slideshow": {
     "slide_type": "slide"
    }
   },
   "source": [
    "## Questions?"
   ]
  },
  {
   "cell_type": "markdown",
   "metadata": {
    "slideshow": {
     "slide_type": "slide"
    }
   },
   "source": [
    "## Great job! See you next class!"
   ]
  }
 ],
 "metadata": {
  "celltoolbar": "Slideshow",
  "kernelspec": {
   "display_name": "Python 3 (ipykernel)",
   "language": "python",
   "name": "python3"
  },
  "language_info": {
   "codemirror_mode": {
    "name": "ipython",
    "version": 3
   },
   "file_extension": ".py",
   "mimetype": "text/x-python",
   "name": "python",
   "nbconvert_exporter": "python",
   "pygments_lexer": "ipython3",
   "version": "3.9.12"
  }
 },
 "nbformat": 4,
 "nbformat_minor": 4
}
