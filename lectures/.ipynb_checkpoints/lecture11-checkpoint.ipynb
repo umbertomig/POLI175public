{
 "cells": [
  {
   "cell_type": "markdown",
   "id": "243e38f9",
   "metadata": {
    "slideshow": {
     "slide_type": "slide"
    }
   },
   "source": [
    "# POLI 175 - Lecture 11\n",
    "\n",
    "## Classification"
   ]
  },
  {
   "cell_type": "markdown",
   "id": "20de95f7",
   "metadata": {
    "slideshow": {
     "slide_type": "slide"
    }
   },
   "source": [
    "# Classification"
   ]
  },
  {
   "cell_type": "markdown",
   "id": "bf49db3f",
   "metadata": {
    "slideshow": {
     "slide_type": "slide"
    }
   },
   "source": [
    "## Classification\n",
    "\n",
    "- Linear regression is great! But it assumes we want to predict a continuous target variable.\n",
    "\n",
    "- But there are situations when our response variables is qualitative.\n",
    "\n",
    "**Examples:**\n",
    "\n",
    "- Whether a country default its debt obligations?\n",
    "\n",
    "- Whether a person voted Republican, Democrat, Independent, voted for a different party, or did not turnout to vote?\n",
    "\n",
    "- What determines the number of FOI requests that a given public office receives every day?\n",
    "\n",
    "- Is a country expected to meet, exceed, or not meet the Paris Treaty Nationally Determined Contributions?\n",
    "\n",
    "All these questions are qualitative in nature."
   ]
  },
  {
   "cell_type": "markdown",
   "id": "bb985516",
   "metadata": {
    "slideshow": {
     "slide_type": "slide"
    }
   },
   "source": [
    "## Class Example\n",
    "\n",
    "- In 1988, the Chilean Dictator Augusto Pinochet conducted a referendum to whether he should step out.\n",
    "\n",
    "- The FLACSO in Chile conducted a surver on 2700 respondents.\n",
    "\n",
    "- We are going to build a model to predict their voting intentions."
   ]
  },
  {
   "cell_type": "markdown",
   "id": "78f7e48c",
   "metadata": {
    "slideshow": {
     "slide_type": "slide"
    }
   },
   "source": [
    "## Data\n",
    "\n",
    "| **Variable** | **Meaning** |\n",
    "|:---:|---|\n",
    "| region | A factor with levels:<br>- `C`, Central; <br>- `M`, Metropolitan Santiago area; <br>- `N`, North; <br>- `S`, South; <br>- `SA`, city of Santiago. |\n",
    "| population | The population size of respondent's community. |\n",
    "| sex | A factor with levels: <br>- `F`, female; <br>- `M`, male. |\n",
    "| age | The respondent's age in years. |\n",
    "| education | A factor with levels: <br>- `P`, Primary; <br>- `S`, Secondary; <br>- `PS`, Post-secondary. |\n",
    "| income | The respondent's monthly income, in Pesos. |\n",
    "| statusquo | A scale of support for the status-quo. |\n",
    "| vote | A factor with levels: <br>- `A`, will abstain; <br>- `N`, will vote no (against Pinochet);<br>- `U`, is undecided; <br>- `Y`, will vote yes (for Pinochet). |"
   ]
  },
  {
   "cell_type": "code",
   "execution_count": 12,
   "id": "4704653f",
   "metadata": {
    "slideshow": {
     "slide_type": "slide"
    }
   },
   "outputs": [
    {
     "data": {
      "text/html": [
       "<div>\n",
       "<style scoped>\n",
       "    .dataframe tbody tr th:only-of-type {\n",
       "        vertical-align: middle;\n",
       "    }\n",
       "\n",
       "    .dataframe tbody tr th {\n",
       "        vertical-align: top;\n",
       "    }\n",
       "\n",
       "    .dataframe thead th {\n",
       "        text-align: right;\n",
       "    }\n",
       "</style>\n",
       "<table border=\"1\" class=\"dataframe\">\n",
       "  <thead>\n",
       "    <tr style=\"text-align: right;\">\n",
       "      <th></th>\n",
       "      <th>region</th>\n",
       "      <th>population</th>\n",
       "      <th>sex</th>\n",
       "      <th>age</th>\n",
       "      <th>education</th>\n",
       "      <th>income</th>\n",
       "      <th>statusquo</th>\n",
       "      <th>vote</th>\n",
       "      <th>logincome</th>\n",
       "      <th>logpop</th>\n",
       "    </tr>\n",
       "  </thead>\n",
       "  <tbody>\n",
       "    <tr>\n",
       "      <th>0</th>\n",
       "      <td>N</td>\n",
       "      <td>175000</td>\n",
       "      <td>M</td>\n",
       "      <td>65.0</td>\n",
       "      <td>P</td>\n",
       "      <td>35000.0</td>\n",
       "      <td>1.00820</td>\n",
       "      <td>1</td>\n",
       "      <td>10.463103</td>\n",
       "      <td>12.072541</td>\n",
       "    </tr>\n",
       "    <tr>\n",
       "      <th>1</th>\n",
       "      <td>N</td>\n",
       "      <td>175000</td>\n",
       "      <td>M</td>\n",
       "      <td>29.0</td>\n",
       "      <td>PS</td>\n",
       "      <td>7500.0</td>\n",
       "      <td>-1.29617</td>\n",
       "      <td>0</td>\n",
       "      <td>8.922658</td>\n",
       "      <td>12.072541</td>\n",
       "    </tr>\n",
       "    <tr>\n",
       "      <th>2</th>\n",
       "      <td>N</td>\n",
       "      <td>175000</td>\n",
       "      <td>F</td>\n",
       "      <td>38.0</td>\n",
       "      <td>P</td>\n",
       "      <td>15000.0</td>\n",
       "      <td>1.23072</td>\n",
       "      <td>1</td>\n",
       "      <td>9.615805</td>\n",
       "      <td>12.072541</td>\n",
       "    </tr>\n",
       "    <tr>\n",
       "      <th>3</th>\n",
       "      <td>N</td>\n",
       "      <td>175000</td>\n",
       "      <td>F</td>\n",
       "      <td>49.0</td>\n",
       "      <td>P</td>\n",
       "      <td>35000.0</td>\n",
       "      <td>-1.03163</td>\n",
       "      <td>0</td>\n",
       "      <td>10.463103</td>\n",
       "      <td>12.072541</td>\n",
       "    </tr>\n",
       "    <tr>\n",
       "      <th>4</th>\n",
       "      <td>N</td>\n",
       "      <td>175000</td>\n",
       "      <td>F</td>\n",
       "      <td>23.0</td>\n",
       "      <td>S</td>\n",
       "      <td>35000.0</td>\n",
       "      <td>-1.10496</td>\n",
       "      <td>0</td>\n",
       "      <td>10.463103</td>\n",
       "      <td>12.072541</td>\n",
       "    </tr>\n",
       "  </tbody>\n",
       "</table>\n",
       "</div>"
      ],
      "text/plain": [
       "  region  population sex   age education   income  statusquo  vote  logincome  \\\n",
       "0      N      175000   M  65.0         P  35000.0    1.00820     1  10.463103   \n",
       "1      N      175000   M  29.0        PS   7500.0   -1.29617     0   8.922658   \n",
       "2      N      175000   F  38.0         P  15000.0    1.23072     1   9.615805   \n",
       "3      N      175000   F  49.0         P  35000.0   -1.03163     0  10.463103   \n",
       "4      N      175000   F  23.0         S  35000.0   -1.10496     0  10.463103   \n",
       "\n",
       "      logpop  \n",
       "0  12.072541  \n",
       "1  12.072541  \n",
       "2  12.072541  \n",
       "3  12.072541  \n",
       "4  12.072541  "
      ]
     },
     "execution_count": 12,
     "metadata": {},
     "output_type": "execute_result"
    }
   ],
   "source": [
    "## Loading the data\n",
    "chile = pd.read_csv('https://raw.githubusercontent.com/umbertomig/POLI175public/main/data/chilesurvey.csv')\n",
    "chile.head()\n",
    "chile_clean = chile.dropna()\n",
    "chile_clean = chile_clean[chile_clean['vote'].isin(['Y', 'N'])]\n",
    "chile_clean['vote'] = np.where(chile_clean['vote'] == 'Y', 1, 0)\n",
    "chile_clean['logincome'] = np.log(chile_clean['income'])\n",
    "chile_clean['logpop'] = np.log(chile_clean['population'])\n",
    "chile_clean.head()"
   ]
  },
  {
   "cell_type": "markdown",
   "id": "f5f20c1a",
   "metadata": {
    "slideshow": {
     "slide_type": "slide"
    }
   },
   "source": [
    "## Why not run a Linear Regression?\n",
    "\n",
    "You could ask this very valid question. And my answer here differs a bit from the book.\n",
    "\n",
    "**My suggestion:**\n",
    "\n",
    "- If you want to **measure a treatment effect**, or any other fitting where **explanation trumps prediction**, go with the linear regression.\n",
    "    + Easy to explain to a lay audience.\n",
    "    + Good polynomial expansion around the ATE.\n",
    "    + Needs a careful design (in Causal Inference, the design is more important than the statistical method!).\n",
    "    + Interaction terms are just partial derivatives of the fitted equation."
   ]
  },
  {
   "cell_type": "markdown",
   "id": "91c7202c",
   "metadata": {
    "slideshow": {
     "slide_type": "slide"
    }
   },
   "source": [
    "## Why not run a Linear Regression?\n",
    "\n",
    "You could ask this very valid question. And my answer here differs a bit from the book.\n",
    "\n",
    "**My suggestion:**\n",
    "\n",
    "- If you want to **predict outcomes**, go with a classification model appropriate for your target variable unit.\n",
    "    + You are not going to do `weird` prediction.\n",
    "    + You have a marginal efficiency gain (in terms of Standard Errors).\n",
    "    + If you have an ordered target variable, your model does look like more meaningful.\n",
    "    + Need to be careful about interaction terms (has to do with taking derivatives of link function in Generalized Linear Models)."
   ]
  },
  {
   "cell_type": "markdown",
   "id": "9a176fbc",
   "metadata": {
    "slideshow": {
     "slide_type": "slide"
    }
   },
   "source": [
    "## Why not run a Linear Regression?\n",
    "\n",
    "You could ask this very valid question. And my answer here differs a bit from the book.\n",
    "\n",
    "**My suggestion:**\n",
    "\n",
    "- Be **careful when you have discrete nominal variation in your target variable**:\n",
    "    + Binary outcome: Linear Regression and Linear Discriminant Analysis are the same.\n",
    "    + Three or more categories, like the `vote` in the Chilean dataset messes up badly with things."
   ]
  },
  {
   "cell_type": "markdown",
   "id": "1ef73891",
   "metadata": {
    "slideshow": {
     "slide_type": "slide"
    }
   },
   "source": [
    "## Book's Example\n",
    "\n",
    "Chance of Default on Credit Card Debt by Account Balance:\n",
    "\n",
    "![linear x logistic regression IRLR book](../img/linvslogit.png)"
   ]
  },
  {
   "cell_type": "markdown",
   "id": "58ebd7dd",
   "metadata": {
    "slideshow": {
     "slide_type": "slide"
    }
   },
   "source": [
    "## Logistic Regression\n",
    "\n",
    "Logistic Regression belongs to a class of models called [Generalized Linear Models](https://en.wikipedia.org/wiki/Generalized_linear_model) (or GLM for short).\n",
    "\n",
    "- A GLM, in a nutshell (and in a proudly lazy definition) is an expansion of Linear Model that assumes:\n",
    "    + A Linear Relationship in part of the model\n",
    "    + But then applies a non-linear transformation to the response variable.\n",
    "\n",
    "- The non-linear transformation is called `link function`. Many link functions around (check [here](https://en.wikipedia.org/wiki/Generalized_linear_model) for various link functions).\n",
    "\n",
    "- The link function is going to determine which types of models we run.\n",
    "\n",
    "- When the outcome variable is binary, we may use the `Logistic` or `Probit` links."
   ]
  },
  {
   "cell_type": "markdown",
   "id": "934d97c8",
   "metadata": {
    "slideshow": {
     "slide_type": "slide"
    }
   },
   "source": [
    "## Logistic Regression\n",
    "\n",
    "In a regression, we are investigating something along the lines of:\n",
    "\n",
    "$$ \\mathbb{E}[Y | X] \\ = \\ \\beta_0 + \\beta_1 X $$\n",
    "\n",
    "But when the outcome is binary we would like to get:\n",
    "\n",
    "$$ \\mathbb{E}[Y | X] \\ = \\ \\mathbb{P}(Y = 1 | X) $$\n",
    "\n",
    "And the Logistic link is nothing but:\n",
    "\n",
    "$$ \\mathbb{P}(Y = 1 | X) \\ = \\ \\dfrac{e^{(\\beta_0 + \\beta_1X)}}{1 + e^{(\\beta_0 + \\beta_1X)}} $$"
   ]
  },
  {
   "cell_type": "markdown",
   "id": "afb6cf25",
   "metadata": {
    "slideshow": {
     "slide_type": "slide"
    }
   },
   "source": [
    "## Logistic Regression\n",
    "\n",
    "With a bit of manipulation, we get to something called odds ratio:\n",
    "\n",
    "$$ \\dfrac{\\mathbb{P}(Y = 1 | X)}{\\mathbb{P}(Y = 0 | X)} \\ = \\ \\dfrac{\\mathbb{P}(Y = 1 | X)}{1 - \\mathbb{P}(Y = 1 | X)} \\ = \\ e^{(\\beta_0 + \\beta_1X)} $$\n",
    "\n",
    "And logging the thing gets rid of the Euler constant:\n",
    "\n",
    "$$ \\log \\left( \\dfrac{\\mathbb{P}(Y = 1 | X)}{1 - \\mathbb{P}(Y = 1 | X)}\\right) \\ = \\ \\beta_0 + \\beta_1X $$\n",
    "\n",
    "And this is the Logit Link."
   ]
  },
  {
   "cell_type": "markdown",
   "id": "f1324852",
   "metadata": {
    "slideshow": {
     "slide_type": "slide"
    }
   },
   "source": [
    "## Logistic Regression\n",
    "\n",
    "Little detour to talk about odd ratios:\n",
    "\n",
    "- Note the odd ratio: $\\dfrac{\\mathbb{P}(Y = 1 | X)}{1 - \\mathbb{P}(Y = 1 | X)}$\n",
    "\n",
    "- It is a ratio between the chance of $Y = 1$ divided by the chance of $Y = 0$.\n",
    "\n",
    "- Since probabilities are between zero and one, the ratio is always between $(0, \\infty)$.\n",
    "\n",
    "Example:\n",
    "\n",
    "- If based on characteristics, two in every ten people vote for Pinochet, $\\mathbb{P}(Y = 1 | X = \\text{some characs.}) = 0.2$ and the odds ratio is $1/4$.\n",
    "\n",
    "- If based on other set of characteristics, nine out of ten people vote for Pinochet, $\\mathbb{P}(Y = 1 | X = \\text{some other characs.}) = 0.9$ and the odds ratio is $9$.\n",
    "\n",
    "- One is like the number that does not change the ratios.\n"
   ]
  },
  {
   "cell_type": "markdown",
   "id": "fe946ad8",
   "metadata": {
    "slideshow": {
     "slide_type": "slide"
    }
   },
   "source": [
    "## Logistic Regression\n",
    "\n",
    "Little other detour to talk about the coefficients:\n",
    "\n",
    "- In linear regression, changes in one unit of $x_i$ changes your target variable in $\\beta_i$ units, on average.\n",
    "\n",
    "- In logistic regression, changes in one unit of $x_i$ changes **the log odds** your target variable in $\\beta_i$ units, on average.\n",
    "\n",
    "- Multiplies the odds by $e^{\\beta_i}$! This is **not** a straight line!\n",
    "\n",
    "- Easy proxy (does not work for interaction terms): \n",
    "    + When $\\beta_1$ is **positive**, it **increases** the $\\mathbb{P}(Y = 1 | X)$\n",
    "    + When $\\beta_1$ is **negative**, it **decreases** the $\\mathbb{P}(Y = 1 | X)$\n",
    "    \n",
    "- Try to compute the partial derivatives on $X$ and you will see the complications!"
   ]
  },
  {
   "cell_type": "markdown",
   "id": "9494c01e",
   "metadata": {
    "slideshow": {
     "slide_type": "slide"
    }
   },
   "source": [
    "## Logistic Regression\n",
    "\n",
    "Technical:\n",
    "\n",
    "1. The estimation is through [maximizing the likelihood function](https://en.wikipedia.org/wiki/Likelihood_function).\n",
    "    + This is outside the scope of the course, but an interesting topic to learn in an advanced course.\n",
    "\n",
    "\n",
    "2. The hypothesis test for the coefficient's significance in here is a Z-test (based on the Normal distribution).\n",
    "    + Null Hypothesis: $H_0: \\ \\beta_i = 0$ or alternatively $H_0: \\ e^{\\beta_i} = 1$.\n",
    "\n",
    "\n",
    "3. Making predictions:\n",
    "    + Just insert the predicted $\\hat{\\beta}$s on the equation.\n",
    "    \n",
    "$$ \\hat{p}(X) \\ = \\ \\dfrac{e^{\\hat{\\beta}_0 + \\hat{\\beta}_1 X}}{1 + e^{\\hat{\\beta}_0 + \\hat{\\beta}_1 X}} $$"
   ]
  },
  {
   "cell_type": "markdown",
   "id": "bd4ecbe7",
   "metadata": {
    "slideshow": {
     "slide_type": "slide"
    }
   },
   "source": [
    "## Logistic Regression\n",
    "\n",
    "- First, let's fit a Linear Regression:"
   ]
  },
  {
   "cell_type": "code",
   "execution_count": 13,
   "id": "a0f0b79e",
   "metadata": {
    "slideshow": {
     "slide_type": "fragment"
    }
   },
   "outputs": [
    {
     "data": {
      "image/png": "[encoded data removed]",
      "text/plain": [
       "<Figure size 640x480 with 1 Axes>"
      ]
     },
     "metadata": {},
     "output_type": "display_data"
    }
   ],
   "source": [
    "sns.regplot(x = 'logincome', y = 'vote', x_jitter = 0.1, y_jitter = 0.1, data = chile_clean)\n",
    "plt.show()"
   ]
  },
  {
   "cell_type": "markdown",
   "id": "a8870963",
   "metadata": {
    "slideshow": {
     "slide_type": "slide"
    }
   },
   "source": [
    "## Logistic Regression\n",
    "\n",
    "- First, let's fit a Linear Regression:"
   ]
  },
  {
   "cell_type": "code",
   "execution_count": 14,
   "id": "6bab91d3",
   "metadata": {
    "slideshow": {
     "slide_type": "fragment"
    }
   },
   "outputs": [
    {
     "data": {
      "text/html": [
       "<table class=\"simpletable\">\n",
       "<caption>OLS Regression Results</caption>\n",
       "<tr>\n",
       "  <th>Dep. Variable:</th>          <td>vote</td>       <th>  R-squared:         </th> <td>   0.001</td>\n",
       "</tr>\n",
       "<tr>\n",
       "  <th>Model:</th>                   <td>OLS</td>       <th>  Adj. R-squared:    </th> <td>   0.001</td>\n",
       "</tr>\n",
       "<tr>\n",
       "  <th>Method:</th>             <td>Least Squares</td>  <th>  F-statistic:       </th> <td>   1.994</td>\n",
       "</tr>\n",
       "<tr>\n",
       "  <th>Date:</th>             <td>Wed, 01 Feb 2023</td> <th>  Prob (F-statistic):</th>  <td> 0.158</td> \n",
       "</tr>\n",
       "<tr>\n",
       "  <th>Time:</th>                 <td>15:43:13</td>     <th>  Log-Likelihood:    </th> <td> -1234.7</td>\n",
       "</tr>\n",
       "<tr>\n",
       "  <th>No. Observations:</th>      <td>  1703</td>      <th>  AIC:               </th> <td>   2473.</td>\n",
       "</tr>\n",
       "<tr>\n",
       "  <th>Df Residuals:</th>          <td>  1701</td>      <th>  BIC:               </th> <td>   2484.</td>\n",
       "</tr>\n",
       "<tr>\n",
       "  <th>Df Model:</th>              <td>     1</td>      <th>                     </th>     <td> </td>   \n",
       "</tr>\n",
       "<tr>\n",
       "  <th>Covariance Type:</th>      <td>nonrobust</td>    <th>                     </th>     <td> </td>   \n",
       "</tr>\n",
       "</table>\n",
       "<table class=\"simpletable\">\n",
       "<tr>\n",
       "      <td></td>         <th>coef</th>     <th>std err</th>      <th>t</th>      <th>P>|t|</th>  <th>[0.025</th>    <th>0.975]</th>  \n",
       "</tr>\n",
       "<tr>\n",
       "  <th>Intercept</th> <td>    0.6568</td> <td>    0.118</td> <td>    5.560</td> <td> 0.000</td> <td>    0.425</td> <td>    0.889</td>\n",
       "</tr>\n",
       "<tr>\n",
       "  <th>logincome</th> <td>   -0.0166</td> <td>    0.012</td> <td>   -1.412</td> <td> 0.158</td> <td>   -0.040</td> <td>    0.006</td>\n",
       "</tr>\n",
       "</table>\n",
       "<table class=\"simpletable\">\n",
       "<tr>\n",
       "  <th>Omnibus:</th>       <td>6175.448</td> <th>  Durbin-Watson:     </th> <td>   1.790</td>\n",
       "</tr>\n",
       "<tr>\n",
       "  <th>Prob(Omnibus):</th>  <td> 0.000</td>  <th>  Jarque-Bera (JB):  </th> <td> 282.505</td>\n",
       "</tr>\n",
       "<tr>\n",
       "  <th>Skew:</th>           <td> 0.037</td>  <th>  Prob(JB):          </th> <td>4.52e-62</td>\n",
       "</tr>\n",
       "<tr>\n",
       "  <th>Kurtosis:</th>       <td> 1.006</td>  <th>  Cond. No.          </th> <td>    99.0</td>\n",
       "</tr>\n",
       "</table><br/><br/>Notes:<br/>[1] Standard Errors assume that the covariance matrix of the errors is correctly specified."
      ],
      "text/plain": [
       "<class 'statsmodels.iolib.summary.Summary'>\n",
       "\"\"\"\n",
       "                            OLS Regression Results                            \n",
       "==============================================================================\n",
       "Dep. Variable:                   vote   R-squared:                       0.001\n",
       "Model:                            OLS   Adj. R-squared:                  0.001\n",
       "Method:                 Least Squares   F-statistic:                     1.994\n",
       "Date:                Wed, 01 Feb 2023   Prob (F-statistic):              0.158\n",
       "Time:                        15:43:13   Log-Likelihood:                -1234.7\n",
       "No. Observations:                1703   AIC:                             2473.\n",
       "Df Residuals:                    1701   BIC:                             2484.\n",
       "Df Model:                           1                                         \n",
       "Covariance Type:            nonrobust                                         \n",
       "==============================================================================\n",
       "                 coef    std err          t      P>|t|      [0.025      0.975]\n",
       "------------------------------------------------------------------------------\n",
       "Intercept      0.6568      0.118      5.560      0.000       0.425       0.889\n",
       "logincome     -0.0166      0.012     -1.412      0.158      -0.040       0.006\n",
       "==============================================================================\n",
       "Omnibus:                     6175.448   Durbin-Watson:                   1.790\n",
       "Prob(Omnibus):                  0.000   Jarque-Bera (JB):              282.505\n",
       "Skew:                           0.037   Prob(JB):                     4.52e-62\n",
       "Kurtosis:                       1.006   Cond. No.                         99.0\n",
       "==============================================================================\n",
       "\n",
       "Notes:\n",
       "[1] Standard Errors assume that the covariance matrix of the errors is correctly specified.\n",
       "\"\"\""
      ]
     },
     "execution_count": 14,
     "metadata": {},
     "output_type": "execute_result"
    }
   ],
   "source": [
    "# Linear Model\n",
    "modlin = ols('vote ~ logincome', data = chile_clean).fit()\n",
    "modlin.summary()"
   ]
  },
  {
   "cell_type": "markdown",
   "id": "cbf9982d",
   "metadata": {
    "slideshow": {
     "slide_type": "slide"
    }
   },
   "source": [
    "## Logistic Regression\n",
    "\n",
    "- Let's fit a Logistic Regression:"
   ]
  },
  {
   "cell_type": "code",
   "execution_count": 15,
   "id": "840c8d2e",
   "metadata": {
    "slideshow": {
     "slide_type": "fragment"
    }
   },
   "outputs": [
    {
     "data": {
      "image/png": "[encoded data removed]",
      "text/plain": [
       "<Figure size 640x480 with 1 Axes>"
      ]
     },
     "metadata": {},
     "output_type": "display_data"
    }
   ],
   "source": [
    "## Seaborn plot\n",
    "sns.regplot(x = 'logincome', y = 'vote', \n",
    "            x_jitter = 0.1, y_jitter = 0.1, \n",
    "            data = chile_clean, logistic = True)\n",
    "plt.show()"
   ]
  },
  {
   "cell_type": "markdown",
   "id": "4937bf81",
   "metadata": {
    "slideshow": {
     "slide_type": "slide"
    }
   },
   "source": [
    "## Logistic Regression\n",
    "\n",
    "- Let's fit a Logistic Regression:"
   ]
  },
  {
   "cell_type": "code",
   "execution_count": 16,
   "id": "18c1fd6d",
   "metadata": {
    "slideshow": {
     "slide_type": "fragment"
    }
   },
   "outputs": [
    {
     "name": "stdout",
     "output_type": "stream",
     "text": [
      "Optimization terminated successfully.\n",
      "         Current function value: 0.692396\n",
      "         Iterations 3\n"
     ]
    },
    {
     "data": {
      "text/html": [
       "<table class=\"simpletable\">\n",
       "<caption>Logit Regression Results</caption>\n",
       "<tr>\n",
       "  <th>Dep. Variable:</th>         <td>vote</td>       <th>  No. Observations:  </th>  <td>  1703</td>  \n",
       "</tr>\n",
       "<tr>\n",
       "  <th>Model:</th>                 <td>Logit</td>      <th>  Df Residuals:      </th>  <td>  1701</td>  \n",
       "</tr>\n",
       "<tr>\n",
       "  <th>Method:</th>                 <td>MLE</td>       <th>  Df Model:          </th>  <td>     1</td>  \n",
       "</tr>\n",
       "<tr>\n",
       "  <th>Date:</th>            <td>Wed, 01 Feb 2023</td> <th>  Pseudo R-squ.:     </th> <td>0.0008452</td>\n",
       "</tr>\n",
       "<tr>\n",
       "  <th>Time:</th>                <td>15:43:19</td>     <th>  Log-Likelihood:    </th> <td> -1179.2</td> \n",
       "</tr>\n",
       "<tr>\n",
       "  <th>converged:</th>             <td>True</td>       <th>  LL-Null:           </th> <td> -1180.1</td> \n",
       "</tr>\n",
       "<tr>\n",
       "  <th>Covariance Type:</th>     <td>nonrobust</td>    <th>  LLR p-value:       </th>  <td>0.1578</td>  \n",
       "</tr>\n",
       "</table>\n",
       "<table class=\"simpletable\">\n",
       "<tr>\n",
       "      <td></td>         <th>coef</th>     <th>std err</th>      <th>z</th>      <th>P>|z|</th>  <th>[0.025</th>    <th>0.975]</th>  \n",
       "</tr>\n",
       "<tr>\n",
       "  <th>Intercept</th> <td>    0.6282</td> <td>    0.473</td> <td>    1.327</td> <td> 0.185</td> <td>   -0.300</td> <td>    1.556</td>\n",
       "</tr>\n",
       "<tr>\n",
       "  <th>logincome</th> <td>   -0.0665</td> <td>    0.047</td> <td>   -1.411</td> <td> 0.158</td> <td>   -0.159</td> <td>    0.026</td>\n",
       "</tr>\n",
       "</table>"
      ],
      "text/plain": [
       "<class 'statsmodels.iolib.summary.Summary'>\n",
       "\"\"\"\n",
       "                           Logit Regression Results                           \n",
       "==============================================================================\n",
       "Dep. Variable:                   vote   No. Observations:                 1703\n",
       "Model:                          Logit   Df Residuals:                     1701\n",
       "Method:                           MLE   Df Model:                            1\n",
       "Date:                Wed, 01 Feb 2023   Pseudo R-squ.:               0.0008452\n",
       "Time:                        15:43:19   Log-Likelihood:                -1179.2\n",
       "converged:                       True   LL-Null:                       -1180.1\n",
       "Covariance Type:            nonrobust   LLR p-value:                    0.1578\n",
       "==============================================================================\n",
       "                 coef    std err          z      P>|z|      [0.025      0.975]\n",
       "------------------------------------------------------------------------------\n",
       "Intercept      0.6282      0.473      1.327      0.185      -0.300       1.556\n",
       "logincome     -0.0665      0.047     -1.411      0.158      -0.159       0.026\n",
       "==============================================================================\n",
       "\"\"\""
      ]
     },
     "execution_count": 16,
     "metadata": {},
     "output_type": "execute_result"
    }
   ],
   "source": [
    "# Logistic Regression\n",
    "modlogit = logit('vote ~ logincome', data = chile_clean).fit()\n",
    "modlogit.summary()"
   ]
  },
  {
   "cell_type": "markdown",
   "id": "08b9619f",
   "metadata": {
    "slideshow": {
     "slide_type": "slide"
    }
   },
   "source": [
    "## Logistic Regression\n",
    "\n",
    "- Let's fit a Logistic Regression:"
   ]
  },
  {
   "cell_type": "code",
   "execution_count": 17,
   "id": "0fffa64a",
   "metadata": {
    "slideshow": {
     "slide_type": "fragment"
    }
   },
   "outputs": [
    {
     "name": "stdout",
     "output_type": "stream",
     "text": [
      "Optimization terminated successfully.\n",
      "         Current function value: 0.647295\n",
      "         Iterations 5\n"
     ]
    },
    {
     "data": {
      "text/html": [
       "<table class=\"simpletable\">\n",
       "<caption>Logit Regression Results</caption>\n",
       "<tr>\n",
       "  <th>Dep. Variable:</th>         <td>vote</td>       <th>  No. Observations:  </th>  <td>  1703</td>  \n",
       "</tr>\n",
       "<tr>\n",
       "  <th>Model:</th>                 <td>Logit</td>      <th>  Df Residuals:      </th>  <td>  1693</td>  \n",
       "</tr>\n",
       "<tr>\n",
       "  <th>Method:</th>                 <td>MLE</td>       <th>  Df Model:          </th>  <td>     9</td>  \n",
       "</tr>\n",
       "<tr>\n",
       "  <th>Date:</th>            <td>Wed, 01 Feb 2023</td> <th>  Pseudo R-squ.:     </th>  <td>0.06593</td> \n",
       "</tr>\n",
       "<tr>\n",
       "  <th>Time:</th>                <td>15:43:19</td>     <th>  Log-Likelihood:    </th> <td> -1102.3</td> \n",
       "</tr>\n",
       "<tr>\n",
       "  <th>converged:</th>             <td>True</td>       <th>  LL-Null:           </th> <td> -1180.1</td> \n",
       "</tr>\n",
       "<tr>\n",
       "  <th>Covariance Type:</th>     <td>nonrobust</td>    <th>  LLR p-value:       </th> <td>6.060e-29</td>\n",
       "</tr>\n",
       "</table>\n",
       "<table class=\"simpletable\">\n",
       "<tr>\n",
       "         <td></td>            <th>coef</th>     <th>std err</th>      <th>z</th>      <th>P>|z|</th>  <th>[0.025</th>    <th>0.975]</th>  \n",
       "</tr>\n",
       "<tr>\n",
       "  <th>Intercept</th>       <td>    0.4750</td> <td>    0.798</td> <td>    0.595</td> <td> 0.552</td> <td>   -1.089</td> <td>    2.039</td>\n",
       "</tr>\n",
       "<tr>\n",
       "  <th>region[T.M]</th>     <td>    0.8302</td> <td>    0.321</td> <td>    2.586</td> <td> 0.010</td> <td>    0.201</td> <td>    1.459</td>\n",
       "</tr>\n",
       "<tr>\n",
       "  <th>region[T.N]</th>     <td>    0.6427</td> <td>    0.178</td> <td>    3.620</td> <td> 0.000</td> <td>    0.295</td> <td>    0.991</td>\n",
       "</tr>\n",
       "<tr>\n",
       "  <th>region[T.S]</th>     <td>    0.4885</td> <td>    0.146</td> <td>    3.349</td> <td> 0.001</td> <td>    0.203</td> <td>    0.774</td>\n",
       "</tr>\n",
       "<tr>\n",
       "  <th>region[T.SA]</th>    <td>    0.3007</td> <td>    0.160</td> <td>    1.879</td> <td> 0.060</td> <td>   -0.013</td> <td>    0.614</td>\n",
       "</tr>\n",
       "<tr>\n",
       "  <th>education[T.PS]</th> <td>   -1.0723</td> <td>    0.172</td> <td>   -6.249</td> <td> 0.000</td> <td>   -1.409</td> <td>   -0.736</td>\n",
       "</tr>\n",
       "<tr>\n",
       "  <th>education[T.S]</th>  <td>   -0.6103</td> <td>    0.128</td> <td>   -4.753</td> <td> 0.000</td> <td>   -0.862</td> <td>   -0.359</td>\n",
       "</tr>\n",
       "<tr>\n",
       "  <th>logincome</th>       <td>    0.2482</td> <td>    0.060</td> <td>    4.113</td> <td> 0.000</td> <td>    0.130</td> <td>    0.366</td>\n",
       "</tr>\n",
       "<tr>\n",
       "  <th>logpop</th>          <td>   -0.2964</td> <td>    0.059</td> <td>   -5.057</td> <td> 0.000</td> <td>   -0.411</td> <td>   -0.182</td>\n",
       "</tr>\n",
       "<tr>\n",
       "  <th>age</th>             <td>    0.0137</td> <td>    0.004</td> <td>    3.743</td> <td> 0.000</td> <td>    0.007</td> <td>    0.021</td>\n",
       "</tr>\n",
       "</table>"
      ],
      "text/plain": [
       "<class 'statsmodels.iolib.summary.Summary'>\n",
       "\"\"\"\n",
       "                           Logit Regression Results                           \n",
       "==============================================================================\n",
       "Dep. Variable:                   vote   No. Observations:                 1703\n",
       "Model:                          Logit   Df Residuals:                     1693\n",
       "Method:                           MLE   Df Model:                            9\n",
       "Date:                Wed, 01 Feb 2023   Pseudo R-squ.:                 0.06593\n",
       "Time:                        15:43:19   Log-Likelihood:                -1102.3\n",
       "converged:                       True   LL-Null:                       -1180.1\n",
       "Covariance Type:            nonrobust   LLR p-value:                 6.060e-29\n",
       "===================================================================================\n",
       "                      coef    std err          z      P>|z|      [0.025      0.975]\n",
       "-----------------------------------------------------------------------------------\n",
       "Intercept           0.4750      0.798      0.595      0.552      -1.089       2.039\n",
       "region[T.M]         0.8302      0.321      2.586      0.010       0.201       1.459\n",
       "region[T.N]         0.6427      0.178      3.620      0.000       0.295       0.991\n",
       "region[T.S]         0.4885      0.146      3.349      0.001       0.203       0.774\n",
       "region[T.SA]        0.3007      0.160      1.879      0.060      -0.013       0.614\n",
       "education[T.PS]    -1.0723      0.172     -6.249      0.000      -1.409      -0.736\n",
       "education[T.S]     -0.6103      0.128     -4.753      0.000      -0.862      -0.359\n",
       "logincome           0.2482      0.060      4.113      0.000       0.130       0.366\n",
       "logpop             -0.2964      0.059     -5.057      0.000      -0.411      -0.182\n",
       "age                 0.0137      0.004      3.743      0.000       0.007       0.021\n",
       "===================================================================================\n",
       "\"\"\""
      ]
     },
     "execution_count": 17,
     "metadata": {},
     "output_type": "execute_result"
    }
   ],
   "source": [
    "# Logistic Regression\n",
    "modlogit2 = logit('vote ~ logincome + logpop + region + age + education', data = chile_clean).fit()\n",
    "modlogit2.summary()"
   ]
  },
  {
   "cell_type": "markdown",
   "id": "84bb9a1f",
   "metadata": {
    "slideshow": {
     "slide_type": "slide"
    }
   },
   "source": [
    "## Logistic Regression\n",
    "\n",
    "- Let's look at the parameters:"
   ]
  },
  {
   "cell_type": "code",
   "execution_count": 18,
   "id": "4482614c",
   "metadata": {
    "slideshow": {
     "slide_type": "fragment"
    }
   },
   "outputs": [
    {
     "data": {
      "text/plain": [
       "Intercept          1.607991\n",
       "region[T.M]        2.293693\n",
       "region[T.N]        1.901602\n",
       "region[T.S]        1.629846\n",
       "region[T.SA]       1.350806\n",
       "education[T.PS]    0.342228\n",
       "education[T.S]     0.543187\n",
       "logincome          1.281721\n",
       "logpop             0.743506\n",
       "age                1.013824\n",
       "dtype: float64"
      ]
     },
     "execution_count": 18,
     "metadata": {},
     "output_type": "execute_result"
    }
   ],
   "source": [
    "## Parameters\n",
    "np.exp(modlogit2.params)"
   ]
  },
  {
   "cell_type": "markdown",
   "id": "d7e8f89d",
   "metadata": {
    "slideshow": {
     "slide_type": "slide"
    }
   },
   "source": [
    "## Logistic Regression\n",
    "\n",
    "- Let's look at the parameters:"
   ]
  },
  {
   "cell_type": "code",
   "execution_count": 19,
   "id": "c2e6fdb3",
   "metadata": {
    "slideshow": {
     "slide_type": "fragment"
    }
   },
   "outputs": [
    {
     "data": {
      "text/plain": [
       "Intercept          0.607991\n",
       "region[T.M]        1.293693\n",
       "region[T.N]        0.901602\n",
       "region[T.S]        0.629846\n",
       "region[T.SA]       0.350806\n",
       "education[T.PS]   -0.657772\n",
       "education[T.S]    -0.456813\n",
       "logincome          0.281721\n",
       "logpop            -0.256494\n",
       "age                0.013824\n",
       "dtype: float64"
      ]
     },
     "execution_count": 19,
     "metadata": {},
     "output_type": "execute_result"
    }
   ],
   "source": [
    "## Parameters\n",
    "np.exp(modlogit2.params)-1"
   ]
  },
  {
   "cell_type": "markdown",
   "id": "d8eace45",
   "metadata": {
    "slideshow": {
     "slide_type": "slide"
    }
   },
   "source": [
    "# Questions?"
   ]
  },
  {
   "cell_type": "markdown",
   "id": "22d252e9",
   "metadata": {
    "slideshow": {
     "slide_type": "slide"
    }
   },
   "source": [
    "# See you next class\n"
   ]
  }
 ],
 "metadata": {
  "celltoolbar": "Slideshow",
  "kernelspec": {
   "display_name": "Python 3 (ipykernel)",
   "language": "python",
   "name": "python3"
  },
  "language_info": {
   "codemirror_mode": {
    "name": "ipython",
    "version": 3
   },
   "file_extension": ".py",
   "mimetype": "text/x-python",
   "name": "python",
   "nbconvert_exporter": "python",
   "pygments_lexer": "ipython3",
   "version": "3.9.12"
  }
 },
 "nbformat": 4,
 "nbformat_minor": 5
}
