{
 "cells": [
  {
   "cell_type": "markdown",
   "id": "243e38f9",
   "metadata": {
    "slideshow": {
     "slide_type": "slide"
    }
   },
   "source": [
    "# POLI 175 - Lecture 12\n",
    "\n",
    "## Classification II"
   ]
  },
  {
   "cell_type": "markdown",
   "id": "20de95f7",
   "metadata": {
    "slideshow": {
     "slide_type": "slide"
    }
   },
   "source": [
    "## Announcement\n",
    "\n",
    "- Problem Set due on 02/08 (Today)!\n",
    "\n",
    "- Problem Set 02 is on!\n",
    "\n",
    "- I hope python is treating you well! If not, we have plenty of office hours."
   ]
  },
  {
   "cell_type": "markdown",
   "id": "754b027f",
   "metadata": {
    "slideshow": {
     "slide_type": "slide"
    }
   },
   "source": [
    "# Classification"
   ]
  },
  {
   "cell_type": "markdown",
   "id": "bb985516",
   "metadata": {
    "slideshow": {
     "slide_type": "slide"
    }
   },
   "source": [
    "## Class Example\n",
    "\n",
    "- In 1988, the Chilean Dictator Augusto Pinochet conducted a referendum to whether he should step out.\n",
    "\n",
    "- The FLACSO in Chile conducted a surver on 2700 respondents.\n",
    "\n",
    "- We are going to build a model to predict their voting intentions."
   ]
  },
  {
   "cell_type": "markdown",
   "id": "78f7e48c",
   "metadata": {
    "slideshow": {
     "slide_type": "slide"
    }
   },
   "source": [
    "## Data\n",
    "\n",
    "| **Variable** | **Meaning** |\n",
    "|:---:|---|\n",
    "| region | A factor with levels:<br>- `C`, Central; <br>- `M`, Metropolitan Santiago area; <br>- `N`, North; <br>- `S`, South; <br>- `SA`, city of Santiago. |\n",
    "| population | The population size of respondent's community. |\n",
    "| sex | A factor with levels: <br>- `F`, female; <br>- `M`, male. |\n",
    "| age | The respondent's age in years. |\n",
    "| education | A factor with levels: <br>- `P`, Primary; <br>- `S`, Secondary; <br>- `PS`, Post-secondary. |\n",
    "| income | The respondent's monthly income, in Pesos. |\n",
    "| statusquo | A scale of support for the status-quo. |\n",
    "| vote | A factor with levels: <br>- `A`, will abstain; <br>- `N`, will vote no (against Pinochet);<br>- `U`, is undecided; <br>- `Y`, will vote yes (for Pinochet). |"
   ]
  },
  {
   "cell_type": "code",
   "execution_count": 25,
   "id": "b55c5cf0",
   "metadata": {
    "slideshow": {
     "slide_type": "slide"
    }
   },
   "outputs": [],
   "source": [
    "## Loading the relevant packages\n",
    "import pandas as pd\n",
    "import numpy as np\n",
    "\n",
    "# Plotting things:\n",
    "import seaborn as sns\n",
    "import matplotlib.pyplot as plt\n",
    "\n",
    "# Loading scikit learn relevant packages (note our new friends here!)\n",
    "from sklearn.linear_model import LogisticRegression \n",
    "from sklearn.naive_bayes import GaussianNB\n",
    "from sklearn.discriminant_analysis import LinearDiscriminantAnalysis, QuadraticDiscriminantAnalysis\n",
    "from sklearn.metrics import confusion_matrix, classification_report, precision_score\n",
    "from sklearn.inspection import DecisionBoundaryDisplay\n",
    "from sklearn.tree import DecisionTreeClassifier"
   ]
  },
  {
   "cell_type": "code",
   "execution_count": 2,
   "id": "4704653f",
   "metadata": {
    "slideshow": {
     "slide_type": "slide"
    }
   },
   "outputs": [
    {
     "data": {
      "text/html": [
       "<div>\n",
       "<style scoped>\n",
       "    .dataframe tbody tr th:only-of-type {\n",
       "        vertical-align: middle;\n",
       "    }\n",
       "\n",
       "    .dataframe tbody tr th {\n",
       "        vertical-align: top;\n",
       "    }\n",
       "\n",
       "    .dataframe thead th {\n",
       "        text-align: right;\n",
       "    }\n",
       "</style>\n",
       "<table border=\"1\" class=\"dataframe\">\n",
       "  <thead>\n",
       "    <tr style=\"text-align: right;\">\n",
       "      <th></th>\n",
       "      <th>region</th>\n",
       "      <th>population</th>\n",
       "      <th>sex</th>\n",
       "      <th>age</th>\n",
       "      <th>education</th>\n",
       "      <th>income</th>\n",
       "      <th>statusquo</th>\n",
       "      <th>vote</th>\n",
       "      <th>logincome</th>\n",
       "      <th>logpop</th>\n",
       "    </tr>\n",
       "  </thead>\n",
       "  <tbody>\n",
       "    <tr>\n",
       "      <th>0</th>\n",
       "      <td>N</td>\n",
       "      <td>175000</td>\n",
       "      <td>M</td>\n",
       "      <td>65.0</td>\n",
       "      <td>P</td>\n",
       "      <td>35000.0</td>\n",
       "      <td>1.00820</td>\n",
       "      <td>1</td>\n",
       "      <td>10.463103</td>\n",
       "      <td>12.072541</td>\n",
       "    </tr>\n",
       "    <tr>\n",
       "      <th>1</th>\n",
       "      <td>N</td>\n",
       "      <td>175000</td>\n",
       "      <td>M</td>\n",
       "      <td>29.0</td>\n",
       "      <td>PS</td>\n",
       "      <td>7500.0</td>\n",
       "      <td>-1.29617</td>\n",
       "      <td>0</td>\n",
       "      <td>8.922658</td>\n",
       "      <td>12.072541</td>\n",
       "    </tr>\n",
       "    <tr>\n",
       "      <th>2</th>\n",
       "      <td>N</td>\n",
       "      <td>175000</td>\n",
       "      <td>F</td>\n",
       "      <td>38.0</td>\n",
       "      <td>P</td>\n",
       "      <td>15000.0</td>\n",
       "      <td>1.23072</td>\n",
       "      <td>1</td>\n",
       "      <td>9.615805</td>\n",
       "      <td>12.072541</td>\n",
       "    </tr>\n",
       "    <tr>\n",
       "      <th>3</th>\n",
       "      <td>N</td>\n",
       "      <td>175000</td>\n",
       "      <td>F</td>\n",
       "      <td>49.0</td>\n",
       "      <td>P</td>\n",
       "      <td>35000.0</td>\n",
       "      <td>-1.03163</td>\n",
       "      <td>0</td>\n",
       "      <td>10.463103</td>\n",
       "      <td>12.072541</td>\n",
       "    </tr>\n",
       "    <tr>\n",
       "      <th>4</th>\n",
       "      <td>N</td>\n",
       "      <td>175000</td>\n",
       "      <td>F</td>\n",
       "      <td>23.0</td>\n",
       "      <td>S</td>\n",
       "      <td>35000.0</td>\n",
       "      <td>-1.10496</td>\n",
       "      <td>0</td>\n",
       "      <td>10.463103</td>\n",
       "      <td>12.072541</td>\n",
       "    </tr>\n",
       "  </tbody>\n",
       "</table>\n",
       "</div>"
      ],
      "text/plain": [
       "  region  population sex   age education   income  statusquo  vote  logincome  \\\n",
       "0      N      175000   M  65.0         P  35000.0    1.00820     1  10.463103   \n",
       "1      N      175000   M  29.0        PS   7500.0   -1.29617     0   8.922658   \n",
       "2      N      175000   F  38.0         P  15000.0    1.23072     1   9.615805   \n",
       "3      N      175000   F  49.0         P  35000.0   -1.03163     0  10.463103   \n",
       "4      N      175000   F  23.0         S  35000.0   -1.10496     0  10.463103   \n",
       "\n",
       "      logpop  \n",
       "0  12.072541  \n",
       "1  12.072541  \n",
       "2  12.072541  \n",
       "3  12.072541  \n",
       "4  12.072541  "
      ]
     },
     "execution_count": 2,
     "metadata": {},
     "output_type": "execute_result"
    }
   ],
   "source": [
    "## Loading the data\n",
    "chile = pd.read_csv('https://raw.githubusercontent.com/umbertomig/POLI175public/main/data/chilesurvey.csv')\n",
    "chile_clean = chile.dropna()\n",
    "chile_clean = chile_clean[chile_clean['vote'].isin(['Y', 'N'])]\n",
    "chile_clean['vote'] = np.where(chile_clean['vote'] == 'Y', 1, 0)\n",
    "chile_clean['logincome'] = np.log(chile_clean['income'])\n",
    "chile_clean['logpop'] = np.log(chile_clean['population'])\n",
    "chile_clean.head()"
   ]
  },
  {
   "cell_type": "markdown",
   "id": "6b72f2f6",
   "metadata": {
    "slideshow": {
     "slide_type": "slide"
    }
   },
   "source": [
    "## Logistic Regression\n",
    "\n",
    "- With Scikit Learn, you need to create dummy variables for the categorical vars. Thus, you should do:"
   ]
  },
  {
   "cell_type": "code",
   "execution_count": 28,
   "id": "6acd2f40",
   "metadata": {
    "slideshow": {
     "slide_type": "slide"
    }
   },
   "outputs": [
    {
     "data": {
      "text/html": [
       "<div>\n",
       "<style scoped>\n",
       "    .dataframe tbody tr th:only-of-type {\n",
       "        vertical-align: middle;\n",
       "    }\n",
       "\n",
       "    .dataframe tbody tr th {\n",
       "        vertical-align: top;\n",
       "    }\n",
       "\n",
       "    .dataframe thead th {\n",
       "        text-align: right;\n",
       "    }\n",
       "</style>\n",
       "<table border=\"1\" class=\"dataframe\">\n",
       "  <thead>\n",
       "    <tr style=\"text-align: right;\">\n",
       "      <th></th>\n",
       "      <th>region</th>\n",
       "      <th>population</th>\n",
       "      <th>sex</th>\n",
       "      <th>age</th>\n",
       "      <th>education</th>\n",
       "      <th>income</th>\n",
       "      <th>statusquo</th>\n",
       "      <th>vote</th>\n",
       "      <th>logincome</th>\n",
       "      <th>logpop</th>\n",
       "      <th>sex_M</th>\n",
       "    </tr>\n",
       "  </thead>\n",
       "  <tbody>\n",
       "    <tr>\n",
       "      <th>0</th>\n",
       "      <td>N</td>\n",
       "      <td>175000</td>\n",
       "      <td>M</td>\n",
       "      <td>65.0</td>\n",
       "      <td>P</td>\n",
       "      <td>35000.0</td>\n",
       "      <td>1.00820</td>\n",
       "      <td>1</td>\n",
       "      <td>10.463103</td>\n",
       "      <td>12.072541</td>\n",
       "      <td>1</td>\n",
       "    </tr>\n",
       "    <tr>\n",
       "      <th>1</th>\n",
       "      <td>N</td>\n",
       "      <td>175000</td>\n",
       "      <td>M</td>\n",
       "      <td>29.0</td>\n",
       "      <td>PS</td>\n",
       "      <td>7500.0</td>\n",
       "      <td>-1.29617</td>\n",
       "      <td>0</td>\n",
       "      <td>8.922658</td>\n",
       "      <td>12.072541</td>\n",
       "      <td>1</td>\n",
       "    </tr>\n",
       "    <tr>\n",
       "      <th>2</th>\n",
       "      <td>N</td>\n",
       "      <td>175000</td>\n",
       "      <td>F</td>\n",
       "      <td>38.0</td>\n",
       "      <td>P</td>\n",
       "      <td>15000.0</td>\n",
       "      <td>1.23072</td>\n",
       "      <td>1</td>\n",
       "      <td>9.615805</td>\n",
       "      <td>12.072541</td>\n",
       "      <td>0</td>\n",
       "    </tr>\n",
       "    <tr>\n",
       "      <th>3</th>\n",
       "      <td>N</td>\n",
       "      <td>175000</td>\n",
       "      <td>F</td>\n",
       "      <td>49.0</td>\n",
       "      <td>P</td>\n",
       "      <td>35000.0</td>\n",
       "      <td>-1.03163</td>\n",
       "      <td>0</td>\n",
       "      <td>10.463103</td>\n",
       "      <td>12.072541</td>\n",
       "      <td>0</td>\n",
       "    </tr>\n",
       "    <tr>\n",
       "      <th>4</th>\n",
       "      <td>N</td>\n",
       "      <td>175000</td>\n",
       "      <td>F</td>\n",
       "      <td>23.0</td>\n",
       "      <td>S</td>\n",
       "      <td>35000.0</td>\n",
       "      <td>-1.10496</td>\n",
       "      <td>0</td>\n",
       "      <td>10.463103</td>\n",
       "      <td>12.072541</td>\n",
       "      <td>0</td>\n",
       "    </tr>\n",
       "  </tbody>\n",
       "</table>\n",
       "</div>"
      ],
      "text/plain": [
       "  region  population sex   age education   income  statusquo  vote  logincome  \\\n",
       "0      N      175000   M  65.0         P  35000.0    1.00820     1  10.463103   \n",
       "1      N      175000   M  29.0        PS   7500.0   -1.29617     0   8.922658   \n",
       "2      N      175000   F  38.0         P  15000.0    1.23072     1   9.615805   \n",
       "3      N      175000   F  49.0         P  35000.0   -1.03163     0  10.463103   \n",
       "4      N      175000   F  23.0         S  35000.0   -1.10496     0  10.463103   \n",
       "\n",
       "      logpop  sex_M  \n",
       "0  12.072541      1  \n",
       "1  12.072541      1  \n",
       "2  12.072541      0  \n",
       "3  12.072541      0  \n",
       "4  12.072541      0  "
      ]
     },
     "execution_count": 28,
     "metadata": {},
     "output_type": "execute_result"
    }
   ],
   "source": [
    "## Detour: Creating Dummies for Male\n",
    "dummies = pd.get_dummies(chile_clean['sex'], prefix = 'sex', drop_first = True)\n",
    "chile_clean_wdumvars = pd.concat([chile_clean, dummies], axis=1)\n",
    "chile_clean_wdumvars.head()"
   ]
  },
  {
   "cell_type": "markdown",
   "id": "135f9278",
   "metadata": {
    "slideshow": {
     "slide_type": "slide"
    }
   },
   "source": [
    "## Logistic Regression\n",
    "\n",
    "**Your turn:** Create dummies for `region` and `education`. Which category was dropped in each of the processes?"
   ]
  },
  {
   "cell_type": "code",
   "execution_count": 4,
   "id": "cbb2d6dd",
   "metadata": {
    "slideshow": {
     "slide_type": "fragment"
    }
   },
   "outputs": [],
   "source": [
    "## Your code here"
   ]
  },
  {
   "cell_type": "markdown",
   "id": "41a7d29c",
   "metadata": {
    "slideshow": {
     "slide_type": "slide"
    }
   },
   "source": [
    "## Creating dummies"
   ]
  },
  {
   "cell_type": "code",
   "execution_count": 29,
   "id": "5c912014",
   "metadata": {
    "slideshow": {
     "slide_type": "fragment"
    }
   },
   "outputs": [
    {
     "data": {
      "text/html": [
       "<div>\n",
       "<style scoped>\n",
       "    .dataframe tbody tr th:only-of-type {\n",
       "        vertical-align: middle;\n",
       "    }\n",
       "\n",
       "    .dataframe tbody tr th {\n",
       "        vertical-align: top;\n",
       "    }\n",
       "\n",
       "    .dataframe thead th {\n",
       "        text-align: right;\n",
       "    }\n",
       "</style>\n",
       "<table border=\"1\" class=\"dataframe\">\n",
       "  <thead>\n",
       "    <tr style=\"text-align: right;\">\n",
       "      <th></th>\n",
       "      <th>region</th>\n",
       "      <th>population</th>\n",
       "      <th>sex</th>\n",
       "      <th>age</th>\n",
       "      <th>education</th>\n",
       "      <th>income</th>\n",
       "      <th>statusquo</th>\n",
       "      <th>vote</th>\n",
       "      <th>logincome</th>\n",
       "      <th>logpop</th>\n",
       "      <th>sex_M</th>\n",
       "      <th>region_M</th>\n",
       "      <th>region_N</th>\n",
       "      <th>region_S</th>\n",
       "      <th>region_SA</th>\n",
       "      <th>education_PS</th>\n",
       "      <th>education_S</th>\n",
       "    </tr>\n",
       "  </thead>\n",
       "  <tbody>\n",
       "    <tr>\n",
       "      <th>0</th>\n",
       "      <td>N</td>\n",
       "      <td>175000</td>\n",
       "      <td>M</td>\n",
       "      <td>65.0</td>\n",
       "      <td>P</td>\n",
       "      <td>35000.0</td>\n",
       "      <td>1.00820</td>\n",
       "      <td>1</td>\n",
       "      <td>10.463103</td>\n",
       "      <td>12.072541</td>\n",
       "      <td>1</td>\n",
       "      <td>0</td>\n",
       "      <td>1</td>\n",
       "      <td>0</td>\n",
       "      <td>0</td>\n",
       "      <td>0</td>\n",
       "      <td>0</td>\n",
       "    </tr>\n",
       "    <tr>\n",
       "      <th>1</th>\n",
       "      <td>N</td>\n",
       "      <td>175000</td>\n",
       "      <td>M</td>\n",
       "      <td>29.0</td>\n",
       "      <td>PS</td>\n",
       "      <td>7500.0</td>\n",
       "      <td>-1.29617</td>\n",
       "      <td>0</td>\n",
       "      <td>8.922658</td>\n",
       "      <td>12.072541</td>\n",
       "      <td>1</td>\n",
       "      <td>0</td>\n",
       "      <td>1</td>\n",
       "      <td>0</td>\n",
       "      <td>0</td>\n",
       "      <td>1</td>\n",
       "      <td>0</td>\n",
       "    </tr>\n",
       "    <tr>\n",
       "      <th>2</th>\n",
       "      <td>N</td>\n",
       "      <td>175000</td>\n",
       "      <td>F</td>\n",
       "      <td>38.0</td>\n",
       "      <td>P</td>\n",
       "      <td>15000.0</td>\n",
       "      <td>1.23072</td>\n",
       "      <td>1</td>\n",
       "      <td>9.615805</td>\n",
       "      <td>12.072541</td>\n",
       "      <td>0</td>\n",
       "      <td>0</td>\n",
       "      <td>1</td>\n",
       "      <td>0</td>\n",
       "      <td>0</td>\n",
       "      <td>0</td>\n",
       "      <td>0</td>\n",
       "    </tr>\n",
       "    <tr>\n",
       "      <th>3</th>\n",
       "      <td>N</td>\n",
       "      <td>175000</td>\n",
       "      <td>F</td>\n",
       "      <td>49.0</td>\n",
       "      <td>P</td>\n",
       "      <td>35000.0</td>\n",
       "      <td>-1.03163</td>\n",
       "      <td>0</td>\n",
       "      <td>10.463103</td>\n",
       "      <td>12.072541</td>\n",
       "      <td>0</td>\n",
       "      <td>0</td>\n",
       "      <td>1</td>\n",
       "      <td>0</td>\n",
       "      <td>0</td>\n",
       "      <td>0</td>\n",
       "      <td>0</td>\n",
       "    </tr>\n",
       "    <tr>\n",
       "      <th>4</th>\n",
       "      <td>N</td>\n",
       "      <td>175000</td>\n",
       "      <td>F</td>\n",
       "      <td>23.0</td>\n",
       "      <td>S</td>\n",
       "      <td>35000.0</td>\n",
       "      <td>-1.10496</td>\n",
       "      <td>0</td>\n",
       "      <td>10.463103</td>\n",
       "      <td>12.072541</td>\n",
       "      <td>0</td>\n",
       "      <td>0</td>\n",
       "      <td>1</td>\n",
       "      <td>0</td>\n",
       "      <td>0</td>\n",
       "      <td>0</td>\n",
       "      <td>1</td>\n",
       "    </tr>\n",
       "  </tbody>\n",
       "</table>\n",
       "</div>"
      ],
      "text/plain": [
       "  region  population sex   age education   income  statusquo  vote  logincome  \\\n",
       "0      N      175000   M  65.0         P  35000.0    1.00820     1  10.463103   \n",
       "1      N      175000   M  29.0        PS   7500.0   -1.29617     0   8.922658   \n",
       "2      N      175000   F  38.0         P  15000.0    1.23072     1   9.615805   \n",
       "3      N      175000   F  49.0         P  35000.0   -1.03163     0  10.463103   \n",
       "4      N      175000   F  23.0         S  35000.0   -1.10496     0  10.463103   \n",
       "\n",
       "      logpop  sex_M  region_M  region_N  region_S  region_SA  education_PS  \\\n",
       "0  12.072541      1         0         1         0          0             0   \n",
       "1  12.072541      1         0         1         0          0             1   \n",
       "2  12.072541      0         0         1         0          0             0   \n",
       "3  12.072541      0         0         1         0          0             0   \n",
       "4  12.072541      0         0         1         0          0             0   \n",
       "\n",
       "   education_S  \n",
       "0            0  \n",
       "1            0  \n",
       "2            0  \n",
       "3            0  \n",
       "4            1  "
      ]
     },
     "execution_count": 29,
     "metadata": {},
     "output_type": "execute_result"
    }
   ],
   "source": [
    "## Dummies\n",
    "\n",
    "# Sex\n",
    "dummies = pd.get_dummies(chile_clean['sex'], prefix = 'sex', drop_first = True)\n",
    "chile_clean_wdumvars = pd.concat([chile_clean, dummies], axis=1)\n",
    "\n",
    "# Education\n",
    "dummies = pd.get_dummies(chile_clean['region'], prefix = 'region', drop_first = True)\n",
    "chile_clean_wdumvars = pd.concat([chile_clean_wdumvars, dummies], axis=1)\n",
    "\n",
    "# Region\n",
    "dummies = pd.get_dummies(chile_clean['education'], prefix = 'education', drop_first = True)\n",
    "chile_clean_wdumvars = pd.concat([chile_clean_wdumvars, dummies], axis=1)\n",
    "\n",
    "## Head\n",
    "chile_clean_wdumvars.head()\n",
    "\n",
    "# You can even drop the original variables, if you want to: \n",
    "# DataFrame.drop(labels = ['v1, 'v2',..., 'vn'], axis = 1)"
   ]
  },
  {
   "cell_type": "markdown",
   "id": "d036c003",
   "metadata": {
    "slideshow": {
     "slide_type": "slide"
    }
   },
   "source": [
    "## Logistic Regression\n",
    "\n",
    "- Now with Scikit Learn, and using all the categorical variables:"
   ]
  },
  {
   "cell_type": "code",
   "execution_count": 6,
   "id": "9eacec81",
   "metadata": {
    "slideshow": {
     "slide_type": "fragment"
    }
   },
   "outputs": [
    {
     "data": {
      "text/html": [
       "<style>#sk-container-id-1 {color: black;background-color: white;}#sk-container-id-1 pre{padding: 0;}#sk-container-id-1 div.sk-toggleable {background-color: white;}#sk-container-id-1 label.sk-toggleable__label {cursor: pointer;display: block;width: 100%;margin-bottom: 0;padding: 0.3em;box-sizing: border-box;text-align: center;}#sk-container-id-1 label.sk-toggleable__label-arrow:before {content: \"▸\";float: left;margin-right: 0.25em;color: #696969;}#sk-container-id-1 label.sk-toggleable__label-arrow:hover:before {color: black;}#sk-container-id-1 div.sk-estimator:hover label.sk-toggleable__label-arrow:before {color: black;}#sk-container-id-1 div.sk-toggleable__content {max-height: 0;max-width: 0;overflow: hidden;text-align: left;background-color: #f0f8ff;}#sk-container-id-1 div.sk-toggleable__content pre {margin: 0.2em;color: black;border-radius: 0.25em;background-color: #f0f8ff;}#sk-container-id-1 input.sk-toggleable__control:checked~div.sk-toggleable__content {max-height: 200px;max-width: 100%;overflow: auto;}#sk-container-id-1 input.sk-toggleable__control:checked~label.sk-toggleable__label-arrow:before {content: \"▾\";}#sk-container-id-1 div.sk-estimator input.sk-toggleable__control:checked~label.sk-toggleable__label {background-color: #d4ebff;}#sk-container-id-1 div.sk-label input.sk-toggleable__control:checked~label.sk-toggleable__label {background-color: #d4ebff;}#sk-container-id-1 input.sk-hidden--visually {border: 0;clip: rect(1px 1px 1px 1px);clip: rect(1px, 1px, 1px, 1px);height: 1px;margin: -1px;overflow: hidden;padding: 0;position: absolute;width: 1px;}#sk-container-id-1 div.sk-estimator {font-family: monospace;background-color: #f0f8ff;border: 1px dotted black;border-radius: 0.25em;box-sizing: border-box;margin-bottom: 0.5em;}#sk-container-id-1 div.sk-estimator:hover {background-color: #d4ebff;}#sk-container-id-1 div.sk-parallel-item::after {content: \"\";width: 100%;border-bottom: 1px solid gray;flex-grow: 1;}#sk-container-id-1 div.sk-label:hover label.sk-toggleable__label {background-color: #d4ebff;}#sk-container-id-1 div.sk-serial::before {content: \"\";position: absolute;border-left: 1px solid gray;box-sizing: border-box;top: 0;bottom: 0;left: 50%;z-index: 0;}#sk-container-id-1 div.sk-serial {display: flex;flex-direction: column;align-items: center;background-color: white;padding-right: 0.2em;padding-left: 0.2em;position: relative;}#sk-container-id-1 div.sk-item {position: relative;z-index: 1;}#sk-container-id-1 div.sk-parallel {display: flex;align-items: stretch;justify-content: center;background-color: white;position: relative;}#sk-container-id-1 div.sk-item::before, #sk-container-id-1 div.sk-parallel-item::before {content: \"\";position: absolute;border-left: 1px solid gray;box-sizing: border-box;top: 0;bottom: 0;left: 50%;z-index: -1;}#sk-container-id-1 div.sk-parallel-item {display: flex;flex-direction: column;z-index: 1;position: relative;background-color: white;}#sk-container-id-1 div.sk-parallel-item:first-child::after {align-self: flex-end;width: 50%;}#sk-container-id-1 div.sk-parallel-item:last-child::after {align-self: flex-start;width: 50%;}#sk-container-id-1 div.sk-parallel-item:only-child::after {width: 0;}#sk-container-id-1 div.sk-dashed-wrapped {border: 1px dashed gray;margin: 0 0.4em 0.5em 0.4em;box-sizing: border-box;padding-bottom: 0.4em;background-color: white;}#sk-container-id-1 div.sk-label label {font-family: monospace;font-weight: bold;display: inline-block;line-height: 1.2em;}#sk-container-id-1 div.sk-label-container {text-align: center;}#sk-container-id-1 div.sk-container {/* jupyter's `normalize.less` sets `[hidden] { display: none; }` but bootstrap.min.css set `[hidden] { display: none !important; }` so we also need the `!important` here to be able to override the default hidden behavior on the sphinx rendered scikit-learn.org. See: https://github.com/scikit-learn/scikit-learn/issues/21755 */display: inline-block !important;position: relative;}#sk-container-id-1 div.sk-text-repr-fallback {display: none;}</style><div id=\"sk-container-id-1\" class=\"sk-top-container\"><div class=\"sk-text-repr-fallback\"><pre>LogisticRegression(solver=&#x27;newton-cg&#x27;)</pre><b>In a Jupyter environment, please rerun this cell to show the HTML representation or trust the notebook. <br />On GitHub, the HTML representation is unable to render, please try loading this page with nbviewer.org.</b></div><div class=\"sk-container\" hidden><div class=\"sk-item\"><div class=\"sk-estimator sk-toggleable\"><input class=\"sk-toggleable__control sk-hidden--visually\" id=\"sk-estimator-id-1\" type=\"checkbox\" checked><label for=\"sk-estimator-id-1\" class=\"sk-toggleable__label sk-toggleable__label-arrow\">LogisticRegression</label><div class=\"sk-toggleable__content\"><pre>LogisticRegression(solver=&#x27;newton-cg&#x27;)</pre></div></div></div></div></div>"
      ],
      "text/plain": [
       "LogisticRegression(solver='newton-cg')"
      ]
     },
     "execution_count": 6,
     "metadata": {},
     "output_type": "execute_result"
    }
   ],
   "source": [
    "# Target variable\n",
    "y = chile_clean_wdumvars['vote']\n",
    "\n",
    "# Predictors\n",
    "X = chile_clean_wdumvars[['logincome', 'logpop', 'age', \n",
    "                          'sex_M', \n",
    "                          'region_M', 'region_N', 'region_S', 'region_SA', \n",
    "                          'education_PS', 'education_S']]\n",
    "\n",
    "# Loading the model\n",
    "logreg =  LogisticRegression(solver = 'newton-cg') \n",
    "\n",
    "# Fitting the model\n",
    "logreg.fit(X, y)"
   ]
  },
  {
   "cell_type": "code",
   "execution_count": 7,
   "id": "65d151b2",
   "metadata": {
    "slideshow": {
     "slide_type": "slide"
    }
   },
   "outputs": [
    {
     "name": "stdout",
     "output_type": "stream",
     "text": [
      "Original coefficients: \n",
      "[0.86307463] [[ 0.26476284 -0.322841    0.01517345 -0.60709657  0.70687911  0.57056382\n",
      "   0.46210142  0.28097537 -0.99151494 -0.55811258]]\n",
      "\n",
      "\n",
      "\n",
      "Exponentiated coefficients: \n",
      "[2.37043771] [[1.3031219  0.72408898 1.01528916 0.54493074 2.02765328 1.76926432\n",
      "  1.58740629 1.32442098 0.3710142  0.57228819]]\n"
     ]
    }
   ],
   "source": [
    "# Getting parameters\n",
    "print('Original coefficients: ')\n",
    "print(logreg.intercept_, logreg.coef_)\n",
    "\n",
    "print('\\n\\n')\n",
    "\n",
    "# Exps:\n",
    "print('Exponentiated coefficients: ')\n",
    "print(np.exp(logreg.intercept_), np.exp(logreg.coef_))"
   ]
  },
  {
   "cell_type": "markdown",
   "id": "fab07143",
   "metadata": {
    "slideshow": {
     "slide_type": "slide"
    }
   },
   "source": [
    "# Generative Models of Classification"
   ]
  },
  {
   "cell_type": "markdown",
   "id": "367fa1bf",
   "metadata": {
    "slideshow": {
     "slide_type": "slide"
    }
   },
   "source": [
    "## Generative Models of Classification\n",
    "\n",
    "- Logistic regression involves modeling the probability of a response given a set of parameters\n",
    "    + Uses the logistic link for the *conditional distribution*\n",
    "    \n",
    "$$ \\mathbb{E}(Y = 1 | X = x) \\ = \\ \\mathbb{P}(Y = 1 | X = x) \\ = \\ \\text{Logit}(\\beta_0 + \\cdots + \\beta_pX_p) $$\n",
    "\n",
    "- Another approach is to model the distribution for each values of $Y$.\n",
    "\n",
    "- And then, use the Bayes' Theorem to get the conditional distributions.\n",
    "\n",
    "\n",
    "\n",
    "- But why?\n",
    "    1. Separation\n",
    "    2. Small sample size"
   ]
  },
  {
   "cell_type": "markdown",
   "id": "4f158971",
   "metadata": {
    "slideshow": {
     "slide_type": "slide"
    }
   },
   "source": [
    "## Generative Models of Classification\n",
    "\n",
    "- Let $\\pi_k$ the prior probability of $Y = k$.\n",
    "\n",
    "- And let $f_k(x) = \\mathbb{P}(X = x | Y = k)$ the density function for an observation that comes from the $k$-th class.\n",
    "\n",
    "The Bayes theorem says that:\n",
    "\n",
    "$$ \\mathbb{P}(Y = k | X = x) \\ = \\ \\dfrac{\\pi_kf_k(x)}{\\sum_l \\pi_l f_l(x)} $$\n",
    "\n",
    "- Now, estimating $\\pi_k$ is easy: we just compute the fraction that belongs to the $k$-th class.\n",
    "\n",
    "\n",
    "- How about $f$?\n",
    "\n",
    "    + The different estimators are going to give us different classifiers!"
   ]
  },
  {
   "cell_type": "markdown",
   "id": "5e04bce0",
   "metadata": {
    "slideshow": {
     "slide_type": "slide"
    }
   },
   "source": [
    "## Generative Models of Classification\n",
    "\n",
    "### 1. Linear Discriminant Analysis\n",
    "\n",
    "- Suppose we have only one variable $x$ and $f_k$ is Gaussian:\n",
    "\n",
    "$$ x \\sim N(\\mu_k, \\sigma_k^2) $$\n",
    "\n",
    "- And assuming further that the draws have the same variance: $\\sigma^2 = \\sigma_k^2 \\forall k$\n",
    "\n",
    "- Computing the log of the posterior gives us:\n",
    "\n",
    "$$ \\delta_k(x) \\ = \\ x \\dfrac{\\mu_k}{\\sigma^2} - \\dfrac{\\mu_k^2}{2\\sigma^2} + \\log(\\pi_k) $$"
   ]
  },
  {
   "cell_type": "markdown",
   "id": "9cf7e99b",
   "metadata": {
    "slideshow": {
     "slide_type": "slide"
    }
   },
   "source": [
    "## Generative Models of Classification\n",
    "\n",
    "### 1. Linear Discriminant Analysis\n",
    "\n",
    "And the decision for which class the $x$ belongs is simple: **Whichever has the highest probability is the \"winner\"**.\n",
    "\n",
    "1. Let $x$\n",
    "\n",
    "2. Compute $\\delta_0(x)$\n",
    "\n",
    "3. Compute $\\delta_1(x)$\n",
    "\n",
    "4. The highest is the winner :-)"
   ]
  },
  {
   "cell_type": "markdown",
   "id": "e8b29d77",
   "metadata": {
    "slideshow": {
     "slide_type": "slide"
    }
   },
   "source": [
    "## Generative Models of Classification\n",
    "\n",
    "### 1. Linear Discriminant Analysis\n",
    "\n",
    "But how the decision boundary looks like? We need to find the *indifference point*:\n",
    "\n",
    "$$ \\delta_1(x) = \\delta_0(x) $$\n",
    "\n",
    "Do the algebra, and you are going to find:\n",
    "\n",
    "$$ x \\ = \\ \\dfrac{\\mu_0 + \\mu_1}{2} $$\n",
    "\n"
   ]
  },
  {
   "cell_type": "markdown",
   "id": "2ddfddba",
   "metadata": {
    "slideshow": {
     "slide_type": "slide"
    }
   },
   "source": [
    "## Generative Models of Classification\n",
    "\n",
    "### 1. Linear Discriminant Analysis\n",
    "\n",
    "![img lda](../img/ldabounds.png)"
   ]
  },
  {
   "cell_type": "markdown",
   "id": "a7bc8d06",
   "metadata": {
    "slideshow": {
     "slide_type": "slide"
    }
   },
   "source": [
    "## Generative Models of Classification\n",
    "\n",
    "### 1. Linear Discriminant Analysis\n",
    "\n",
    "And the LDA approximate the quantities of interest by doing the following:\n",
    "\n",
    "1. $$ \\widehat{\\mu}_k  \\ = \\ \\dfrac{1}{n_k} \\sum_{i:y_i = k}x_i $$\n",
    "\n",
    "\n",
    "2. $$ \\widehat{\\sigma}^2 \\ = \\ \\dfrac{1}{n - K} \\sum_{k=1}^K\\sum_{i:y_i = k}(x_i - \\widehat{\\mu}_k)^2 $$\n",
    "\n",
    "\n",
    "3. $$ \\widehat{\\pi}_k \\ = \\ \\dfrac{n_k}{n} $$\n",
    "\n",
    "Note that you can classify more than two categories."
   ]
  },
  {
   "cell_type": "markdown",
   "id": "f97d52ca",
   "metadata": {
    "slideshow": {
     "slide_type": "slide"
    }
   },
   "source": [
    "## Generative Models of Classification\n",
    "\n",
    "### 1. Linear Discriminant Analysis\n",
    "\n",
    "The chance that $x$ belongs to $y=k$ is going to be:\n",
    "\n",
    "$$ \\widehat{\\delta}_k(x) \\ = \\ x \\dfrac{\\widehat{\\mu}_k}{\\widehat{\\sigma}^2} - \\dfrac{\\widehat{\\mu}_k^2}{2\\widehat{\\sigma}^2} + \\log(\\widehat{\\pi}_k) $$\n",
    "\n",
    "Note that this is a linear function, so the name `Linear Discriminant Analysis`!"
   ]
  },
  {
   "cell_type": "markdown",
   "id": "10350ec3",
   "metadata": {
    "slideshow": {
     "slide_type": "slide"
    }
   },
   "source": [
    "## Generative Models of Classification\n",
    "\n",
    "### 1. Linear Discriminant Analysis\n",
    "\n",
    "Now let's fit it using `scikit learn`"
   ]
  },
  {
   "cell_type": "code",
   "execution_count": 30,
   "id": "daebd965",
   "metadata": {
    "slideshow": {
     "slide_type": "fragment"
    }
   },
   "outputs": [
    {
     "data": {
      "image/png": "[encoded data removed]",
      "text/plain": [
       "<Figure size 640x480 with 1 Axes>"
      ]
     },
     "metadata": {},
     "output_type": "display_data"
    }
   ],
   "source": [
    "# Start a LDA (do not mix this up with Latent Dirichlet Allocation!)\n",
    "X, y = chile_clean[['logincome', 'age']], chile_clean['vote']\n",
    "\n",
    "# Create the model\n",
    "ldan = LinearDiscriminantAnalysis()\n",
    "\n",
    "# Fitting model\n",
    "ldan.fit(X, y)\n",
    "\n",
    "# Plotting the tree boundaries\n",
    "fig = DecisionBoundaryDisplay.from_estimator(ldan, X, response_method=\"predict\",\n",
    "                                             alpha=0.5, cmap=plt.cm.coolwarm)\n",
    "\n",
    "# Plotting the data points    \n",
    "fig.ax_.scatter(x = chile_clean['logincome'], y = chile_clean['age'], \n",
    "                c = y, alpha = 0.5,\n",
    "                cmap = plt.cm.coolwarm)\n",
    "\n",
    "plt.show()"
   ]
  },
  {
   "cell_type": "markdown",
   "id": "6d03c4a6",
   "metadata": {
    "slideshow": {
     "slide_type": "slide"
    }
   },
   "source": [
    "## Generative Models of Classification\n",
    "\n",
    "### 1. Linear Discriminant Analysis\n",
    "\n",
    "The most fundamental question:\n",
    "\n",
    "- How much error in classification we are doing?\n",
    "\n",
    "- To learn that, we need to study the `confusion matrix`!"
   ]
  },
  {
   "cell_type": "markdown",
   "id": "fdfd584c",
   "metadata": {
    "slideshow": {
     "slide_type": "slide"
    }
   },
   "source": [
    "### Measuring Performance\n",
    "\n",
    "**Confusion Matrix**:\n",
    "\n",
    "|  | **Predicted: 0** | **Predicted: 1** |\n",
    "|---|---|---|\n",
    "| **Actual: 0** | True Negative | False Positive |\n",
    "| **Actual: 1** | False Negative | True Positive |\n",
    "\n",
    "1. **Accuracy:** $$\\dfrac{\\text{correct predictions}}{\\text{total observations}} \\ = \\ \\dfrac{tp + tn}{tp + tn + fp + fn}$$\n",
    "\n",
    "- High accuracy: lots of correct predictions!"
   ]
  },
  {
   "cell_type": "markdown",
   "id": "f83c7f89",
   "metadata": {
    "slideshow": {
     "slide_type": "slide"
    }
   },
   "source": [
    "### Measuring Performance\n",
    "\n",
    "**Confusion Matrix**:\n",
    "\n",
    "|  | **Predicted: 0** | **Predicted: 1** |\n",
    "|---|---|---|\n",
    "| **Actual: 0** | True Negative | False Positive |\n",
    "| **Actual: 1** | False Negative | True Positive |\n",
    "\n",
    "2. **Precision:** $$\\dfrac{\\text{true positives}}{\\text{total predicted positive}} \\ = \\ \\dfrac{tp}{tp + fp}$$\n",
    "\n",
    "- High precision: low false-positive rates.\n"
   ]
  },
  {
   "cell_type": "markdown",
   "id": "73fe6d80",
   "metadata": {
    "slideshow": {
     "slide_type": "slide"
    }
   },
   "source": [
    "### Measuring Performance\n",
    "\n",
    "**Confusion Matrix**:\n",
    "\n",
    "|  | **Predicted: 0** | **Predicted: 1** |\n",
    "|---|---|---|\n",
    "| **Actual: 0** | True Negative | False Positive |\n",
    "| **Actual: 1** | False Negative | True Positive |\n",
    "\n",
    "3. **Recall:** $$\\dfrac{\\text{true positives}}{\\text{total actual positive}} \\ = \\ \\dfrac{tp}{tp + fn}$$\n",
    "\n",
    "- High recall: low false-negative rates.\n"
   ]
  },
  {
   "cell_type": "markdown",
   "id": "9d65376f",
   "metadata": {
    "slideshow": {
     "slide_type": "slide"
    }
   },
   "source": [
    "### Measuring Performance\n",
    "\n",
    "4. **F1-Score**:\n",
    "\n",
    "$$ \\text{F1} \\ = \\ 2 \\times \\dfrac{\\text{precision} \\times \\text{recall}}{\\text{precision} + \\text{recall}} $$\n",
    "\n",
    "- Lets look at the two models: logistic x lda:"
   ]
  },
  {
   "cell_type": "code",
   "execution_count": 32,
   "id": "5a07d858",
   "metadata": {
    "slideshow": {
     "slide_type": "slide"
    }
   },
   "outputs": [
    {
     "data": {
      "text/html": [
       "<style>#sk-container-id-4 {color: black;background-color: white;}#sk-container-id-4 pre{padding: 0;}#sk-container-id-4 div.sk-toggleable {background-color: white;}#sk-container-id-4 label.sk-toggleable__label {cursor: pointer;display: block;width: 100%;margin-bottom: 0;padding: 0.3em;box-sizing: border-box;text-align: center;}#sk-container-id-4 label.sk-toggleable__label-arrow:before {content: \"▸\";float: left;margin-right: 0.25em;color: #696969;}#sk-container-id-4 label.sk-toggleable__label-arrow:hover:before {color: black;}#sk-container-id-4 div.sk-estimator:hover label.sk-toggleable__label-arrow:before {color: black;}#sk-container-id-4 div.sk-toggleable__content {max-height: 0;max-width: 0;overflow: hidden;text-align: left;background-color: #f0f8ff;}#sk-container-id-4 div.sk-toggleable__content pre {margin: 0.2em;color: black;border-radius: 0.25em;background-color: #f0f8ff;}#sk-container-id-4 input.sk-toggleable__control:checked~div.sk-toggleable__content {max-height: 200px;max-width: 100%;overflow: auto;}#sk-container-id-4 input.sk-toggleable__control:checked~label.sk-toggleable__label-arrow:before {content: \"▾\";}#sk-container-id-4 div.sk-estimator input.sk-toggleable__control:checked~label.sk-toggleable__label {background-color: #d4ebff;}#sk-container-id-4 div.sk-label input.sk-toggleable__control:checked~label.sk-toggleable__label {background-color: #d4ebff;}#sk-container-id-4 input.sk-hidden--visually {border: 0;clip: rect(1px 1px 1px 1px);clip: rect(1px, 1px, 1px, 1px);height: 1px;margin: -1px;overflow: hidden;padding: 0;position: absolute;width: 1px;}#sk-container-id-4 div.sk-estimator {font-family: monospace;background-color: #f0f8ff;border: 1px dotted black;border-radius: 0.25em;box-sizing: border-box;margin-bottom: 0.5em;}#sk-container-id-4 div.sk-estimator:hover {background-color: #d4ebff;}#sk-container-id-4 div.sk-parallel-item::after {content: \"\";width: 100%;border-bottom: 1px solid gray;flex-grow: 1;}#sk-container-id-4 div.sk-label:hover label.sk-toggleable__label {background-color: #d4ebff;}#sk-container-id-4 div.sk-serial::before {content: \"\";position: absolute;border-left: 1px solid gray;box-sizing: border-box;top: 0;bottom: 0;left: 50%;z-index: 0;}#sk-container-id-4 div.sk-serial {display: flex;flex-direction: column;align-items: center;background-color: white;padding-right: 0.2em;padding-left: 0.2em;position: relative;}#sk-container-id-4 div.sk-item {position: relative;z-index: 1;}#sk-container-id-4 div.sk-parallel {display: flex;align-items: stretch;justify-content: center;background-color: white;position: relative;}#sk-container-id-4 div.sk-item::before, #sk-container-id-4 div.sk-parallel-item::before {content: \"\";position: absolute;border-left: 1px solid gray;box-sizing: border-box;top: 0;bottom: 0;left: 50%;z-index: -1;}#sk-container-id-4 div.sk-parallel-item {display: flex;flex-direction: column;z-index: 1;position: relative;background-color: white;}#sk-container-id-4 div.sk-parallel-item:first-child::after {align-self: flex-end;width: 50%;}#sk-container-id-4 div.sk-parallel-item:last-child::after {align-self: flex-start;width: 50%;}#sk-container-id-4 div.sk-parallel-item:only-child::after {width: 0;}#sk-container-id-4 div.sk-dashed-wrapped {border: 1px dashed gray;margin: 0 0.4em 0.5em 0.4em;box-sizing: border-box;padding-bottom: 0.4em;background-color: white;}#sk-container-id-4 div.sk-label label {font-family: monospace;font-weight: bold;display: inline-block;line-height: 1.2em;}#sk-container-id-4 div.sk-label-container {text-align: center;}#sk-container-id-4 div.sk-container {/* jupyter's `normalize.less` sets `[hidden] { display: none; }` but bootstrap.min.css set `[hidden] { display: none !important; }` so we also need the `!important` here to be able to override the default hidden behavior on the sphinx rendered scikit-learn.org. See: https://github.com/scikit-learn/scikit-learn/issues/21755 */display: inline-block !important;position: relative;}#sk-container-id-4 div.sk-text-repr-fallback {display: none;}</style><div id=\"sk-container-id-4\" class=\"sk-top-container\"><div class=\"sk-text-repr-fallback\"><pre>LinearDiscriminantAnalysis()</pre><b>In a Jupyter environment, please rerun this cell to show the HTML representation or trust the notebook. <br />On GitHub, the HTML representation is unable to render, please try loading this page with nbviewer.org.</b></div><div class=\"sk-container\" hidden><div class=\"sk-item\"><div class=\"sk-estimator sk-toggleable\"><input class=\"sk-toggleable__control sk-hidden--visually\" id=\"sk-estimator-id-4\" type=\"checkbox\" checked><label for=\"sk-estimator-id-4\" class=\"sk-toggleable__label sk-toggleable__label-arrow\">LinearDiscriminantAnalysis</label><div class=\"sk-toggleable__content\"><pre>LinearDiscriminantAnalysis()</pre></div></div></div></div></div>"
      ],
      "text/plain": [
       "LinearDiscriminantAnalysis()"
      ]
     },
     "execution_count": 32,
     "metadata": {},
     "output_type": "execute_result"
    }
   ],
   "source": [
    "# Target variable\n",
    "y = chile_clean_wdumvars['vote']\n",
    "\n",
    "# Predictors\n",
    "X = chile_clean_wdumvars[['logincome', 'logpop', 'age', \n",
    "                          'sex_M', \n",
    "                          'region_M', 'region_N', 'region_S', 'region_SA', \n",
    "                          'education_PS', 'education_S']]\n",
    "\n",
    "# Loading the model\n",
    "logreg =  LogisticRegression(solver = 'newton-cg')\n",
    "ldan = LinearDiscriminantAnalysis()\n",
    "\n",
    "# Fitting the models\n",
    "logreg.fit(X, y)\n",
    "ldan.fit(X, y)"
   ]
  },
  {
   "cell_type": "markdown",
   "id": "44a303ca",
   "metadata": {
    "slideshow": {
     "slide_type": "slide"
    }
   },
   "source": [
    "### Measuring Performance\n",
    "\n",
    "- Lets look at the two models: logistic x lda:"
   ]
  },
  {
   "cell_type": "code",
   "execution_count": 11,
   "id": "3d090711",
   "metadata": {
    "slideshow": {
     "slide_type": "fragment"
    }
   },
   "outputs": [
    {
     "name": "stdout",
     "output_type": "stream",
     "text": [
      "[[578 289]\n",
      " [329 507]]\n",
      "[[575 292]\n",
      " [333 503]]\n"
     ]
    }
   ],
   "source": [
    "# Predictions\n",
    "y_pred_logreg = logreg.predict(X)\n",
    "y_pred_ldan = ldan.predict(X)\n",
    "\n",
    "# Logistic Regression\n",
    "print(confusion_matrix(y, y_pred_logreg))\n",
    "\n",
    "# Linear Discriminant Analysis\n",
    "print(confusion_matrix(y, y_pred_ldan))"
   ]
  },
  {
   "cell_type": "code",
   "execution_count": 13,
   "id": "99fe1a3a",
   "metadata": {
    "scrolled": true,
    "slideshow": {
     "slide_type": "slide"
    }
   },
   "outputs": [
    {
     "name": "stdout",
     "output_type": "stream",
     "text": [
      "              precision    recall  f1-score   support\n",
      "\n",
      "           0       0.64      0.67      0.65       867\n",
      "           1       0.64      0.61      0.62       836\n",
      "\n",
      "    accuracy                           0.64      1703\n",
      "   macro avg       0.64      0.64      0.64      1703\n",
      "weighted avg       0.64      0.64      0.64      1703\n",
      "\n"
     ]
    }
   ],
   "source": [
    "# Logistic Classification Report\n",
    "print(classification_report(y, y_pred_logreg))"
   ]
  },
  {
   "cell_type": "code",
   "execution_count": 14,
   "id": "96b072c5",
   "metadata": {
    "scrolled": true,
    "slideshow": {
     "slide_type": "slide"
    }
   },
   "outputs": [
    {
     "name": "stdout",
     "output_type": "stream",
     "text": [
      "              precision    recall  f1-score   support\n",
      "\n",
      "           0       0.63      0.66      0.65       867\n",
      "           1       0.63      0.60      0.62       836\n",
      "\n",
      "    accuracy                           0.63      1703\n",
      "   macro avg       0.63      0.63      0.63      1703\n",
      "weighted avg       0.63      0.63      0.63      1703\n",
      "\n"
     ]
    }
   ],
   "source": [
    "# LDA Classification Report\n",
    "print(classification_report(y, y_pred_ldan))"
   ]
  },
  {
   "cell_type": "markdown",
   "id": "26de46ed",
   "metadata": {
    "slideshow": {
     "slide_type": "slide"
    }
   },
   "source": [
    "## Generative Models of Classification\n",
    "\n",
    "### 2. Quadratic Discriminant Analysis\n",
    "\n",
    "The main difference is that it assumes that every observation has its own covariance matrix:\n",
    "\n",
    "- Drop the `same-sigma-assumption`.\n",
    "\n",
    "### 3. Naïve Bayes\n",
    "\n",
    "Instead of assuming that $f$ belongs to a class of distributions (e.g., Normal), it assumes that the $f$s are independent:\n",
    "\n",
    "- Drop the `Multivariate-Normal-assumption`.\n",
    "\n",
    "- For $p$ predictors, you make only assumptions about each $x_{ik}$:\n",
    "\n",
    "$$ f_k(x) \\ = \\ f_{k1}(x_1)\\times \\cdots \\times f_{kp}(x_p) $$\n",
    "\n",
    "- And you assume a normal distribution (Gaussian shape) for each variable..."
   ]
  },
  {
   "cell_type": "markdown",
   "id": "1b3bb54e",
   "metadata": {
    "slideshow": {
     "slide_type": "slide"
    }
   },
   "source": [
    "## Generative Models of Classification\n",
    "\n",
    "\n",
    "![img](../img/ldaxqdaxnb.png)\n",
    "\n",
    "- Purple: Naïve Bayes; Black: LDA; Green: QDA."
   ]
  },
  {
   "cell_type": "code",
   "execution_count": 33,
   "id": "0d9c0b02",
   "metadata": {
    "slideshow": {
     "slide_type": "slide"
    }
   },
   "outputs": [],
   "source": [
    "## QDA\n",
    "qdan = QuadraticDiscriminantAnalysis()\n",
    "qdan.fit(X, y)\n",
    "\n",
    "## Gaussian Naive Bayes\n",
    "nbays = GaussianNB()\n",
    "nbays.fit(X, y)\n",
    "\n",
    "\n",
    "# Predictions\n",
    "y_pred_logreg = logreg.predict(X)\n",
    "y_pred_ldan = ldan.predict(X)\n",
    "y_pred_qdab = qdan.predict(X)\n",
    "y_pred_nbays = nbays.predict(X)"
   ]
  },
  {
   "cell_type": "code",
   "execution_count": 20,
   "id": "c654277b",
   "metadata": {
    "slideshow": {
     "slide_type": "slide"
    }
   },
   "outputs": [
    {
     "name": "stdout",
     "output_type": "stream",
     "text": [
      "              precision    recall  f1-score   support\n",
      "\n",
      "           0       0.64      0.67      0.65       867\n",
      "           1       0.64      0.61      0.62       836\n",
      "\n",
      "    accuracy                           0.64      1703\n",
      "   macro avg       0.64      0.64      0.64      1703\n",
      "weighted avg       0.64      0.64      0.64      1703\n",
      "\n"
     ]
    }
   ],
   "source": [
    "# Logistic Regression\n",
    "print(classification_report(y, y_pred_logreg))"
   ]
  },
  {
   "cell_type": "code",
   "execution_count": 21,
   "id": "96403e23",
   "metadata": {
    "slideshow": {
     "slide_type": "slide"
    }
   },
   "outputs": [
    {
     "name": "stdout",
     "output_type": "stream",
     "text": [
      "              precision    recall  f1-score   support\n",
      "\n",
      "           0       0.63      0.66      0.65       867\n",
      "           1       0.63      0.60      0.62       836\n",
      "\n",
      "    accuracy                           0.63      1703\n",
      "   macro avg       0.63      0.63      0.63      1703\n",
      "weighted avg       0.63      0.63      0.63      1703\n",
      "\n"
     ]
    }
   ],
   "source": [
    "# Linear Discriminant Analysis\n",
    "print(classification_report(y, y_pred_ldan))"
   ]
  },
  {
   "cell_type": "code",
   "execution_count": 22,
   "id": "f644d3c6",
   "metadata": {
    "slideshow": {
     "slide_type": "slide"
    }
   },
   "outputs": [
    {
     "name": "stdout",
     "output_type": "stream",
     "text": [
      "              precision    recall  f1-score   support\n",
      "\n",
      "           0       0.61      0.78      0.68       867\n",
      "           1       0.68      0.49      0.57       836\n",
      "\n",
      "    accuracy                           0.63      1703\n",
      "   macro avg       0.64      0.63      0.63      1703\n",
      "weighted avg       0.64      0.63      0.63      1703\n",
      "\n"
     ]
    }
   ],
   "source": [
    "# Quadratic Discriminant Analysis\n",
    "print(classification_report(y, y_pred_qdab))"
   ]
  },
  {
   "cell_type": "code",
   "execution_count": 23,
   "id": "2e0b3dd3",
   "metadata": {
    "slideshow": {
     "slide_type": "slide"
    }
   },
   "outputs": [
    {
     "name": "stdout",
     "output_type": "stream",
     "text": [
      "              precision    recall  f1-score   support\n",
      "\n",
      "           0       0.60      0.71      0.65       867\n",
      "           1       0.63      0.51      0.57       836\n",
      "\n",
      "    accuracy                           0.61      1703\n",
      "   macro avg       0.62      0.61      0.61      1703\n",
      "weighted avg       0.62      0.61      0.61      1703\n",
      "\n"
     ]
    }
   ],
   "source": [
    "# Gaussian Naive Bayes\n",
    "print(classification_report(y, y_pred_nbays))"
   ]
  },
  {
   "cell_type": "markdown",
   "id": "d8eace45",
   "metadata": {
    "slideshow": {
     "slide_type": "slide"
    }
   },
   "source": [
    "# Questions?"
   ]
  },
  {
   "cell_type": "markdown",
   "id": "22d252e9",
   "metadata": {
    "slideshow": {
     "slide_type": "slide"
    }
   },
   "source": [
    "# See you next class\n"
   ]
  }
 ],
 "metadata": {
  "celltoolbar": "Slideshow",
  "kernelspec": {
   "display_name": "Python 3 (ipykernel)",
   "language": "python",
   "name": "python3"
  },
  "language_info": {
   "codemirror_mode": {
    "name": "ipython",
    "version": 3
   },
   "file_extension": ".py",
   "mimetype": "text/x-python",
   "name": "python",
   "nbconvert_exporter": "python",
   "pygments_lexer": "ipython3",
   "version": "3.9.12"
  }
 },
 "nbformat": 4,
 "nbformat_minor": 5
}
