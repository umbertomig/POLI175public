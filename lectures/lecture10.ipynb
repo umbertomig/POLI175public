{
 "cells": [
  {
   "cell_type": "markdown",
   "id": "243e38f9",
   "metadata": {
    "slideshow": {
     "slide_type": "slide"
    }
   },
   "source": [
    "# POLI 175 - Lecture 10\n",
    "\n",
    "## Detour: Git. GitHub, and Command Line"
   ]
  },
  {
   "cell_type": "markdown",
   "id": "a2f7f5fa",
   "metadata": {
    "slideshow": {
     "slide_type": "slide"
    }
   },
   "source": [
    "## Announcement\n",
    "\n",
    "1. Did I answer your email? If no, please send me a `bump`.\n",
    "\n",
    "2. Upon request, today is a technical class on Git, GitHub, a little bit of command line.\n",
    "\n",
    "3. Please let me know if you have any other cool things you want to learn!"
   ]
  },
  {
   "cell_type": "markdown",
   "id": "ea10486b",
   "metadata": {
    "slideshow": {
     "slide_type": "slide"
    }
   },
   "source": [
    "## Recap\n",
    "\n",
    "So far, we learned:\n",
    "\n",
    "- What is Machine Learning, and the main trade-offs involved in it.\n",
    "\n",
    "- How to use `numpy`, `pandas`, `matplotlib`, and `seaborn`.\n",
    "\n",
    "- Linear regression, theory and practice.\n",
    "\n",
    "**Great work!**\n",
    "\n",
    "- Do you have any questions about any of these contents?"
   ]
  },
  {
   "cell_type": "markdown",
   "id": "005ae1b7",
   "metadata": {
    "slideshow": {
     "slide_type": "slide"
    }
   },
   "source": [
    "## Plan for today\n",
    "\n",
    "**Git**:\n",
    "\n",
    "- How to do version control with Git.\n",
    "\n",
    "**GitHub**:\n",
    "\n",
    "- How to empower your Git with its online peer.\n",
    "\n",
    "Next class, in a more `as needed` basis:\n",
    "\n",
    "**Command Line**:"
   ]
  },
  {
   "cell_type": "markdown",
   "id": "63919238",
   "metadata": {
    "slideshow": {
     "slide_type": "slide"
    }
   },
   "source": [
    "# Git"
   ]
  },
  {
   "cell_type": "markdown",
   "id": "a4fde132",
   "metadata": {
    "slideshow": {
     "slide_type": "slide"
    }
   },
   "source": [
    "## Git\n",
    "\n",
    "- Tool that manages changes in files and directories in a project.\n",
    "\n",
    "- Git was created by the same creator of the Linux (Linus Torvalds).\n",
    "\n",
    "- The idea is that when you are coding, you make mistakes.\n",
    "    + Mess up with one file\n",
    "    + Mess up with folders\n",
    "    + Fix one thing and breaks another\n",
    "\n",
    "- Those are common mistakes. They happen especially in big teams.\n",
    "\n",
    "- Git is a software that controls the version of files and folders in a given folder, and if needed, goes back to original versions.\n",
    "\n",
    "- Git stores changes in a folder called `.git`."
   ]
  },
  {
   "cell_type": "markdown",
   "id": "43f480f5",
   "metadata": {
    "slideshow": {
     "slide_type": "slide"
    }
   },
   "source": [
    "## Git\n",
    "\n",
    "- Install Git:\n",
    "    + Check [here](https://git-scm.com/downloads).\n",
    "    \n",
    "- Once you are done installing, you now have `git`!\n",
    "\n",
    "- To check if it is working, type `git` in your command line.\n",
    "\n",
    "Let's not get started using `git`."
   ]
  },
  {
   "cell_type": "markdown",
   "id": "175c7f56",
   "metadata": {},
   "source": [
    "## Git\n",
    "\n",
    "**Checking configurations**:\n",
    "\n",
    "- `git config --list`: lists all configurations.\n",
    "    + System level (every user): `git config --list --system`\n",
    "    + Global level (every project): `git config --list --global`\n",
    "    + Local level (one specific project): `git config --list --local`\n",
    "    \n",
    "**Changing configurations**:\n",
    "\n",
    "- `git config --place setting value`:\n",
    "    + `git config global user.email \"your_email_here\"`\n",
    "    + `git config global user.name \"your_user_name_here\"`\n",
    "    \n",
    "**Your turn**:\n",
    "\n",
    "- Add your user name and email to it."
   ]
  },
  {
   "cell_type": "markdown",
   "id": "30093d64",
   "metadata": {
    "slideshow": {
     "slide_type": "slide"
    }
   },
   "source": [
    "## Git (and a bit of GitHub)\n",
    "\n",
    "Let's now create a folder that we will *git*.\n",
    "\n",
    "**Creating a version controlled folder**:\n",
    "\n",
    "- `git init reponame` and change the reponame with the name you want for your repo.\n",
    "    + Or navigate to the folder you want to create the repo and do `git init`\n",
    "\n",
    "**Clone from GitHub**:\n",
    "\n",
    "- `git clone urladdress`, and change the urladdress.\n",
    "    + Let's do it for the class repo?!\n",
    "    \n",
    "- Or maybe you need to rename the result: `git clone urladdress newname`"
   ]
  },
  {
   "cell_type": "markdown",
   "id": "b44c8633",
   "metadata": {
    "slideshow": {
     "slide_type": "slide"
    }
   },
   "source": [
    "## Git (and a bit of GitHub)\n",
    "\n",
    "**Clone from another folder**:\n",
    "\n",
    "- Or maybe you need to rename the result: `git clone folderthatexists newname`\n",
    "\n",
    "**Checking the GitHub remote content placeholder**:\n",
    "\n",
    "- `git remote -v`\n",
    "\n",
    "**Changing the GitHub remote content placeholder**:\n",
    "\n",
    "- Add: `git remote add remotename urladdress`. *urladdress* or placeholder in the machine.\n",
    "\n",
    "- Remove: `git remote rm remotename`"
   ]
  },
  {
   "cell_type": "markdown",
   "id": "d329a47c",
   "metadata": {
    "slideshow": {
     "slide_type": "slide"
    }
   },
   "source": [
    "## Git (and a bit of GitHub, now mostly GitHub)\n",
    "\n",
    "**Getting new changes from online repo**:\n",
    "\n",
    "- `git pull remoteplace branchlocal` or most of the time `git pull`\n",
    "\n",
    "- **Be careful**: If you have unsaved different stuff in your repo, `git pull` will give you weird results.\n",
    "    + Need to (carefully, please!) `git checkout -- .`\n",
    "\n",
    "**Pushing things online repo**:\n",
    "\n",
    "- `git push remoteplace branchlocal` or most of the time `git push`\n",
    "\n",
    "- **Be careful**: If you have unsaved different stuff in your repo, `git push` will also give you weird results.\n",
    "    + Need to (carefully, please!) `git pull`"
   ]
  },
  {
   "cell_type": "markdown",
   "id": "526aa02c",
   "metadata": {
    "slideshow": {
     "slide_type": "slide"
    }
   },
   "source": [
    "## Git\n",
    "\n",
    "**Check State Repo**:\n",
    "\n",
    "- `git status`: Show files in the staging area.\n",
    "\n",
    "**Add differences to staging area**:\n",
    "\n",
    "- `git add my_folder/myfile.ext`: add difference to staging area.\n",
    "\n",
    "- `git add -a`: add all changes to the staging area."
   ]
  },
  {
   "cell_type": "markdown",
   "id": "e9ee143e",
   "metadata": {
    "slideshow": {
     "slide_type": "slide"
    }
   },
   "source": [
    "## Git\n",
    "\n",
    "**Checking differences**:\n",
    "\n",
    "- `git diff`: Check differences in staging area.\n",
    "    + You can also check one file: `git diff my_folder/myfile.ext`\n",
    "\n",
    "- `git diff -r HEAD`. \n",
    "     + `-r` flag means compare to a revision.\n",
    "     + `HEAD` flag means most recent commit.\n",
    "         + `HEAD~1` commit before\n",
    "         + `HEAD~2` before before, and so on.\n",
    "        \n",
    "**Reading differences**:\n",
    "\n",
    "- Let's check the differences between lectures in my class folder."
   ]
  },
  {
   "cell_type": "markdown",
   "id": "eb1c2a14",
   "metadata": {
    "slideshow": {
     "slide_type": "slide"
    }
   },
   "source": [
    "## Git Detour: Text Editors\n",
    "\n",
    "**VIM**:\n",
    "- The editor that I like most.\n",
    "    + Probably because it is so hard that I have no idea how to use it :)\n",
    "    + It was invented when mouses where not around/not popular.\n",
    "    + VERY POWERFUL! If you have patience to update your skills, use something called `vim tutor`. Use it many times, you will become the best version of yourself.\n",
    "    + Has so many extensions that you could do virtually anything using it.\n",
    "    \n",
    "- Cheat Sheet: [here](https://vimsheet.com)"
   ]
  },
  {
   "cell_type": "markdown",
   "id": "f62333c2",
   "metadata": {
    "slideshow": {
     "slide_type": "slide"
    }
   },
   "source": [
    "## Git Detour: Text Editors\n",
    "\n",
    "**Nano**:\n",
    "- Much easier. Much less powerful. Do the job in a hurry...\n",
    "\n",
    "- Cheat Sheet: [here](https://www.nano-editor.org/dist/latest/cheatsheet.html)\n",
    "\n",
    "- To create a file: `nano file`\n",
    "\n",
    "- To navigate:\n",
    "    + `Ctrl + K`: delete a line\n",
    "    + `Ctrl + U`: undo the deletion of a line\n",
    "    + `Ctrl + O`: saves the file\n",
    "    + `Ctrl + X`: exits the editor"
   ]
  },
  {
   "cell_type": "markdown",
   "id": "cfa2eb16",
   "metadata": {
    "slideshow": {
     "slide_type": "slide"
    }
   },
   "source": [
    "## Git\n",
    "\n",
    "**Your turn**:\n",
    "\n",
    "- Now, in the folder we created, let's create a file.\n",
    "\n",
    "- Add the name you want to it. Add whatever you want inside it.\n",
    "\n",
    "- Add the file to the staging area.\n",
    "\n",
    "- Let's now learn how to commit it."
   ]
  },
  {
   "cell_type": "markdown",
   "id": "cffddeb8",
   "metadata": {
    "slideshow": {
     "slide_type": "slide"
    }
   },
   "source": [
    "## Git\n",
    "\n",
    "**Commit Files**: Make the changes *permanent* .\n",
    "\n",
    "- To be used when a change is relevant and important.\n",
    "\n",
    "- It is a good thing to keep the changes *annotated*.\n",
    "\n",
    "- Usage: after adding to the staging area, you do:\n",
    "    + `git commit -m \"My message here\"\n",
    "    + And if the message was wrong, use the flag `--amend` to fix it.\n",
    "    \n",
    "**Your turn**:\n",
    "\n",
    "- Commit the file you just added to the staging area."
   ]
  },
  {
   "cell_type": "markdown",
   "id": "158e668f",
   "metadata": {
    "slideshow": {
     "slide_type": "slide"
    }
   },
   "source": [
    "## Git\n",
    "\n",
    "**Staging x Commit**:\n",
    "\n",
    "- When you change files, git saves the changes in something called a staging area.\n",
    "    + Means that your changes are not actually saved!\n",
    "\n",
    "- When you are done changing, and you reach a good concept, you *commit* the changes.\n",
    "    + This stores the changes in the `.git` folder."
   ]
  },
  {
   "cell_type": "markdown",
   "id": "f011ef21",
   "metadata": {
    "slideshow": {
     "slide_type": "slide"
    }
   },
   "source": [
    "## Git\n",
    "\n",
    "**Checking up**:\n",
    "\n",
    "- `git log` checks the entire log. It is usually huge! Use `Space` to page down and `q` to quit.\n",
    "\n",
    "- `git log folder/file.fle` check the log of a particular file.\n",
    "\n",
    "- `git log -n folder/file.fle` check the last `n` commits logged in a particular file.\n",
    "\n",
    "- `git show commithashchars` show the details in a particular commit.\n",
    "\n",
    "- `git show HEAD`: shows last commit\n",
    "\n",
    "- `git show commithashchars1..commithashchars2`: shows changes between commit 1 and commit 2.\n",
    "\n",
    "- `git annotate file.fle`: shows summary of changes"
   ]
  },
  {
   "cell_type": "markdown",
   "id": "06b31811",
   "metadata": {
    "slideshow": {
     "slide_type": "slide"
    }
   },
   "source": [
    "## Git\n",
    "\n",
    "**Ignoring a given file:**\n",
    "\n",
    "- `git clean -n`: check files that are there, but currently being ignored.\n",
    "\n",
    "- `git clean -f file.fle`: gets rid of the file.\n",
    "\n",
    "**Ignoring batches of files**:\n",
    "\n",
    "- To tell git to ignore batches of files, we need to create a file called `.gitignore`.\n",
    "\n",
    "- It matches the files that you want to ignore and do not add them to the tracking.\n",
    "\n",
    "- Example:\n",
    "\n",
    "```\n",
    "*.log\n",
    ".DS_log\n",
    "*.tex\n",
    "myfolder\n",
    "```"
   ]
  },
  {
   "cell_type": "markdown",
   "id": "9107bad3",
   "metadata": {
    "slideshow": {
     "slide_type": "slide"
    }
   },
   "source": [
    "## Git\n",
    "\n",
    "**Discard changes that have not been staged**:\n",
    "\n",
    "- `git checkout -- my_folder/myfile.ext`: discard changes. **Warning:** remove the changes and discards them forever!\n",
    "\n",
    "**Discard changes that have been staged**:\n",
    "\n",
    "- First: `git reset HEAD my_folder/myfile.ext`\n",
    "- Then: `git checkout -- my_folder/myfile.ext` \n",
    "- Again: **Warning:** remove the changes and discards them forever!\n"
   ]
  },
  {
   "cell_type": "markdown",
   "id": "c3a4b2a9",
   "metadata": {
    "slideshow": {
     "slide_type": "slide"
    }
   },
   "source": [
    "## Git\n",
    "\n",
    "**Discard even further**: You can also discard changes that have been commited.\n",
    "\n",
    "1. Find the hash code of the change\n",
    "2. Check out the change.\n",
    "\n",
    "- `git checkout hashcode data/file.fle`\n",
    "\n",
    "**Undo all changes in a directory:**\n",
    "\n",
    "1. Navigate to the directory\n",
    "2. `git reset` **Be careful:** It unstages all!\n",
    "3. `git checkout -- .` Goes back to previous data."
   ]
  },
  {
   "cell_type": "markdown",
   "id": "ec2cdc12",
   "metadata": {
    "slideshow": {
     "slide_type": "slide"
    }
   },
   "source": [
    "## Git\n",
    "\n",
    "- **Branch**: Allows you to create subdirectories that you can work, while keeping the *main* files intact.\n",
    "    + With branches, you can potentially have two version of the same change, with different content.\n",
    "    + Or maybe two people working on different parts of the same project.\n",
    "\n",
    "But branches also add a few issues: it may be that you are done, and need to harmonize it back."
   ]
  },
  {
   "cell_type": "markdown",
   "id": "f7469fe3",
   "metadata": {
    "slideshow": {
     "slide_type": "slide"
    }
   },
   "source": [
    "## Git\n",
    "\n",
    "Primary branch is called `main` (before was `master`).\n",
    "\n",
    "To **check** branches:\n",
    "\n",
    "- `git branch`\n",
    "    + The one with the star is the one you are currently working with.\n",
    "\n",
    "**Creating a branch**:\n",
    "\n",
    "- `git checkout -b branchname`: Creates a branch with exactly the same content as the branch you are in.\n",
    "\n",
    "**Checking differences:**\n",
    "\n",
    "- `git diff branch-1..branch-k`: Differences between two branches."
   ]
  },
  {
   "cell_type": "markdown",
   "id": "d03ec729",
   "metadata": {
    "slideshow": {
     "slide_type": "slide"
    }
   },
   "source": [
    "## Git\n",
    "\n",
    "**Switch to a different branch**:\n",
    "\n",
    "- `git checkout otherbranch`: Switches to the other branch.\n",
    "\n",
    "**Merging two branches**:\n",
    "\n",
    "- `git merge source destination -m \"Nice message here\"` (no need for message, if you don't want to...)\n",
    "\n",
    "- If conflict, it is going to tell you!\n",
    "    + `git status` tells you where the conflict is.\n",
    "    + Change and update the files there\n",
    "    + `git add the_files`\n",
    "    + `git commit`... and add the message to the commit"
   ]
  },
  {
   "cell_type": "markdown",
   "id": "d8eace45",
   "metadata": {
    "slideshow": {
     "slide_type": "slide"
    }
   },
   "source": [
    "# Questions?"
   ]
  },
  {
   "cell_type": "markdown",
   "id": "22d252e9",
   "metadata": {
    "slideshow": {
     "slide_type": "slide"
    }
   },
   "source": [
    "# See you next class\n"
   ]
  }
 ],
 "metadata": {
  "celltoolbar": "Slideshow",
  "kernelspec": {
   "display_name": "Python 3 (ipykernel)",
   "language": "python",
   "name": "python3"
  },
  "language_info": {
   "codemirror_mode": {
    "name": "ipython",
    "version": 3
   },
   "file_extension": ".py",
   "mimetype": "text/x-python",
   "name": "python",
   "nbconvert_exporter": "python",
   "pygments_lexer": "ipython3",
   "version": "3.9.12"
  }
 },
 "nbformat": 4,
 "nbformat_minor": 5
}
