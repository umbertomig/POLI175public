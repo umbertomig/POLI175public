{
 "cells": [
  {
   "cell_type": "markdown",
   "metadata": {},
   "source": [
    "# POLI 175 - Machine Learning for Social Sciences\n",
    "\n",
    "## Python Refresh II\n",
    "\n",
    "---"
   ]
  },
  {
   "cell_type": "markdown",
   "metadata": {},
   "source": [
    "# Data Science with Pandas"
   ]
  },
  {
   "cell_type": "markdown",
   "metadata": {},
   "source": [
    "## Load Pandas and Numpy\n",
    "\n",
    "To get started, let us load Pandas and Numpy:"
   ]
  },
  {
   "cell_type": "code",
   "execution_count": 1,
   "metadata": {},
   "outputs": [],
   "source": [
    "# My code here\n",
    "import pandas as pd\n",
    "import numpy as np"
   ]
  },
  {
   "cell_type": "markdown",
   "metadata": {},
   "source": [
    "## Load Datasets\n",
    "\n",
    "We will load three datasets here:"
   ]
  },
  {
   "cell_type": "code",
   "execution_count": 2,
   "metadata": {},
   "outputs": [],
   "source": [
    "# My code here\n",
    "perisk = pd.read_csv('https://raw.githubusercontent.com/umbertomig/qtm151/main/datasets/PErisk.csv')\n",
    "tips = pd.read_csv('https://raw.githubusercontent.com/umbertomig/qtm151/main/datasets/tips.csv')"
   ]
  },
  {
   "cell_type": "markdown",
   "metadata": {},
   "source": [
    "**Exercise**: Explore the datasets we just loaded."
   ]
  },
  {
   "cell_type": "code",
   "execution_count": 3,
   "metadata": {},
   "outputs": [
    {
     "data": {
      "text/html": [
       "<div>\n",
       "<style scoped>\n",
       "    .dataframe tbody tr th:only-of-type {\n",
       "        vertical-align: middle;\n",
       "    }\n",
       "\n",
       "    .dataframe tbody tr th {\n",
       "        vertical-align: top;\n",
       "    }\n",
       "\n",
       "    .dataframe thead th {\n",
       "        text-align: right;\n",
       "    }\n",
       "</style>\n",
       "<table border=\"1\" class=\"dataframe\">\n",
       "  <thead>\n",
       "    <tr style=\"text-align: right;\">\n",
       "      <th></th>\n",
       "      <th>country</th>\n",
       "      <th>courts</th>\n",
       "      <th>barb2</th>\n",
       "      <th>prsexp2</th>\n",
       "      <th>prscorr2</th>\n",
       "      <th>gdpw2</th>\n",
       "    </tr>\n",
       "  </thead>\n",
       "  <tbody>\n",
       "    <tr>\n",
       "      <th>0</th>\n",
       "      <td>Argentina</td>\n",
       "      <td>0</td>\n",
       "      <td>-0.720775</td>\n",
       "      <td>1</td>\n",
       "      <td>3</td>\n",
       "      <td>9.690170</td>\n",
       "    </tr>\n",
       "    <tr>\n",
       "      <th>1</th>\n",
       "      <td>Australia</td>\n",
       "      <td>1</td>\n",
       "      <td>-6.907755</td>\n",
       "      <td>5</td>\n",
       "      <td>4</td>\n",
       "      <td>10.304840</td>\n",
       "    </tr>\n",
       "    <tr>\n",
       "      <th>2</th>\n",
       "      <td>Austria</td>\n",
       "      <td>1</td>\n",
       "      <td>-4.910337</td>\n",
       "      <td>5</td>\n",
       "      <td>4</td>\n",
       "      <td>10.100940</td>\n",
       "    </tr>\n",
       "    <tr>\n",
       "      <th>3</th>\n",
       "      <td>Bangladesh</td>\n",
       "      <td>0</td>\n",
       "      <td>0.775975</td>\n",
       "      <td>1</td>\n",
       "      <td>0</td>\n",
       "      <td>8.379768</td>\n",
       "    </tr>\n",
       "    <tr>\n",
       "      <th>4</th>\n",
       "      <td>Belgium</td>\n",
       "      <td>1</td>\n",
       "      <td>-4.617344</td>\n",
       "      <td>5</td>\n",
       "      <td>4</td>\n",
       "      <td>10.250120</td>\n",
       "    </tr>\n",
       "  </tbody>\n",
       "</table>\n",
       "</div>"
      ],
      "text/plain": [
       "      country  courts     barb2  prsexp2  prscorr2      gdpw2\n",
       "0   Argentina       0 -0.720775        1         3   9.690170\n",
       "1   Australia       1 -6.907755        5         4  10.304840\n",
       "2     Austria       1 -4.910337        5         4  10.100940\n",
       "3  Bangladesh       0  0.775975        1         0   8.379768\n",
       "4     Belgium       1 -4.617344        5         4  10.250120"
      ]
     },
     "execution_count": 3,
     "metadata": {},
     "output_type": "execute_result"
    }
   ],
   "source": [
    "## Your answers here!\n",
    "perisk.head()"
   ]
  },
  {
   "cell_type": "code",
   "execution_count": 4,
   "metadata": {},
   "outputs": [
    {
     "data": {
      "text/html": [
       "<div>\n",
       "<style scoped>\n",
       "    .dataframe tbody tr th:only-of-type {\n",
       "        vertical-align: middle;\n",
       "    }\n",
       "\n",
       "    .dataframe tbody tr th {\n",
       "        vertical-align: top;\n",
       "    }\n",
       "\n",
       "    .dataframe thead th {\n",
       "        text-align: right;\n",
       "    }\n",
       "</style>\n",
       "<table border=\"1\" class=\"dataframe\">\n",
       "  <thead>\n",
       "    <tr style=\"text-align: right;\">\n",
       "      <th></th>\n",
       "      <th>obs</th>\n",
       "      <th>totbill</th>\n",
       "      <th>tip</th>\n",
       "      <th>sex</th>\n",
       "      <th>smoker</th>\n",
       "      <th>day</th>\n",
       "      <th>time</th>\n",
       "      <th>size</th>\n",
       "    </tr>\n",
       "  </thead>\n",
       "  <tbody>\n",
       "    <tr>\n",
       "      <th>0</th>\n",
       "      <td>1</td>\n",
       "      <td>16.99</td>\n",
       "      <td>1.01</td>\n",
       "      <td>F</td>\n",
       "      <td>No</td>\n",
       "      <td>Sun</td>\n",
       "      <td>Night</td>\n",
       "      <td>2</td>\n",
       "    </tr>\n",
       "    <tr>\n",
       "      <th>1</th>\n",
       "      <td>2</td>\n",
       "      <td>10.34</td>\n",
       "      <td>1.66</td>\n",
       "      <td>M</td>\n",
       "      <td>No</td>\n",
       "      <td>Sun</td>\n",
       "      <td>Night</td>\n",
       "      <td>3</td>\n",
       "    </tr>\n",
       "    <tr>\n",
       "      <th>2</th>\n",
       "      <td>3</td>\n",
       "      <td>21.01</td>\n",
       "      <td>3.50</td>\n",
       "      <td>M</td>\n",
       "      <td>No</td>\n",
       "      <td>Sun</td>\n",
       "      <td>Night</td>\n",
       "      <td>3</td>\n",
       "    </tr>\n",
       "    <tr>\n",
       "      <th>3</th>\n",
       "      <td>4</td>\n",
       "      <td>23.68</td>\n",
       "      <td>3.31</td>\n",
       "      <td>M</td>\n",
       "      <td>No</td>\n",
       "      <td>Sun</td>\n",
       "      <td>Night</td>\n",
       "      <td>2</td>\n",
       "    </tr>\n",
       "    <tr>\n",
       "      <th>4</th>\n",
       "      <td>5</td>\n",
       "      <td>24.59</td>\n",
       "      <td>3.61</td>\n",
       "      <td>F</td>\n",
       "      <td>No</td>\n",
       "      <td>Sun</td>\n",
       "      <td>Night</td>\n",
       "      <td>4</td>\n",
       "    </tr>\n",
       "  </tbody>\n",
       "</table>\n",
       "</div>"
      ],
      "text/plain": [
       "   obs  totbill   tip sex smoker  day   time  size\n",
       "0    1    16.99  1.01   F     No  Sun  Night     2\n",
       "1    2    10.34  1.66   M     No  Sun  Night     3\n",
       "2    3    21.01  3.50   M     No  Sun  Night     3\n",
       "3    4    23.68  3.31   M     No  Sun  Night     2\n",
       "4    5    24.59  3.61   F     No  Sun  Night     4"
      ]
     },
     "execution_count": 4,
     "metadata": {},
     "output_type": "execute_result"
    }
   ],
   "source": [
    "tips.head()"
   ]
  },
  {
   "cell_type": "markdown",
   "metadata": {},
   "source": [
    "## Counting\n",
    "\n",
    "### Counting data\n",
    "\n",
    "To count data we need to:\n",
    "\n",
    "```\n",
    "dat[\"variable\"].value_counts()\n",
    "```\n",
    "\n",
    "If we want it sorted, we can type:\n",
    "\n",
    "```\n",
    "dat[\"variable\"].value_counts(sort = True)\n",
    "```\n",
    "\n",
    "We can also count proportions:\n",
    "\n",
    "```\n",
    "dat[\"variable\"].value_counts(normalize = True)\n",
    "```\n",
    "\n",
    "Let's try?!\n",
    "\n",
    "### Detecting missing data\n",
    "\n",
    "We can also detect missing data using the function:\n",
    "\n",
    "```\n",
    "dat.isna()\n",
    "```\n",
    "\n",
    "And if we want, count the missing data by variable:\n",
    "\n",
    "```\n",
    "dat.isna().sum()\n",
    "```\n",
    "\n",
    "Ultimately, to remove the missing we should:\n",
    "\n",
    "```\n",
    "dat.dropna()\n",
    "```\n",
    "\n",
    "Or we can fill the missing with a custom value (proceed with caution here!)\n",
    "\n",
    "```\n",
    "dat.fillna(0)\n",
    "```"
   ]
  },
  {
   "cell_type": "code",
   "execution_count": 5,
   "metadata": {},
   "outputs": [
    {
     "data": {
      "text/plain": [
       "0    0.032258\n",
       "1    0.096774\n",
       "2    0.112903\n",
       "3    0.306452\n",
       "4    0.225806\n",
       "5    0.225806\n",
       "Name: prsexp2, dtype: float64"
      ]
     },
     "execution_count": 5,
     "metadata": {},
     "output_type": "execute_result"
    }
   ],
   "source": [
    "# My code here\n",
    "perisk['prsexp2'].value_counts(sort = False, normalize = True)"
   ]
  },
  {
   "cell_type": "code",
   "execution_count": 6,
   "metadata": {},
   "outputs": [
    {
     "data": {
      "text/plain": [
       "0     2\n",
       "1     6\n",
       "2     7\n",
       "3    19\n",
       "4    14\n",
       "5    14\n",
       "Name: prsexp2, dtype: int64"
      ]
     },
     "execution_count": 6,
     "metadata": {},
     "output_type": "execute_result"
    }
   ],
   "source": [
    "perisk['prsexp2'].value_counts(sort = False)"
   ]
  },
  {
   "cell_type": "code",
   "execution_count": 7,
   "metadata": {},
   "outputs": [
    {
     "data": {
      "text/plain": [
       "3    19\n",
       "5    14\n",
       "4    14\n",
       "2     7\n",
       "1     6\n",
       "0     2\n",
       "Name: prsexp2, dtype: int64"
      ]
     },
     "execution_count": 7,
     "metadata": {},
     "output_type": "execute_result"
    }
   ],
   "source": [
    "perisk['prsexp2'].value_counts()"
   ]
  },
  {
   "cell_type": "code",
   "execution_count": 8,
   "metadata": {},
   "outputs": [
    {
     "data": {
      "text/html": [
       "<div>\n",
       "<style scoped>\n",
       "    .dataframe tbody tr th:only-of-type {\n",
       "        vertical-align: middle;\n",
       "    }\n",
       "\n",
       "    .dataframe tbody tr th {\n",
       "        vertical-align: top;\n",
       "    }\n",
       "\n",
       "    .dataframe thead th {\n",
       "        text-align: right;\n",
       "    }\n",
       "</style>\n",
       "<table border=\"1\" class=\"dataframe\">\n",
       "  <thead>\n",
       "    <tr style=\"text-align: right;\">\n",
       "      <th></th>\n",
       "      <th>country</th>\n",
       "      <th>courts</th>\n",
       "      <th>barb2</th>\n",
       "      <th>prsexp2</th>\n",
       "      <th>prscorr2</th>\n",
       "      <th>gdpw2</th>\n",
       "    </tr>\n",
       "  </thead>\n",
       "  <tbody>\n",
       "    <tr>\n",
       "      <th>0</th>\n",
       "      <td>False</td>\n",
       "      <td>False</td>\n",
       "      <td>False</td>\n",
       "      <td>False</td>\n",
       "      <td>False</td>\n",
       "      <td>False</td>\n",
       "    </tr>\n",
       "    <tr>\n",
       "      <th>1</th>\n",
       "      <td>False</td>\n",
       "      <td>False</td>\n",
       "      <td>False</td>\n",
       "      <td>False</td>\n",
       "      <td>False</td>\n",
       "      <td>False</td>\n",
       "    </tr>\n",
       "    <tr>\n",
       "      <th>2</th>\n",
       "      <td>False</td>\n",
       "      <td>False</td>\n",
       "      <td>False</td>\n",
       "      <td>False</td>\n",
       "      <td>False</td>\n",
       "      <td>False</td>\n",
       "    </tr>\n",
       "    <tr>\n",
       "      <th>3</th>\n",
       "      <td>False</td>\n",
       "      <td>False</td>\n",
       "      <td>False</td>\n",
       "      <td>False</td>\n",
       "      <td>False</td>\n",
       "      <td>False</td>\n",
       "    </tr>\n",
       "    <tr>\n",
       "      <th>4</th>\n",
       "      <td>False</td>\n",
       "      <td>False</td>\n",
       "      <td>False</td>\n",
       "      <td>False</td>\n",
       "      <td>False</td>\n",
       "      <td>False</td>\n",
       "    </tr>\n",
       "    <tr>\n",
       "      <th>...</th>\n",
       "      <td>...</td>\n",
       "      <td>...</td>\n",
       "      <td>...</td>\n",
       "      <td>...</td>\n",
       "      <td>...</td>\n",
       "      <td>...</td>\n",
       "    </tr>\n",
       "    <tr>\n",
       "      <th>57</th>\n",
       "      <td>False</td>\n",
       "      <td>False</td>\n",
       "      <td>False</td>\n",
       "      <td>False</td>\n",
       "      <td>False</td>\n",
       "      <td>False</td>\n",
       "    </tr>\n",
       "    <tr>\n",
       "      <th>58</th>\n",
       "      <td>False</td>\n",
       "      <td>False</td>\n",
       "      <td>False</td>\n",
       "      <td>False</td>\n",
       "      <td>False</td>\n",
       "      <td>False</td>\n",
       "    </tr>\n",
       "    <tr>\n",
       "      <th>59</th>\n",
       "      <td>False</td>\n",
       "      <td>False</td>\n",
       "      <td>False</td>\n",
       "      <td>False</td>\n",
       "      <td>False</td>\n",
       "      <td>False</td>\n",
       "    </tr>\n",
       "    <tr>\n",
       "      <th>60</th>\n",
       "      <td>False</td>\n",
       "      <td>False</td>\n",
       "      <td>False</td>\n",
       "      <td>False</td>\n",
       "      <td>False</td>\n",
       "      <td>False</td>\n",
       "    </tr>\n",
       "    <tr>\n",
       "      <th>61</th>\n",
       "      <td>False</td>\n",
       "      <td>False</td>\n",
       "      <td>False</td>\n",
       "      <td>False</td>\n",
       "      <td>False</td>\n",
       "      <td>False</td>\n",
       "    </tr>\n",
       "  </tbody>\n",
       "</table>\n",
       "<p>62 rows × 6 columns</p>\n",
       "</div>"
      ],
      "text/plain": [
       "    country  courts  barb2  prsexp2  prscorr2  gdpw2\n",
       "0     False   False  False    False     False  False\n",
       "1     False   False  False    False     False  False\n",
       "2     False   False  False    False     False  False\n",
       "3     False   False  False    False     False  False\n",
       "4     False   False  False    False     False  False\n",
       "..      ...     ...    ...      ...       ...    ...\n",
       "57    False   False  False    False     False  False\n",
       "58    False   False  False    False     False  False\n",
       "59    False   False  False    False     False  False\n",
       "60    False   False  False    False     False  False\n",
       "61    False   False  False    False     False  False\n",
       "\n",
       "[62 rows x 6 columns]"
      ]
     },
     "execution_count": 8,
     "metadata": {},
     "output_type": "execute_result"
    }
   ],
   "source": [
    "perisk.isna()"
   ]
  },
  {
   "cell_type": "code",
   "execution_count": 9,
   "metadata": {},
   "outputs": [
    {
     "data": {
      "text/html": [
       "<div>\n",
       "<style scoped>\n",
       "    .dataframe tbody tr th:only-of-type {\n",
       "        vertical-align: middle;\n",
       "    }\n",
       "\n",
       "    .dataframe tbody tr th {\n",
       "        vertical-align: top;\n",
       "    }\n",
       "\n",
       "    .dataframe thead th {\n",
       "        text-align: right;\n",
       "    }\n",
       "</style>\n",
       "<table border=\"1\" class=\"dataframe\">\n",
       "  <thead>\n",
       "    <tr style=\"text-align: right;\">\n",
       "      <th></th>\n",
       "      <th>country</th>\n",
       "      <th>courts</th>\n",
       "      <th>barb2</th>\n",
       "      <th>prsexp2</th>\n",
       "      <th>prscorr2</th>\n",
       "      <th>gdpw2</th>\n",
       "    </tr>\n",
       "  </thead>\n",
       "  <tbody>\n",
       "    <tr>\n",
       "      <th>0</th>\n",
       "      <td>Argentina</td>\n",
       "      <td>0</td>\n",
       "      <td>-0.720775</td>\n",
       "      <td>1</td>\n",
       "      <td>3</td>\n",
       "      <td>9.690170</td>\n",
       "    </tr>\n",
       "    <tr>\n",
       "      <th>1</th>\n",
       "      <td>Australia</td>\n",
       "      <td>1</td>\n",
       "      <td>-6.907755</td>\n",
       "      <td>5</td>\n",
       "      <td>4</td>\n",
       "      <td>10.304840</td>\n",
       "    </tr>\n",
       "    <tr>\n",
       "      <th>2</th>\n",
       "      <td>Austria</td>\n",
       "      <td>1</td>\n",
       "      <td>-4.910337</td>\n",
       "      <td>5</td>\n",
       "      <td>4</td>\n",
       "      <td>10.100940</td>\n",
       "    </tr>\n",
       "    <tr>\n",
       "      <th>3</th>\n",
       "      <td>Bangladesh</td>\n",
       "      <td>0</td>\n",
       "      <td>0.775975</td>\n",
       "      <td>1</td>\n",
       "      <td>0</td>\n",
       "      <td>8.379768</td>\n",
       "    </tr>\n",
       "    <tr>\n",
       "      <th>4</th>\n",
       "      <td>Belgium</td>\n",
       "      <td>1</td>\n",
       "      <td>-4.617344</td>\n",
       "      <td>5</td>\n",
       "      <td>4</td>\n",
       "      <td>10.250120</td>\n",
       "    </tr>\n",
       "    <tr>\n",
       "      <th>...</th>\n",
       "      <td>...</td>\n",
       "      <td>...</td>\n",
       "      <td>...</td>\n",
       "      <td>...</td>\n",
       "      <td>...</td>\n",
       "      <td>...</td>\n",
       "    </tr>\n",
       "    <tr>\n",
       "      <th>57</th>\n",
       "      <td>United Kingdom</td>\n",
       "      <td>1</td>\n",
       "      <td>-6.907755</td>\n",
       "      <td>5</td>\n",
       "      <td>5</td>\n",
       "      <td>10.127270</td>\n",
       "    </tr>\n",
       "    <tr>\n",
       "      <th>58</th>\n",
       "      <td>Uruguay</td>\n",
       "      <td>0</td>\n",
       "      <td>-2.127775</td>\n",
       "      <td>2</td>\n",
       "      <td>2</td>\n",
       "      <td>9.414342</td>\n",
       "    </tr>\n",
       "    <tr>\n",
       "      <th>59</th>\n",
       "      <td>Venezuela</td>\n",
       "      <td>1</td>\n",
       "      <td>0.428845</td>\n",
       "      <td>3</td>\n",
       "      <td>2</td>\n",
       "      <td>9.848820</td>\n",
       "    </tr>\n",
       "    <tr>\n",
       "      <th>60</th>\n",
       "      <td>Zambia</td>\n",
       "      <td>0</td>\n",
       "      <td>0.965810</td>\n",
       "      <td>3</td>\n",
       "      <td>1</td>\n",
       "      <td>7.726213</td>\n",
       "    </tr>\n",
       "    <tr>\n",
       "      <th>61</th>\n",
       "      <td>Zimbabwe</td>\n",
       "      <td>0</td>\n",
       "      <td>-0.640321</td>\n",
       "      <td>3</td>\n",
       "      <td>2</td>\n",
       "      <td>7.965893</td>\n",
       "    </tr>\n",
       "  </tbody>\n",
       "</table>\n",
       "<p>62 rows × 6 columns</p>\n",
       "</div>"
      ],
      "text/plain": [
       "           country  courts     barb2  prsexp2  prscorr2      gdpw2\n",
       "0        Argentina       0 -0.720775        1         3   9.690170\n",
       "1        Australia       1 -6.907755        5         4  10.304840\n",
       "2          Austria       1 -4.910337        5         4  10.100940\n",
       "3       Bangladesh       0  0.775975        1         0   8.379768\n",
       "4          Belgium       1 -4.617344        5         4  10.250120\n",
       "..             ...     ...       ...      ...       ...        ...\n",
       "57  United Kingdom       1 -6.907755        5         5  10.127270\n",
       "58         Uruguay       0 -2.127775        2         2   9.414342\n",
       "59       Venezuela       1  0.428845        3         2   9.848820\n",
       "60          Zambia       0  0.965810        3         1   7.726213\n",
       "61        Zimbabwe       0 -0.640321        3         2   7.965893\n",
       "\n",
       "[62 rows x 6 columns]"
      ]
     },
     "execution_count": 9,
     "metadata": {},
     "output_type": "execute_result"
    }
   ],
   "source": [
    "perisk"
   ]
  },
  {
   "cell_type": "code",
   "execution_count": 10,
   "metadata": {},
   "outputs": [
    {
     "data": {
      "text/plain": [
       "country     0\n",
       "courts      0\n",
       "barb2       0\n",
       "prsexp2     0\n",
       "prscorr2    0\n",
       "gdpw2       0\n",
       "dtype: int64"
      ]
     },
     "execution_count": 10,
     "metadata": {},
     "output_type": "execute_result"
    }
   ],
   "source": [
    "perisk.isna().sum()"
   ]
  },
  {
   "cell_type": "markdown",
   "metadata": {},
   "source": [
    "**Exercise**: Count the number of `tips` by week day. Then, normalize to have the proportions."
   ]
  },
  {
   "cell_type": "code",
   "execution_count": 11,
   "metadata": {},
   "outputs": [
    {
     "data": {
      "text/plain": [
       "obs        0\n",
       "totbill    0\n",
       "tip        0\n",
       "sex        0\n",
       "smoker     0\n",
       "day        0\n",
       "time       0\n",
       "size       0\n",
       "dtype: int64"
      ]
     },
     "execution_count": 11,
     "metadata": {},
     "output_type": "execute_result"
    }
   ],
   "source": [
    "## Your answers here!\n",
    "tips.isna().sum()"
   ]
  },
  {
   "cell_type": "code",
   "execution_count": 12,
   "metadata": {},
   "outputs": [
    {
     "data": {
      "text/html": [
       "<div>\n",
       "<style scoped>\n",
       "    .dataframe tbody tr th:only-of-type {\n",
       "        vertical-align: middle;\n",
       "    }\n",
       "\n",
       "    .dataframe tbody tr th {\n",
       "        vertical-align: top;\n",
       "    }\n",
       "\n",
       "    .dataframe thead th {\n",
       "        text-align: right;\n",
       "    }\n",
       "</style>\n",
       "<table border=\"1\" class=\"dataframe\">\n",
       "  <thead>\n",
       "    <tr style=\"text-align: right;\">\n",
       "      <th></th>\n",
       "      <th>obs</th>\n",
       "      <th>totbill</th>\n",
       "      <th>tip</th>\n",
       "      <th>sex</th>\n",
       "      <th>smoker</th>\n",
       "      <th>day</th>\n",
       "      <th>time</th>\n",
       "      <th>size</th>\n",
       "    </tr>\n",
       "  </thead>\n",
       "  <tbody>\n",
       "    <tr>\n",
       "      <th>0</th>\n",
       "      <td>1</td>\n",
       "      <td>16.99</td>\n",
       "      <td>1.01</td>\n",
       "      <td>F</td>\n",
       "      <td>No</td>\n",
       "      <td>Sun</td>\n",
       "      <td>Night</td>\n",
       "      <td>2</td>\n",
       "    </tr>\n",
       "    <tr>\n",
       "      <th>1</th>\n",
       "      <td>2</td>\n",
       "      <td>10.34</td>\n",
       "      <td>1.66</td>\n",
       "      <td>M</td>\n",
       "      <td>No</td>\n",
       "      <td>Sun</td>\n",
       "      <td>Night</td>\n",
       "      <td>3</td>\n",
       "    </tr>\n",
       "    <tr>\n",
       "      <th>2</th>\n",
       "      <td>3</td>\n",
       "      <td>21.01</td>\n",
       "      <td>3.50</td>\n",
       "      <td>M</td>\n",
       "      <td>No</td>\n",
       "      <td>Sun</td>\n",
       "      <td>Night</td>\n",
       "      <td>3</td>\n",
       "    </tr>\n",
       "    <tr>\n",
       "      <th>3</th>\n",
       "      <td>4</td>\n",
       "      <td>23.68</td>\n",
       "      <td>3.31</td>\n",
       "      <td>M</td>\n",
       "      <td>No</td>\n",
       "      <td>Sun</td>\n",
       "      <td>Night</td>\n",
       "      <td>2</td>\n",
       "    </tr>\n",
       "    <tr>\n",
       "      <th>4</th>\n",
       "      <td>5</td>\n",
       "      <td>24.59</td>\n",
       "      <td>3.61</td>\n",
       "      <td>F</td>\n",
       "      <td>No</td>\n",
       "      <td>Sun</td>\n",
       "      <td>Night</td>\n",
       "      <td>4</td>\n",
       "    </tr>\n",
       "  </tbody>\n",
       "</table>\n",
       "</div>"
      ],
      "text/plain": [
       "   obs  totbill   tip sex smoker  day   time  size\n",
       "0    1    16.99  1.01   F     No  Sun  Night     2\n",
       "1    2    10.34  1.66   M     No  Sun  Night     3\n",
       "2    3    21.01  3.50   M     No  Sun  Night     3\n",
       "3    4    23.68  3.31   M     No  Sun  Night     2\n",
       "4    5    24.59  3.61   F     No  Sun  Night     4"
      ]
     },
     "execution_count": 12,
     "metadata": {},
     "output_type": "execute_result"
    }
   ],
   "source": [
    "tips.head()"
   ]
  },
  {
   "cell_type": "code",
   "execution_count": 13,
   "metadata": {},
   "outputs": [
    {
     "data": {
      "text/plain": [
       "Sat    87\n",
       "Sun    76\n",
       "Thu    62\n",
       "Fri    19\n",
       "Name: day, dtype: int64"
      ]
     },
     "execution_count": 13,
     "metadata": {},
     "output_type": "execute_result"
    }
   ],
   "source": [
    "tips['day'].value_counts()"
   ]
  },
  {
   "cell_type": "code",
   "execution_count": 14,
   "metadata": {},
   "outputs": [
    {
     "data": {
      "text/plain": [
       "Sun    76\n",
       "Thu    62\n",
       "Sat    87\n",
       "Fri    19\n",
       "Name: day, dtype: int64"
      ]
     },
     "execution_count": 14,
     "metadata": {},
     "output_type": "execute_result"
    }
   ],
   "source": [
    "tips['day'].value_counts(sort = False)"
   ]
  },
  {
   "cell_type": "code",
   "execution_count": 15,
   "metadata": {},
   "outputs": [
    {
     "data": {
      "text/plain": [
       "Sat    0.356557\n",
       "Sun    0.311475\n",
       "Thu    0.254098\n",
       "Fri    0.077869\n",
       "Name: day, dtype: float64"
      ]
     },
     "execution_count": 15,
     "metadata": {},
     "output_type": "execute_result"
    }
   ],
   "source": [
    "tips['day'].value_counts(normalize = True)"
   ]
  },
  {
   "cell_type": "code",
   "execution_count": 16,
   "metadata": {},
   "outputs": [
    {
     "data": {
      "text/plain": [
       "No     0.618852\n",
       "Yes    0.381148\n",
       "Name: smoker, dtype: float64"
      ]
     },
     "execution_count": 16,
     "metadata": {},
     "output_type": "execute_result"
    }
   ],
   "source": [
    "tips['smoker'].value_counts(normalize = True)"
   ]
  },
  {
   "cell_type": "markdown",
   "metadata": {},
   "source": [
    "## Summary by groups\n",
    "\n",
    "Suppose we want the mean of gdp by countries with and without courts. There are two ways:\n",
    "\n",
    "```\n",
    "# Hard way\n",
    "perisk[perisk['courts'] == 0]['gdpw2'].mean()\n",
    "perisk[perisk['courts'] == 1]['gdpw2'].mean()\n",
    "```\n",
    "\n",
    "Or, we can use the `groupby` function in Pandas:\n",
    "\n",
    "```\n",
    "# Easy way\n",
    "perisk.groupby(\"courts\")[\"gdpw2\"].mean()\n",
    "```"
   ]
  },
  {
   "cell_type": "code",
   "execution_count": 17,
   "metadata": {
    "scrolled": true
   },
   "outputs": [
    {
     "data": {
      "text/plain": [
       "(4947.680291027636, 16183.723367095039)"
      ]
     },
     "execution_count": 17,
     "metadata": {},
     "output_type": "execute_result"
    }
   ],
   "source": [
    "# My code here\n",
    "np.exp(perisk[perisk['courts'] == 0]['gdpw2'].mean()), np.exp(perisk[perisk['courts'] == 1]['gdpw2'].mean())"
   ]
  },
  {
   "cell_type": "code",
   "execution_count": 18,
   "metadata": {},
   "outputs": [
    {
     "data": {
      "text/plain": [
       "courts\n",
       "0     4947.680291\n",
       "1    16183.723367\n",
       "Name: gdpw2, dtype: float64"
      ]
     },
     "execution_count": 18,
     "metadata": {},
     "output_type": "execute_result"
    }
   ],
   "source": [
    "np.exp(perisk.groupby(\"courts\")[\"gdpw2\"].mean())"
   ]
  },
  {
   "cell_type": "code",
   "execution_count": 19,
   "metadata": {},
   "outputs": [
    {
     "data": {
      "text/html": [
       "<div>\n",
       "<style scoped>\n",
       "    .dataframe tbody tr th:only-of-type {\n",
       "        vertical-align: middle;\n",
       "    }\n",
       "\n",
       "    .dataframe tbody tr th {\n",
       "        vertical-align: top;\n",
       "    }\n",
       "\n",
       "    .dataframe thead th {\n",
       "        text-align: right;\n",
       "    }\n",
       "</style>\n",
       "<table border=\"1\" class=\"dataframe\">\n",
       "  <thead>\n",
       "    <tr style=\"text-align: right;\">\n",
       "      <th></th>\n",
       "      <th>country</th>\n",
       "      <th>courts</th>\n",
       "      <th>barb2</th>\n",
       "      <th>prsexp2</th>\n",
       "      <th>prscorr2</th>\n",
       "      <th>gdpw2</th>\n",
       "    </tr>\n",
       "  </thead>\n",
       "  <tbody>\n",
       "    <tr>\n",
       "      <th>0</th>\n",
       "      <td>Argentina</td>\n",
       "      <td>0</td>\n",
       "      <td>-0.720775</td>\n",
       "      <td>1</td>\n",
       "      <td>3</td>\n",
       "      <td>9.690170</td>\n",
       "    </tr>\n",
       "    <tr>\n",
       "      <th>1</th>\n",
       "      <td>Australia</td>\n",
       "      <td>1</td>\n",
       "      <td>-6.907755</td>\n",
       "      <td>5</td>\n",
       "      <td>4</td>\n",
       "      <td>10.304840</td>\n",
       "    </tr>\n",
       "    <tr>\n",
       "      <th>2</th>\n",
       "      <td>Austria</td>\n",
       "      <td>1</td>\n",
       "      <td>-4.910337</td>\n",
       "      <td>5</td>\n",
       "      <td>4</td>\n",
       "      <td>10.100940</td>\n",
       "    </tr>\n",
       "    <tr>\n",
       "      <th>3</th>\n",
       "      <td>Bangladesh</td>\n",
       "      <td>0</td>\n",
       "      <td>0.775975</td>\n",
       "      <td>1</td>\n",
       "      <td>0</td>\n",
       "      <td>8.379768</td>\n",
       "    </tr>\n",
       "    <tr>\n",
       "      <th>4</th>\n",
       "      <td>Belgium</td>\n",
       "      <td>1</td>\n",
       "      <td>-4.617344</td>\n",
       "      <td>5</td>\n",
       "      <td>4</td>\n",
       "      <td>10.250120</td>\n",
       "    </tr>\n",
       "  </tbody>\n",
       "</table>\n",
       "</div>"
      ],
      "text/plain": [
       "      country  courts     barb2  prsexp2  prscorr2      gdpw2\n",
       "0   Argentina       0 -0.720775        1         3   9.690170\n",
       "1   Australia       1 -6.907755        5         4  10.304840\n",
       "2     Austria       1 -4.910337        5         4  10.100940\n",
       "3  Bangladesh       0  0.775975        1         0   8.379768\n",
       "4     Belgium       1 -4.617344        5         4  10.250120"
      ]
     },
     "execution_count": 19,
     "metadata": {},
     "output_type": "execute_result"
    }
   ],
   "source": [
    "perisk.head()"
   ]
  },
  {
   "cell_type": "code",
   "execution_count": 20,
   "metadata": {},
   "outputs": [
    {
     "data": {
      "text/plain": [
       "prsexp2\n",
       "0     7909.568436\n",
       "1     4834.370325\n",
       "2     5975.682352\n",
       "3     5506.558444\n",
       "4     7687.217891\n",
       "5    25323.369109\n",
       "Name: gdpw2, dtype: float64"
      ]
     },
     "execution_count": 20,
     "metadata": {},
     "output_type": "execute_result"
    }
   ],
   "source": [
    "np.exp(perisk.groupby(\"prsexp2\")[\"gdpw2\"].mean())"
   ]
  },
  {
   "cell_type": "code",
   "execution_count": 21,
   "metadata": {},
   "outputs": [
    {
     "data": {
      "text/plain": [
       "prscorr2\n",
       "0     3773.130095\n",
       "1     3438.859593\n",
       "2     6268.252862\n",
       "3    10557.772910\n",
       "4    19116.261228\n",
       "5    26577.504579\n",
       "Name: gdpw2, dtype: float64"
      ]
     },
     "execution_count": 21,
     "metadata": {},
     "output_type": "execute_result"
    }
   ],
   "source": [
    "np.exp(perisk.groupby(\"prscorr2\")[\"gdpw2\"].mean())"
   ]
  },
  {
   "cell_type": "markdown",
   "metadata": {},
   "source": [
    "**Exercise**: In the `tips` dataset, compute the mean of tips by weekday."
   ]
  },
  {
   "cell_type": "code",
   "execution_count": 22,
   "metadata": {},
   "outputs": [
    {
     "data": {
      "text/html": [
       "<div>\n",
       "<style scoped>\n",
       "    .dataframe tbody tr th:only-of-type {\n",
       "        vertical-align: middle;\n",
       "    }\n",
       "\n",
       "    .dataframe tbody tr th {\n",
       "        vertical-align: top;\n",
       "    }\n",
       "\n",
       "    .dataframe thead th {\n",
       "        text-align: right;\n",
       "    }\n",
       "</style>\n",
       "<table border=\"1\" class=\"dataframe\">\n",
       "  <thead>\n",
       "    <tr style=\"text-align: right;\">\n",
       "      <th></th>\n",
       "      <th>obs</th>\n",
       "      <th>totbill</th>\n",
       "      <th>tip</th>\n",
       "      <th>sex</th>\n",
       "      <th>smoker</th>\n",
       "      <th>day</th>\n",
       "      <th>time</th>\n",
       "      <th>size</th>\n",
       "    </tr>\n",
       "  </thead>\n",
       "  <tbody>\n",
       "    <tr>\n",
       "      <th>0</th>\n",
       "      <td>1</td>\n",
       "      <td>16.99</td>\n",
       "      <td>1.01</td>\n",
       "      <td>F</td>\n",
       "      <td>No</td>\n",
       "      <td>Sun</td>\n",
       "      <td>Night</td>\n",
       "      <td>2</td>\n",
       "    </tr>\n",
       "    <tr>\n",
       "      <th>1</th>\n",
       "      <td>2</td>\n",
       "      <td>10.34</td>\n",
       "      <td>1.66</td>\n",
       "      <td>M</td>\n",
       "      <td>No</td>\n",
       "      <td>Sun</td>\n",
       "      <td>Night</td>\n",
       "      <td>3</td>\n",
       "    </tr>\n",
       "    <tr>\n",
       "      <th>2</th>\n",
       "      <td>3</td>\n",
       "      <td>21.01</td>\n",
       "      <td>3.50</td>\n",
       "      <td>M</td>\n",
       "      <td>No</td>\n",
       "      <td>Sun</td>\n",
       "      <td>Night</td>\n",
       "      <td>3</td>\n",
       "    </tr>\n",
       "    <tr>\n",
       "      <th>3</th>\n",
       "      <td>4</td>\n",
       "      <td>23.68</td>\n",
       "      <td>3.31</td>\n",
       "      <td>M</td>\n",
       "      <td>No</td>\n",
       "      <td>Sun</td>\n",
       "      <td>Night</td>\n",
       "      <td>2</td>\n",
       "    </tr>\n",
       "    <tr>\n",
       "      <th>4</th>\n",
       "      <td>5</td>\n",
       "      <td>24.59</td>\n",
       "      <td>3.61</td>\n",
       "      <td>F</td>\n",
       "      <td>No</td>\n",
       "      <td>Sun</td>\n",
       "      <td>Night</td>\n",
       "      <td>4</td>\n",
       "    </tr>\n",
       "  </tbody>\n",
       "</table>\n",
       "</div>"
      ],
      "text/plain": [
       "   obs  totbill   tip sex smoker  day   time  size\n",
       "0    1    16.99  1.01   F     No  Sun  Night     2\n",
       "1    2    10.34  1.66   M     No  Sun  Night     3\n",
       "2    3    21.01  3.50   M     No  Sun  Night     3\n",
       "3    4    23.68  3.31   M     No  Sun  Night     2\n",
       "4    5    24.59  3.61   F     No  Sun  Night     4"
      ]
     },
     "execution_count": 22,
     "metadata": {},
     "output_type": "execute_result"
    }
   ],
   "source": [
    "## Your answers here!\n",
    "tips.head()"
   ]
  },
  {
   "cell_type": "code",
   "execution_count": 23,
   "metadata": {},
   "outputs": [
    {
     "data": {
      "text/plain": [
       "day\n",
       "Fri     51.96\n",
       "Sat    260.40\n",
       "Sun    247.39\n",
       "Thu    171.83\n",
       "Name: tip, dtype: float64"
      ]
     },
     "execution_count": 23,
     "metadata": {},
     "output_type": "execute_result"
    }
   ],
   "source": [
    "tips.groupby('day')['tip'].sum()"
   ]
  },
  {
   "cell_type": "code",
   "execution_count": 24,
   "metadata": {},
   "outputs": [
    {
     "data": {
      "text/plain": [
       "day\n",
       "Fri    2.734737\n",
       "Sat    2.993103\n",
       "Sun    3.255132\n",
       "Thu    2.771452\n",
       "Name: tip, dtype: float64"
      ]
     },
     "execution_count": 24,
     "metadata": {},
     "output_type": "execute_result"
    }
   ],
   "source": [
    "tips.groupby('day')['tip'].mean()"
   ]
  },
  {
   "cell_type": "markdown",
   "metadata": {},
   "source": [
    "### Summary by groups (multiple functions)\n",
    "\n",
    "To group results by multiple functions, we can simply:\n",
    "\n",
    "```\n",
    "dat.groupby(\"var_group\")[\"var_stat\"].agg([stat1, stat2, stat3])\n",
    "```\n",
    "\n",
    "### Summary by groups (multiple levels)\n",
    "\n",
    "To group results by multiple levels, we can simply:\n",
    "\n",
    "```\n",
    "dat.groupby([\"varlevel1\", \"varlevel2\"])[\"var_stat\"].mean()\n",
    "```"
   ]
  },
  {
   "cell_type": "code",
   "execution_count": 25,
   "metadata": {},
   "outputs": [
    {
     "data": {
      "text/html": [
       "<div>\n",
       "<style scoped>\n",
       "    .dataframe tbody tr th:only-of-type {\n",
       "        vertical-align: middle;\n",
       "    }\n",
       "\n",
       "    .dataframe tbody tr th {\n",
       "        vertical-align: top;\n",
       "    }\n",
       "\n",
       "    .dataframe thead th {\n",
       "        text-align: right;\n",
       "    }\n",
       "</style>\n",
       "<table border=\"1\" class=\"dataframe\">\n",
       "  <thead>\n",
       "    <tr style=\"text-align: right;\">\n",
       "      <th></th>\n",
       "      <th>country</th>\n",
       "      <th>courts</th>\n",
       "      <th>barb2</th>\n",
       "      <th>prsexp2</th>\n",
       "      <th>prscorr2</th>\n",
       "      <th>gdpw2</th>\n",
       "    </tr>\n",
       "  </thead>\n",
       "  <tbody>\n",
       "    <tr>\n",
       "      <th>0</th>\n",
       "      <td>Argentina</td>\n",
       "      <td>0</td>\n",
       "      <td>-0.720775</td>\n",
       "      <td>1</td>\n",
       "      <td>3</td>\n",
       "      <td>9.690170</td>\n",
       "    </tr>\n",
       "    <tr>\n",
       "      <th>1</th>\n",
       "      <td>Australia</td>\n",
       "      <td>1</td>\n",
       "      <td>-6.907755</td>\n",
       "      <td>5</td>\n",
       "      <td>4</td>\n",
       "      <td>10.304840</td>\n",
       "    </tr>\n",
       "    <tr>\n",
       "      <th>2</th>\n",
       "      <td>Austria</td>\n",
       "      <td>1</td>\n",
       "      <td>-4.910337</td>\n",
       "      <td>5</td>\n",
       "      <td>4</td>\n",
       "      <td>10.100940</td>\n",
       "    </tr>\n",
       "    <tr>\n",
       "      <th>3</th>\n",
       "      <td>Bangladesh</td>\n",
       "      <td>0</td>\n",
       "      <td>0.775975</td>\n",
       "      <td>1</td>\n",
       "      <td>0</td>\n",
       "      <td>8.379768</td>\n",
       "    </tr>\n",
       "    <tr>\n",
       "      <th>4</th>\n",
       "      <td>Belgium</td>\n",
       "      <td>1</td>\n",
       "      <td>-4.617344</td>\n",
       "      <td>5</td>\n",
       "      <td>4</td>\n",
       "      <td>10.250120</td>\n",
       "    </tr>\n",
       "  </tbody>\n",
       "</table>\n",
       "</div>"
      ],
      "text/plain": [
       "      country  courts     barb2  prsexp2  prscorr2      gdpw2\n",
       "0   Argentina       0 -0.720775        1         3   9.690170\n",
       "1   Australia       1 -6.907755        5         4  10.304840\n",
       "2     Austria       1 -4.910337        5         4  10.100940\n",
       "3  Bangladesh       0  0.775975        1         0   8.379768\n",
       "4     Belgium       1 -4.617344        5         4  10.250120"
      ]
     },
     "execution_count": 25,
     "metadata": {},
     "output_type": "execute_result"
    }
   ],
   "source": [
    "# My code here\n",
    "perisk.head()"
   ]
  },
  {
   "cell_type": "code",
   "execution_count": 26,
   "metadata": {},
   "outputs": [
    {
     "data": {
      "text/html": [
       "<div>\n",
       "<style scoped>\n",
       "    .dataframe tbody tr th:only-of-type {\n",
       "        vertical-align: middle;\n",
       "    }\n",
       "\n",
       "    .dataframe tbody tr th {\n",
       "        vertical-align: top;\n",
       "    }\n",
       "\n",
       "    .dataframe thead th {\n",
       "        text-align: right;\n",
       "    }\n",
       "</style>\n",
       "<table border=\"1\" class=\"dataframe\">\n",
       "  <thead>\n",
       "    <tr style=\"text-align: right;\">\n",
       "      <th></th>\n",
       "      <th>min</th>\n",
       "      <th>max</th>\n",
       "    </tr>\n",
       "    <tr>\n",
       "      <th>courts</th>\n",
       "      <th></th>\n",
       "      <th></th>\n",
       "    </tr>\n",
       "  </thead>\n",
       "  <tbody>\n",
       "    <tr>\n",
       "      <th>0</th>\n",
       "      <td>7.029973</td>\n",
       "      <td>10.06777</td>\n",
       "    </tr>\n",
       "    <tr>\n",
       "      <th>1</th>\n",
       "      <td>8.126518</td>\n",
       "      <td>10.41018</td>\n",
       "    </tr>\n",
       "  </tbody>\n",
       "</table>\n",
       "</div>"
      ],
      "text/plain": [
       "             min       max\n",
       "courts                    \n",
       "0       7.029973  10.06777\n",
       "1       8.126518  10.41018"
      ]
     },
     "execution_count": 26,
     "metadata": {},
     "output_type": "execute_result"
    }
   ],
   "source": [
    "perisk.groupby(\"courts\")[\"gdpw2\"].agg([min, max])"
   ]
  },
  {
   "cell_type": "code",
   "execution_count": 27,
   "metadata": {},
   "outputs": [
    {
     "data": {
      "text/plain": [
       "courts  prsexp2\n",
       "0       0           7909.568436\n",
       "        1           4834.370325\n",
       "        2           5975.682352\n",
       "        3           4325.711870\n",
       "        4           4715.831823\n",
       "1       3          10823.898581\n",
       "        4          10084.726528\n",
       "        5          25323.369109\n",
       "Name: gdpw2, dtype: float64"
      ]
     },
     "execution_count": 27,
     "metadata": {},
     "output_type": "execute_result"
    }
   ],
   "source": [
    "np.exp(perisk.groupby([\"courts\", \"prsexp2\"])[\"gdpw2\"].mean())"
   ]
  },
  {
   "cell_type": "markdown",
   "metadata": {},
   "source": [
    "**Exercise**: For the `tips` dataset:\n",
    "\n",
    "1. Compute maximum, minimum, and sum of tips by weekday\n",
    "2. Compute the sum of tips by weekday and day time."
   ]
  },
  {
   "cell_type": "code",
   "execution_count": 28,
   "metadata": {},
   "outputs": [
    {
     "data": {
      "text/html": [
       "<div>\n",
       "<style scoped>\n",
       "    .dataframe tbody tr th:only-of-type {\n",
       "        vertical-align: middle;\n",
       "    }\n",
       "\n",
       "    .dataframe tbody tr th {\n",
       "        vertical-align: top;\n",
       "    }\n",
       "\n",
       "    .dataframe thead th {\n",
       "        text-align: right;\n",
       "    }\n",
       "</style>\n",
       "<table border=\"1\" class=\"dataframe\">\n",
       "  <thead>\n",
       "    <tr style=\"text-align: right;\">\n",
       "      <th></th>\n",
       "      <th>obs</th>\n",
       "      <th>totbill</th>\n",
       "      <th>tip</th>\n",
       "      <th>sex</th>\n",
       "      <th>smoker</th>\n",
       "      <th>day</th>\n",
       "      <th>time</th>\n",
       "      <th>size</th>\n",
       "    </tr>\n",
       "  </thead>\n",
       "  <tbody>\n",
       "    <tr>\n",
       "      <th>0</th>\n",
       "      <td>1</td>\n",
       "      <td>16.99</td>\n",
       "      <td>1.01</td>\n",
       "      <td>F</td>\n",
       "      <td>No</td>\n",
       "      <td>Sun</td>\n",
       "      <td>Night</td>\n",
       "      <td>2</td>\n",
       "    </tr>\n",
       "    <tr>\n",
       "      <th>1</th>\n",
       "      <td>2</td>\n",
       "      <td>10.34</td>\n",
       "      <td>1.66</td>\n",
       "      <td>M</td>\n",
       "      <td>No</td>\n",
       "      <td>Sun</td>\n",
       "      <td>Night</td>\n",
       "      <td>3</td>\n",
       "    </tr>\n",
       "    <tr>\n",
       "      <th>2</th>\n",
       "      <td>3</td>\n",
       "      <td>21.01</td>\n",
       "      <td>3.50</td>\n",
       "      <td>M</td>\n",
       "      <td>No</td>\n",
       "      <td>Sun</td>\n",
       "      <td>Night</td>\n",
       "      <td>3</td>\n",
       "    </tr>\n",
       "    <tr>\n",
       "      <th>3</th>\n",
       "      <td>4</td>\n",
       "      <td>23.68</td>\n",
       "      <td>3.31</td>\n",
       "      <td>M</td>\n",
       "      <td>No</td>\n",
       "      <td>Sun</td>\n",
       "      <td>Night</td>\n",
       "      <td>2</td>\n",
       "    </tr>\n",
       "    <tr>\n",
       "      <th>4</th>\n",
       "      <td>5</td>\n",
       "      <td>24.59</td>\n",
       "      <td>3.61</td>\n",
       "      <td>F</td>\n",
       "      <td>No</td>\n",
       "      <td>Sun</td>\n",
       "      <td>Night</td>\n",
       "      <td>4</td>\n",
       "    </tr>\n",
       "  </tbody>\n",
       "</table>\n",
       "</div>"
      ],
      "text/plain": [
       "   obs  totbill   tip sex smoker  day   time  size\n",
       "0    1    16.99  1.01   F     No  Sun  Night     2\n",
       "1    2    10.34  1.66   M     No  Sun  Night     3\n",
       "2    3    21.01  3.50   M     No  Sun  Night     3\n",
       "3    4    23.68  3.31   M     No  Sun  Night     2\n",
       "4    5    24.59  3.61   F     No  Sun  Night     4"
      ]
     },
     "execution_count": 28,
     "metadata": {},
     "output_type": "execute_result"
    }
   ],
   "source": [
    "## Your answers here!\n",
    "tips.head()"
   ]
  },
  {
   "cell_type": "code",
   "execution_count": 29,
   "metadata": {},
   "outputs": [
    {
     "data": {
      "text/html": [
       "<div>\n",
       "<style scoped>\n",
       "    .dataframe tbody tr th:only-of-type {\n",
       "        vertical-align: middle;\n",
       "    }\n",
       "\n",
       "    .dataframe tbody tr th {\n",
       "        vertical-align: top;\n",
       "    }\n",
       "\n",
       "    .dataframe thead th {\n",
       "        text-align: right;\n",
       "    }\n",
       "</style>\n",
       "<table border=\"1\" class=\"dataframe\">\n",
       "  <thead>\n",
       "    <tr style=\"text-align: right;\">\n",
       "      <th></th>\n",
       "      <th>min</th>\n",
       "      <th>max</th>\n",
       "      <th>sum</th>\n",
       "    </tr>\n",
       "    <tr>\n",
       "      <th>day</th>\n",
       "      <th></th>\n",
       "      <th></th>\n",
       "      <th></th>\n",
       "    </tr>\n",
       "  </thead>\n",
       "  <tbody>\n",
       "    <tr>\n",
       "      <th>Fri</th>\n",
       "      <td>1.00</td>\n",
       "      <td>4.73</td>\n",
       "      <td>51.96</td>\n",
       "    </tr>\n",
       "    <tr>\n",
       "      <th>Sat</th>\n",
       "      <td>1.00</td>\n",
       "      <td>10.00</td>\n",
       "      <td>260.40</td>\n",
       "    </tr>\n",
       "    <tr>\n",
       "      <th>Sun</th>\n",
       "      <td>1.01</td>\n",
       "      <td>6.50</td>\n",
       "      <td>247.39</td>\n",
       "    </tr>\n",
       "    <tr>\n",
       "      <th>Thu</th>\n",
       "      <td>1.25</td>\n",
       "      <td>6.70</td>\n",
       "      <td>171.83</td>\n",
       "    </tr>\n",
       "  </tbody>\n",
       "</table>\n",
       "</div>"
      ],
      "text/plain": [
       "      min    max     sum\n",
       "day                     \n",
       "Fri  1.00   4.73   51.96\n",
       "Sat  1.00  10.00  260.40\n",
       "Sun  1.01   6.50  247.39\n",
       "Thu  1.25   6.70  171.83"
      ]
     },
     "execution_count": 29,
     "metadata": {},
     "output_type": "execute_result"
    }
   ],
   "source": [
    "tips.groupby(\"day\")[\"tip\"].agg([min, max, sum])"
   ]
  },
  {
   "cell_type": "code",
   "execution_count": 30,
   "metadata": {},
   "outputs": [
    {
     "data": {
      "text/html": [
       "<div>\n",
       "<style scoped>\n",
       "    .dataframe tbody tr th:only-of-type {\n",
       "        vertical-align: middle;\n",
       "    }\n",
       "\n",
       "    .dataframe tbody tr th {\n",
       "        vertical-align: top;\n",
       "    }\n",
       "\n",
       "    .dataframe thead th {\n",
       "        text-align: right;\n",
       "    }\n",
       "</style>\n",
       "<table border=\"1\" class=\"dataframe\">\n",
       "  <thead>\n",
       "    <tr style=\"text-align: right;\">\n",
       "      <th></th>\n",
       "      <th>min</th>\n",
       "      <th>max</th>\n",
       "      <th>sum</th>\n",
       "    </tr>\n",
       "    <tr>\n",
       "      <th>day</th>\n",
       "      <th></th>\n",
       "      <th></th>\n",
       "      <th></th>\n",
       "    </tr>\n",
       "  </thead>\n",
       "  <tbody>\n",
       "    <tr>\n",
       "      <th>Fri</th>\n",
       "      <td>5.75</td>\n",
       "      <td>40.17</td>\n",
       "      <td>325.88</td>\n",
       "    </tr>\n",
       "    <tr>\n",
       "      <th>Sat</th>\n",
       "      <td>3.07</td>\n",
       "      <td>50.81</td>\n",
       "      <td>1778.40</td>\n",
       "    </tr>\n",
       "    <tr>\n",
       "      <th>Sun</th>\n",
       "      <td>7.25</td>\n",
       "      <td>48.17</td>\n",
       "      <td>1627.16</td>\n",
       "    </tr>\n",
       "    <tr>\n",
       "      <th>Thu</th>\n",
       "      <td>7.51</td>\n",
       "      <td>43.11</td>\n",
       "      <td>1096.33</td>\n",
       "    </tr>\n",
       "  </tbody>\n",
       "</table>\n",
       "</div>"
      ],
      "text/plain": [
       "      min    max      sum\n",
       "day                      \n",
       "Fri  5.75  40.17   325.88\n",
       "Sat  3.07  50.81  1778.40\n",
       "Sun  7.25  48.17  1627.16\n",
       "Thu  7.51  43.11  1096.33"
      ]
     },
     "execution_count": 30,
     "metadata": {},
     "output_type": "execute_result"
    }
   ],
   "source": [
    "tips.groupby(\"day\")[\"totbill\"].agg([min, max, sum])"
   ]
  },
  {
   "cell_type": "code",
   "execution_count": 31,
   "metadata": {},
   "outputs": [
    {
     "data": {
      "text/plain": [
       "day  time \n",
       "Fri  Day       16.68\n",
       "     Night     35.28\n",
       "Sat  Night    260.40\n",
       "Sun  Night    247.39\n",
       "Thu  Day      168.83\n",
       "     Night      3.00\n",
       "Name: tip, dtype: float64"
      ]
     },
     "execution_count": 31,
     "metadata": {},
     "output_type": "execute_result"
    }
   ],
   "source": [
    "tips.groupby([\"day\", \"time\"])[\"tip\"].sum()"
   ]
  },
  {
   "cell_type": "markdown",
   "metadata": {},
   "source": [
    "## Indexing\n",
    "\n",
    "To find the indexes we use:\n",
    "\n",
    "```\n",
    "dat.columns\n",
    "dat.index\n",
    "```\n",
    "\n",
    "We can set index:\n",
    "\n",
    "```\n",
    "dat_ind = dat.set_index(\"var_index\")\n",
    "```\n",
    "\n",
    "And to remove indexing:\n",
    "\n",
    "```\n",
    "dat_ind.reset_index()\n",
    "```\n",
    "\n",
    "The reason we index is because it makes subset simple:\n",
    "\n",
    "```\n",
    "# Hard way:\n",
    "perisk[perisk[\"country\"].isin([\"Argentina\", \"Austria\"])]\n",
    "\n",
    "# Easy way:\n",
    "perisk_ind.loc[[\"Argentina\", \"Austria\"]]\n",
    "```\n",
    "\n",
    "Also, indexes do not need to be unique, and you can use multiple levels to index."
   ]
  },
  {
   "cell_type": "code",
   "execution_count": 32,
   "metadata": {},
   "outputs": [
    {
     "data": {
      "text/html": [
       "<div>\n",
       "<style scoped>\n",
       "    .dataframe tbody tr th:only-of-type {\n",
       "        vertical-align: middle;\n",
       "    }\n",
       "\n",
       "    .dataframe tbody tr th {\n",
       "        vertical-align: top;\n",
       "    }\n",
       "\n",
       "    .dataframe thead th {\n",
       "        text-align: right;\n",
       "    }\n",
       "</style>\n",
       "<table border=\"1\" class=\"dataframe\">\n",
       "  <thead>\n",
       "    <tr style=\"text-align: right;\">\n",
       "      <th></th>\n",
       "      <th>country</th>\n",
       "      <th>courts</th>\n",
       "      <th>barb2</th>\n",
       "      <th>prsexp2</th>\n",
       "      <th>prscorr2</th>\n",
       "      <th>gdpw2</th>\n",
       "    </tr>\n",
       "  </thead>\n",
       "  <tbody>\n",
       "    <tr>\n",
       "      <th>0</th>\n",
       "      <td>Argentina</td>\n",
       "      <td>0</td>\n",
       "      <td>-0.720775</td>\n",
       "      <td>1</td>\n",
       "      <td>3</td>\n",
       "      <td>9.690170</td>\n",
       "    </tr>\n",
       "    <tr>\n",
       "      <th>1</th>\n",
       "      <td>Australia</td>\n",
       "      <td>1</td>\n",
       "      <td>-6.907755</td>\n",
       "      <td>5</td>\n",
       "      <td>4</td>\n",
       "      <td>10.304840</td>\n",
       "    </tr>\n",
       "    <tr>\n",
       "      <th>2</th>\n",
       "      <td>Austria</td>\n",
       "      <td>1</td>\n",
       "      <td>-4.910337</td>\n",
       "      <td>5</td>\n",
       "      <td>4</td>\n",
       "      <td>10.100940</td>\n",
       "    </tr>\n",
       "    <tr>\n",
       "      <th>3</th>\n",
       "      <td>Bangladesh</td>\n",
       "      <td>0</td>\n",
       "      <td>0.775975</td>\n",
       "      <td>1</td>\n",
       "      <td>0</td>\n",
       "      <td>8.379768</td>\n",
       "    </tr>\n",
       "    <tr>\n",
       "      <th>4</th>\n",
       "      <td>Belgium</td>\n",
       "      <td>1</td>\n",
       "      <td>-4.617344</td>\n",
       "      <td>5</td>\n",
       "      <td>4</td>\n",
       "      <td>10.250120</td>\n",
       "    </tr>\n",
       "  </tbody>\n",
       "</table>\n",
       "</div>"
      ],
      "text/plain": [
       "      country  courts     barb2  prsexp2  prscorr2      gdpw2\n",
       "0   Argentina       0 -0.720775        1         3   9.690170\n",
       "1   Australia       1 -6.907755        5         4  10.304840\n",
       "2     Austria       1 -4.910337        5         4  10.100940\n",
       "3  Bangladesh       0  0.775975        1         0   8.379768\n",
       "4     Belgium       1 -4.617344        5         4  10.250120"
      ]
     },
     "execution_count": 32,
     "metadata": {},
     "output_type": "execute_result"
    }
   ],
   "source": [
    "# My code here\n",
    "perisk.head()"
   ]
  },
  {
   "cell_type": "code",
   "execution_count": 33,
   "metadata": {},
   "outputs": [
    {
     "data": {
      "text/plain": [
       "Index(['country', 'courts', 'barb2', 'prsexp2', 'prscorr2', 'gdpw2'], dtype='object')"
      ]
     },
     "execution_count": 33,
     "metadata": {},
     "output_type": "execute_result"
    }
   ],
   "source": [
    "perisk.columns"
   ]
  },
  {
   "cell_type": "code",
   "execution_count": 34,
   "metadata": {},
   "outputs": [
    {
     "data": {
      "text/plain": [
       "RangeIndex(start=0, stop=62, step=1)"
      ]
     },
     "execution_count": 34,
     "metadata": {},
     "output_type": "execute_result"
    }
   ],
   "source": [
    "perisk.index"
   ]
  },
  {
   "cell_type": "code",
   "execution_count": 35,
   "metadata": {},
   "outputs": [
    {
     "name": "stdout",
     "output_type": "stream",
     "text": [
      "                courts     barb2  prsexp2  prscorr2      gdpw2\n",
      "country                                                       \n",
      "Argentina            0 -0.720775        1         3   9.690170\n",
      "Australia            1 -6.907755        5         4  10.304840\n",
      "Austria              1 -4.910337        5         4  10.100940\n",
      "Bangladesh           0  0.775975        1         0   8.379768\n",
      "Belgium              1 -4.617344        5         4  10.250120\n",
      "...                ...       ...      ...       ...        ...\n",
      "United Kingdom       1 -6.907755        5         5  10.127270\n",
      "Uruguay              0 -2.127775        2         2   9.414342\n",
      "Venezuela            1  0.428845        3         2   9.848820\n",
      "Zambia               0  0.965810        3         1   7.726213\n",
      "Zimbabwe             0 -0.640321        3         2   7.965893\n",
      "\n",
      "[62 rows x 5 columns]\n"
     ]
    }
   ],
   "source": [
    "perisk_ind = perisk.set_index(\"country\")\n",
    "print(perisk_ind)"
   ]
  },
  {
   "cell_type": "code",
   "execution_count": 36,
   "metadata": {},
   "outputs": [
    {
     "data": {
      "text/plain": [
       "Index(['Argentina', 'Australia', 'Austria', 'Bangladesh', 'Belgium', 'Bolivia',\n",
       "       'Botswana', 'Brazil', 'Burma', 'Cameroon', 'Canada', 'Chile',\n",
       "       'Colombia', 'Congo-Kinshasa', 'Costa Rica', 'Cote d'Ivoire', 'Denmark',\n",
       "       'Dominican Republic', 'Ecuador', 'Finland', 'Gambia, The', 'Ghana',\n",
       "       'Greece', 'Hungary', 'India', 'Indonesia', 'Iran', 'Ireland', 'Israel',\n",
       "       'Italy', 'Japan', 'Kenya', 'Korea, South', 'Malawi', 'Malaysia',\n",
       "       'Mexico', 'Morocco', 'New Zealand', 'Nigeria', 'Norway',\n",
       "       'Papua New Guinea', 'Paraguay', 'Philippines', 'Poland', 'Portugal',\n",
       "       'Sierra Leone', 'Singapore', 'South Africa', 'Spain', 'Sri Lanka',\n",
       "       'Sweden', 'Switzerland', 'Syria', 'Thailand', 'Togo', 'Tunisia',\n",
       "       'Turkey', 'United Kingdom', 'Uruguay', 'Venezuela', 'Zambia',\n",
       "       'Zimbabwe'],\n",
       "      dtype='object', name='country')"
      ]
     },
     "execution_count": 36,
     "metadata": {},
     "output_type": "execute_result"
    }
   ],
   "source": [
    "perisk_ind.index"
   ]
  },
  {
   "cell_type": "code",
   "execution_count": 37,
   "metadata": {},
   "outputs": [
    {
     "data": {
      "text/html": [
       "<div>\n",
       "<style scoped>\n",
       "    .dataframe tbody tr th:only-of-type {\n",
       "        vertical-align: middle;\n",
       "    }\n",
       "\n",
       "    .dataframe tbody tr th {\n",
       "        vertical-align: top;\n",
       "    }\n",
       "\n",
       "    .dataframe thead th {\n",
       "        text-align: right;\n",
       "    }\n",
       "</style>\n",
       "<table border=\"1\" class=\"dataframe\">\n",
       "  <thead>\n",
       "    <tr style=\"text-align: right;\">\n",
       "      <th></th>\n",
       "      <th>courts</th>\n",
       "      <th>barb2</th>\n",
       "      <th>prsexp2</th>\n",
       "      <th>prscorr2</th>\n",
       "      <th>gdpw2</th>\n",
       "    </tr>\n",
       "    <tr>\n",
       "      <th>country</th>\n",
       "      <th></th>\n",
       "      <th></th>\n",
       "      <th></th>\n",
       "      <th></th>\n",
       "      <th></th>\n",
       "    </tr>\n",
       "  </thead>\n",
       "  <tbody>\n",
       "    <tr>\n",
       "      <th>Argentina</th>\n",
       "      <td>0</td>\n",
       "      <td>-0.720775</td>\n",
       "      <td>1</td>\n",
       "      <td>3</td>\n",
       "      <td>9.69017</td>\n",
       "    </tr>\n",
       "    <tr>\n",
       "      <th>Austria</th>\n",
       "      <td>1</td>\n",
       "      <td>-4.910337</td>\n",
       "      <td>5</td>\n",
       "      <td>4</td>\n",
       "      <td>10.10094</td>\n",
       "    </tr>\n",
       "  </tbody>\n",
       "</table>\n",
       "</div>"
      ],
      "text/plain": [
       "           courts     barb2  prsexp2  prscorr2     gdpw2\n",
       "country                                                 \n",
       "Argentina       0 -0.720775        1         3   9.69017\n",
       "Austria         1 -4.910337        5         4  10.10094"
      ]
     },
     "execution_count": 37,
     "metadata": {},
     "output_type": "execute_result"
    }
   ],
   "source": [
    "perisk_ind.loc[[\"Argentina\", \"Austria\"]]"
   ]
  },
  {
   "cell_type": "code",
   "execution_count": 38,
   "metadata": {},
   "outputs": [
    {
     "data": {
      "text/html": [
       "<div>\n",
       "<style scoped>\n",
       "    .dataframe tbody tr th:only-of-type {\n",
       "        vertical-align: middle;\n",
       "    }\n",
       "\n",
       "    .dataframe tbody tr th {\n",
       "        vertical-align: top;\n",
       "    }\n",
       "\n",
       "    .dataframe thead th {\n",
       "        text-align: right;\n",
       "    }\n",
       "</style>\n",
       "<table border=\"1\" class=\"dataframe\">\n",
       "  <thead>\n",
       "    <tr style=\"text-align: right;\">\n",
       "      <th></th>\n",
       "      <th>courts</th>\n",
       "      <th>barb2</th>\n",
       "      <th>prsexp2</th>\n",
       "      <th>prscorr2</th>\n",
       "      <th>gdpw2</th>\n",
       "    </tr>\n",
       "    <tr>\n",
       "      <th>country</th>\n",
       "      <th></th>\n",
       "      <th></th>\n",
       "      <th></th>\n",
       "      <th></th>\n",
       "      <th></th>\n",
       "    </tr>\n",
       "  </thead>\n",
       "  <tbody>\n",
       "    <tr>\n",
       "      <th>Argentina</th>\n",
       "      <td>0</td>\n",
       "      <td>-0.720775</td>\n",
       "      <td>1</td>\n",
       "      <td>3</td>\n",
       "      <td>9.690170</td>\n",
       "    </tr>\n",
       "    <tr>\n",
       "      <th>Austria</th>\n",
       "      <td>1</td>\n",
       "      <td>-4.910337</td>\n",
       "      <td>5</td>\n",
       "      <td>4</td>\n",
       "      <td>10.100940</td>\n",
       "    </tr>\n",
       "    <tr>\n",
       "      <th>Uruguay</th>\n",
       "      <td>0</td>\n",
       "      <td>-2.127775</td>\n",
       "      <td>2</td>\n",
       "      <td>2</td>\n",
       "      <td>9.414342</td>\n",
       "    </tr>\n",
       "  </tbody>\n",
       "</table>\n",
       "</div>"
      ],
      "text/plain": [
       "           courts     barb2  prsexp2  prscorr2      gdpw2\n",
       "country                                                  \n",
       "Argentina       0 -0.720775        1         3   9.690170\n",
       "Austria         1 -4.910337        5         4  10.100940\n",
       "Uruguay         0 -2.127775        2         2   9.414342"
      ]
     },
     "execution_count": 38,
     "metadata": {},
     "output_type": "execute_result"
    }
   ],
   "source": [
    "perisk_ind.loc[[\"Argentina\", \"Austria\", 'Uruguay']]"
   ]
  },
  {
   "cell_type": "markdown",
   "metadata": {},
   "source": [
    "**Exercise**: Index the data by the variable `obs`. Subset the observations 33 and 132."
   ]
  },
  {
   "cell_type": "code",
   "execution_count": 39,
   "metadata": {},
   "outputs": [
    {
     "data": {
      "text/html": [
       "<div>\n",
       "<style scoped>\n",
       "    .dataframe tbody tr th:only-of-type {\n",
       "        vertical-align: middle;\n",
       "    }\n",
       "\n",
       "    .dataframe tbody tr th {\n",
       "        vertical-align: top;\n",
       "    }\n",
       "\n",
       "    .dataframe thead th {\n",
       "        text-align: right;\n",
       "    }\n",
       "</style>\n",
       "<table border=\"1\" class=\"dataframe\">\n",
       "  <thead>\n",
       "    <tr style=\"text-align: right;\">\n",
       "      <th></th>\n",
       "      <th>obs</th>\n",
       "      <th>totbill</th>\n",
       "      <th>tip</th>\n",
       "      <th>sex</th>\n",
       "      <th>smoker</th>\n",
       "      <th>day</th>\n",
       "      <th>time</th>\n",
       "      <th>size</th>\n",
       "    </tr>\n",
       "  </thead>\n",
       "  <tbody>\n",
       "    <tr>\n",
       "      <th>0</th>\n",
       "      <td>1</td>\n",
       "      <td>16.99</td>\n",
       "      <td>1.01</td>\n",
       "      <td>F</td>\n",
       "      <td>No</td>\n",
       "      <td>Sun</td>\n",
       "      <td>Night</td>\n",
       "      <td>2</td>\n",
       "    </tr>\n",
       "    <tr>\n",
       "      <th>1</th>\n",
       "      <td>2</td>\n",
       "      <td>10.34</td>\n",
       "      <td>1.66</td>\n",
       "      <td>M</td>\n",
       "      <td>No</td>\n",
       "      <td>Sun</td>\n",
       "      <td>Night</td>\n",
       "      <td>3</td>\n",
       "    </tr>\n",
       "    <tr>\n",
       "      <th>2</th>\n",
       "      <td>3</td>\n",
       "      <td>21.01</td>\n",
       "      <td>3.50</td>\n",
       "      <td>M</td>\n",
       "      <td>No</td>\n",
       "      <td>Sun</td>\n",
       "      <td>Night</td>\n",
       "      <td>3</td>\n",
       "    </tr>\n",
       "    <tr>\n",
       "      <th>3</th>\n",
       "      <td>4</td>\n",
       "      <td>23.68</td>\n",
       "      <td>3.31</td>\n",
       "      <td>M</td>\n",
       "      <td>No</td>\n",
       "      <td>Sun</td>\n",
       "      <td>Night</td>\n",
       "      <td>2</td>\n",
       "    </tr>\n",
       "    <tr>\n",
       "      <th>4</th>\n",
       "      <td>5</td>\n",
       "      <td>24.59</td>\n",
       "      <td>3.61</td>\n",
       "      <td>F</td>\n",
       "      <td>No</td>\n",
       "      <td>Sun</td>\n",
       "      <td>Night</td>\n",
       "      <td>4</td>\n",
       "    </tr>\n",
       "  </tbody>\n",
       "</table>\n",
       "</div>"
      ],
      "text/plain": [
       "   obs  totbill   tip sex smoker  day   time  size\n",
       "0    1    16.99  1.01   F     No  Sun  Night     2\n",
       "1    2    10.34  1.66   M     No  Sun  Night     3\n",
       "2    3    21.01  3.50   M     No  Sun  Night     3\n",
       "3    4    23.68  3.31   M     No  Sun  Night     2\n",
       "4    5    24.59  3.61   F     No  Sun  Night     4"
      ]
     },
     "execution_count": 39,
     "metadata": {},
     "output_type": "execute_result"
    }
   ],
   "source": [
    "## Your answers here!\n",
    "tips.head()"
   ]
  },
  {
   "cell_type": "code",
   "execution_count": 40,
   "metadata": {},
   "outputs": [],
   "source": [
    "tips_ind = tips.set_index(\"obs\")"
   ]
  },
  {
   "cell_type": "code",
   "execution_count": 41,
   "metadata": {},
   "outputs": [
    {
     "data": {
      "text/plain": [
       "Int64Index([  1,   2,   3,   4,   5,   6,   7,   8,   9,  10,\n",
       "            ...\n",
       "            235, 236, 237, 238, 239, 240, 241, 242, 243, 244],\n",
       "           dtype='int64', name='obs', length=244)"
      ]
     },
     "execution_count": 41,
     "metadata": {},
     "output_type": "execute_result"
    }
   ],
   "source": [
    "tips_ind.index"
   ]
  },
  {
   "cell_type": "code",
   "execution_count": 42,
   "metadata": {},
   "outputs": [
    {
     "data": {
      "text/html": [
       "<div>\n",
       "<style scoped>\n",
       "    .dataframe tbody tr th:only-of-type {\n",
       "        vertical-align: middle;\n",
       "    }\n",
       "\n",
       "    .dataframe tbody tr th {\n",
       "        vertical-align: top;\n",
       "    }\n",
       "\n",
       "    .dataframe thead th {\n",
       "        text-align: right;\n",
       "    }\n",
       "</style>\n",
       "<table border=\"1\" class=\"dataframe\">\n",
       "  <thead>\n",
       "    <tr style=\"text-align: right;\">\n",
       "      <th></th>\n",
       "      <th>totbill</th>\n",
       "      <th>tip</th>\n",
       "      <th>sex</th>\n",
       "      <th>smoker</th>\n",
       "      <th>day</th>\n",
       "      <th>time</th>\n",
       "      <th>size</th>\n",
       "    </tr>\n",
       "    <tr>\n",
       "      <th>obs</th>\n",
       "      <th></th>\n",
       "      <th></th>\n",
       "      <th></th>\n",
       "      <th></th>\n",
       "      <th></th>\n",
       "      <th></th>\n",
       "      <th></th>\n",
       "    </tr>\n",
       "  </thead>\n",
       "  <tbody>\n",
       "    <tr>\n",
       "      <th>33</th>\n",
       "      <td>15.06</td>\n",
       "      <td>3.00</td>\n",
       "      <td>F</td>\n",
       "      <td>No</td>\n",
       "      <td>Sat</td>\n",
       "      <td>Night</td>\n",
       "      <td>2</td>\n",
       "    </tr>\n",
       "    <tr>\n",
       "      <th>132</th>\n",
       "      <td>20.27</td>\n",
       "      <td>2.83</td>\n",
       "      <td>F</td>\n",
       "      <td>No</td>\n",
       "      <td>Thu</td>\n",
       "      <td>Day</td>\n",
       "      <td>2</td>\n",
       "    </tr>\n",
       "  </tbody>\n",
       "</table>\n",
       "</div>"
      ],
      "text/plain": [
       "     totbill   tip sex smoker  day   time  size\n",
       "obs                                            \n",
       "33     15.06  3.00   F     No  Sat  Night     2\n",
       "132    20.27  2.83   F     No  Thu    Day     2"
      ]
     },
     "execution_count": 42,
     "metadata": {},
     "output_type": "execute_result"
    }
   ],
   "source": [
    "tips_ind.loc[[33, 132]]"
   ]
  },
  {
   "cell_type": "markdown",
   "metadata": {},
   "source": [
    "## Plots\n",
    "\n",
    "Now, let's create some plots!\n",
    "\n",
    "The library to create plots is the `matplotlib`. We can import this library easily in python:\n",
    "\n",
    "```\n",
    "from matplotlib import pyplot as plt\n",
    "```\n",
    "\n",
    "### Scatterplot\n",
    "\n",
    "And for making a plot we need to:\n",
    "\n",
    "```\n",
    "plt.scatter(dat.vx, dat.vy)\n",
    "plt.show()\n",
    "```\n",
    "\n",
    "If we want to add legends and change attributes:\n",
    "\n",
    "```\n",
    "plt.scatter(dat.vx, dat.vy)\n",
    "plt.xlabel(\"X-axis name\")\n",
    "plt.ylabel(\"Y-axis name\")\n",
    "plt.title(\"Plot title\")\n",
    "plt.show()\n",
    "```"
   ]
  },
  {
   "cell_type": "code",
   "execution_count": 43,
   "metadata": {},
   "outputs": [],
   "source": [
    "# My code here\n",
    "from matplotlib import pyplot as plt"
   ]
  },
  {
   "cell_type": "code",
   "execution_count": 44,
   "metadata": {},
   "outputs": [
    {
     "data": {
      "text/html": [
       "<div>\n",
       "<style scoped>\n",
       "    .dataframe tbody tr th:only-of-type {\n",
       "        vertical-align: middle;\n",
       "    }\n",
       "\n",
       "    .dataframe tbody tr th {\n",
       "        vertical-align: top;\n",
       "    }\n",
       "\n",
       "    .dataframe thead th {\n",
       "        text-align: right;\n",
       "    }\n",
       "</style>\n",
       "<table border=\"1\" class=\"dataframe\">\n",
       "  <thead>\n",
       "    <tr style=\"text-align: right;\">\n",
       "      <th></th>\n",
       "      <th>country</th>\n",
       "      <th>courts</th>\n",
       "      <th>barb2</th>\n",
       "      <th>prsexp2</th>\n",
       "      <th>prscorr2</th>\n",
       "      <th>gdpw2</th>\n",
       "    </tr>\n",
       "  </thead>\n",
       "  <tbody>\n",
       "    <tr>\n",
       "      <th>0</th>\n",
       "      <td>Argentina</td>\n",
       "      <td>0</td>\n",
       "      <td>-0.720775</td>\n",
       "      <td>1</td>\n",
       "      <td>3</td>\n",
       "      <td>9.690170</td>\n",
       "    </tr>\n",
       "    <tr>\n",
       "      <th>1</th>\n",
       "      <td>Australia</td>\n",
       "      <td>1</td>\n",
       "      <td>-6.907755</td>\n",
       "      <td>5</td>\n",
       "      <td>4</td>\n",
       "      <td>10.304840</td>\n",
       "    </tr>\n",
       "    <tr>\n",
       "      <th>2</th>\n",
       "      <td>Austria</td>\n",
       "      <td>1</td>\n",
       "      <td>-4.910337</td>\n",
       "      <td>5</td>\n",
       "      <td>4</td>\n",
       "      <td>10.100940</td>\n",
       "    </tr>\n",
       "    <tr>\n",
       "      <th>3</th>\n",
       "      <td>Bangladesh</td>\n",
       "      <td>0</td>\n",
       "      <td>0.775975</td>\n",
       "      <td>1</td>\n",
       "      <td>0</td>\n",
       "      <td>8.379768</td>\n",
       "    </tr>\n",
       "    <tr>\n",
       "      <th>4</th>\n",
       "      <td>Belgium</td>\n",
       "      <td>1</td>\n",
       "      <td>-4.617344</td>\n",
       "      <td>5</td>\n",
       "      <td>4</td>\n",
       "      <td>10.250120</td>\n",
       "    </tr>\n",
       "  </tbody>\n",
       "</table>\n",
       "</div>"
      ],
      "text/plain": [
       "      country  courts     barb2  prsexp2  prscorr2      gdpw2\n",
       "0   Argentina       0 -0.720775        1         3   9.690170\n",
       "1   Australia       1 -6.907755        5         4  10.304840\n",
       "2     Austria       1 -4.910337        5         4  10.100940\n",
       "3  Bangladesh       0  0.775975        1         0   8.379768\n",
       "4     Belgium       1 -4.617344        5         4  10.250120"
      ]
     },
     "execution_count": 44,
     "metadata": {},
     "output_type": "execute_result"
    }
   ],
   "source": [
    "perisk.head()"
   ]
  },
  {
   "cell_type": "code",
   "execution_count": 45,
   "metadata": {},
   "outputs": [
    {
     "data": {
      "text/plain": [
       "<matplotlib.collections.PathCollection at 0x7fac72054a90>"
      ]
     },
     "execution_count": 45,
     "metadata": {},
     "output_type": "execute_result"
    },
    {
     "data": {
      "image/png": "[encoded data removed]",
      "text/plain": [
       "<Figure size 432x288 with 1 Axes>"
      ]
     },
     "metadata": {
      "needs_background": "light"
     },
     "output_type": "display_data"
    }
   ],
   "source": [
    "plt.scatter(perisk.barb2, perisk.gdpw2)\n"
   ]
  },
  {
   "cell_type": "markdown",
   "metadata": {},
   "source": [
    "### Histogram\n",
    "\n",
    "We can make a simple histogram using the function `.hist()`:\n",
    "\n",
    "```\n",
    "dat['variable'].hist()\n",
    "plt.show()\n",
    "```\n",
    "\n",
    "And if we want overlapping histograms by a category:\n",
    "\n",
    "```\n",
    "dat[dat['vcat'] == 'v1']['variable'].hist()\n",
    "dat[dat['vcat'] == 'v2']['variable'].hist()\n",
    "plt.legend([\"v1\", \"v2\"])\n",
    "plt.show()\n",
    "```\n",
    "\n",
    "Let's try?"
   ]
  },
  {
   "cell_type": "code",
   "execution_count": 46,
   "metadata": {},
   "outputs": [
    {
     "data": {
      "text/plain": [
       "<matplotlib.legend.Legend at 0x7fac721cb850>"
      ]
     },
     "execution_count": 46,
     "metadata": {},
     "output_type": "execute_result"
    },
    {
     "data": {
      "image/png": "[encoded data removed]",
      "text/plain": [
       "<Figure size 432x288 with 1 Axes>"
      ]
     },
     "metadata": {
      "needs_background": "light"
     },
     "output_type": "display_data"
    }
   ],
   "source": [
    "# My code here\n",
    "perisk[perisk['courts'] == 0]['gdpw2'].hist()\n",
    "perisk[perisk['courts'] == 1]['gdpw2'].hist()\n",
    "plt.legend([0, 1])"
   ]
  },
  {
   "cell_type": "markdown",
   "metadata": {},
   "source": [
    "**Exercise**: Make an histogram for `tip` in the `tips` dataset."
   ]
  },
  {
   "cell_type": "code",
   "execution_count": 47,
   "metadata": {},
   "outputs": [
    {
     "data": {
      "text/plain": [
       "<AxesSubplot:>"
      ]
     },
     "execution_count": 47,
     "metadata": {},
     "output_type": "execute_result"
    },
    {
     "data": {
      "image/png": "[encoded data removed]",
      "text/plain": [
       "<Figure size 432x288 with 1 Axes>"
      ]
     },
     "metadata": {
      "needs_background": "light"
     },
     "output_type": "display_data"
    }
   ],
   "source": [
    "## Your answers here!\n",
    "tips['tip'].hist()"
   ]
  },
  {
   "cell_type": "markdown",
   "metadata": {},
   "source": [
    "**Great job!!!**"
   ]
  }
 ],
 "metadata": {
  "kernelspec": {
   "display_name": "Python 3 (ipykernel)",
   "language": "python",
   "name": "python3"
  },
  "language_info": {
   "codemirror_mode": {
    "name": "ipython",
    "version": 3
   },
   "file_extension": ".py",
   "mimetype": "text/x-python",
   "name": "python",
   "nbconvert_exporter": "python",
   "pygments_lexer": "ipython3",
   "version": "3.9.12"
  }
 },
 "nbformat": 4,
 "nbformat_minor": 4
}
