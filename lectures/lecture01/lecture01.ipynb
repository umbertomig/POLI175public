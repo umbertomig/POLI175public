{
 "cells": [
  {
   "cell_type": "markdown",
   "id": "66a1628f-0686-4f23-ad5f-600b9548fa45",
   "metadata": {
    "slideshow": {
     "slide_type": "slide"
    },
    "tags": []
   },
   "source": [
    "# POLI 175\n",
    "\n",
    "## Class 01 - Introduction\n",
    "\n",
    "Dr. Umberto Mignozzetti\n",
    "\n",
    "UCSD"
   ]
  },
  {
   "cell_type": "markdown",
   "id": "1c5a9773",
   "metadata": {
    "slideshow": {
     "slide_type": "slide"
    }
   },
   "source": [
    "# Introduction\n",
    "\n",
    "- Welcome! This is POLI 175 - Machine Learning for Social Scientists\n",
    "\n",
    "- We are in the age of data-driven decisions. \n",
    "\n",
    "- Every day, we produce 2.5 quintillion bytes of data.\n",
    "\n",
    "- But how much is that?"
   ]
  },
  {
   "cell_type": "markdown",
   "id": "59aa1253",
   "metadata": {
    "slideshow": {
     "slide_type": "slide"
    }
   },
   "source": [
    "# Introduction\n",
    "\n",
    "- My computer is competent. \n",
    "\n",
    "- It is new, fast, and reliable. It is capable of storing 1.0 Terabytes.\n",
    "\n",
    "- But one quintillion bytes is equal to 1,000,000 Terabytes.\n",
    "\n",
    "- Every day, we produce the equivalent of 2.5 million computers like mine of data!"
   ]
  },
  {
   "cell_type": "markdown",
   "id": "819d3163",
   "metadata": {
    "slideshow": {
     "slide_type": "slide"
    }
   },
   "source": [
    "# Introduction\n",
    "\n",
    "- This is popularly known as Big Data.\n",
    "\n",
    "- However, data per se means nothing! Big data is just a passive description of the world we live in now.\n",
    "\n",
    "- To prove that, try to take a large dataset and learn something from it.\n",
    "\n",
    "- If you want inspiration, take all your pictures and try to create coherent slides of moments of your life."
   ]
  },
  {
   "cell_type": "markdown",
   "id": "e45f26ab",
   "metadata": {
    "slideshow": {
     "slide_type": "slide"
    }
   },
   "source": [
    "# Introduction\n",
    "\n",
    "- This is hard and time-consuming. You would spend days doing it.\n",
    "\n",
    "- But note that, interestingly, your phone does that to you every day!\n",
    "\n",
    "- Almost every week, I open up my iPhone, and it shows me a slide show with music and pictures of my family and me.\n",
    "\n",
    "- How does it do that? Machine Learning!"
   ]
  },
  {
   "cell_type": "markdown",
   "id": "afed4070",
   "metadata": {
    "slideshow": {
     "slide_type": "slide"
    }
   },
   "source": [
    "# Introduction\n",
    "\n",
    "- Machine Learning is a branch of Artificial Intelligence that uses data and algorithms to imitate how humans learn (IBM).\n",
    "\n",
    "- Algorithm: short for *recipe*.\n",
    "\n",
    "- Data: can be anything.\n",
    "\n",
    "- **And note the intent:** *Learn* here means both make sense of things, discover patterns, and predict things."
   ]
  },
  {
   "cell_type": "markdown",
   "id": "6d048e05",
   "metadata": {
    "slideshow": {
     "slide_type": "slide"
    }
   },
   "source": [
    "# Introduction\n",
    "\n",
    "- How can we use this as Social Scientists?\n",
    "\n",
    "- Many applications in Political Science, Economics, Public Policy, etc.\n",
    "\n",
    "- In this class, we will learn how to use the most popular Machine Learning techniques.\n",
    "\n",
    "- We will have an *applied focus*, meaning that we will talk about theory, but the focus will be on generating results."
   ]
  },
  {
   "cell_type": "markdown",
   "id": "bf98add8",
   "metadata": {
    "slideshow": {
     "slide_type": "slide"
    }
   },
   "source": [
    "# Introduction\n",
    "\n",
    "- We will use three books:\n",
    "\n",
    "1.\t[ISL] James et al. (second edition, 2021) *Introduction to Statistical Learning with Applications in R. Springer.* [https://www.statlearning.com]\n",
    "\n",
    "2.\t[MG] Müller & Guido (2017) *Introduction to Machine Learning with Python.* O'Reilly.\n",
    "\n",
    "3.\t[PDA] McKinney (2013) *Python for Data Analysis.* O'Reilly."
   ]
  },
  {
   "cell_type": "markdown",
   "id": "f3483d8e",
   "metadata": {
    "slideshow": {
     "slide_type": "slide"
    }
   },
   "source": [
    "# Introduction\n",
    "\n",
    "**Grading:**\n",
    "\n",
    "|     Assignment     | Points | Weight |                                                          Due Date                                                         |\n",
    "|:------------------:|:------:|:------:|:-------------------------------------------------------------------------------------------------------------------------:|\n",
    "| Participation x 28 |   10   |  10 %  | Every lecture                                                                                                             |\n",
    "| Quizzes x 28       |   10   |  20 %  | Before next lecture start                                                                                                 |\n",
    "| Problem Sets x 4   |   10   |  50 %  | PS 1 – Jan 27<br>PS 2 – Feb 10<br>PS 3 – Feb 24<br>PS 4 – Mar 10<br>All PSs will be live two weeks before their due date. |\n",
    "| Final Exam         |   10   |  20 %  | March 24, 3-6 pm                                                                                                          |\n",
    "|                    |        |  100%  |                                                                                                                           |"
   ]
  },
  {
   "cell_type": "markdown",
   "id": "1e2c5ddc",
   "metadata": {
    "slideshow": {
     "slide_type": "slide"
    }
   },
   "source": [
    "# Introduction\n",
    "\n",
    "**Communication expectations:**\n",
    "\n",
    "- Office hours: every day, from 11 AM to 12 PM\n",
    "\n",
    "- Office hours scheduling: [Calendly](https://calendly.com/umbertomig/office-hours)\n",
    "\n",
    "- Email: [umbertomig@ucsd.edu](mailto: umbertomig@ucsd.edu)\n",
    "\n",
    "- I may miss your email. It happens. If this is the case, resend it."
   ]
  },
  {
   "cell_type": "markdown",
   "id": "515ebe26",
   "metadata": {
    "slideshow": {
     "slide_type": "slide"
    }
   },
   "source": [
    "# Introduction\n",
    "\n",
    "**Syllabus:**\n",
    "\n",
    "- Check it on Canvas.\n",
    "\n",
    "- It is subject to change (most likely, every other week).\n",
    "\n",
    "- But I'll tell you what I'm changing there."
   ]
  },
  {
   "cell_type": "markdown",
   "id": "047dbc49",
   "metadata": {
    "slideshow": {
     "slide_type": "slide"
    }
   },
   "source": [
    "# Introduction\n",
    "\n",
    "**Tentative schedule:**\n",
    "\n",
    "1. Intro\n",
    "2. Python Refresh\n",
    "3. Regression\n",
    "4. Classification"
   ]
  },
  {
   "cell_type": "markdown",
   "id": "72c9ff4c",
   "metadata": {
    "slideshow": {
     "slide_type": "slide"
    }
   },
   "source": [
    "# Introduction\n",
    "\n",
    "5. Tweaking (resampling, model selection, regularization, non-linear models)\n",
    "6. Tree-based models\n",
    "7. SVM\n",
    "8. Deep Learning\n",
    "9. PCA and Clusters"
   ]
  },
  {
   "cell_type": "markdown",
   "id": "235be97c",
   "metadata": {
    "slideshow": {
     "slide_type": "slide"
    }
   },
   "source": [
    "# Introduction\n",
    "\n",
    "**About me:**\n",
    "\n",
    "- I hold a Ph.D. in Political Science from New York University.\n",
    "\n",
    "- I work on how political institutions affect welfare in developing economies.\n",
    "\n",
    "- I am from Brazil, and I like to watch soccer in my free time."
   ]
  },
  {
   "cell_type": "markdown",
   "id": "33defc5a",
   "metadata": {
    "slideshow": {
     "slide_type": "slide"
    }
   },
   "source": [
    "# Introduction\n",
    "\n",
    "**About you:**\n",
    "\n",
    "- What is your name?\n",
    "\n",
    "- What is your major / minor / field of study?\n",
    "\n",
    "- What do you like to do in your free time?"
   ]
  },
  {
   "cell_type": "markdown",
   "id": "70995808",
   "metadata": {
    "slideshow": {
     "slide_type": "slide"
    }
   },
   "source": [
    "# Introduction\n",
    "\n",
    "**To do:**\n",
    "\n",
    "1. Check your first quiz! It is about the syllabus and this lecture.\n",
    "\n",
    "2. Make sure you have access to Canvas.\n",
    "\n",
    "3. Reach out to me if you are not fluent in Python."
   ]
  },
  {
   "cell_type": "markdown",
   "id": "1280d845",
   "metadata": {
    "slideshow": {
     "slide_type": "slide"
    }
   },
   "source": [
    "# Questions?"
   ]
  },
  {
   "cell_type": "markdown",
   "id": "16edb64c",
   "metadata": {
    "slideshow": {
     "slide_type": "slide"
    }
   },
   "source": [
    "# See you in the next class!"
   ]
  }
 ],
 "metadata": {
  "celltoolbar": "Slideshow",
  "kernelspec": {
   "display_name": "Python 3 (ipykernel)",
   "language": "python",
   "name": "python3"
  },
  "language_info": {
   "codemirror_mode": {
    "name": "ipython",
    "version": 3
   },
   "file_extension": ".py",
   "mimetype": "text/x-python",
   "name": "python",
   "nbconvert_exporter": "python",
   "pygments_lexer": "ipython3",
   "version": "3.9.12"
  }
 },
 "nbformat": 4,
 "nbformat_minor": 5
}
