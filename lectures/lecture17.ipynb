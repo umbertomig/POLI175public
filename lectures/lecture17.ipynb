{
 "cells": [
  {
   "cell_type": "markdown",
   "id": "243e38f9",
   "metadata": {
    "slideshow": {
     "slide_type": "slide"
    }
   },
   "source": [
    "# POLI 175 - Lecture 17\n",
    "\n",
    "## Non-linearity II"
   ]
  },
  {
   "cell_type": "markdown",
   "id": "bb985516",
   "metadata": {
    "slideshow": {
     "slide_type": "slide"
    }
   },
   "source": [
    "## Some new data\n",
    "\n",
    "- Countries dataset: \n",
    "    + Let us create a model to predict the **proportion of seats held by women in the national parliament** (`wdi_wip`).\n",
    "    \n",
    "- Explanatory variables I propose ([you can find others here](https://www.qogdata.pol.gu.se/data/bas_codebook_jan23.pdf)):\n",
    "\n",
    "1. (`pwt_pop`) Population\n",
    "2. (`wdi_expedu`) Expenditure on education (% of GDP)\n",
    "3. (`mad_gdppc`) Real GDP per capita"
   ]
  },
  {
   "cell_type": "code",
   "execution_count": 1,
   "id": "b55c5cf0",
   "metadata": {
    "slideshow": {
     "slide_type": "slide"
    }
   },
   "outputs": [],
   "source": [
    "## Loading the relevant packages\n",
    "import pandas as pd\n",
    "import numpy as np\n",
    "\n",
    "# Plotting things:\n",
    "import seaborn as sns\n",
    "import matplotlib.pyplot as plt\n",
    "\n",
    "# Look at our friend here to help with GAM\n",
    "import statsmodels.api as sm\n",
    "from statsmodels.gam.api import GLMGam, BSplines\n",
    "\n",
    "# Loading scikit learn relevant packages (note our new friends!)\n",
    "from sklearn.linear_model import LogisticRegression, LinearRegression, Ridge, Lasso\n",
    "from sklearn.naive_bayes import GaussianNB\n",
    "from sklearn.discriminant_analysis import LinearDiscriminantAnalysis, QuadraticDiscriminantAnalysis\n",
    "from sklearn.metrics import confusion_matrix, classification_report, precision_score, get_scorer_names, mean_squared_error, r2_score\n",
    "from sklearn.model_selection import train_test_split, LeaveOneOut, cross_val_score, KFold, GridSearchCV\n",
    "from sklearn.inspection import DecisionBoundaryDisplay\n",
    "from sklearn.tree import DecisionTreeClassifier\n",
    "from sklearn.neighbors import KNeighborsClassifier\n",
    "from sklearn.preprocessing import StandardScaler, PolynomialFeatures, SplineTransformer\n",
    "from sklearn.feature_selection import SequentialFeatureSelector"
   ]
  },
  {
   "cell_type": "code",
   "execution_count": 2,
   "id": "b696a377",
   "metadata": {
    "slideshow": {
     "slide_type": "slide"
    }
   },
   "outputs": [
    {
     "data": {
      "text/html": [
       "<div>\n",
       "<style scoped>\n",
       "    .dataframe tbody tr th:only-of-type {\n",
       "        vertical-align: middle;\n",
       "    }\n",
       "\n",
       "    .dataframe tbody tr th {\n",
       "        vertical-align: top;\n",
       "    }\n",
       "\n",
       "    .dataframe thead th {\n",
       "        text-align: right;\n",
       "    }\n",
       "</style>\n",
       "<table border=\"1\" class=\"dataframe\">\n",
       "  <thead>\n",
       "    <tr style=\"text-align: right;\">\n",
       "      <th></th>\n",
       "      <th>ccodealp</th>\n",
       "      <th>year</th>\n",
       "      <th>cname</th>\n",
       "      <th>wdi_wip</th>\n",
       "      <th>pwt_pop</th>\n",
       "      <th>wdi_expedu</th>\n",
       "      <th>mad_gdppc</th>\n",
       "    </tr>\n",
       "  </thead>\n",
       "  <tbody>\n",
       "    <tr>\n",
       "      <th>0</th>\n",
       "      <td>ALB</td>\n",
       "      <td>1999</td>\n",
       "      <td>Albania</td>\n",
       "      <td>5.161290</td>\n",
       "      <td>3.122697</td>\n",
       "      <td>3.59293</td>\n",
       "      <td>4432.0426</td>\n",
       "    </tr>\n",
       "    <tr>\n",
       "      <th>1</th>\n",
       "      <td>ALB</td>\n",
       "      <td>2000</td>\n",
       "      <td>Albania</td>\n",
       "      <td>5.161290</td>\n",
       "      <td>3.129243</td>\n",
       "      <td>3.43017</td>\n",
       "      <td>4808.4796</td>\n",
       "    </tr>\n",
       "    <tr>\n",
       "      <th>2</th>\n",
       "      <td>ALB</td>\n",
       "      <td>2001</td>\n",
       "      <td>Albania</td>\n",
       "      <td>5.714286</td>\n",
       "      <td>3.129704</td>\n",
       "      <td>3.45870</td>\n",
       "      <td>5285.8091</td>\n",
       "    </tr>\n",
       "    <tr>\n",
       "      <th>3</th>\n",
       "      <td>ALB</td>\n",
       "      <td>2002</td>\n",
       "      <td>Albania</td>\n",
       "      <td>5.714286</td>\n",
       "      <td>3.126187</td>\n",
       "      <td>3.11780</td>\n",
       "      <td>5608.9623</td>\n",
       "    </tr>\n",
       "    <tr>\n",
       "      <th>4</th>\n",
       "      <td>ALB</td>\n",
       "      <td>2003</td>\n",
       "      <td>Albania</td>\n",
       "      <td>5.714286</td>\n",
       "      <td>3.118023</td>\n",
       "      <td>3.13823</td>\n",
       "      <td>6004.6452</td>\n",
       "    </tr>\n",
       "  </tbody>\n",
       "</table>\n",
       "</div>"
      ],
      "text/plain": [
       "  ccodealp  year    cname   wdi_wip   pwt_pop  wdi_expedu  mad_gdppc\n",
       "0      ALB  1999  Albania  5.161290  3.122697     3.59293  4432.0426\n",
       "1      ALB  2000  Albania  5.161290  3.129243     3.43017  4808.4796\n",
       "2      ALB  2001  Albania  5.714286  3.129704     3.45870  5285.8091\n",
       "3      ALB  2002  Albania  5.714286  3.126187     3.11780  5608.9623\n",
       "4      ALB  2003  Albania  5.714286  3.118023     3.13823  6004.6452"
      ]
     },
     "execution_count": 2,
     "metadata": {},
     "output_type": "execute_result"
    }
   ],
   "source": [
    "## Countries Dataset\n",
    "countr = pd.read_csv('https://raw.githubusercontent.com/umbertomig/POLI175public/main/data/countrdat.csv')\n",
    "countr.head()"
   ]
  },
  {
   "cell_type": "code",
   "execution_count": 3,
   "id": "3c055a20",
   "metadata": {
    "slideshow": {
     "slide_type": "slide"
    }
   },
   "outputs": [
    {
     "data": {
      "text/html": [
       "<div>\n",
       "<style scoped>\n",
       "    .dataframe tbody tr th:only-of-type {\n",
       "        vertical-align: middle;\n",
       "    }\n",
       "\n",
       "    .dataframe tbody tr th {\n",
       "        vertical-align: top;\n",
       "    }\n",
       "\n",
       "    .dataframe thead th {\n",
       "        text-align: right;\n",
       "    }\n",
       "</style>\n",
       "<table border=\"1\" class=\"dataframe\">\n",
       "  <thead>\n",
       "    <tr style=\"text-align: right;\">\n",
       "      <th></th>\n",
       "      <th>education</th>\n",
       "      <th>income</th>\n",
       "    </tr>\n",
       "  </thead>\n",
       "  <tbody>\n",
       "    <tr>\n",
       "      <th>0</th>\n",
       "      <td>189</td>\n",
       "      <td>2824</td>\n",
       "    </tr>\n",
       "    <tr>\n",
       "      <th>1</th>\n",
       "      <td>169</td>\n",
       "      <td>3259</td>\n",
       "    </tr>\n",
       "    <tr>\n",
       "      <th>2</th>\n",
       "      <td>230</td>\n",
       "      <td>3072</td>\n",
       "    </tr>\n",
       "    <tr>\n",
       "      <th>3</th>\n",
       "      <td>168</td>\n",
       "      <td>3835</td>\n",
       "    </tr>\n",
       "    <tr>\n",
       "      <th>4</th>\n",
       "      <td>180</td>\n",
       "      <td>3549</td>\n",
       "    </tr>\n",
       "  </tbody>\n",
       "</table>\n",
       "</div>"
      ],
      "text/plain": [
       "   education  income\n",
       "0        189    2824\n",
       "1        169    3259\n",
       "2        230    3072\n",
       "3        168    3835\n",
       "4        180    3549"
      ]
     },
     "execution_count": 3,
     "metadata": {},
     "output_type": "execute_result"
    }
   ],
   "source": [
    "## Education Expenditure Dataset\n",
    "educ = pd.read_csv('https://raw.githubusercontent.com/umbertomig/POLI175public/main/data/educexp.csv')\n",
    "educ = educ[['education', 'income']]\n",
    "educ.head()"
   ]
  },
  {
   "cell_type": "markdown",
   "id": "66c29e2f",
   "metadata": {
    "slideshow": {
     "slide_type": "slide"
    }
   },
   "source": [
    "## Piecewise-constant Regression\n",
    "\n",
    "- Here, we would be breaks in the predictor, making it an ordered categorical variable instead of a continuous variable.\n",
    "\n",
    "- Let a variable $X$, the indicator function $I(.)$, and a set of cutpoints $\\{c_1, c_2, \\cdots, c_k\\}$. The stepped variable $X$, $C_j(X)$, becomes:\n",
    "\n",
    "$$\n",
    "\\begin{align}\n",
    "C_{0}(X) &= I(X < c_1) \\\\\n",
    "C_{1}(X) &= I(c_1 \\leq X < c_2) \\\\\n",
    "C_{2}(X) &= I(c_2 \\leq X < c_3) \\\\\n",
    "&\\vdots\\\\\n",
    "C_{K-1}(X) &= I(c_{K-1} \\leq X < c_K) \\\\\n",
    "C_{K}(X) &= I(X \\geq c_K)\n",
    "\\end{align}\n",
    "$$"
   ]
  },
  {
   "cell_type": "markdown",
   "id": "b847beec",
   "metadata": {
    "slideshow": {
     "slide_type": "slide"
    }
   },
   "source": [
    "## Piecewise-constant Regression\n",
    "\n",
    "- Example use: when age is defined in 5-years bins.\n",
    "\n",
    "- Detail: $C_0(x_i) + C_1(x_i) + \\cdots + C_K(x_i) = 1$. This would make adding all pieces impossible:\n",
    "    + Perfect Collinearity.\n",
    "\n",
    "- The regression model becomes:\n",
    "\n",
    "$$ y_i = \\beta_0 + \\beta_1C_1(x_i) + \\beta_2C_2(x_i) +\\cdots + \\beta_KC_K(x_i) + \\varepsilon_i $$"
   ]
  },
  {
   "cell_type": "markdown",
   "id": "9cd797fb",
   "metadata": {
    "slideshow": {
     "slide_type": "slide"
    }
   },
   "source": [
    "## Piecewise-constant Regression\n",
    "\n",
    "![img](../img/pcreg1.png)"
   ]
  },
  {
   "cell_type": "markdown",
   "id": "445b0714",
   "metadata": {
    "slideshow": {
     "slide_type": "slide"
    }
   },
   "source": [
    "## Piecewise-constant Regression"
   ]
  },
  {
   "cell_type": "code",
   "execution_count": 4,
   "id": "fd5590cd",
   "metadata": {
    "slideshow": {
     "slide_type": "fragment"
    }
   },
   "outputs": [
    {
     "name": "stdout",
     "output_type": "stream",
     "text": [
      "The MSE for this piecewise constant regression is: education    1138.544481\n",
      "dtype: float64\n"
     ]
    }
   ],
   "source": [
    "## Piecewise-constant Regression\n",
    "y = educ[['education']]\n",
    "X = educ[['income']]\n",
    "X = pd.cut(X.income, bins = [0, 2500, 3000, 3200, 3500, 4000, 5000])\n",
    "X = pd.get_dummies(X, drop_first = True)\n",
    "reg = LinearRegression().fit(X, y)\n",
    "print('The MSE for this piecewise constant regression is: ' + str(np.mean((reg.predict(X) - y) ** 2, axis=0)))"
   ]
  },
  {
   "cell_type": "code",
   "execution_count": 5,
   "id": "55e30f8c",
   "metadata": {
    "slideshow": {
     "slide_type": "slide"
    }
   },
   "outputs": [
    {
     "name": "stdout",
     "output_type": "stream",
     "text": [
      "The CV-MSE for this piecewise constant regression is: education    1241.692308\n",
      "dtype: float64\n"
     ]
    }
   ],
   "source": [
    "## With cross-validation now\n",
    "poly = PolynomialFeatures(degree = 4)\n",
    "X = educ[['income']]\n",
    "X = pd.cut(X.income, bins = [0, 2500, 3000, 3200, 3500, 4000, 5000])\n",
    "X = pd.get_dummies(X, drop_first = True)\n",
    "X_train, X_test, y_train, y_test = train_test_split(X, y, test_size = 0.25, random_state = 12345)\n",
    "X_train = poly.fit_transform(X_train)\n",
    "X_test = poly.fit_transform(X_test)\n",
    "reg = LinearRegression().fit(X_train, y_train)\n",
    "print('The CV-MSE for this piecewise constant regression is: ' + str(np.mean((reg.predict(X_test) - y_test) ** 2, axis=0)))"
   ]
  },
  {
   "cell_type": "markdown",
   "id": "6b72f2f6",
   "metadata": {
    "slideshow": {
     "slide_type": "slide"
    }
   },
   "source": [
    "# Non-Linearity\n",
    "\n",
    "- So far, we have seen polynomial regression and constant-piecewise regression.\n",
    "\n",
    "- Now let us study:\n",
    "    + Splines and Smoothing Splines\n",
    "    + GAMs"
   ]
  },
  {
   "cell_type": "code",
   "execution_count": 6,
   "id": "f0227a9c",
   "metadata": {
    "slideshow": {
     "slide_type": "slide"
    }
   },
   "outputs": [
    {
     "data": {
      "text/html": [
       "<div>\n",
       "<style scoped>\n",
       "    .dataframe tbody tr th:only-of-type {\n",
       "        vertical-align: middle;\n",
       "    }\n",
       "\n",
       "    .dataframe tbody tr th {\n",
       "        vertical-align: top;\n",
       "    }\n",
       "\n",
       "    .dataframe thead th {\n",
       "        text-align: right;\n",
       "    }\n",
       "</style>\n",
       "<table border=\"1\" class=\"dataframe\">\n",
       "  <thead>\n",
       "    <tr style=\"text-align: right;\">\n",
       "      <th></th>\n",
       "      <th>year</th>\n",
       "      <th>pwt_pop</th>\n",
       "      <th>wdi_expedu</th>\n",
       "      <th>mad_gdppc</th>\n",
       "    </tr>\n",
       "  </thead>\n",
       "  <tbody>\n",
       "    <tr>\n",
       "      <th>0</th>\n",
       "      <td>-1.671402</td>\n",
       "      <td>-0.267807</td>\n",
       "      <td>-0.450176</td>\n",
       "      <td>-0.691774</td>\n",
       "    </tr>\n",
       "    <tr>\n",
       "      <th>1</th>\n",
       "      <td>-1.505236</td>\n",
       "      <td>-0.267764</td>\n",
       "      <td>-0.547556</td>\n",
       "      <td>-0.670224</td>\n",
       "    </tr>\n",
       "    <tr>\n",
       "      <th>2</th>\n",
       "      <td>-1.339071</td>\n",
       "      <td>-0.267761</td>\n",
       "      <td>-0.530486</td>\n",
       "      <td>-0.642898</td>\n",
       "    </tr>\n",
       "    <tr>\n",
       "      <th>3</th>\n",
       "      <td>-1.172905</td>\n",
       "      <td>-0.267784</td>\n",
       "      <td>-0.734450</td>\n",
       "      <td>-0.624399</td>\n",
       "    </tr>\n",
       "    <tr>\n",
       "      <th>4</th>\n",
       "      <td>-1.006740</td>\n",
       "      <td>-0.267838</td>\n",
       "      <td>-0.722226</td>\n",
       "      <td>-0.601747</td>\n",
       "    </tr>\n",
       "  </tbody>\n",
       "</table>\n",
       "</div>"
      ],
      "text/plain": [
       "       year   pwt_pop  wdi_expedu  mad_gdppc\n",
       "0 -1.671402 -0.267807   -0.450176  -0.691774\n",
       "1 -1.505236 -0.267764   -0.547556  -0.670224\n",
       "2 -1.339071 -0.267761   -0.530486  -0.642898\n",
       "3 -1.172905 -0.267784   -0.734450  -0.624399\n",
       "4 -1.006740 -0.267838   -0.722226  -0.601747"
      ]
     },
     "execution_count": 6,
     "metadata": {},
     "output_type": "execute_result"
    }
   ],
   "source": [
    "## Process dataset\n",
    "y = countr['wdi_wip']\n",
    "X = countr[['year', 'pwt_pop', 'wdi_expedu', 'mad_gdppc']]\n",
    "X_zed = StandardScaler().set_output(transform = 'pandas').fit_transform(X)\n",
    "X_zed.head()"
   ]
  },
  {
   "cell_type": "code",
   "execution_count": 7,
   "id": "a4053598",
   "metadata": {
    "slideshow": {
     "slide_type": "slide"
    }
   },
   "outputs": [
    {
     "name": "stdout",
     "output_type": "stream",
     "text": [
      "The Cross-Validated R-squared for this regression is: 0.3150448625909027\n"
     ]
    }
   ],
   "source": [
    "## Splines with five knots in all variables\n",
    "splines = SplineTransformer(n_knots = 5, \n",
    "                            degree = 3, \n",
    "                            knots = 'quantile',\n",
    "                            extrapolation = 'constant')\n",
    "\n",
    "X_full = splines.set_output(transform = 'pandas').fit_transform(X_zed)\n",
    "cv = KFold(n_splits=5, shuffle=True)\n",
    "reg = LinearRegression()\n",
    "r2s = cross_val_score(reg, X_full, y, \n",
    "                      scoring = 'r2',\n",
    "                      cv = cv, n_jobs = -1)\n",
    "print('The Cross-Validated R-squared for this regression is: ' + str(np.mean(r2s)))"
   ]
  },
  {
   "cell_type": "markdown",
   "id": "05794a41",
   "metadata": {
    "slideshow": {
     "slide_type": "slide"
    }
   },
   "source": [
    "## Basis Functions\n",
    "\n",
    "- Family of transformations $b_i(X)$ such that, instead of fitting a regression model in $X$, we fit:\n",
    "\n",
    "$$ y_i \\ = \\ \\beta_0 + \\beta_1b_1(x_i) + \\beta_2b_2(x_i) + \\cdots + \\beta_kb_k(x_i) + \\varepsilon_i $$\n",
    "\n",
    "- In this sense:\n",
    "    - Polynomial Regression: $b_j(x_i) = x_i^j$\n",
    "    - Constant-piecewise Regression: $b_j(x_i) = C_j(x_i) = I(c_j \\leq X < c_{j+1})$\n",
    "    \n",
    "- Meaning: they are cases of a broader set of basis functions."
   ]
  },
  {
   "cell_type": "markdown",
   "id": "f697d9d7",
   "metadata": {
    "slideshow": {
     "slide_type": "slide"
    }
   },
   "source": [
    "## Basis Functions\n",
    "\n",
    "- Other cases:\n",
    "    + [Fourier series](https://en.wikipedia.org/wiki/Fourier_series)\n",
    "    + [Splines](https://en.wikipedia.org/wiki/Spline_(mathematics))\n",
    "    + [GAMs](https://en.wikipedia.org/wiki/Generalized_additive_model)\n",
    "    \n",
    "- We are going to study Splines and GAMs here."
   ]
  },
  {
   "cell_type": "markdown",
   "id": "ec711f60",
   "metadata": {
    "slideshow": {
     "slide_type": "slide"
    }
   },
   "source": [
    "## Splines\n",
    "\n",
    "- Suppose we want to fit a cubic polynomial. We can use the least square method very effectively for this case:\n",
    "\n",
    "$$ y_i = \\beta_0 + \\beta_1x_i + \\beta_2x_i^2 + \\beta_3x_i^3 + \\varepsilon_i $$\n",
    "\n",
    "- Very straightforward: use OLS and done!"
   ]
  },
  {
   "cell_type": "markdown",
   "id": "10333971",
   "metadata": {
    "slideshow": {
     "slide_type": "slide"
    }
   },
   "source": [
    "## Splines\n",
    "\n",
    "- Now, suppose that we want this polynomial to change its curvature for different parts of the data.\n",
    "\n",
    "- We may want to fit a particular polynomial in one-half of the data and a different one in the other part of the data."
   ]
  },
  {
   "cell_type": "markdown",
   "id": "64bd57b5",
   "metadata": {
    "slideshow": {
     "slide_type": "slide"
    }
   },
   "source": [
    "## Splines\n",
    "\n",
    "- Let $x = c$ the threshold (we call it *knot*). Then:\n",
    "\n",
    "$$ y_i = \\left\\{\\begin{align}\n",
    "        \\beta_{01} + \\beta_{11}x_i + \\beta_{21}x_i^2 + \\beta_{31}x_i^3 + \\varepsilon_i & \\ \\ \\text{ if } x_i < c\\\\\n",
    "        \\beta_{02} + \\beta_{12}x_i + \\beta_{22}x_i^2 + \\beta_{32}x_i^3 + \\varepsilon_i & \\ \\ \\text{ if } x_i \\geq c\n",
    "        \\end{align} \\right. $$\n",
    "        \n",
    "- And thus, we would fit eight coefficients. Four for each piece. If we add $K$ knots, we would fit $K+1$ polynomials.\n",
    "\n",
    "- The more knots, the more flexible the polynomial becomes.\n",
    "\n",
    "- Piecewise-constant: The degree of the polynomial is zero."
   ]
  },
  {
   "cell_type": "markdown",
   "id": "fe5f488f",
   "metadata": {
    "slideshow": {
     "slide_type": "slide"
    }
   },
   "source": [
    "## Splines\n",
    "\n",
    "- The problem with fitting splines is that we need to add constraints. Example:\n",
    "\n",
    "![img](../img/spl1.png)"
   ]
  },
  {
   "cell_type": "markdown",
   "id": "1a9c8d08",
   "metadata": {
    "slideshow": {
     "slide_type": "slide"
    }
   },
   "source": [
    "## Splines\n",
    "\n",
    "- We want our polynomials to be smooth. This needs us to add constraints on the end-points and the derivatives at these points.\n",
    "\n",
    "- End-points should meet. Derivatives should be the same at the knot (added smoothness).\n",
    "\n",
    "- Let this be the basis function:\n",
    "\n",
    "$$ y_i \\ = \\ \\beta_0 + \\beta_1b_1(x_i) + \\beta_2b_2(x_i) + \\cdots + \\beta_kb_k(x_i) + \\varepsilon_i $$\n",
    "\n",
    "- What are the $b$'s that would make this a cubic spline with all continuous derivatives?"
   ]
  },
  {
   "cell_type": "markdown",
   "id": "405961b4",
   "metadata": {
    "slideshow": {
     "slide_type": "slide"
    }
   },
   "source": [
    "## Splines\n",
    "\n",
    "- To achieve the smoothness on a cubic spline with a knot in $\\xi$, we can use the basis function:\n",
    "\n",
    "$$ \n",
    "h(x, \\xi) \\ = \\ (x-\\xi)^3_+ \\ = \\ \\left\\{\\begin{align}\n",
    "        (x - \\xi)^3 & \\ \\ \\text{ if } x > \\xi \\\\\n",
    "        0 & \\ \\ \\text{ otherwise }\n",
    "        \\end{align} \\right.\n",
    "$$\n",
    "\n",
    "- And for a K-knots cubic spline: $b_0(X) = 1$, $b_1(X) = X$, $b_2(X) = X^2$, $b_3(X) = X^3$, $b_4(X) = h(X, \\xi_1)$, $b_5(X) = h(X, \\xi_2)$, $\\cdots$ , $b_{K + 3}(X) = h(X, \\xi_K)$.\n",
    "\n",
    "- This spline uses $K + 4$ degress of freedom."
   ]
  },
  {
   "cell_type": "code",
   "execution_count": 8,
   "id": "8cc6d795",
   "metadata": {
    "slideshow": {
     "slide_type": "slide"
    }
   },
   "outputs": [
    {
     "name": "stdout",
     "output_type": "stream",
     "text": [
      "The Cross-Validated R-squared for this regression is: 0.21901688849155515\n"
     ]
    }
   ],
   "source": [
    "## Baseline: OLS\n",
    "X_full = X_zed\n",
    "cv = KFold(n_splits=10, shuffle=True)\n",
    "reg = LinearRegression()\n",
    "r2s = cross_val_score(reg, X_zed, y, \n",
    "                      scoring = 'r2',\n",
    "                      cv = cv, n_jobs = -1)\n",
    "\n",
    "print('The Cross-Validated R-squared for this regression is: ' + str(np.mean(r2s)))"
   ]
  },
  {
   "cell_type": "code",
   "execution_count": 9,
   "id": "85bef52a",
   "metadata": {
    "slideshow": {
     "slide_type": "slide"
    }
   },
   "outputs": [
    {
     "data": {
      "text/html": [
       "<div>\n",
       "<style scoped>\n",
       "    .dataframe tbody tr th:only-of-type {\n",
       "        vertical-align: middle;\n",
       "    }\n",
       "\n",
       "    .dataframe tbody tr th {\n",
       "        vertical-align: top;\n",
       "    }\n",
       "\n",
       "    .dataframe thead th {\n",
       "        text-align: right;\n",
       "    }\n",
       "</style>\n",
       "<table border=\"1\" class=\"dataframe\">\n",
       "  <thead>\n",
       "    <tr style=\"text-align: right;\">\n",
       "      <th></th>\n",
       "      <th>year_sp_0</th>\n",
       "      <th>year_sp_1</th>\n",
       "      <th>year_sp_2</th>\n",
       "      <th>year_sp_3</th>\n",
       "      <th>year_sp_4</th>\n",
       "      <th>year_sp_5</th>\n",
       "      <th>year_sp_6</th>\n",
       "    </tr>\n",
       "  </thead>\n",
       "  <tbody>\n",
       "    <tr>\n",
       "      <th>0</th>\n",
       "      <td>0.060739</td>\n",
       "      <td>0.579882</td>\n",
       "      <td>0.354209</td>\n",
       "      <td>0.005171</td>\n",
       "      <td>0.0</td>\n",
       "      <td>0.0</td>\n",
       "      <td>0.0</td>\n",
       "    </tr>\n",
       "    <tr>\n",
       "      <th>1</th>\n",
       "      <td>0.031098</td>\n",
       "      <td>0.501084</td>\n",
       "      <td>0.450365</td>\n",
       "      <td>0.017453</td>\n",
       "      <td>0.0</td>\n",
       "      <td>0.0</td>\n",
       "      <td>0.0</td>\n",
       "    </tr>\n",
       "    <tr>\n",
       "      <th>2</th>\n",
       "      <td>0.013120</td>\n",
       "      <td>0.408270</td>\n",
       "      <td>0.537240</td>\n",
       "      <td>0.041370</td>\n",
       "      <td>0.0</td>\n",
       "      <td>0.0</td>\n",
       "      <td>0.0</td>\n",
       "    </tr>\n",
       "    <tr>\n",
       "      <th>3</th>\n",
       "      <td>0.003887</td>\n",
       "      <td>0.310712</td>\n",
       "      <td>0.604599</td>\n",
       "      <td>0.080802</td>\n",
       "      <td>0.0</td>\n",
       "      <td>0.0</td>\n",
       "      <td>0.0</td>\n",
       "    </tr>\n",
       "    <tr>\n",
       "      <th>4</th>\n",
       "      <td>0.000486</td>\n",
       "      <td>0.217685</td>\n",
       "      <td>0.642204</td>\n",
       "      <td>0.139625</td>\n",
       "      <td>0.0</td>\n",
       "      <td>0.0</td>\n",
       "      <td>0.0</td>\n",
       "    </tr>\n",
       "  </tbody>\n",
       "</table>\n",
       "</div>"
      ],
      "text/plain": [
       "   year_sp_0  year_sp_1  year_sp_2  year_sp_3  year_sp_4  year_sp_5  year_sp_6\n",
       "0   0.060739   0.579882   0.354209   0.005171        0.0        0.0        0.0\n",
       "1   0.031098   0.501084   0.450365   0.017453        0.0        0.0        0.0\n",
       "2   0.013120   0.408270   0.537240   0.041370        0.0        0.0        0.0\n",
       "3   0.003887   0.310712   0.604599   0.080802        0.0        0.0        0.0\n",
       "4   0.000486   0.217685   0.642204   0.139625        0.0        0.0        0.0"
      ]
     },
     "execution_count": 9,
     "metadata": {},
     "output_type": "execute_result"
    }
   ],
   "source": [
    "## Splines with five knots for only year variable (very common control feature)\n",
    "splines = SplineTransformer(n_knots = 5, \n",
    "                            degree = 3, \n",
    "                            knots = 'quantile',\n",
    "                            extrapolation = 'constant')\n",
    "\n",
    "year_splined = splines.set_output(transform = 'pandas').fit_transform(countr[['year']])\n",
    "year_splined.head()"
   ]
  },
  {
   "cell_type": "code",
   "execution_count": 10,
   "id": "ff680b22",
   "metadata": {
    "slideshow": {
     "slide_type": "slide"
    }
   },
   "outputs": [
    {
     "name": "stdout",
     "output_type": "stream",
     "text": [
      "The Cross-Validated R-squared for this regression is: 0.21639915130533485\n"
     ]
    }
   ],
   "source": [
    "## Splines with five knots for only time variable (very common control feature)\n",
    "X_full = year_splined.join(X_zed.drop('year', axis = 1))\n",
    "cv = KFold(n_splits=5, shuffle=True)\n",
    "reg = LinearRegression()\n",
    "r2s = cross_val_score(reg, X_full, y, \n",
    "                      scoring = 'r2',\n",
    "                      cv = cv, n_jobs = -1)\n",
    "\n",
    "print('The Cross-Validated R-squared for this regression is: ' + str(np.mean(r2s)))"
   ]
  },
  {
   "cell_type": "markdown",
   "id": "e341490e",
   "metadata": {
    "slideshow": {
     "slide_type": "slide"
    }
   },
   "source": [
    "## Splines\n",
    "\n",
    "- *Natural spline:* add the requirement to local-linear in the bounds (below the first knot and above the last knot).\n",
    "\n",
    "![img](../img/natvscubspl1.png)"
   ]
  },
  {
   "cell_type": "markdown",
   "id": "bff5a223",
   "metadata": {
    "slideshow": {
     "slide_type": "slide"
    }
   },
   "source": [
    "## Splines\n",
    "\n",
    "- When we fit a spline, where should we place the knots?\n",
    "\n",
    "- Usually, we choose a uniformly distributed amount of knots placed on the percentiles (e.g., Q1, Median, and Q3).\n",
    "\n",
    "- To find a uniformly distributed amount of knots, one can use cross-validation:\n",
    "    1. Fit a model with $K$ knots\n",
    "    2. Look at the cross-validated RSS and change to $K+1$ or $K-1$, accordingly."
   ]
  },
  {
   "cell_type": "markdown",
   "id": "797cddd0",
   "metadata": {
    "slideshow": {
     "slide_type": "slide"
    }
   },
   "source": [
    "## Splines\n",
    "\n",
    "![img](../img/natvscubspl2.png)"
   ]
  },
  {
   "cell_type": "markdown",
   "id": "21a35d11",
   "metadata": {
    "slideshow": {
     "slide_type": "slide"
    }
   },
   "source": [
    "## Splines\n",
    "\n",
    "- Natural Cubic Splines (15dfs) x degree-15 polynomial\n",
    "\n",
    "![img](../img/ncubspl.png)"
   ]
  },
  {
   "cell_type": "code",
   "execution_count": 11,
   "id": "a520c98c",
   "metadata": {
    "slideshow": {
     "slide_type": "slide"
    }
   },
   "outputs": [
    {
     "name": "stdout",
     "output_type": "stream",
     "text": [
      "The Cross-Validated R-squared for this regression is: 0.3132722031720993\n"
     ]
    }
   ],
   "source": [
    "## Natural Splines\n",
    "splines = SplineTransformer(n_knots = 5, \n",
    "                            degree = 3, \n",
    "                            knots = 'quantile',\n",
    "                            extrapolation = 'linear')\n",
    "\n",
    "X_full = splines.set_output(transform = 'pandas').fit_transform(X_zed)\n",
    "cv = KFold(n_splits=5, shuffle=True)\n",
    "reg = LinearRegression()\n",
    "r2s = cross_val_score(reg, X_full, y, \n",
    "                      scoring = 'r2',\n",
    "                      cv = cv, n_jobs = -1)\n",
    "print('The Cross-Validated R-squared for this regression is: ' + str(np.mean(r2s)))"
   ]
  },
  {
   "cell_type": "code",
   "execution_count": 12,
   "id": "a20d52e6",
   "metadata": {
    "slideshow": {
     "slide_type": "slide"
    }
   },
   "outputs": [
    {
     "name": "stdout",
     "output_type": "stream",
     "text": [
      "Best number of knots is 34.\n",
      "The CV R-squared associated with it is 0.35305063135627207.\n"
     ]
    }
   ],
   "source": [
    "## Natural Splines: picking the best number of knots\n",
    "meanr2 = []\n",
    "knots = []\n",
    "for i in range(2, 100):\n",
    "    knots.append(i)\n",
    "    splines = SplineTransformer(n_knots = i, degree = 3, \n",
    "                                knots = 'quantile', extrapolation = 'linear')\n",
    "    X_full = splines.set_output(transform = 'pandas').fit_transform(X_zed)\n",
    "    cv = KFold(n_splits = 10, shuffle = True)\n",
    "    reg = LinearRegression()\n",
    "    r2s = cross_val_score(reg, X_full, y, scoring = 'r2', cv = cv, n_jobs = -1)\n",
    "    meanr2.append(np.mean(r2s))\n",
    "\n",
    "print('Best number of knots is {a}.\\nThe CV R-squared associated with it is {b}.'.format(a = str(knots[meanr2.index(max(meanr2))]), b = str(max(meanr2))))"
   ]
  },
  {
   "cell_type": "code",
   "execution_count": 13,
   "id": "62d64660",
   "metadata": {
    "slideshow": {
     "slide_type": "slide"
    }
   },
   "outputs": [
    {
     "data": {
      "image/png": "[encoded data removed]",
      "text/plain": [
       "<Figure size 640x480 with 1 Axes>"
      ]
     },
     "metadata": {},
     "output_type": "display_data"
    }
   ],
   "source": [
    "## Natural Splines: picking the best number of knots\n",
    "sns.lineplot(x = knots, y = meanr2)\n",
    "plt.title('Natural Spline Cross-Validated Number of Knots')\n",
    "plt.xlabel('knots\\n' + 'Best number of knots is {a}.\\nThe CV R-squared associated with it is {b}.'.format(a = str(knots[meanr2.index(max(meanr2))]), b = str(max(meanr2))))\n",
    "plt.ylabel('R-Squared')\n",
    "plt.scatter(knots[meanr2.index(max(meanr2))], max(meanr2), marker='X', color = 'red')\n",
    "plt.show()"
   ]
  },
  {
   "cell_type": "markdown",
   "id": "f8b3bd33",
   "metadata": {
    "slideshow": {
     "slide_type": "slide"
    }
   },
   "source": [
    "## GAMs\n",
    "\n",
    "- A different way to think about the problem is: Suppose we have $p$ variables. \n",
    "\n",
    "- Then, we could have a flexible function for each variable:\n",
    "\n",
    "$$ y_i \\ = \\ \\beta_0 + f_1(x_{i1}) + f_2(x_{i2}) + \\cdots + f_p(x_{ip}) + \\varepsilon_i $$\n",
    "\n",
    "- This is called **Generalized Additive Models**, or **GAMs** for short."
   ]
  },
  {
   "cell_type": "markdown",
   "id": "67dba076",
   "metadata": {
    "slideshow": {
     "slide_type": "slide"
    }
   },
   "source": [
    "## GAMs\n",
    "\n",
    "- For each $f$, we can combine natural splines (continuous) and piecewise-constant functions (discrete).\n",
    "\n",
    "- The book wage example summarizes this well. In here: $ \\text{wage} = \\beta_0 + f_1(\\text{year}) + f_2(\\text{age}) + f_3(\\text{education}) + \\varepsilon $\n",
    "\n",
    "- $f_1$ and $f_2$ are natural splines; $f_3$ piecewise constant.\n",
    "\n",
    "![img](../img/gam.png)"
   ]
  },
  {
   "cell_type": "markdown",
   "id": "f5e21526",
   "metadata": {
    "slideshow": {
     "slide_type": "slide"
    }
   },
   "source": [
    "## GAMs\n",
    "\n",
    "**Positives**:\n",
    "\n",
    "- GAMs are *easy* to interpret: the interpretation of each pattern would be: holding other things constant, this is how $x_j$ affects $y$.\n",
    "\n",
    "- Non-linear fits can make more accurate predictions.\n",
    "\n",
    "- Additivity brings a good deal of interpretability to models.\n",
    "\n",
    "- Smoothness can be summarized by the degrees of freedom consumed in the fit.\n",
    "\n",
    "- Can be implemented for Logistic Regression (useful for classification!)"
   ]
  },
  {
   "cell_type": "markdown",
   "id": "3ccc770c",
   "metadata": {
    "slideshow": {
     "slide_type": "slide"
    }
   },
   "source": [
    "## GAMs\n",
    "\n",
    "**Negatives**:\n",
    "\n",
    "- Restricted to be additive: Interactions are missed.\n",
    "\n",
    "- Smoothing splines GAM fit is not trivial (does not use the least square method).\n",
    "\n",
    "- But there are efficient iterative methods for fitting smoothing splines, so not that bad."
   ]
  },
  {
   "cell_type": "code",
   "execution_count": 14,
   "id": "a403756e",
   "metadata": {
    "slideshow": {
     "slide_type": "slide"
    }
   },
   "outputs": [
    {
     "data": {
      "text/html": [
       "<table class=\"simpletable\">\n",
       "<caption>Generalized Linear Model Regression Results</caption>\n",
       "<tr>\n",
       "  <th>Dep. Variable:</th>        <td>wdi_wip</td>     <th>  No. Observations:  </th>   <td>  2404</td>  \n",
       "</tr>\n",
       "<tr>\n",
       "  <th>Model:</th>                <td>GLMGam</td>      <th>  Df Residuals:      </th>  <td> 2367.00</td> \n",
       "</tr>\n",
       "<tr>\n",
       "  <th>Model Family:</th>        <td>Gaussian</td>     <th>  Df Model:          </th>  <td>   36.00</td> \n",
       "</tr>\n",
       "<tr>\n",
       "  <th>Link Function:</th>       <td>identity</td>     <th>  Scale:             </th>  <td>  84.907</td> \n",
       "</tr>\n",
       "<tr>\n",
       "  <th>Method:</th>                <td>PIRLS</td>      <th>  Log-Likelihood:    </th>  <td> -8731.2</td> \n",
       "</tr>\n",
       "<tr>\n",
       "  <th>Date:</th>            <td>Wed, 22 Feb 2023</td> <th>  Deviance:          </th> <td>2.0097e+05</td>\n",
       "</tr>\n",
       "<tr>\n",
       "  <th>Time:</th>                <td>15:58:25</td>     <th>  Pearson chi2:      </th>  <td>2.01e+05</td> \n",
       "</tr>\n",
       "<tr>\n",
       "  <th>No. Iterations:</th>          <td>3</td>        <th>  Pseudo R-squ. (CS):</th>   <td>0.4007</td>  \n",
       "</tr>\n",
       "<tr>\n",
       "  <th>Covariance Type:</th>     <td>nonrobust</td>    <th>                     </th>      <td> </td>    \n",
       "</tr>\n",
       "</table>\n",
       "<table class=\"simpletable\">\n",
       "<tr>\n",
       "        <td></td>           <th>coef</th>     <th>std err</th>      <th>z</th>      <th>P>|z|</th>  <th>[0.025</th>    <th>0.975]</th>  \n",
       "</tr>\n",
       "<tr>\n",
       "  <th>Intercept</th>     <td>    1.4893</td> <td>    7.255</td> <td>    0.205</td> <td> 0.837</td> <td>  -12.730</td> <td>   15.708</td>\n",
       "</tr>\n",
       "<tr>\n",
       "  <th>year_s0</th>       <td>    0.6870</td> <td>    2.753</td> <td>    0.250</td> <td> 0.803</td> <td>   -4.709</td> <td>    6.083</td>\n",
       "</tr>\n",
       "<tr>\n",
       "  <th>year_s1</th>       <td>    1.2368</td> <td>    2.013</td> <td>    0.614</td> <td> 0.539</td> <td>   -2.709</td> <td>    5.183</td>\n",
       "</tr>\n",
       "<tr>\n",
       "  <th>year_s2</th>       <td>    3.4432</td> <td>    2.127</td> <td>    1.619</td> <td> 0.105</td> <td>   -0.725</td> <td>    7.612</td>\n",
       "</tr>\n",
       "<tr>\n",
       "  <th>year_s3</th>       <td>    6.3970</td> <td>    1.867</td> <td>    3.426</td> <td> 0.001</td> <td>    2.737</td> <td>   10.057</td>\n",
       "</tr>\n",
       "<tr>\n",
       "  <th>year_s4</th>       <td>    6.3726</td> <td>    1.985</td> <td>    3.210</td> <td> 0.001</td> <td>    2.482</td> <td>   10.264</td>\n",
       "</tr>\n",
       "<tr>\n",
       "  <th>year_s5</th>       <td>    9.3471</td> <td>    1.969</td> <td>    4.747</td> <td> 0.000</td> <td>    5.488</td> <td>   13.206</td>\n",
       "</tr>\n",
       "<tr>\n",
       "  <th>year_s6</th>       <td>    9.7189</td> <td>    2.148</td> <td>    4.525</td> <td> 0.000</td> <td>    5.509</td> <td>   13.929</td>\n",
       "</tr>\n",
       "<tr>\n",
       "  <th>year_s7</th>       <td>   10.1703</td> <td>    2.223</td> <td>    4.575</td> <td> 0.000</td> <td>    5.813</td> <td>   14.527</td>\n",
       "</tr>\n",
       "<tr>\n",
       "  <th>year_s8</th>       <td>   10.5115</td> <td>    1.753</td> <td>    5.995</td> <td> 0.000</td> <td>    7.075</td> <td>   13.948</td>\n",
       "</tr>\n",
       "<tr>\n",
       "  <th>pwt_pop_s0</th>    <td>   -9.8265</td> <td>    2.430</td> <td>   -4.044</td> <td> 0.000</td> <td>  -14.589</td> <td>   -5.064</td>\n",
       "</tr>\n",
       "<tr>\n",
       "  <th>pwt_pop_s1</th>    <td>   -4.4095</td> <td>    1.631</td> <td>   -2.703</td> <td> 0.007</td> <td>   -7.607</td> <td>   -1.212</td>\n",
       "</tr>\n",
       "<tr>\n",
       "  <th>pwt_pop_s2</th>    <td>   -1.0594</td> <td>    1.739</td> <td>   -0.609</td> <td> 0.542</td> <td>   -4.467</td> <td>    2.348</td>\n",
       "</tr>\n",
       "<tr>\n",
       "  <th>pwt_pop_s3</th>    <td>    4.2450</td> <td>    1.437</td> <td>    2.954</td> <td> 0.003</td> <td>    1.429</td> <td>    7.061</td>\n",
       "</tr>\n",
       "<tr>\n",
       "  <th>pwt_pop_s4</th>    <td>   -1.5178</td> <td>    1.534</td> <td>   -0.989</td> <td> 0.323</td> <td>   -4.525</td> <td>    1.489</td>\n",
       "</tr>\n",
       "<tr>\n",
       "  <th>pwt_pop_s5</th>    <td>    1.2888</td> <td>    1.365</td> <td>    0.944</td> <td> 0.345</td> <td>   -1.386</td> <td>    3.963</td>\n",
       "</tr>\n",
       "<tr>\n",
       "  <th>pwt_pop_s6</th>    <td>  -16.0733</td> <td>    4.469</td> <td>   -3.597</td> <td> 0.000</td> <td>  -24.832</td> <td>   -7.314</td>\n",
       "</tr>\n",
       "<tr>\n",
       "  <th>pwt_pop_s7</th>    <td>   -9.6370</td> <td>    8.994</td> <td>   -1.071</td> <td> 0.284</td> <td>  -27.266</td> <td>    7.992</td>\n",
       "</tr>\n",
       "<tr>\n",
       "  <th>pwt_pop_s8</th>    <td>    3.9045</td> <td>    3.243</td> <td>    1.204</td> <td> 0.229</td> <td>   -2.451</td> <td>   10.260</td>\n",
       "</tr>\n",
       "<tr>\n",
       "  <th>wdi_expedu_s0</th> <td>    0.9953</td> <td>    9.861</td> <td>    0.101</td> <td> 0.920</td> <td>  -18.331</td> <td>   20.322</td>\n",
       "</tr>\n",
       "<tr>\n",
       "  <th>wdi_expedu_s1</th> <td>    4.2735</td> <td>    6.115</td> <td>    0.699</td> <td> 0.485</td> <td>   -7.711</td> <td>   16.258</td>\n",
       "</tr>\n",
       "<tr>\n",
       "  <th>wdi_expedu_s2</th> <td>    4.0457</td> <td>    6.962</td> <td>    0.581</td> <td> 0.561</td> <td>   -9.599</td> <td>   17.691</td>\n",
       "</tr>\n",
       "<tr>\n",
       "  <th>wdi_expedu_s3</th> <td>    5.9399</td> <td>    6.611</td> <td>    0.899</td> <td> 0.369</td> <td>   -7.017</td> <td>   18.897</td>\n",
       "</tr>\n",
       "<tr>\n",
       "  <th>wdi_expedu_s4</th> <td>    9.2901</td> <td>    6.778</td> <td>    1.371</td> <td> 0.171</td> <td>   -3.995</td> <td>   22.575</td>\n",
       "</tr>\n",
       "<tr>\n",
       "  <th>wdi_expedu_s5</th> <td>    7.5051</td> <td>    6.682</td> <td>    1.123</td> <td> 0.261</td> <td>   -5.592</td> <td>   20.602</td>\n",
       "</tr>\n",
       "<tr>\n",
       "  <th>wdi_expedu_s6</th> <td>   23.2781</td> <td>    7.259</td> <td>    3.207</td> <td> 0.001</td> <td>    9.050</td> <td>   37.506</td>\n",
       "</tr>\n",
       "<tr>\n",
       "  <th>wdi_expedu_s7</th> <td>   11.6294</td> <td>    9.049</td> <td>    1.285</td> <td> 0.199</td> <td>   -6.106</td> <td>   29.365</td>\n",
       "</tr>\n",
       "<tr>\n",
       "  <th>wdi_expedu_s8</th> <td>    5.9158</td> <td>    9.294</td> <td>    0.637</td> <td> 0.524</td> <td>  -12.300</td> <td>   24.132</td>\n",
       "</tr>\n",
       "<tr>\n",
       "  <th>mad_gdppc_s0</th>  <td>    5.2948</td> <td>    2.781</td> <td>    1.904</td> <td> 0.057</td> <td>   -0.155</td> <td>   10.745</td>\n",
       "</tr>\n",
       "<tr>\n",
       "  <th>mad_gdppc_s1</th>  <td>    2.8168</td> <td>    1.937</td> <td>    1.454</td> <td> 0.146</td> <td>   -0.980</td> <td>    6.613</td>\n",
       "</tr>\n",
       "<tr>\n",
       "  <th>mad_gdppc_s2</th>  <td>    2.2249</td> <td>    2.417</td> <td>    0.921</td> <td> 0.357</td> <td>   -2.512</td> <td>    6.962</td>\n",
       "</tr>\n",
       "<tr>\n",
       "  <th>mad_gdppc_s3</th>  <td>    3.4742</td> <td>    2.082</td> <td>    1.669</td> <td> 0.095</td> <td>   -0.606</td> <td>    7.555</td>\n",
       "</tr>\n",
       "<tr>\n",
       "  <th>mad_gdppc_s4</th>  <td>    2.7462</td> <td>    2.142</td> <td>    1.282</td> <td> 0.200</td> <td>   -1.453</td> <td>    6.945</td>\n",
       "</tr>\n",
       "<tr>\n",
       "  <th>mad_gdppc_s5</th>  <td>    4.2459</td> <td>    2.101</td> <td>    2.021</td> <td> 0.043</td> <td>    0.129</td> <td>    8.363</td>\n",
       "</tr>\n",
       "<tr>\n",
       "  <th>mad_gdppc_s6</th>  <td>   25.6625</td> <td>    3.787</td> <td>    6.776</td> <td> 0.000</td> <td>   18.239</td> <td>   33.086</td>\n",
       "</tr>\n",
       "<tr>\n",
       "  <th>mad_gdppc_s7</th>  <td>  -27.1615</td> <td>    7.996</td> <td>   -3.397</td> <td> 0.001</td> <td>  -42.834</td> <td>  -11.489</td>\n",
       "</tr>\n",
       "<tr>\n",
       "  <th>mad_gdppc_s8</th>  <td>   -7.1050</td> <td>    4.615</td> <td>   -1.540</td> <td> 0.124</td> <td>  -16.151</td> <td>    1.940</td>\n",
       "</tr>\n",
       "</table>"
      ],
      "text/plain": [
       "<class 'statsmodels.iolib.summary.Summary'>\n",
       "\"\"\"\n",
       "                 Generalized Linear Model Regression Results                  \n",
       "==============================================================================\n",
       "Dep. Variable:                wdi_wip   No. Observations:                 2404\n",
       "Model:                         GLMGam   Df Residuals:                  2367.00\n",
       "Model Family:                Gaussian   Df Model:                        36.00\n",
       "Link Function:               identity   Scale:                          84.907\n",
       "Method:                         PIRLS   Log-Likelihood:                -8731.2\n",
       "Date:                Wed, 22 Feb 2023   Deviance:                   2.0097e+05\n",
       "Time:                        15:58:25   Pearson chi2:                 2.01e+05\n",
       "No. Iterations:                     3   Pseudo R-squ. (CS):             0.4007\n",
       "Covariance Type:            nonrobust                                         \n",
       "=================================================================================\n",
       "                    coef    std err          z      P>|z|      [0.025      0.975]\n",
       "---------------------------------------------------------------------------------\n",
       "Intercept         1.4893      7.255      0.205      0.837     -12.730      15.708\n",
       "year_s0           0.6870      2.753      0.250      0.803      -4.709       6.083\n",
       "year_s1           1.2368      2.013      0.614      0.539      -2.709       5.183\n",
       "year_s2           3.4432      2.127      1.619      0.105      -0.725       7.612\n",
       "year_s3           6.3970      1.867      3.426      0.001       2.737      10.057\n",
       "year_s4           6.3726      1.985      3.210      0.001       2.482      10.264\n",
       "year_s5           9.3471      1.969      4.747      0.000       5.488      13.206\n",
       "year_s6           9.7189      2.148      4.525      0.000       5.509      13.929\n",
       "year_s7          10.1703      2.223      4.575      0.000       5.813      14.527\n",
       "year_s8          10.5115      1.753      5.995      0.000       7.075      13.948\n",
       "pwt_pop_s0       -9.8265      2.430     -4.044      0.000     -14.589      -5.064\n",
       "pwt_pop_s1       -4.4095      1.631     -2.703      0.007      -7.607      -1.212\n",
       "pwt_pop_s2       -1.0594      1.739     -0.609      0.542      -4.467       2.348\n",
       "pwt_pop_s3        4.2450      1.437      2.954      0.003       1.429       7.061\n",
       "pwt_pop_s4       -1.5178      1.534     -0.989      0.323      -4.525       1.489\n",
       "pwt_pop_s5        1.2888      1.365      0.944      0.345      -1.386       3.963\n",
       "pwt_pop_s6      -16.0733      4.469     -3.597      0.000     -24.832      -7.314\n",
       "pwt_pop_s7       -9.6370      8.994     -1.071      0.284     -27.266       7.992\n",
       "pwt_pop_s8        3.9045      3.243      1.204      0.229      -2.451      10.260\n",
       "wdi_expedu_s0     0.9953      9.861      0.101      0.920     -18.331      20.322\n",
       "wdi_expedu_s1     4.2735      6.115      0.699      0.485      -7.711      16.258\n",
       "wdi_expedu_s2     4.0457      6.962      0.581      0.561      -9.599      17.691\n",
       "wdi_expedu_s3     5.9399      6.611      0.899      0.369      -7.017      18.897\n",
       "wdi_expedu_s4     9.2901      6.778      1.371      0.171      -3.995      22.575\n",
       "wdi_expedu_s5     7.5051      6.682      1.123      0.261      -5.592      20.602\n",
       "wdi_expedu_s6    23.2781      7.259      3.207      0.001       9.050      37.506\n",
       "wdi_expedu_s7    11.6294      9.049      1.285      0.199      -6.106      29.365\n",
       "wdi_expedu_s8     5.9158      9.294      0.637      0.524     -12.300      24.132\n",
       "mad_gdppc_s0      5.2948      2.781      1.904      0.057      -0.155      10.745\n",
       "mad_gdppc_s1      2.8168      1.937      1.454      0.146      -0.980       6.613\n",
       "mad_gdppc_s2      2.2249      2.417      0.921      0.357      -2.512       6.962\n",
       "mad_gdppc_s3      3.4742      2.082      1.669      0.095      -0.606       7.555\n",
       "mad_gdppc_s4      2.7462      2.142      1.282      0.200      -1.453       6.945\n",
       "mad_gdppc_s5      4.2459      2.101      2.021      0.043       0.129       8.363\n",
       "mad_gdppc_s6     25.6625      3.787      6.776      0.000      18.239      33.086\n",
       "mad_gdppc_s7    -27.1615      7.996     -3.397      0.001     -42.834     -11.489\n",
       "mad_gdppc_s8     -7.1050      4.615     -1.540      0.124     -16.151       1.940\n",
       "=================================================================================\n",
       "\"\"\""
      ]
     },
     "execution_count": 14,
     "metadata": {},
     "output_type": "execute_result"
    }
   ],
   "source": [
    "## GAM\n",
    "bspline = BSplines(X_zed, df=[10, 10, 10, 10], degree=[3, 3, 3, 3])\n",
    "gam = GLMGam.from_formula('wdi_wip ~ 1', data = countr, smoother = bspline)\n",
    "## Find best penalty (takes a few hours!)\n",
    "##gam.select_penweight_kfold()[0]\n",
    "resgam = gam.fit()\n",
    "resgam.summary()"
   ]
  },
  {
   "cell_type": "code",
   "execution_count": 15,
   "id": "cae84b07",
   "metadata": {
    "scrolled": true,
    "slideshow": {
     "slide_type": "slide"
    }
   },
   "outputs": [
    {
     "data": {
      "image/png": "[encoded data removed]",
      "text/plain": [
       "<Figure size 640x480 with 1 Axes>"
      ]
     },
     "metadata": {},
     "output_type": "display_data"
    }
   ],
   "source": [
    "## Year\n",
    "resgam.plot_partial(0, cpr = True)\n",
    "plt.show()"
   ]
  },
  {
   "cell_type": "code",
   "execution_count": 16,
   "id": "b5b64d86",
   "metadata": {
    "scrolled": true,
    "slideshow": {
     "slide_type": "slide"
    }
   },
   "outputs": [
    {
     "data": {
      "image/png": "[encoded data removed]",
      "text/plain": [
       "<Figure size 640x480 with 1 Axes>"
      ]
     },
     "metadata": {},
     "output_type": "display_data"
    }
   ],
   "source": [
    "## Population\n",
    "resgam.plot_partial(1, cpr = True)\n",
    "plt.show()"
   ]
  },
  {
   "cell_type": "code",
   "execution_count": 17,
   "id": "e731316b",
   "metadata": {
    "scrolled": true,
    "slideshow": {
     "slide_type": "slide"
    }
   },
   "outputs": [
    {
     "data": {
      "image/png": "[encoded data removed]",
      "text/plain": [
       "<Figure size 640x480 with 1 Axes>"
      ]
     },
     "metadata": {},
     "output_type": "display_data"
    }
   ],
   "source": [
    "## Expenditure in education\n",
    "resgam.plot_partial(2, cpr = True)\n",
    "plt.show()"
   ]
  },
  {
   "cell_type": "code",
   "execution_count": 18,
   "id": "e9ae8d26",
   "metadata": {
    "scrolled": true,
    "slideshow": {
     "slide_type": "slide"
    }
   },
   "outputs": [
    {
     "data": {
      "image/png": "[encoded data removed]",
      "text/plain": [
       "<Figure size 640x480 with 1 Axes>"
      ]
     },
     "metadata": {},
     "output_type": "display_data"
    }
   ],
   "source": [
    "## GDP per capita\n",
    "resgam.plot_partial(3, cpr = True)\n",
    "plt.show()"
   ]
  },
  {
   "cell_type": "markdown",
   "id": "d8eace45",
   "metadata": {
    "slideshow": {
     "slide_type": "slide"
    }
   },
   "source": [
    "# Questions?"
   ]
  },
  {
   "cell_type": "markdown",
   "id": "22d252e9",
   "metadata": {
    "slideshow": {
     "slide_type": "slide"
    }
   },
   "source": [
    "# See you next class\n"
   ]
  },
  {
   "cell_type": "markdown",
   "id": "0fefe77c",
   "metadata": {
    "slideshow": {
     "slide_type": "slide"
    }
   },
   "source": [
    "# Extra"
   ]
  },
  {
   "cell_type": "markdown",
   "id": "ea01a5a8",
   "metadata": {
    "slideshow": {
     "slide_type": "slide"
    }
   },
   "source": [
    "## Smoothing Splines\n",
    "\n",
    "- So far, we define a set of knots, whether we want a natural or regular spline, and fit the coefficients using least squares.\n",
    "\n",
    "- Another approach that looks much like Lasso or Ridge is the *smoothing splines*."
   ]
  },
  {
   "cell_type": "markdown",
   "id": "bc684ca8",
   "metadata": {
    "slideshow": {
     "slide_type": "slide"
    }
   },
   "source": [
    "## Smoothing Splines\n",
    "\n",
    "- Let a function $g(x)$, we want the function to minimize the $\\text{RSS} = \\sum (y_i - g(x_i))^2$. \n",
    "\n",
    "- The problem is that we can choose $g$ as a cubic spline with as many knots as points: $\\text{RSS} = 0$!\n",
    "\n",
    "- However, we can add a penalty requiring the function to be smooth. We then minimize the following:\n",
    "\n",
    "$$ \\sum_{i=1}^n (y_i - g(x_i))^2 + \\alpha \\int g''(t)^2dt $$"
   ]
  },
  {
   "cell_type": "markdown",
   "id": "93cf2c85",
   "metadata": {
    "slideshow": {
     "slide_type": "slide"
    }
   },
   "source": [
    "## Smoothing Splines\n",
    "\n",
    "- $\\int g''(t)^2dt$ measures the amount of wiggling that the function $g$ will do.\n",
    "\n",
    "- $\\alpha = 0$: You could have a polynomial that interpolates every point.\n",
    "    + $\\text{RSS} = 0$, zero bias, lots of variance.\n",
    "\n",
    "- $\\alpha \\rightarrow \\infty$: Straight line."
   ]
  },
  {
   "cell_type": "markdown",
   "id": "769ffd9b",
   "metadata": {
    "slideshow": {
     "slide_type": "slide"
    }
   },
   "source": [
    "## Smoothing Splines\n",
    "\n",
    "- Interesting: $\\alpha$ indirectly controls the degrees of freedom!\n",
    "\n",
    "- Effective degrees of freedom: One can determine the fitted values by using the following decomposition:\n",
    "\n",
    "$$ \\hat{\\bf{g}}_\\alpha = \\bf{S}_\\alpha\\bf{y} $$\n",
    "\n",
    "- The effective number of degrees of freedom will be:\n",
    "\n",
    "$$ \\text{df}_\\alpha \\ = \\ \\text{tr}(\\bf{S}_\\alpha) $$"
   ]
  },
  {
   "cell_type": "markdown",
   "id": "223bde14",
   "metadata": {
    "slideshow": {
     "slide_type": "slide"
    }
   },
   "source": [
    "## Smoothing Splines\n",
    "\n",
    "- And to find $\\alpha$, cross-validation here is very effective. The LOOCV for this case is:\n",
    "\n",
    "$$ \\text{RSS}_{cv} \\ = \\ \\sum_{i=1}^n (y_i - \\hat{g}_\\alpha^{(-i)}(x_i))^2  \\ = \\ \\sum_{i=1}^n \\left[\\dfrac{y_i - \\hat{g}_\\alpha(x_i)}{1-\\{\\bf{S}_\\alpha\\}_{ii}}\\right]^2 $$"
   ]
  },
  {
   "cell_type": "markdown",
   "id": "f976ab71",
   "metadata": {
    "slideshow": {
     "slide_type": "slide"
    }
   },
   "source": [
    "## Smoothing Splines\n",
    "\n",
    "![img](../img/smspl1.png)"
   ]
  },
  {
   "cell_type": "markdown",
   "id": "2fa556f2",
   "metadata": {
    "slideshow": {
     "slide_type": "slide"
    }
   },
   "source": [
    "## Local Regression\n",
    "\n",
    "- Fitting a non-linear flexible function only on points around a place of interest.\n",
    "\n",
    "- The figure below shows local regressions around 0.05 and 0.4.\n",
    "\n",
    "![img](../img/loclinreg1.png)"
   ]
  },
  {
   "cell_type": "markdown",
   "id": "9300095a",
   "metadata": {
    "slideshow": {
     "slide_type": "slide"
    }
   },
   "source": [
    "## Local Regression\n",
    "\n",
    "**Algorithm**: To fit a local regression around $x_0$:\n",
    "\n",
    "1. Gather the fraction $s = k/n$ of training points whose $x_i$ are closest to $x_0$.\n",
    "\n",
    "2. Assign a weight $K_{i0} = K(x_i, x_0)$ to each point in this neighborhood so that the point furthest from $x_0$ has weight zero, and the closest has the highest weight. All but these $k$ nearest neighbors get weight zero.\n",
    "\n",
    "3. Fit a weighted least squares regression of the $y_i$ on the $x_i$ using the aforementioned weights, by finding $\\hat{\\beta}_0$ and $\\hat{\\beta}_1$ that minimizes:\n",
    "$$ \\sum_{i=1}^nK_{i0}(y_i - \\beta_0 - \\beta_1x_i)^2 $$\n",
    "\n",
    "4. The fitted value at $x_0$ is given by $\\hat{f}(x_0) = \\hat{\\beta}_0 + \\hat{\\beta}_1x_0$"
   ]
  },
  {
   "cell_type": "markdown",
   "id": "d622bda8",
   "metadata": {
    "slideshow": {
     "slide_type": "slide"
    }
   },
   "source": [
    "## Local Regression\n",
    "\n",
    "- Important choices:\n",
    "\n",
    "    1. $s$: The share of points we use in the surroundings. The smaller, the lower the bias, and the higher the variance.\n",
    "    2. If multiple variables, then one can make the model local in some variables and global in others.\n",
    "    3. Weights are essential!"
   ]
  },
  {
   "cell_type": "markdown",
   "id": "532b1b71",
   "metadata": {
    "slideshow": {
     "slide_type": "slide"
    }
   },
   "source": [
    "## Local Regression\n",
    "\n",
    "![img](../img/loclinreg2.png)"
   ]
  }
 ],
 "metadata": {
  "celltoolbar": "Slideshow",
  "kernelspec": {
   "display_name": "Python 3 (ipykernel)",
   "language": "python",
   "name": "python3"
  },
  "language_info": {
   "codemirror_mode": {
    "name": "ipython",
    "version": 3
   },
   "file_extension": ".py",
   "mimetype": "text/x-python",
   "name": "python",
   "nbconvert_exporter": "python",
   "pygments_lexer": "ipython3",
   "version": "3.9.12"
  }
 },
 "nbformat": 4,
 "nbformat_minor": 5
}
