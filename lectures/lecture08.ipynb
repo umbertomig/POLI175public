{
 "cells": [
  {
   "cell_type": "markdown",
   "id": "243e38f9",
   "metadata": {
    "slideshow": {
     "slide_type": "slide"
    }
   },
   "source": [
    "# POLI 175 - Lecture 08\n",
    "\n",
    "## Regression Analysis"
   ]
  },
  {
   "cell_type": "markdown",
   "id": "005ae1b7",
   "metadata": {
    "slideshow": {
     "slide_type": "slide"
    }
   },
   "source": [
    "## Plan for today\n",
    "\n",
    "- Regression in Python:\n",
    "    + Bivariate models\n",
    "    + Multivariate models\n",
    "\n",
    "- Diagnostics of regression estimates\n",
    "\n",
    "- Best practices"
   ]
  },
  {
   "cell_type": "markdown",
   "id": "e8fda630",
   "metadata": {
    "slideshow": {
     "slide_type": "slide"
    }
   },
   "source": [
    "## Data\n",
    "\n",
    "Today we are going to use the `prestige` dataset.\n",
    "\n",
    "| **Variable** | **Meaning**                                                                                                                                                        |\n",
    "|--------------|--------------------------------------------------------------------------------------------------------------------------------------------------------------------|\n",
    "| `type`         | Type of occupation. A factor with the following levels: <br>`prof`, professional and managerial; `wc`, white-collar; `bc`, blue-collar.           |\n",
    "| `income`      | Percentage of occupational incumbents in the 1950 US Census who earned USD 3,500 <br>or more per year (about USD 36,000 in 2017 US dollars).                             |\n",
    "| `education`    | Percentage of occupational incumbents in 1950 who were high school graduates<br>(which, were we cynical, we would say it is roughly equivalent to a Ph.D. in 2017) |\n",
    "| `prestige`     | Percentage of respondents in a social survey who rated the occupation as “good” <br>or better in prestige                                                          |\n",
    "| `profession`   | Name of the profession                                                                                                                                             |\n",
    "\n",
    "\n",
    "Plus some other `cooked` data."
   ]
  },
  {
   "cell_type": "markdown",
   "id": "e71cff81",
   "metadata": {
    "slideshow": {
     "slide_type": "slide"
    }
   },
   "source": [
    "## Questions\n",
    "\n",
    "- Quick reminder of a few relevant questions:\n",
    "\n",
    "    + Is there a relationship between `prestige` and `income`?\n",
    "    + How strong is the relationship between `prestige` and `income`?\n",
    "    + Which variables are associated with `prestige`?\n",
    "    + How can we accurately predict the prestige of professions not studied in this survey?\n",
    "    + Is the relationship linear?\n",
    "    + Is there a synergy among predictors?\n",
    "    \n",
    "- These are relevant questions, and regression analysis can help us here."
   ]
  },
  {
   "cell_type": "code",
   "execution_count": 31,
   "id": "a31ca894",
   "metadata": {
    "slideshow": {
     "slide_type": "slide"
    }
   },
   "outputs": [
    {
     "data": {
      "text/html": [
       "<div>\n",
       "<style scoped>\n",
       "    .dataframe tbody tr th:only-of-type {\n",
       "        vertical-align: middle;\n",
       "    }\n",
       "\n",
       "    .dataframe tbody tr th {\n",
       "        vertical-align: top;\n",
       "    }\n",
       "\n",
       "    .dataframe thead th {\n",
       "        text-align: right;\n",
       "    }\n",
       "</style>\n",
       "<table border=\"1\" class=\"dataframe\">\n",
       "  <thead>\n",
       "    <tr style=\"text-align: right;\">\n",
       "      <th></th>\n",
       "      <th>type</th>\n",
       "      <th>income</th>\n",
       "      <th>education</th>\n",
       "      <th>prestige</th>\n",
       "    </tr>\n",
       "    <tr>\n",
       "      <th>profession</th>\n",
       "      <th></th>\n",
       "      <th></th>\n",
       "      <th></th>\n",
       "      <th></th>\n",
       "    </tr>\n",
       "  </thead>\n",
       "  <tbody>\n",
       "    <tr>\n",
       "      <th>soda.clerk</th>\n",
       "      <td>bc</td>\n",
       "      <td>12</td>\n",
       "      <td>30</td>\n",
       "      <td>6</td>\n",
       "    </tr>\n",
       "    <tr>\n",
       "      <th>watchman</th>\n",
       "      <td>bc</td>\n",
       "      <td>17</td>\n",
       "      <td>25</td>\n",
       "      <td>11</td>\n",
       "    </tr>\n",
       "    <tr>\n",
       "      <th>janitor</th>\n",
       "      <td>bc</td>\n",
       "      <td>7</td>\n",
       "      <td>20</td>\n",
       "      <td>8</td>\n",
       "    </tr>\n",
       "    <tr>\n",
       "      <th>policeman</th>\n",
       "      <td>bc</td>\n",
       "      <td>34</td>\n",
       "      <td>47</td>\n",
       "      <td>41</td>\n",
       "    </tr>\n",
       "    <tr>\n",
       "      <th>waiter</th>\n",
       "      <td>bc</td>\n",
       "      <td>8</td>\n",
       "      <td>32</td>\n",
       "      <td>10</td>\n",
       "    </tr>\n",
       "  </tbody>\n",
       "</table>\n",
       "</div>"
      ],
      "text/plain": [
       "           type  income  education  prestige\n",
       "profession                                  \n",
       "soda.clerk   bc      12         30         6\n",
       "watchman     bc      17         25        11\n",
       "janitor      bc       7         20         8\n",
       "policeman    bc      34         47        41\n",
       "waiter       bc       8         32        10"
      ]
     },
     "execution_count": 31,
     "metadata": {},
     "output_type": "execute_result"
    }
   ],
   "source": [
    "## Loading the data\n",
    "import pandas as pd\n",
    "import numpy as np\n",
    "duncan = pd.read_csv('https://raw.githubusercontent.com/umbertomig/POLI175public/main/data/Duncan.csv')\n",
    "duncan = duncan.set_index('profession')\n",
    "duncan.tail()"
   ]
  },
  {
   "cell_type": "markdown",
   "id": "a185f0fb",
   "metadata": {
    "slideshow": {
     "slide_type": "slide"
    }
   },
   "source": [
    "## Regression\n",
    "\n",
    "- There are two packages in Python to run Regression:\n",
    "    + `statsmodels`\n",
    "    + `scikit.learn`\n",
    "\n",
    "- Today we are going to study the `statsmodels`"
   ]
  },
  {
   "cell_type": "markdown",
   "id": "087a61ab",
   "metadata": {
    "slideshow": {
     "slide_type": "slide"
    }
   },
   "source": [
    "## Bivariate Regression\n",
    "\n",
    "This regression is in the form of \n",
    "\n",
    "$$ Y = \\beta_0 + \\beta_1X_1 + \\varepsilon $$\n",
    "\n",
    "We need to load a few packages:"
   ]
  },
  {
   "cell_type": "code",
   "execution_count": 2,
   "id": "c37405e9",
   "metadata": {
    "slideshow": {
     "slide_type": "fragment"
    }
   },
   "outputs": [],
   "source": [
    "## Loading Libraries and Modules\n",
    "# Running the regression:\n",
    "from statsmodels.formula.api import ols\n",
    "from statsmodels.stats.anova import anova_lm\n",
    "from statsmodels.stats.outliers_influence import variance_inflation_factor\n",
    "\n",
    "# Plotting things:\n",
    "import seaborn as sns\n",
    "import matplotlib.pyplot as plt"
   ]
  },
  {
   "cell_type": "markdown",
   "id": "320cfce0",
   "metadata": {
    "slideshow": {
     "slide_type": "slide"
    }
   },
   "source": [
    "## Running a Bivariate Regression\n",
    "\n",
    "- Intuitively, earning more `income` is probably a good predictor of `prestige`. We can check that!"
   ]
  },
  {
   "cell_type": "code",
   "execution_count": 3,
   "id": "c820fa32",
   "metadata": {
    "slideshow": {
     "slide_type": "fragment"
    }
   },
   "outputs": [
    {
     "data": {
      "image/png": "[encoded data removed]",
      "text/plain": [
       "<Figure size 640x480 with 1 Axes>"
      ]
     },
     "metadata": {},
     "output_type": "display_data"
    }
   ],
   "source": [
    "# Scatterplot:\n",
    "sns.scatterplot(x = 'income', y = 'prestige', data = duncan)\n",
    "plt.show()"
   ]
  },
  {
   "cell_type": "code",
   "execution_count": 4,
   "id": "0d5c52bf",
   "metadata": {
    "slideshow": {
     "slide_type": "slide"
    }
   },
   "outputs": [
    {
     "data": {
      "image/png": "[encoded data removed]",
      "text/plain": [
       "<Figure size 640x480 with 1 Axes>"
      ]
     },
     "metadata": {},
     "output_type": "display_data"
    }
   ],
   "source": [
    "# Regplot:\n",
    "sns.regplot(x = 'income', y = 'prestige', data = duncan)\n",
    "plt.show()"
   ]
  },
  {
   "cell_type": "code",
   "execution_count": 5,
   "id": "c49b54ee",
   "metadata": {
    "slideshow": {
     "slide_type": "slide"
    }
   },
   "outputs": [
    {
     "name": "stdout",
     "output_type": "stream",
     "text": [
      "Intercept    2.456574\n",
      "income       1.080390\n",
      "dtype: float64\n"
     ]
    }
   ],
   "source": [
    "## Now running the actual regression:\n",
    "\n",
    "# Create the model.Fit the model\n",
    "model = ols('prestige ~ income', data = duncan).fit()\n",
    "\n",
    "# Print the parameters\n",
    "print(model.params)"
   ]
  },
  {
   "cell_type": "markdown",
   "id": "8ea5b742",
   "metadata": {
    "slideshow": {
     "slide_type": "fragment"
    }
   },
   "source": [
    "Meaning:\n",
    "\n",
    "$$ \\text{prestige} \\ \\approx \\ 2.46 + 1.08 \\times \\text{income} $$"
   ]
  },
  {
   "cell_type": "markdown",
   "id": "5c0bf1b7",
   "metadata": {
    "slideshow": {
     "slide_type": "slide"
    }
   },
   "source": [
    "## Regression\n",
    "\n",
    "- Relevant Questions:\n",
    "    + *Is there a relationship between `prestige` and `income`?*\n",
    "        + Yes! But not sure yet if `statistically significant` or not...\n",
    "    + *How strong is the relationship between `prestige` and `income`?*\n",
    "        + When we increase the income by one unit (which is a percentage of people earning more than 39k in the profession), we increase the prestige **on average** by 1.08 units.\n",
    "        \n",
    "- How about statistical significance? Let's test it!"
   ]
  },
  {
   "cell_type": "code",
   "execution_count": 6,
   "id": "437e3955",
   "metadata": {
    "slideshow": {
     "slide_type": "slide"
    }
   },
   "outputs": [
    {
     "name": "stdout",
     "output_type": "stream",
     "text": [
      "                            OLS Regression Results                            \n",
      "==============================================================================\n",
      "Dep. Variable:               prestige   R-squared:                       0.702\n",
      "Model:                            OLS   Adj. R-squared:                  0.695\n",
      "Method:                 Least Squares   F-statistic:                     101.3\n",
      "Date:                Mon, 30 Jan 2023   Prob (F-statistic):           7.14e-13\n",
      "Time:                        15:36:27   Log-Likelihood:                -191.38\n",
      "No. Observations:                  45   AIC:                             386.8\n",
      "Df Residuals:                      43   BIC:                             390.4\n",
      "Df Model:                           1                                         \n",
      "Covariance Type:            nonrobust                                         \n",
      "==============================================================================\n",
      "                 coef    std err          t      P>|t|      [0.025      0.975]\n",
      "------------------------------------------------------------------------------\n",
      "Intercept      2.4566      5.190      0.473      0.638      -8.010      12.923\n",
      "income         1.0804      0.107     10.062      0.000       0.864       1.297\n",
      "==============================================================================\n",
      "Omnibus:                        9.432   Durbin-Watson:                   1.627\n",
      "Prob(Omnibus):                  0.009   Jarque-Bera (JB):               16.567\n",
      "Skew:                           0.418   Prob(JB):                     0.000253\n",
      "Kurtosis:                       5.853   Cond. No.                         96.7\n",
      "==============================================================================\n",
      "\n",
      "Notes:\n",
      "[1] Standard Errors assume that the covariance matrix of the errors is correctly specified.\n"
     ]
    }
   ],
   "source": [
    "print(model.summary())"
   ]
  },
  {
   "cell_type": "markdown",
   "id": "6c3286e3",
   "metadata": {
    "slideshow": {
     "slide_type": "slide"
    }
   },
   "source": [
    "## Regression\n",
    "\n",
    "- Relevant Questions:\n",
    "    + *Is there a relationship between `prestige` and `income`?*\n",
    "        + Yes! It is statistically significant at a level lower than 0.001!\n",
    "    + *How strong is the relationship between `prestige` and `income`?*\n",
    "        + When we increase the income by one unit (which is a percentage of people earning more than 39k in the profession), we increase the prestige **on average** by 1.08 units.\n",
    "        \n",
    "- How accurate is our overall model?\n",
    "    + Let's check the R$^2$ and the Residual Standard Error (RSE)"
   ]
  },
  {
   "cell_type": "code",
   "execution_count": 7,
   "id": "9cafb800",
   "metadata": {
    "slideshow": {
     "slide_type": "slide"
    }
   },
   "outputs": [
    {
     "name": "stdout",
     "output_type": "stream",
     "text": [
      "0.701911139847978\n"
     ]
    }
   ],
   "source": [
    "# R-squared\n",
    "rsq = model.rsquared\n",
    "print(rsq) \n",
    "\n",
    "# Around 70% of the variation of prestige is explained by income"
   ]
  },
  {
   "cell_type": "code",
   "execution_count": 8,
   "id": "9080f597",
   "metadata": {
    "slideshow": {
     "slide_type": "fragment"
    }
   },
   "outputs": [
    {
     "name": "stdout",
     "output_type": "stream",
     "text": [
      "The mean squared error: 302.855817097006\n",
      "The Residual Standard Error: 17.402753147045615\n"
     ]
    }
   ],
   "source": [
    "# Mean Squared Error\n",
    "mse = model.mse_resid\n",
    "print('The mean squared error: ' + str(mse))\n",
    "\n",
    "# Residual Standard Error\n",
    "rse = np.sqrt(mse)\n",
    "print('The Residual Standard Error: ' + str(rse))\n",
    "\n",
    "# The \"typical\" distance between the predicted and the observed values is 17.4 prestige points"
   ]
  },
  {
   "cell_type": "markdown",
   "id": "39779eb7",
   "metadata": {
    "slideshow": {
     "slide_type": "slide"
    }
   },
   "source": [
    "## Diagnostics\n",
    "\n",
    "- The fit seem to be good.\n",
    "\n",
    "- But if you think about it, we still have many questions about our model.\n",
    "    + Is it linear?\n",
    "    + Can we do better than the bivariate model?\n",
    "    + Are the standard errors well-defined?\n",
    "    + And others...\n",
    "    \n",
    "- Here we are going to see how to diagnose some of these problems."
   ]
  },
  {
   "cell_type": "markdown",
   "id": "2a3f024b",
   "metadata": {
    "slideshow": {
     "slide_type": "slide"
    }
   },
   "source": [
    "## Diagnostics\n",
    "\n",
    "Several plots can help us diagnose the quality of our model.\n",
    "\n",
    "**Warning**: Find and analyzing these violations is **more of an art**.\n",
    "\n",
    "- In any case, be mindful that a careful analysis is frequent enough to ensure you have a `good` model.\n",
    "\n",
    "- We are going to look at some of them, that make sense for the bivariate case. \n",
    "\n",
    "- Later we are going to look at the ones that make sense for the multivariate case."
   ]
  },
  {
   "cell_type": "markdown",
   "id": "52365b4d",
   "metadata": {
    "slideshow": {
     "slide_type": "slide"
    }
   },
   "source": [
    "### Non-linearity\n",
    "\n",
    "When the relationship is non-linear, you could have done better using a different (more flexible) functional form.\n",
    "\n",
    "The plot to detect this is residual in the y-axis against the fitted values in the x-axis:\n",
    "\n",
    "![reg](../img/fig5.png)\n",
    "\n",
    "- Plot: Fitted Values x Raw Residuals\n",
    "\n",
    "- The best: You should find no patterns.\n",
    "\n",
    "- The ugly: A discernible pattern tells you that you could have done better with a more flexible model."
   ]
  },
  {
   "cell_type": "markdown",
   "id": "d8e80dbb",
   "metadata": {
    "slideshow": {
     "slide_type": "slide"
    }
   },
   "source": [
    "### Non-linearity\n",
    "\n",
    "- Hint: Look at the smoothing trend line (the `lowess`). You should see no discernible trend.\n",
    "\n",
    "For the `prestige` x `income` relationship:"
   ]
  },
  {
   "cell_type": "code",
   "execution_count": 9,
   "id": "9dc5460b",
   "metadata": {
    "slideshow": {
     "slide_type": "fragment"
    }
   },
   "outputs": [
    {
     "data": {
      "image/png": "[encoded data removed]",
      "text/plain": [
       "<Figure size 640x480 with 1 Axes>"
      ]
     },
     "metadata": {},
     "output_type": "display_data"
    }
   ],
   "source": [
    "# Residual x fitted values (linearity + heteroscedasticity)\n",
    "sns.residplot(x = 'income', y = 'prestige', data = duncan, lowess = True)\n",
    "plt.xlabel(\"Fitted values\")\n",
    "plt.ylabel(\"Residuals\")\n",
    "plt.show()"
   ]
  },
  {
   "cell_type": "markdown",
   "id": "1d90276c",
   "metadata": {
    "slideshow": {
     "slide_type": "slide"
    }
   },
   "source": [
    "### Non-linearity\n",
    "\n",
    "- Let's `cook` a non-linear relation:\n",
    "\n",
    "- I will cook the following:\n",
    "\n",
    "$$ Y = 2 + 3 X - 2 X^2 + \\varepsilon $$\n",
    "\n",
    "- The relationship is obviously non-linear."
   ]
  },
  {
   "cell_type": "code",
   "execution_count": 10,
   "id": "6fc76de4",
   "metadata": {
    "slideshow": {
     "slide_type": "slide"
    }
   },
   "outputs": [
    {
     "name": "stdout",
     "output_type": "stream",
     "text": [
      "                            OLS Regression Results                            \n",
      "==============================================================================\n",
      "Dep. Variable:                      y   R-squared:                       0.350\n",
      "Model:                            OLS   Adj. R-squared:                  0.344\n",
      "Method:                 Least Squares   F-statistic:                     52.88\n",
      "Date:                Mon, 30 Jan 2023   Prob (F-statistic):           8.75e-11\n",
      "Time:                        15:36:27   Log-Likelihood:                -245.55\n",
      "No. Observations:                 100   AIC:                             495.1\n",
      "Df Residuals:                      98   BIC:                             500.3\n",
      "Df Model:                           1                                         \n",
      "Covariance Type:            nonrobust                                         \n",
      "==============================================================================\n",
      "                 coef    std err          t      P>|t|      [0.025      0.975]\n",
      "------------------------------------------------------------------------------\n",
      "Intercept      0.0265      0.289      0.092      0.927      -0.548       0.601\n",
      "x              2.0953      0.288      7.272      0.000       1.524       2.667\n",
      "==============================================================================\n",
      "Omnibus:                       17.988   Durbin-Watson:                   2.008\n",
      "Prob(Omnibus):                  0.000   Jarque-Bera (JB):               21.232\n",
      "Skew:                          -1.083   Prob(JB):                     2.45e-05\n",
      "Kurtosis:                       3.635   Cond. No.                         1.20\n",
      "==============================================================================\n",
      "\n",
      "Notes:\n",
      "[1] Standard Errors assume that the covariance matrix of the errors is correctly specified.\n"
     ]
    }
   ],
   "source": [
    "## Cooking\n",
    "cooked_data = pd.DataFrame({\n",
    "    'x': np.random.normal(0, 1, 100)\n",
    "})\n",
    "cooked_data['y'] = 2 + 3 * cooked_data['x'] - 2 * (cooked_data['x'] ** 2) + np.random.normal(0, 1, 100)\n",
    "## Fitting\n",
    "model2 = ols('y ~ x', data = cooked_data).fit()\n",
    "\n",
    "## Checking\n",
    "print(model2.summary())"
   ]
  },
  {
   "cell_type": "code",
   "execution_count": 11,
   "id": "b5edcd04",
   "metadata": {
    "slideshow": {
     "slide_type": "slide"
    }
   },
   "outputs": [
    {
     "data": {
      "image/png": "[encoded data removed]",
      "text/plain": [
       "<Figure size 640x480 with 1 Axes>"
      ]
     },
     "metadata": {},
     "output_type": "display_data"
    }
   ],
   "source": [
    "# Residual x fitted values (linearity + heteroscedasticity)\n",
    "sns.residplot(x = 'x', y = 'y', data = cooked_data, lowess = True)\n",
    "plt.xlabel(\"Fitted values\")\n",
    "plt.ylabel(\"Residuals\")\n",
    "plt.show()"
   ]
  },
  {
   "cell_type": "markdown",
   "id": "4adceec0",
   "metadata": {
    "slideshow": {
     "slide_type": "slide"
    }
   },
   "source": [
    "### Heteroscedasticity\n",
    "\n",
    "- It is fancy wording to say that the variance in error is not constant.\n",
    "\n",
    "- It usually means that you are better at fitting some range of the predictors than others.\n",
    "\n",
    "![reg](../img/fig7.png)\n",
    "\n",
    "- Plot: Fitted Values x Raw Residuals\n",
    "\n",
    "- The best: You should find no patterns.\n",
    "\n",
    "- The ugly: A funnel-shaped figure tells you that you may have heteroscedasticity. It invalidates your standard errors."
   ]
  },
  {
   "cell_type": "markdown",
   "id": "f3eae725",
   "metadata": {
    "slideshow": {
     "slide_type": "slide"
    }
   },
   "source": [
    "### Heteroscedasticity\n",
    "\n",
    "- Hint: Look at the \"shape\" of the data cloud. You should see no discernible \"shape.\"\n",
    "\n",
    "For the `prestige` x `income` relationship:"
   ]
  },
  {
   "cell_type": "code",
   "execution_count": 12,
   "id": "ee7779b1",
   "metadata": {
    "slideshow": {
     "slide_type": "subslide"
    }
   },
   "outputs": [
    {
     "data": {
      "image/png": "[encoded data removed]",
      "text/plain": [
       "<Figure size 640x480 with 1 Axes>"
      ]
     },
     "metadata": {},
     "output_type": "display_data"
    }
   ],
   "source": [
    "# Residual x fitted values (linearity + heteroscedasticity)\n",
    "sns.residplot(x = 'income', y = 'prestige', data = duncan, lowess = True)\n",
    "plt.xlabel(\"Fitted values\")\n",
    "plt.ylabel(\"Residuals\")\n",
    "plt.show()"
   ]
  },
  {
   "cell_type": "markdown",
   "id": "555c23b7",
   "metadata": {
    "slideshow": {
     "slide_type": "slide"
    }
   },
   "source": [
    "### Outliers\n",
    "\n",
    "- Outliers are values very far away from most values predicted by the model.\n",
    "\n",
    "- Sometimes, it is correct, but frequently it may tell you that you made a mistake in collecting the data!\n",
    "\n",
    "![reg](../img/fig8.png)\n",
    "\n",
    "- Plot: Fitted x Studentized residuals\n",
    "\n",
    "- The best: You should find no extreme values in the plot.\n",
    "\n",
    "- The ugly: An extreme value can affect your RSE, $R^2$, and messes up with p-values."
   ]
  },
  {
   "cell_type": "code",
   "execution_count": 13,
   "id": "eacf37c5",
   "metadata": {
    "slideshow": {
     "slide_type": "slide"
    }
   },
   "outputs": [
    {
     "data": {
      "text/html": [
       "<div>\n",
       "<style scoped>\n",
       "    .dataframe tbody tr th:only-of-type {\n",
       "        vertical-align: middle;\n",
       "    }\n",
       "\n",
       "    .dataframe tbody tr th {\n",
       "        vertical-align: top;\n",
       "    }\n",
       "\n",
       "    .dataframe thead th {\n",
       "        text-align: right;\n",
       "    }\n",
       "</style>\n",
       "<table border=\"1\" class=\"dataframe\">\n",
       "  <thead>\n",
       "    <tr style=\"text-align: right;\">\n",
       "      <th></th>\n",
       "      <th>dfb_Intercept</th>\n",
       "      <th>dfb_income</th>\n",
       "      <th>cooks_d</th>\n",
       "      <th>standard_resid</th>\n",
       "      <th>hat_diag</th>\n",
       "      <th>dffits_internal</th>\n",
       "      <th>student_resid</th>\n",
       "      <th>dffits</th>\n",
       "    </tr>\n",
       "    <tr>\n",
       "      <th>profession</th>\n",
       "      <th></th>\n",
       "      <th></th>\n",
       "      <th></th>\n",
       "      <th></th>\n",
       "      <th></th>\n",
       "      <th></th>\n",
       "      <th></th>\n",
       "      <th></th>\n",
       "    </tr>\n",
       "  </thead>\n",
       "  <tbody>\n",
       "    <tr>\n",
       "      <th>accountant</th>\n",
       "      <td>-0.024666</td>\n",
       "      <td>0.092647</td>\n",
       "      <td>0.010587</td>\n",
       "      <td>0.735665</td>\n",
       "      <td>0.037652</td>\n",
       "      <td>0.145515</td>\n",
       "      <td>0.731680</td>\n",
       "      <td>0.144726</td>\n",
       "    </tr>\n",
       "    <tr>\n",
       "      <th>pilot</th>\n",
       "      <td>-0.014356</td>\n",
       "      <td>0.030852</td>\n",
       "      <td>0.000800</td>\n",
       "      <td>0.163026</td>\n",
       "      <td>0.056785</td>\n",
       "      <td>0.040001</td>\n",
       "      <td>0.161169</td>\n",
       "      <td>0.039545</td>\n",
       "    </tr>\n",
       "    <tr>\n",
       "      <th>architect</th>\n",
       "      <td>-0.040598</td>\n",
       "      <td>0.080937</td>\n",
       "      <td>0.005119</td>\n",
       "      <td>0.386908</td>\n",
       "      <td>0.064010</td>\n",
       "      <td>0.101180</td>\n",
       "      <td>0.383050</td>\n",
       "      <td>0.100171</td>\n",
       "    </tr>\n",
       "    <tr>\n",
       "      <th>author</th>\n",
       "      <td>0.003607</td>\n",
       "      <td>0.067444</td>\n",
       "      <td>0.010049</td>\n",
       "      <td>0.823419</td>\n",
       "      <td>0.028788</td>\n",
       "      <td>0.141765</td>\n",
       "      <td>0.820281</td>\n",
       "      <td>0.141224</td>\n",
       "    </tr>\n",
       "    <tr>\n",
       "      <th>chemist</th>\n",
       "      <td>-0.048329</td>\n",
       "      <td>0.150817</td>\n",
       "      <td>0.024828</td>\n",
       "      <td>1.079507</td>\n",
       "      <td>0.040869</td>\n",
       "      <td>0.222836</td>\n",
       "      <td>1.081638</td>\n",
       "      <td>0.223276</td>\n",
       "    </tr>\n",
       "  </tbody>\n",
       "</table>\n",
       "</div>"
      ],
      "text/plain": [
       "            dfb_Intercept  dfb_income   cooks_d  standard_resid  hat_diag  \\\n",
       "profession                                                                  \n",
       "accountant      -0.024666    0.092647  0.010587        0.735665  0.037652   \n",
       "pilot           -0.014356    0.030852  0.000800        0.163026  0.056785   \n",
       "architect       -0.040598    0.080937  0.005119        0.386908  0.064010   \n",
       "author           0.003607    0.067444  0.010049        0.823419  0.028788   \n",
       "chemist         -0.048329    0.150817  0.024828        1.079507  0.040869   \n",
       "\n",
       "            dffits_internal  student_resid    dffits  \n",
       "profession                                            \n",
       "accountant         0.145515       0.731680  0.144726  \n",
       "pilot              0.040001       0.161169  0.039545  \n",
       "architect          0.101180       0.383050  0.100171  \n",
       "author             0.141765       0.820281  0.141224  \n",
       "chemist            0.222836       1.081638  0.223276  "
      ]
     },
     "execution_count": 13,
     "metadata": {},
     "output_type": "execute_result"
    }
   ],
   "source": [
    "## More technical info about the model\n",
    "summary_info = model.get_influence().summary_frame()\n",
    "summary_info.head()"
   ]
  },
  {
   "cell_type": "code",
   "execution_count": 14,
   "id": "7ea1f343",
   "metadata": {
    "slideshow": {
     "slide_type": "slide"
    }
   },
   "outputs": [
    {
     "data": {
      "image/png": "[encoded data removed]",
      "text/plain": [
       "<Figure size 640x480 with 1 Axes>"
      ]
     },
     "metadata": {},
     "output_type": "display_data"
    }
   ],
   "source": [
    "# Checking the Studentized Residuals\n",
    "summary_info['fittedvalues'] = model.fittedvalues\n",
    "sns.regplot(x = 'fittedvalues', y = 'student_resid', data = summary_info, lowess = True)\n",
    "plt.xlabel(\"Fitted values\")\n",
    "plt.ylabel(\"Studentized residuals\")\n",
    "plt.show()"
   ]
  },
  {
   "cell_type": "code",
   "execution_count": 15,
   "id": "fa2ff291",
   "metadata": {
    "slideshow": {
     "slide_type": "slide"
    }
   },
   "outputs": [
    {
     "name": "stdout",
     "output_type": "stream",
     "text": [
      "            student_resid  fittedvalues\n",
      "profession                             \n",
      "minister         4.299856     25.144758\n",
      "professor        1.264232     71.601514\n",
      "teacher          1.088938     54.315279\n",
      "chemist          1.081638     71.601514\n",
      "contractor       0.947376     59.717227\n",
      "                    student_resid  fittedvalues\n",
      "profession                                     \n",
      "plumber                 -1.227244     49.993720\n",
      "reporter                -1.357144     74.842683\n",
      "RR.engineer             -1.391264     89.968138\n",
      "streetcar.motorman      -1.712784     47.832941\n",
      "conductor               -3.019729     84.566190\n"
     ]
    }
   ],
   "source": [
    "# Checking the Studentized Residuals\n",
    "print(summary_info[['student_resid', 'fittedvalues']].sort_values('student_resid', ascending = False).head())\n",
    "\n",
    "# Checking the Studentized Residuals\n",
    "print(summary_info[['student_resid', 'fittedvalues']].sort_values('student_resid', ascending = False).tail())"
   ]
  },
  {
   "cell_type": "code",
   "execution_count": 16,
   "id": "e1a1808f",
   "metadata": {
    "slideshow": {
     "slide_type": "slide"
    }
   },
   "outputs": [
    {
     "data": {
      "image/png": "[encoded data removed]",
      "text/plain": [
       "<Figure size 640x480 with 1 Axes>"
      ]
     },
     "metadata": {},
     "output_type": "display_data"
    }
   ],
   "source": [
    "# Checking the Absolute Value of the Studentized Residuals\n",
    "summary_info['abs_student_resid'] = np.abs(summary_info['student_resid'])\n",
    "sns.regplot(x = 'fittedvalues', y = 'abs_student_resid', data = summary_info, lowess = True)\n",
    "plt.xlabel(\"Fitted values\")\n",
    "plt.ylabel(\"Absolute Value of the Studentized Residuals\")\n",
    "plt.show()"
   ]
  },
  {
   "cell_type": "code",
   "execution_count": 17,
   "id": "cf63f7ec",
   "metadata": {
    "slideshow": {
     "slide_type": "slide"
    }
   },
   "outputs": [
    {
     "data": {
      "text/html": [
       "<div>\n",
       "<style scoped>\n",
       "    .dataframe tbody tr th:only-of-type {\n",
       "        vertical-align: middle;\n",
       "    }\n",
       "\n",
       "    .dataframe tbody tr th {\n",
       "        vertical-align: top;\n",
       "    }\n",
       "\n",
       "    .dataframe thead th {\n",
       "        text-align: right;\n",
       "    }\n",
       "</style>\n",
       "<table border=\"1\" class=\"dataframe\">\n",
       "  <thead>\n",
       "    <tr style=\"text-align: right;\">\n",
       "      <th></th>\n",
       "      <th>dfb_Intercept</th>\n",
       "      <th>dfb_income</th>\n",
       "      <th>cooks_d</th>\n",
       "      <th>standard_resid</th>\n",
       "      <th>hat_diag</th>\n",
       "      <th>dffits_internal</th>\n",
       "      <th>student_resid</th>\n",
       "      <th>dffits</th>\n",
       "      <th>fittedvalues</th>\n",
       "      <th>abs_student_resid</th>\n",
       "    </tr>\n",
       "    <tr>\n",
       "      <th>profession</th>\n",
       "      <th></th>\n",
       "      <th></th>\n",
       "      <th></th>\n",
       "      <th></th>\n",
       "      <th></th>\n",
       "      <th></th>\n",
       "      <th></th>\n",
       "      <th></th>\n",
       "      <th></th>\n",
       "      <th></th>\n",
       "    </tr>\n",
       "  </thead>\n",
       "  <tbody>\n",
       "    <tr>\n",
       "      <th>minister</th>\n",
       "      <td>0.815826</td>\n",
       "      <td>-0.564624</td>\n",
       "      <td>0.265244</td>\n",
       "      <td>3.625357</td>\n",
       "      <td>0.038796</td>\n",
       "      <td>0.728346</td>\n",
       "      <td>4.299856</td>\n",
       "      <td>0.863855</td>\n",
       "      <td>25.144758</td>\n",
       "      <td>4.299856</td>\n",
       "    </tr>\n",
       "    <tr>\n",
       "      <th>conductor</th>\n",
       "      <td>0.337190</td>\n",
       "      <td>-0.658212</td>\n",
       "      <td>0.273524</td>\n",
       "      <td>-2.769568</td>\n",
       "      <td>0.066571</td>\n",
       "      <td>-0.739626</td>\n",
       "      <td>-3.019729</td>\n",
       "      <td>-0.806433</td>\n",
       "      <td>84.566190</td>\n",
       "      <td>3.019729</td>\n",
       "    </tr>\n",
       "    <tr>\n",
       "      <th>streetcar.motorman</th>\n",
       "      <td>-0.127833</td>\n",
       "      <td>-0.001425</td>\n",
       "      <td>0.031903</td>\n",
       "      <td>-1.675526</td>\n",
       "      <td>0.022223</td>\n",
       "      <td>-0.252599</td>\n",
       "      <td>-1.712784</td>\n",
       "      <td>-0.258216</td>\n",
       "      <td>47.832941</td>\n",
       "      <td>1.712784</td>\n",
       "    </tr>\n",
       "    <tr>\n",
       "      <th>RR.engineer</th>\n",
       "      <td>0.195291</td>\n",
       "      <td>-0.350303</td>\n",
       "      <td>0.082942</td>\n",
       "      <td>-1.376371</td>\n",
       "      <td>0.080515</td>\n",
       "      <td>-0.407288</td>\n",
       "      <td>-1.391264</td>\n",
       "      <td>-0.411695</td>\n",
       "      <td>89.968138</td>\n",
       "      <td>1.391264</td>\n",
       "    </tr>\n",
       "    <tr>\n",
       "      <th>reporter</th>\n",
       "      <td>0.083088</td>\n",
       "      <td>-0.215488</td>\n",
       "      <td>0.043817</td>\n",
       "      <td>-1.344051</td>\n",
       "      <td>0.046267</td>\n",
       "      <td>-0.296031</td>\n",
       "      <td>-1.357144</td>\n",
       "      <td>-0.298915</td>\n",
       "      <td>74.842683</td>\n",
       "      <td>1.357144</td>\n",
       "    </tr>\n",
       "  </tbody>\n",
       "</table>\n",
       "</div>"
      ],
      "text/plain": [
       "                    dfb_Intercept  dfb_income   cooks_d  standard_resid  \\\n",
       "profession                                                                \n",
       "minister                 0.815826   -0.564624  0.265244        3.625357   \n",
       "conductor                0.337190   -0.658212  0.273524       -2.769568   \n",
       "streetcar.motorman      -0.127833   -0.001425  0.031903       -1.675526   \n",
       "RR.engineer              0.195291   -0.350303  0.082942       -1.376371   \n",
       "reporter                 0.083088   -0.215488  0.043817       -1.344051   \n",
       "\n",
       "                    hat_diag  dffits_internal  student_resid    dffits  \\\n",
       "profession                                                               \n",
       "minister            0.038796         0.728346       4.299856  0.863855   \n",
       "conductor           0.066571        -0.739626      -3.019729 -0.806433   \n",
       "streetcar.motorman  0.022223        -0.252599      -1.712784 -0.258216   \n",
       "RR.engineer         0.080515        -0.407288      -1.391264 -0.411695   \n",
       "reporter            0.046267        -0.296031      -1.357144 -0.298915   \n",
       "\n",
       "                    fittedvalues  abs_student_resid  \n",
       "profession                                           \n",
       "minister               25.144758           4.299856  \n",
       "conductor              84.566190           3.019729  \n",
       "streetcar.motorman     47.832941           1.712784  \n",
       "RR.engineer            89.968138           1.391264  \n",
       "reporter               74.842683           1.357144  "
      ]
     },
     "execution_count": 17,
     "metadata": {},
     "output_type": "execute_result"
    }
   ],
   "source": [
    "# Checking the Absolute Value of the Studentized Residuals\n",
    "summary_info.sort_values('abs_student_resid', ascending = False).head()"
   ]
  },
  {
   "cell_type": "markdown",
   "id": "186e5cdd",
   "metadata": {
    "slideshow": {
     "slide_type": "slide"
    }
   },
   "source": [
    "### High Leverage\n",
    "\n",
    "- Have very unusual $x_i$ values that could potentially tilt the regression line towards them.\n",
    "\n",
    "- **If high leverage and outlier, bad combination!**\n",
    "\n",
    "![reg](fig9.png)\n",
    "\n",
    "- Plot: Leverage x Studentizided residuals\n",
    "\n",
    "- The best: You should find no extreme values in the plot.\n",
    "\n",
    "- The ugly: An extreme value can affect your fit."
   ]
  },
  {
   "cell_type": "code",
   "execution_count": 18,
   "id": "e861597c",
   "metadata": {},
   "outputs": [
    {
     "data": {
      "image/png": "[encoded data removed]",
      "text/plain": [
       "<Figure size 640x480 with 1 Axes>"
      ]
     },
     "metadata": {},
     "output_type": "display_data"
    }
   ],
   "source": [
    "## Checking the Leverage\n",
    "sns.scatterplot(x = 'hat_diag', y = 'student_resid', data = summary_info)\n",
    "plt.xlabel(\"Leverage (called hat_diag there)\")\n",
    "plt.ylabel(\"Studentized residuals\")\n",
    "plt.show()"
   ]
  },
  {
   "cell_type": "code",
   "execution_count": 19,
   "id": "22f2b0dd",
   "metadata": {},
   "outputs": [
    {
     "data": {
      "text/html": [
       "<div>\n",
       "<style scoped>\n",
       "    .dataframe tbody tr th:only-of-type {\n",
       "        vertical-align: middle;\n",
       "    }\n",
       "\n",
       "    .dataframe tbody tr th {\n",
       "        vertical-align: top;\n",
       "    }\n",
       "\n",
       "    .dataframe thead th {\n",
       "        text-align: right;\n",
       "    }\n",
       "</style>\n",
       "<table border=\"1\" class=\"dataframe\">\n",
       "  <thead>\n",
       "    <tr style=\"text-align: right;\">\n",
       "      <th></th>\n",
       "      <th>dfb_Intercept</th>\n",
       "      <th>dfb_income</th>\n",
       "      <th>cooks_d</th>\n",
       "      <th>standard_resid</th>\n",
       "      <th>hat_diag</th>\n",
       "      <th>dffits_internal</th>\n",
       "      <th>student_resid</th>\n",
       "      <th>dffits</th>\n",
       "      <th>fittedvalues</th>\n",
       "      <th>abs_student_resid</th>\n",
       "    </tr>\n",
       "    <tr>\n",
       "      <th>profession</th>\n",
       "      <th></th>\n",
       "      <th></th>\n",
       "      <th></th>\n",
       "      <th></th>\n",
       "      <th></th>\n",
       "      <th></th>\n",
       "      <th></th>\n",
       "      <th></th>\n",
       "      <th></th>\n",
       "      <th></th>\n",
       "    </tr>\n",
       "  </thead>\n",
       "  <tbody>\n",
       "    <tr>\n",
       "      <th>RR.engineer</th>\n",
       "      <td>0.195291</td>\n",
       "      <td>-0.350303</td>\n",
       "      <td>0.082942</td>\n",
       "      <td>-1.376371</td>\n",
       "      <td>0.080515</td>\n",
       "      <td>-0.407288</td>\n",
       "      <td>-1.391264</td>\n",
       "      <td>-0.411695</td>\n",
       "      <td>89.968138</td>\n",
       "      <td>1.391264</td>\n",
       "    </tr>\n",
       "    <tr>\n",
       "      <th>dentist</th>\n",
       "      <td>-0.008852</td>\n",
       "      <td>0.016111</td>\n",
       "      <td>0.000186</td>\n",
       "      <td>0.066546</td>\n",
       "      <td>0.077574</td>\n",
       "      <td>0.019298</td>\n",
       "      <td>0.065771</td>\n",
       "      <td>0.019073</td>\n",
       "      <td>88.887749</td>\n",
       "      <td>0.065771</td>\n",
       "    </tr>\n",
       "    <tr>\n",
       "      <th>banker</th>\n",
       "      <td>-0.038302</td>\n",
       "      <td>0.072014</td>\n",
       "      <td>0.003833</td>\n",
       "      <td>0.314521</td>\n",
       "      <td>0.071920</td>\n",
       "      <td>0.087555</td>\n",
       "      <td>0.311200</td>\n",
       "      <td>0.086631</td>\n",
       "      <td>86.726969</td>\n",
       "      <td>0.311200</td>\n",
       "    </tr>\n",
       "    <tr>\n",
       "      <th>coal.miner</th>\n",
       "      <td>0.079282</td>\n",
       "      <td>-0.065387</td>\n",
       "      <td>0.003233</td>\n",
       "      <td>0.296538</td>\n",
       "      <td>0.068497</td>\n",
       "      <td>0.080412</td>\n",
       "      <td>0.293370</td>\n",
       "      <td>0.079553</td>\n",
       "      <td>10.019302</td>\n",
       "      <td>0.293370</td>\n",
       "    </tr>\n",
       "    <tr>\n",
       "      <th>janitor</th>\n",
       "      <td>-0.032115</td>\n",
       "      <td>0.026487</td>\n",
       "      <td>0.000531</td>\n",
       "      <td>-0.120224</td>\n",
       "      <td>0.068497</td>\n",
       "      <td>-0.032601</td>\n",
       "      <td>-0.118838</td>\n",
       "      <td>-0.032225</td>\n",
       "      <td>10.019302</td>\n",
       "      <td>0.118838</td>\n",
       "    </tr>\n",
       "  </tbody>\n",
       "</table>\n",
       "</div>"
      ],
      "text/plain": [
       "             dfb_Intercept  dfb_income   cooks_d  standard_resid  hat_diag  \\\n",
       "profession                                                                   \n",
       "RR.engineer       0.195291   -0.350303  0.082942       -1.376371  0.080515   \n",
       "dentist          -0.008852    0.016111  0.000186        0.066546  0.077574   \n",
       "banker           -0.038302    0.072014  0.003833        0.314521  0.071920   \n",
       "coal.miner        0.079282   -0.065387  0.003233        0.296538  0.068497   \n",
       "janitor          -0.032115    0.026487  0.000531       -0.120224  0.068497   \n",
       "\n",
       "             dffits_internal  student_resid    dffits  fittedvalues  \\\n",
       "profession                                                            \n",
       "RR.engineer        -0.407288      -1.391264 -0.411695     89.968138   \n",
       "dentist             0.019298       0.065771  0.019073     88.887749   \n",
       "banker              0.087555       0.311200  0.086631     86.726969   \n",
       "coal.miner          0.080412       0.293370  0.079553     10.019302   \n",
       "janitor            -0.032601      -0.118838 -0.032225     10.019302   \n",
       "\n",
       "             abs_student_resid  \n",
       "profession                      \n",
       "RR.engineer           1.391264  \n",
       "dentist               0.065771  \n",
       "banker                0.311200  \n",
       "coal.miner            0.293370  \n",
       "janitor               0.118838  "
      ]
     },
     "execution_count": 19,
     "metadata": {},
     "output_type": "execute_result"
    }
   ],
   "source": [
    "summary_info.sort_values('hat_diag', ascending = False).head()"
   ]
  },
  {
   "cell_type": "code",
   "execution_count": 20,
   "id": "9a39f946",
   "metadata": {},
   "outputs": [
    {
     "data": {
      "image/png": "[encoded data removed]",
      "text/plain": [
       "<Figure size 640x480 with 1 Axes>"
      ]
     },
     "metadata": {},
     "output_type": "display_data"
    }
   ],
   "source": [
    "## Checking the Leverage and Outliers: Cook's-d x Leverage\n",
    "sns.scatterplot(x = 'hat_diag', y = 'cooks_d', data = summary_info)\n",
    "plt.xlabel(\"Leverage (called hat_diag there)\")\n",
    "plt.ylabel(\"Cook's-d (how much removing the variable\\nshifts the regression)\")\n",
    "plt.show()"
   ]
  },
  {
   "cell_type": "code",
   "execution_count": 21,
   "id": "5b16e28a",
   "metadata": {
    "slideshow": {
     "slide_type": "slide"
    }
   },
   "outputs": [
    {
     "data": {
      "text/html": [
       "<div>\n",
       "<style scoped>\n",
       "    .dataframe tbody tr th:only-of-type {\n",
       "        vertical-align: middle;\n",
       "    }\n",
       "\n",
       "    .dataframe tbody tr th {\n",
       "        vertical-align: top;\n",
       "    }\n",
       "\n",
       "    .dataframe thead th {\n",
       "        text-align: right;\n",
       "    }\n",
       "</style>\n",
       "<table border=\"1\" class=\"dataframe\">\n",
       "  <thead>\n",
       "    <tr style=\"text-align: right;\">\n",
       "      <th></th>\n",
       "      <th>dfb_Intercept</th>\n",
       "      <th>dfb_income</th>\n",
       "      <th>cooks_d</th>\n",
       "      <th>standard_resid</th>\n",
       "      <th>hat_diag</th>\n",
       "      <th>dffits_internal</th>\n",
       "      <th>student_resid</th>\n",
       "      <th>dffits</th>\n",
       "      <th>fittedvalues</th>\n",
       "      <th>abs_student_resid</th>\n",
       "    </tr>\n",
       "    <tr>\n",
       "      <th>profession</th>\n",
       "      <th></th>\n",
       "      <th></th>\n",
       "      <th></th>\n",
       "      <th></th>\n",
       "      <th></th>\n",
       "      <th></th>\n",
       "      <th></th>\n",
       "      <th></th>\n",
       "      <th></th>\n",
       "      <th></th>\n",
       "    </tr>\n",
       "  </thead>\n",
       "  <tbody>\n",
       "    <tr>\n",
       "      <th>conductor</th>\n",
       "      <td>0.337190</td>\n",
       "      <td>-0.658212</td>\n",
       "      <td>0.273524</td>\n",
       "      <td>-2.769568</td>\n",
       "      <td>0.066571</td>\n",
       "      <td>-0.739626</td>\n",
       "      <td>-3.019729</td>\n",
       "      <td>-0.806433</td>\n",
       "      <td>84.566190</td>\n",
       "      <td>3.019729</td>\n",
       "    </tr>\n",
       "    <tr>\n",
       "      <th>minister</th>\n",
       "      <td>0.815826</td>\n",
       "      <td>-0.564624</td>\n",
       "      <td>0.265244</td>\n",
       "      <td>3.625357</td>\n",
       "      <td>0.038796</td>\n",
       "      <td>0.728346</td>\n",
       "      <td>4.299856</td>\n",
       "      <td>0.863855</td>\n",
       "      <td>25.144758</td>\n",
       "      <td>4.299856</td>\n",
       "    </tr>\n",
       "    <tr>\n",
       "      <th>RR.engineer</th>\n",
       "      <td>0.195291</td>\n",
       "      <td>-0.350303</td>\n",
       "      <td>0.082942</td>\n",
       "      <td>-1.376371</td>\n",
       "      <td>0.080515</td>\n",
       "      <td>-0.407288</td>\n",
       "      <td>-1.391264</td>\n",
       "      <td>-0.411695</td>\n",
       "      <td>89.968138</td>\n",
       "      <td>1.391264</td>\n",
       "    </tr>\n",
       "    <tr>\n",
       "      <th>reporter</th>\n",
       "      <td>0.083088</td>\n",
       "      <td>-0.215488</td>\n",
       "      <td>0.043817</td>\n",
       "      <td>-1.344051</td>\n",
       "      <td>0.046267</td>\n",
       "      <td>-0.296031</td>\n",
       "      <td>-1.357144</td>\n",
       "      <td>-0.298915</td>\n",
       "      <td>74.842683</td>\n",
       "      <td>1.357144</td>\n",
       "    </tr>\n",
       "    <tr>\n",
       "      <th>professor</th>\n",
       "      <td>-0.056487</td>\n",
       "      <td>0.176277</td>\n",
       "      <td>0.033585</td>\n",
       "      <td>1.255527</td>\n",
       "      <td>0.040869</td>\n",
       "      <td>0.259171</td>\n",
       "      <td>1.264232</td>\n",
       "      <td>0.260968</td>\n",
       "      <td>71.601514</td>\n",
       "      <td>1.264232</td>\n",
       "    </tr>\n",
       "  </tbody>\n",
       "</table>\n",
       "</div>"
      ],
      "text/plain": [
       "             dfb_Intercept  dfb_income   cooks_d  standard_resid  hat_diag  \\\n",
       "profession                                                                   \n",
       "conductor         0.337190   -0.658212  0.273524       -2.769568  0.066571   \n",
       "minister          0.815826   -0.564624  0.265244        3.625357  0.038796   \n",
       "RR.engineer       0.195291   -0.350303  0.082942       -1.376371  0.080515   \n",
       "reporter          0.083088   -0.215488  0.043817       -1.344051  0.046267   \n",
       "professor        -0.056487    0.176277  0.033585        1.255527  0.040869   \n",
       "\n",
       "             dffits_internal  student_resid    dffits  fittedvalues  \\\n",
       "profession                                                            \n",
       "conductor          -0.739626      -3.019729 -0.806433     84.566190   \n",
       "minister            0.728346       4.299856  0.863855     25.144758   \n",
       "RR.engineer        -0.407288      -1.391264 -0.411695     89.968138   \n",
       "reporter           -0.296031      -1.357144 -0.298915     74.842683   \n",
       "professor           0.259171       1.264232  0.260968     71.601514   \n",
       "\n",
       "             abs_student_resid  \n",
       "profession                      \n",
       "conductor             3.019729  \n",
       "minister              4.299856  \n",
       "RR.engineer           1.391264  \n",
       "reporter              1.357144  \n",
       "professor             1.264232  "
      ]
     },
     "execution_count": 21,
     "metadata": {},
     "output_type": "execute_result"
    }
   ],
   "source": [
    "# Checking the Cook's-d measure\n",
    "summary_info.sort_values('cooks_d', ascending = False).head()"
   ]
  },
  {
   "cell_type": "markdown",
   "id": "67a594bc",
   "metadata": {
    "slideshow": {
     "slide_type": "slide"
    }
   },
   "source": [
    "## Multiple Linear Regression\n",
    "\n",
    "- So far:\n",
    "    + Is there a relationship between `prestige` and `income`? **Yes**\n",
    "    + How strong is the relationship between `prestige` and `income`? **Yes**\n",
    "    + Which variables are associated with `prestige`?\n",
    "    + How can we accurately predict the prestige of professions not studied in this survey? **Yes, so far...**\n",
    "    + Is the relationship linear? **Yes, so far...**\n",
    "    + Is there a synergy among predictors?\n",
    "    \n",
    "- Can we do better? **Yes**, we have other predictors that we didn't not explore."
   ]
  },
  {
   "cell_type": "markdown",
   "id": "b80cd85c",
   "metadata": {
    "slideshow": {
     "slide_type": "slide"
    }
   },
   "source": [
    "## Multiple Linear Regression\n",
    "\n",
    "Let's fit the following model:\n",
    "\n",
    "$$ \\text{prestige} = \\beta_0 + \\beta_1\\text{income} + \\beta_2\\text{education} + \\varepsilon $$"
   ]
  },
  {
   "cell_type": "code",
   "execution_count": 22,
   "id": "a6a20f07",
   "metadata": {
    "slideshow": {
     "slide_type": "slide"
    }
   },
   "outputs": [
    {
     "name": "stdout",
     "output_type": "stream",
     "text": [
      "Intercept   -6.064663\n",
      "income       0.598733\n",
      "education    0.545834\n",
      "dtype: float64\n"
     ]
    }
   ],
   "source": [
    "## Running the actual regression:\n",
    "\n",
    "# Create the model.Fit the model\n",
    "model3 = ols('prestige ~ income + education', data = duncan).fit()\n",
    "\n",
    "# Print the parameters\n",
    "print(model3.params)"
   ]
  },
  {
   "cell_type": "markdown",
   "id": "fa76ea74",
   "metadata": {
    "slideshow": {
     "slide_type": "fragment"
    }
   },
   "source": [
    "Meaning:\n",
    "\n",
    "$$ \\text{prestige} \\ \\approx \\ -6.06 + 0.60\\text{income} + 0.55\\text{education} $$"
   ]
  },
  {
   "cell_type": "markdown",
   "id": "173dd03b",
   "metadata": {
    "slideshow": {
     "slide_type": "slide"
    }
   },
   "source": [
    "## F-Statistic\n",
    "\n",
    "Are we doing better than the linear regression? We can test that!\n",
    "\n",
    "**Null hypothesis:** The model with fewer parameters is better.\n",
    "\n",
    "**Alternative hypothesis:** At least one variable in the new model does well."
   ]
  },
  {
   "cell_type": "code",
   "execution_count": 23,
   "id": "fc591f90",
   "metadata": {
    "slideshow": {
     "slide_type": "fragment"
    }
   },
   "outputs": [
    {
     "data": {
      "text/html": [
       "<div>\n",
       "<style scoped>\n",
       "    .dataframe tbody tr th:only-of-type {\n",
       "        vertical-align: middle;\n",
       "    }\n",
       "\n",
       "    .dataframe tbody tr th {\n",
       "        vertical-align: top;\n",
       "    }\n",
       "\n",
       "    .dataframe thead th {\n",
       "        text-align: right;\n",
       "    }\n",
       "</style>\n",
       "<table border=\"1\" class=\"dataframe\">\n",
       "  <thead>\n",
       "    <tr style=\"text-align: right;\">\n",
       "      <th></th>\n",
       "      <th>df_resid</th>\n",
       "      <th>ssr</th>\n",
       "      <th>df_diff</th>\n",
       "      <th>ss_diff</th>\n",
       "      <th>F</th>\n",
       "      <th>Pr(&gt;F)</th>\n",
       "    </tr>\n",
       "  </thead>\n",
       "  <tbody>\n",
       "    <tr>\n",
       "      <th>0</th>\n",
       "      <td>43.0</td>\n",
       "      <td>13022.800135</td>\n",
       "      <td>0.0</td>\n",
       "      <td>NaN</td>\n",
       "      <td>NaN</td>\n",
       "      <td>NaN</td>\n",
       "    </tr>\n",
       "    <tr>\n",
       "      <th>1</th>\n",
       "      <td>42.0</td>\n",
       "      <td>7506.698653</td>\n",
       "      <td>1.0</td>\n",
       "      <td>5516.101482</td>\n",
       "      <td>30.862603</td>\n",
       "      <td>0.000002</td>\n",
       "    </tr>\n",
       "  </tbody>\n",
       "</table>\n",
       "</div>"
      ],
      "text/plain": [
       "   df_resid           ssr  df_diff      ss_diff          F    Pr(>F)\n",
       "0      43.0  13022.800135      0.0          NaN        NaN       NaN\n",
       "1      42.0   7506.698653      1.0  5516.101482  30.862603  0.000002"
      ]
     },
     "execution_count": 23,
     "metadata": {},
     "output_type": "execute_result"
    }
   ],
   "source": [
    "## Anova for model without x model with education\n",
    "anova_lm(model, model3)"
   ]
  },
  {
   "cell_type": "markdown",
   "id": "ba1cb86e",
   "metadata": {
    "slideshow": {
     "slide_type": "slide"
    }
   },
   "source": [
    "## RSE and R$^2$\n",
    "\n",
    "We can also look at the Residual Standard Error and the R$^2$ to determine this:"
   ]
  },
  {
   "cell_type": "code",
   "execution_count": 24,
   "id": "1389e460",
   "metadata": {
    "slideshow": {
     "slide_type": "fragment"
    }
   },
   "outputs": [
    {
     "name": "stdout",
     "output_type": "stream",
     "text": [
      "The mean squared error: 302.855817097006\n",
      "The Residual Standard Error: 17.402753147045615\n",
      "0.701911139847978\n"
     ]
    }
   ],
   "source": [
    "# Model with only income\n",
    "mse = model.mse_resid\n",
    "print('The mean squared error: ' + str(mse))\n",
    "\n",
    "# Residual Standard Error\n",
    "rse = np.sqrt(mse)\n",
    "print('The Residual Standard Error: ' + str(rse))\n",
    "\n",
    "# R-squared\n",
    "rsq = model.rsquared\n",
    "print(rsq)"
   ]
  },
  {
   "cell_type": "code",
   "execution_count": 25,
   "id": "ea9bee34",
   "metadata": {
    "slideshow": {
     "slide_type": "slide"
    }
   },
   "outputs": [
    {
     "name": "stdout",
     "output_type": "stream",
     "text": [
      "The mean squared error: 178.7309203117738\n",
      "The Residual Standard Error: 13.3690283981961\n",
      "0.8281734172543814\n"
     ]
    }
   ],
   "source": [
    "# Model with income and education\n",
    "mse = model3.mse_resid\n",
    "print('The mean squared error: ' + str(mse))\n",
    "\n",
    "# Residual Standard Error\n",
    "rse = np.sqrt(mse)\n",
    "print('The Residual Standard Error: ' + str(rse))\n",
    "\n",
    "# R-squared\n",
    "rsq = model3.rsquared\n",
    "print(rsq)"
   ]
  },
  {
   "cell_type": "markdown",
   "id": "dfba4161",
   "metadata": {
    "slideshow": {
     "slide_type": "slide"
    }
   },
   "source": [
    "## Diagnostics\n",
    "\n",
    "Besides the diagnostics that we run before, we can check something called *multicollinearity*\n",
    "\n",
    "### Multicollinearity\n",
    "\n",
    "- Multicollinearity is a situation when your predictors are highly correlated.\n",
    "\n",
    "- In extreme cases, it messes up with the computations in your model.\n",
    "\n",
    "![reg](fig10.png)"
   ]
  },
  {
   "cell_type": "code",
   "execution_count": 26,
   "id": "4c75299a",
   "metadata": {
    "slideshow": {
     "slide_type": "slide"
    }
   },
   "outputs": [
    {
     "data": {
      "image/png": "[encoded data removed]",
      "text/plain": [
       "<Figure size 750x750 with 12 Axes>"
      ]
     },
     "metadata": {},
     "output_type": "display_data"
    }
   ],
   "source": [
    "## Pairplot to check\n",
    "sns.pairplot(duncan[['prestige', 'income', 'education']])\n",
    "plt.show()"
   ]
  },
  {
   "cell_type": "markdown",
   "id": "08a1830c",
   "metadata": {},
   "source": [
    "### Multicollinearity\n",
    "\n",
    "- One measure of multicollinearity is the *Variance Inflation Factor*.\n",
    "    + How much the multicollinearity is messing up with the estimates.\n",
    "    \n",
    "- To compute, it is fairly easy. As a rule-of-thumb, we would like to see values lower than 5.\n",
    "\n",
    "- It is rarely a problem, though... Especially with large datasets."
   ]
  },
  {
   "cell_type": "code",
   "execution_count": 27,
   "id": "63101a5c",
   "metadata": {},
   "outputs": [
    {
     "data": {
      "text/plain": [
       "[7.681386643382841, 7.681386643382841]"
      ]
     },
     "execution_count": 27,
     "metadata": {},
     "output_type": "execute_result"
    }
   ],
   "source": [
    "## VIF\n",
    "variables = duncan[['income', 'education']]\n",
    "vif = [variance_inflation_factor(variables, i) for i in range(variables.shape[1])]\n",
    "vif "
   ]
  },
  {
   "cell_type": "markdown",
   "id": "b7f164fc",
   "metadata": {
    "slideshow": {
     "slide_type": "slide"
    }
   },
   "source": [
    "## Deciding on important variables\n",
    "\n",
    "- Several criteria can be used. We will discuss later their trade-offs.\n",
    "\n",
    "- But we have a couple of automated ways to select them that are easier to implement:\n",
    "\n",
    "1. **Forward selection**:\n",
    "    + Start with the null model and fit $p$ regressions for each predictor. \n",
    "    + Add to the model the variable that results in the lowest RSS.\n",
    "    + Repeat until some stopping rule is satisfied.\n"
   ]
  },
  {
   "cell_type": "markdown",
   "id": "cdcfe002",
   "metadata": {
    "slideshow": {
     "slide_type": "slide"
    }
   },
   "source": [
    "#### Deciding on important variables\n",
    "\n",
    "2. **Backward selection**:\n",
    "    + Start with the full model, with all $p$ predictors. \n",
    "    + Remove the variable with the lowest p-value.\n",
    "    + Fit the new model with p-1 variables.\n",
    "    + Repeat until some stopping rule is satisfied."
   ]
  },
  {
   "cell_type": "markdown",
   "id": "6fa19cf6",
   "metadata": {
    "slideshow": {
     "slide_type": "slide"
    }
   },
   "source": [
    "#### Deciding on important variables\n",
    "\n",
    "3. **Mixed selection**:\n",
    "    + Start with the null model and fit $p$ regressions for each predictor.\n",
    "    + Add to the model the variable that results in the lowest RSS.\n",
    "    + Look at the p-value and remove it if it drops under a certain threshold.\n",
    "    + Repeat until some stopping rule is satisfied.\n"
   ]
  },
  {
   "cell_type": "markdown",
   "id": "bf2f10b4",
   "metadata": {
    "slideshow": {
     "slide_type": "slide"
    }
   },
   "source": [
    "## Application\n",
    "\n",
    "- So far:\n",
    "    + Is there a relationship between `prestige` and `income`? **Yes**\n",
    "    + How strong is the relationship between `prestige` and `income`? **Yes**\n",
    "    + Which variables are associated with `prestige`? **income, education, others?**\n",
    "    + How can we accurately predict the prestige of professions not studied in this survey? **Yes**\n",
    "    + Is the relationship linear? **It seems so**\n",
    "    + Is there a synergy among predictors? **Good question: for PS2!**\n",
    "    \n",
    "- PS2 we are going to expand the study here to the other covariate, the `type` of the job. \n",
    "    + Note that it is a qualitative covariate!"
   ]
  },
  {
   "cell_type": "markdown",
   "id": "d8eace45",
   "metadata": {
    "slideshow": {
     "slide_type": "slide"
    }
   },
   "source": [
    "# Questions?"
   ]
  },
  {
   "cell_type": "markdown",
   "id": "22d252e9",
   "metadata": {
    "slideshow": {
     "slide_type": "slide"
    }
   },
   "source": [
    "# See you next class\n"
   ]
  }
 ],
 "metadata": {
  "celltoolbar": "Slideshow",
  "kernelspec": {
   "display_name": "Python 3 (ipykernel)",
   "language": "python",
   "name": "python3"
  },
  "language_info": {
   "codemirror_mode": {
    "name": "ipython",
    "version": 3
   },
   "file_extension": ".py",
   "mimetype": "text/x-python",
   "name": "python",
   "nbconvert_exporter": "python",
   "pygments_lexer": "ipython3",
   "version": "3.9.12"
  }
 },
 "nbformat": 4,
 "nbformat_minor": 5
}
