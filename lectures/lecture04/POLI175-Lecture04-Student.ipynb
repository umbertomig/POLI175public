{
 "cells": [
  {
   "cell_type": "markdown",
   "metadata": {},
   "source": [
    "# POLI 175 - Machine Learning for Social Sciences\n",
    "\n",
    "## Python Refresh II\n",
    "\n",
    "---"
   ]
  },
  {
   "cell_type": "markdown",
   "metadata": {},
   "source": [
    "## Load Pandas and Numpy\n",
    "\n",
    "To get started, let us load Pandas and Numpy:"
   ]
  },
  {
   "cell_type": "code",
   "execution_count": 1,
   "metadata": {},
   "outputs": [],
   "source": [
    "# My code here"
   ]
  },
  {
   "cell_type": "markdown",
   "metadata": {},
   "source": [
    "## Load Datasets\n",
    "\n",
    "We will load three datasets here:"
   ]
  },
  {
   "cell_type": "code",
   "execution_count": 2,
   "metadata": {},
   "outputs": [],
   "source": [
    "# My code here"
   ]
  },
  {
   "cell_type": "markdown",
   "metadata": {},
   "source": [
    "Let's explore the datasets we just loaded."
   ]
  },
  {
   "cell_type": "code",
   "execution_count": 3,
   "metadata": {},
   "outputs": [],
   "source": [
    "# My code here"
   ]
  },
  {
   "cell_type": "markdown",
   "metadata": {},
   "source": [
    "## Counting\n",
    "\n",
    "### Counting data\n",
    "\n",
    "To count data we need to:\n",
    "\n",
    "```\n",
    "dat[\"variable\"].value_counts()\n",
    "```\n",
    "\n",
    "If we want it sorted, we can type:\n",
    "\n",
    "```\n",
    "dat[\"variable\"].value_counts(sort = True)\n",
    "```\n",
    "\n",
    "We can also count proportions:\n",
    "\n",
    "```\n",
    "dat[\"variable\"].value_counts(normalize = True)\n",
    "```\n",
    "\n",
    "Let's try?!\n",
    "\n",
    "### Detecting missing data\n",
    "\n",
    "We can also detect missing data using the function:\n",
    "\n",
    "```\n",
    "dat.isna()\n",
    "```\n",
    "\n",
    "And if we want, count the missing data by variable:\n",
    "\n",
    "```\n",
    "dat.isna().sum()\n",
    "```\n",
    "\n",
    "Ultimately, to remove the missing we should:\n",
    "\n",
    "```\n",
    "dat.dropna()\n",
    "```\n",
    "\n",
    "Or we can fill the missing with a custom value (proceed with caution here!)\n",
    "\n",
    "```\n",
    "dat.fillna(0)\n",
    "```"
   ]
  },
  {
   "cell_type": "code",
   "execution_count": 4,
   "metadata": {},
   "outputs": [],
   "source": [
    "# My code here"
   ]
  },
  {
   "cell_type": "markdown",
   "metadata": {},
   "source": [
    "**Exercise**: Count the number of `tips` by week day. Then, normalize to have the proportions."
   ]
  },
  {
   "cell_type": "code",
   "execution_count": 5,
   "metadata": {},
   "outputs": [],
   "source": [
    "## Your answers here!"
   ]
  },
  {
   "cell_type": "markdown",
   "metadata": {},
   "source": [
    "## Summary by groups\n",
    "\n",
    "Suppose we want the mean of gdp by countries with and without courts. There are two ways:\n",
    "\n",
    "```\n",
    "# Hard way\n",
    "perisk[perisk['courts'] == 0]['gdpw2'].mean()\n",
    "perisk[perisk['courts'] == 0]['gdpw2'].mean()\n",
    "```\n",
    "\n",
    "Or, we can use the `groupby` function in Pandas:\n",
    "\n",
    "```\n",
    "# Easy way\n",
    "perisk.groupby(\"courts\")[\"gdpw2\"].mean()\n",
    "```"
   ]
  },
  {
   "cell_type": "code",
   "execution_count": 6,
   "metadata": {
    "scrolled": true
   },
   "outputs": [],
   "source": [
    "# My code here"
   ]
  },
  {
   "cell_type": "markdown",
   "metadata": {},
   "source": [
    "**Exercise**: In the `tips` dataset, compute the mean of tips by weekday."
   ]
  },
  {
   "cell_type": "code",
   "execution_count": 7,
   "metadata": {},
   "outputs": [],
   "source": [
    "## Your answers here!"
   ]
  },
  {
   "cell_type": "markdown",
   "metadata": {},
   "source": [
    "### Summary by groups (multiple functions)\n",
    "\n",
    "To group results by multiple functions, we can simply:\n",
    "\n",
    "```\n",
    "dat.groupby(\"var_group\")[\"var_stat\"].agg([stat1, stat2, stat3])\n",
    "```\n",
    "\n",
    "### Summary by groups (multiple levels)\n",
    "\n",
    "To group results by multiple levels, we can simply:\n",
    "\n",
    "```\n",
    "dat.groupby([\"varlevel1\", \"varlevel2\"])[\"var_stat\"].mean()\n",
    "```"
   ]
  },
  {
   "cell_type": "code",
   "execution_count": 8,
   "metadata": {},
   "outputs": [],
   "source": [
    "# My code here"
   ]
  },
  {
   "cell_type": "markdown",
   "metadata": {},
   "source": [
    "**Exercise**: For the `tips` dataset:\n",
    "\n",
    "1. Compute maximum, minimum, and sum of tips by weekday\n",
    "2. Compute the sum of tips by weekday and day time."
   ]
  },
  {
   "cell_type": "code",
   "execution_count": 9,
   "metadata": {},
   "outputs": [],
   "source": [
    "## Your answers here!"
   ]
  },
  {
   "cell_type": "markdown",
   "metadata": {},
   "source": [
    "## Indexing\n",
    "\n",
    "To find the indexes we use:\n",
    "\n",
    "```\n",
    "dat.columns\n",
    "dat.index\n",
    "```\n",
    "\n",
    "We can set index:\n",
    "\n",
    "```\n",
    "dat_ind = dat.set_index(\"var_index\")\n",
    "```\n",
    "\n",
    "And to remove indexing:\n",
    "\n",
    "```\n",
    "dat_ind.reset_index()\n",
    "```\n",
    "\n",
    "The reason we index is because it makes subset simple:\n",
    "\n",
    "```\n",
    "# Hard way:\n",
    "perisk[perisk[\"country\"].isin([\"Argentina\", \"Austria\"])]\n",
    "\n",
    "# Easy way:\n",
    "perisk_ind.loc[[\"Argentina\", \"Austria\"]]\n",
    "```\n",
    "\n",
    "Also, indexes do not need to be unique, and you can use multiple levels to index."
   ]
  },
  {
   "cell_type": "code",
   "execution_count": 10,
   "metadata": {},
   "outputs": [],
   "source": [
    "# My code here"
   ]
  },
  {
   "cell_type": "markdown",
   "metadata": {},
   "source": [
    "**Exercise**: Index the data by the variable `obs`. Subset the observations 33 and 132."
   ]
  },
  {
   "cell_type": "code",
   "execution_count": 11,
   "metadata": {},
   "outputs": [],
   "source": [
    "## Your answers here!"
   ]
  },
  {
   "cell_type": "markdown",
   "metadata": {},
   "source": [
    "## Plots\n",
    "\n",
    "Now, let's create some plots!\n",
    "\n",
    "The library to create plots is the `matplotlib`. We can import this library easily in python:\n",
    "\n",
    "```\n",
    "from matplotlib import pyplot as plt\n",
    "```\n",
    "\n",
    "### Scatterplot\n",
    "\n",
    "And for making a plot we need to:\n",
    "\n",
    "```\n",
    "plt.plot(dat.vx, dat.vy, kind=\"scatter\")\n",
    "plt.show()\n",
    "```\n",
    "\n",
    "If we want to add legends and change attributes:\n",
    "\n",
    "```\n",
    "plt.plot(dat.vx, dat.vy, kind=\"scatter\")\n",
    "plt.xlabel(\"X-axis name\")\n",
    "plt.ylabel(\"Y-axis name\")\n",
    "plt.title(\"Plot title\")\n",
    "plt.show()\n",
    "```"
   ]
  },
  {
   "cell_type": "code",
   "execution_count": 12,
   "metadata": {},
   "outputs": [],
   "source": [
    "# My code here"
   ]
  },
  {
   "cell_type": "markdown",
   "metadata": {},
   "source": [
    "### Histogram\n",
    "\n",
    "We can make a simple histogram using the function `.hist()`:\n",
    "\n",
    "```\n",
    "dat['variable'].hist()\n",
    "plt.show()\n",
    "```\n",
    "\n",
    "And if we want overlapping histograms by a category:\n",
    "\n",
    "```\n",
    "dat[dat['vcat'] == 'v1']['variable'].hist()\n",
    "dat[dat['vcat'] == 'v2']['variable'].hist()\n",
    "plt.legend([\"v1\", \"v2\"])\n",
    "plt.show()\n",
    "```\n",
    "\n",
    "Let's try?"
   ]
  },
  {
   "cell_type": "code",
   "execution_count": 13,
   "metadata": {},
   "outputs": [],
   "source": [
    "# My code here"
   ]
  },
  {
   "cell_type": "markdown",
   "metadata": {},
   "source": [
    "**Exercise**:"
   ]
  },
  {
   "cell_type": "code",
   "execution_count": 14,
   "metadata": {},
   "outputs": [],
   "source": [
    "## Your answers here!"
   ]
  },
  {
   "cell_type": "markdown",
   "metadata": {},
   "source": [
    "**Great job!!!**"
   ]
  }
 ],
 "metadata": {
  "kernelspec": {
   "display_name": "Python 3 (ipykernel)",
   "language": "python",
   "name": "python3"
  },
  "language_info": {
   "codemirror_mode": {
    "name": "ipython",
    "version": 3
   },
   "file_extension": ".py",
   "mimetype": "text/x-python",
   "name": "python",
   "nbconvert_exporter": "python",
   "pygments_lexer": "ipython3",
   "version": "3.9.12"
  }
 },
 "nbformat": 4,
 "nbformat_minor": 4
}
