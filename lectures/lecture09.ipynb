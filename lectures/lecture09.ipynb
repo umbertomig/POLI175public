{
 "cells": [
  {
   "cell_type": "markdown",
   "id": "243e38f9",
   "metadata": {
    "slideshow": {
     "slide_type": "slide"
    }
   },
   "source": [
    "# POLI 175 - Lecture 09\n",
    "\n",
    "## Regression Analysis"
   ]
  },
  {
   "cell_type": "markdown",
   "id": "3fbc812b",
   "metadata": {},
   "source": [
    "## Announcement\n",
    "\n",
    "1. I am going through a mailbox disaster right now. About 300 unanswered emails. Will catch up with your emails by next week.\n",
    "\n",
    "2. We are one class behind the schedule. It is all good, since I can compress the `beyond linearity` lecture.\n",
    "\n",
    "3. The trade-off here is to cover more content x cover more in-depth. I will try to strive a good balance between those."
   ]
  },
  {
   "cell_type": "markdown",
   "id": "026d6b52",
   "metadata": {
    "slideshow": {
     "slide_type": "slide"
    }
   },
   "source": [
    "## Recap\n",
    "\n",
    "So far, we learned:\n",
    "\n",
    "- What is Machine Learning, and the main trade-offs involved in it.\n",
    "\n",
    "- How to use `numpy`, `pandas`, `matplotlib`, and `seaborn`.\n",
    "\n",
    "- Linear regression theory, bivariate regression in practice, and diagnostics.\n",
    "\n",
    "**Great work!**\n",
    "\n",
    "- Do you have any questions about any of these contents?"
   ]
  },
  {
   "cell_type": "markdown",
   "id": "005ae1b7",
   "metadata": {
    "slideshow": {
     "slide_type": "slide"
    }
   },
   "source": [
    "## Plan for today\n",
    "\n",
    "**Regression**:\n",
    "\n",
    "- Multivariate Regression in Python:\n",
    "\n",
    "- Diagnostics of regression estimates\n",
    "\n",
    "- Best practices\n",
    "\n",
    "(and hopefully!)\n",
    "\n",
    "**Classification**:\n",
    "\n",
    "- Starting Classification"
   ]
  },
  {
   "cell_type": "markdown",
   "id": "e8fda630",
   "metadata": {
    "slideshow": {
     "slide_type": "slide"
    }
   },
   "source": [
    "## Data\n",
    "\n",
    "Today we are going to use the `prestige` dataset.\n",
    "\n",
    "| **Variable** | **Meaning**                                                                                                                                                        |\n",
    "|--------------|--------------------------------------------------------------------------------------------------------------------------------------------------------------------|\n",
    "| `type`         | Type of occupation. A factor with the following levels: <br>`prof`, professional and managerial; `wc`, white-collar; `bc`, blue-collar.           |\n",
    "| `income`      | Percentage of occupational incumbents in the 1950 US Census who earned USD 3,500 <br>or more per year (about USD 36,000 in 2017 US dollars).                             |\n",
    "| `education`    | Percentage of occupational incumbents in 1950 who were high school graduates<br>(which, were we cynical, we would say it is roughly equivalent to a Ph.D. in 2017) |\n",
    "| `prestige`     | Percentage of respondents in a social survey who rated the occupation as “good” <br>or better in prestige                                                          |\n",
    "| `profession`   | Name of the profession                                                                                                                                             |\n",
    "\n",
    "\n",
    "Plus some other `cooked` data."
   ]
  },
  {
   "cell_type": "code",
   "execution_count": 7,
   "id": "a31ca894",
   "metadata": {
    "slideshow": {
     "slide_type": "slide"
    }
   },
   "outputs": [],
   "source": [
    "## Loading the data\n",
    "import pandas as pd\n",
    "import numpy as np\n",
    "duncan = pd.read_csv('https://raw.githubusercontent.com/umbertomig/POLI175public/main/data/Duncan.csv')\n",
    "duncan = duncan.set_index('profession')\n",
    "\n",
    "## Loading Libraries and Modules\n",
    "# Running the regression:\n",
    "from statsmodels.formula.api import ols\n",
    "from statsmodels.stats.anova import anova_lm\n",
    "from statsmodels.stats.outliers_influence import variance_inflation_factor\n",
    "from sklearn.linear_model import LogisticRegression\n",
    "\n",
    "# Plotting things:\n",
    "import seaborn as sns\n",
    "import matplotlib.pyplot as plt\n",
    "\n",
    "# Getting up to speed\n",
    "model = ols('prestige ~ income', data = duncan).fit()\n",
    "summary_info = model.get_influence().summary_frame()\n",
    "summary_info['fittedvalues'] = model.fittedvalues"
   ]
  },
  {
   "cell_type": "markdown",
   "id": "186e5cdd",
   "metadata": {
    "slideshow": {
     "slide_type": "slide"
    }
   },
   "source": [
    "## Diagnostics (continued)\n",
    "\n",
    "### High Leverage\n",
    "\n",
    "- Have very unusual $x_i$ values that could potentially tilt the regression line towards them.\n",
    "\n",
    "- **If high leverage and outlier, bad combination!**\n",
    "\n",
    "![reg](../img/fig9.png)\n",
    "\n",
    "- Plot: Leverage x Studentizided residuals\n",
    "\n",
    "- The best: You should find no extreme values in the plot.\n",
    "\n",
    "- The ugly: An extreme value can affect your fit."
   ]
  },
  {
   "cell_type": "code",
   "execution_count": 3,
   "id": "e861597c",
   "metadata": {},
   "outputs": [
    {
     "data": {
      "image/png": "[encoded data removed]",
      "text/plain": [
       "<Figure size 640x480 with 1 Axes>"
      ]
     },
     "metadata": {},
     "output_type": "display_data"
    }
   ],
   "source": [
    "## Checking the Leverage\n",
    "sns.scatterplot(x = 'hat_diag', y = 'student_resid', data = summary_info)\n",
    "plt.xlabel(\"Leverage (called hat_diag there)\")\n",
    "plt.ylabel(\"Studentized residuals\")\n",
    "plt.show()"
   ]
  },
  {
   "cell_type": "code",
   "execution_count": 4,
   "id": "22f2b0dd",
   "metadata": {},
   "outputs": [
    {
     "data": {
      "text/html": [
       "<div>\n",
       "<style scoped>\n",
       "    .dataframe tbody tr th:only-of-type {\n",
       "        vertical-align: middle;\n",
       "    }\n",
       "\n",
       "    .dataframe tbody tr th {\n",
       "        vertical-align: top;\n",
       "    }\n",
       "\n",
       "    .dataframe thead th {\n",
       "        text-align: right;\n",
       "    }\n",
       "</style>\n",
       "<table border=\"1\" class=\"dataframe\">\n",
       "  <thead>\n",
       "    <tr style=\"text-align: right;\">\n",
       "      <th></th>\n",
       "      <th>dfb_Intercept</th>\n",
       "      <th>dfb_income</th>\n",
       "      <th>cooks_d</th>\n",
       "      <th>standard_resid</th>\n",
       "      <th>hat_diag</th>\n",
       "      <th>dffits_internal</th>\n",
       "      <th>student_resid</th>\n",
       "      <th>dffits</th>\n",
       "      <th>fittedvalues</th>\n",
       "    </tr>\n",
       "    <tr>\n",
       "      <th>profession</th>\n",
       "      <th></th>\n",
       "      <th></th>\n",
       "      <th></th>\n",
       "      <th></th>\n",
       "      <th></th>\n",
       "      <th></th>\n",
       "      <th></th>\n",
       "      <th></th>\n",
       "      <th></th>\n",
       "    </tr>\n",
       "  </thead>\n",
       "  <tbody>\n",
       "    <tr>\n",
       "      <th>RR.engineer</th>\n",
       "      <td>0.195291</td>\n",
       "      <td>-0.350303</td>\n",
       "      <td>0.082942</td>\n",
       "      <td>-1.376371</td>\n",
       "      <td>0.080515</td>\n",
       "      <td>-0.407288</td>\n",
       "      <td>-1.391264</td>\n",
       "      <td>-0.411695</td>\n",
       "      <td>89.968138</td>\n",
       "    </tr>\n",
       "    <tr>\n",
       "      <th>dentist</th>\n",
       "      <td>-0.008852</td>\n",
       "      <td>0.016111</td>\n",
       "      <td>0.000186</td>\n",
       "      <td>0.066546</td>\n",
       "      <td>0.077574</td>\n",
       "      <td>0.019298</td>\n",
       "      <td>0.065771</td>\n",
       "      <td>0.019073</td>\n",
       "      <td>88.887749</td>\n",
       "    </tr>\n",
       "    <tr>\n",
       "      <th>banker</th>\n",
       "      <td>-0.038302</td>\n",
       "      <td>0.072014</td>\n",
       "      <td>0.003833</td>\n",
       "      <td>0.314521</td>\n",
       "      <td>0.071920</td>\n",
       "      <td>0.087555</td>\n",
       "      <td>0.311200</td>\n",
       "      <td>0.086631</td>\n",
       "      <td>86.726969</td>\n",
       "    </tr>\n",
       "    <tr>\n",
       "      <th>coal.miner</th>\n",
       "      <td>0.079282</td>\n",
       "      <td>-0.065387</td>\n",
       "      <td>0.003233</td>\n",
       "      <td>0.296538</td>\n",
       "      <td>0.068497</td>\n",
       "      <td>0.080412</td>\n",
       "      <td>0.293370</td>\n",
       "      <td>0.079553</td>\n",
       "      <td>10.019302</td>\n",
       "    </tr>\n",
       "    <tr>\n",
       "      <th>janitor</th>\n",
       "      <td>-0.032115</td>\n",
       "      <td>0.026487</td>\n",
       "      <td>0.000531</td>\n",
       "      <td>-0.120224</td>\n",
       "      <td>0.068497</td>\n",
       "      <td>-0.032601</td>\n",
       "      <td>-0.118838</td>\n",
       "      <td>-0.032225</td>\n",
       "      <td>10.019302</td>\n",
       "    </tr>\n",
       "  </tbody>\n",
       "</table>\n",
       "</div>"
      ],
      "text/plain": [
       "             dfb_Intercept  dfb_income   cooks_d  standard_resid  hat_diag  \\\n",
       "profession                                                                   \n",
       "RR.engineer       0.195291   -0.350303  0.082942       -1.376371  0.080515   \n",
       "dentist          -0.008852    0.016111  0.000186        0.066546  0.077574   \n",
       "banker           -0.038302    0.072014  0.003833        0.314521  0.071920   \n",
       "coal.miner        0.079282   -0.065387  0.003233        0.296538  0.068497   \n",
       "janitor          -0.032115    0.026487  0.000531       -0.120224  0.068497   \n",
       "\n",
       "             dffits_internal  student_resid    dffits  fittedvalues  \n",
       "profession                                                           \n",
       "RR.engineer        -0.407288      -1.391264 -0.411695     89.968138  \n",
       "dentist             0.019298       0.065771  0.019073     88.887749  \n",
       "banker              0.087555       0.311200  0.086631     86.726969  \n",
       "coal.miner          0.080412       0.293370  0.079553     10.019302  \n",
       "janitor            -0.032601      -0.118838 -0.032225     10.019302  "
      ]
     },
     "execution_count": 4,
     "metadata": {},
     "output_type": "execute_result"
    }
   ],
   "source": [
    "summary_info.sort_values('hat_diag', ascending = False).head()"
   ]
  },
  {
   "cell_type": "code",
   "execution_count": 5,
   "id": "9a39f946",
   "metadata": {},
   "outputs": [
    {
     "data": {
      "image/png": "[encoded data removed]",
      "text/plain": [
       "<Figure size 640x480 with 1 Axes>"
      ]
     },
     "metadata": {},
     "output_type": "display_data"
    }
   ],
   "source": [
    "## Checking the Leverage and Outliers: Cook's-d x Leverage\n",
    "sns.scatterplot(x = 'hat_diag', y = 'cooks_d', data = summary_info)\n",
    "plt.xlabel(\"Leverage (called hat_diag there)\")\n",
    "plt.ylabel(\"Cook's-d (how much removing the variable\\nshifts the regression)\")\n",
    "plt.show()"
   ]
  },
  {
   "cell_type": "code",
   "execution_count": 21,
   "id": "5b16e28a",
   "metadata": {
    "slideshow": {
     "slide_type": "slide"
    }
   },
   "outputs": [
    {
     "data": {
      "text/html": [
       "<div>\n",
       "<style scoped>\n",
       "    .dataframe tbody tr th:only-of-type {\n",
       "        vertical-align: middle;\n",
       "    }\n",
       "\n",
       "    .dataframe tbody tr th {\n",
       "        vertical-align: top;\n",
       "    }\n",
       "\n",
       "    .dataframe thead th {\n",
       "        text-align: right;\n",
       "    }\n",
       "</style>\n",
       "<table border=\"1\" class=\"dataframe\">\n",
       "  <thead>\n",
       "    <tr style=\"text-align: right;\">\n",
       "      <th></th>\n",
       "      <th>dfb_Intercept</th>\n",
       "      <th>dfb_income</th>\n",
       "      <th>cooks_d</th>\n",
       "      <th>standard_resid</th>\n",
       "      <th>hat_diag</th>\n",
       "      <th>dffits_internal</th>\n",
       "      <th>student_resid</th>\n",
       "      <th>dffits</th>\n",
       "      <th>fittedvalues</th>\n",
       "      <th>abs_student_resid</th>\n",
       "    </tr>\n",
       "    <tr>\n",
       "      <th>profession</th>\n",
       "      <th></th>\n",
       "      <th></th>\n",
       "      <th></th>\n",
       "      <th></th>\n",
       "      <th></th>\n",
       "      <th></th>\n",
       "      <th></th>\n",
       "      <th></th>\n",
       "      <th></th>\n",
       "      <th></th>\n",
       "    </tr>\n",
       "  </thead>\n",
       "  <tbody>\n",
       "    <tr>\n",
       "      <th>conductor</th>\n",
       "      <td>0.337190</td>\n",
       "      <td>-0.658212</td>\n",
       "      <td>0.273524</td>\n",
       "      <td>-2.769568</td>\n",
       "      <td>0.066571</td>\n",
       "      <td>-0.739626</td>\n",
       "      <td>-3.019729</td>\n",
       "      <td>-0.806433</td>\n",
       "      <td>84.566190</td>\n",
       "      <td>3.019729</td>\n",
       "    </tr>\n",
       "    <tr>\n",
       "      <th>minister</th>\n",
       "      <td>0.815826</td>\n",
       "      <td>-0.564624</td>\n",
       "      <td>0.265244</td>\n",
       "      <td>3.625357</td>\n",
       "      <td>0.038796</td>\n",
       "      <td>0.728346</td>\n",
       "      <td>4.299856</td>\n",
       "      <td>0.863855</td>\n",
       "      <td>25.144758</td>\n",
       "      <td>4.299856</td>\n",
       "    </tr>\n",
       "    <tr>\n",
       "      <th>RR.engineer</th>\n",
       "      <td>0.195291</td>\n",
       "      <td>-0.350303</td>\n",
       "      <td>0.082942</td>\n",
       "      <td>-1.376371</td>\n",
       "      <td>0.080515</td>\n",
       "      <td>-0.407288</td>\n",
       "      <td>-1.391264</td>\n",
       "      <td>-0.411695</td>\n",
       "      <td>89.968138</td>\n",
       "      <td>1.391264</td>\n",
       "    </tr>\n",
       "    <tr>\n",
       "      <th>reporter</th>\n",
       "      <td>0.083088</td>\n",
       "      <td>-0.215488</td>\n",
       "      <td>0.043817</td>\n",
       "      <td>-1.344051</td>\n",
       "      <td>0.046267</td>\n",
       "      <td>-0.296031</td>\n",
       "      <td>-1.357144</td>\n",
       "      <td>-0.298915</td>\n",
       "      <td>74.842683</td>\n",
       "      <td>1.357144</td>\n",
       "    </tr>\n",
       "    <tr>\n",
       "      <th>professor</th>\n",
       "      <td>-0.056487</td>\n",
       "      <td>0.176277</td>\n",
       "      <td>0.033585</td>\n",
       "      <td>1.255527</td>\n",
       "      <td>0.040869</td>\n",
       "      <td>0.259171</td>\n",
       "      <td>1.264232</td>\n",
       "      <td>0.260968</td>\n",
       "      <td>71.601514</td>\n",
       "      <td>1.264232</td>\n",
       "    </tr>\n",
       "  </tbody>\n",
       "</table>\n",
       "</div>"
      ],
      "text/plain": [
       "             dfb_Intercept  dfb_income   cooks_d  standard_resid  hat_diag  \\\n",
       "profession                                                                   \n",
       "conductor         0.337190   -0.658212  0.273524       -2.769568  0.066571   \n",
       "minister          0.815826   -0.564624  0.265244        3.625357  0.038796   \n",
       "RR.engineer       0.195291   -0.350303  0.082942       -1.376371  0.080515   \n",
       "reporter          0.083088   -0.215488  0.043817       -1.344051  0.046267   \n",
       "professor        -0.056487    0.176277  0.033585        1.255527  0.040869   \n",
       "\n",
       "             dffits_internal  student_resid    dffits  fittedvalues  \\\n",
       "profession                                                            \n",
       "conductor          -0.739626      -3.019729 -0.806433     84.566190   \n",
       "minister            0.728346       4.299856  0.863855     25.144758   \n",
       "RR.engineer        -0.407288      -1.391264 -0.411695     89.968138   \n",
       "reporter           -0.296031      -1.357144 -0.298915     74.842683   \n",
       "professor           0.259171       1.264232  0.260968     71.601514   \n",
       "\n",
       "             abs_student_resid  \n",
       "profession                      \n",
       "conductor             3.019729  \n",
       "minister              4.299856  \n",
       "RR.engineer           1.391264  \n",
       "reporter              1.357144  \n",
       "professor             1.264232  "
      ]
     },
     "execution_count": 21,
     "metadata": {},
     "output_type": "execute_result"
    }
   ],
   "source": [
    "# Checking the Cook's-d measure\n",
    "summary_info.sort_values('cooks_d', ascending = False).head()"
   ]
  },
  {
   "cell_type": "markdown",
   "id": "67a594bc",
   "metadata": {
    "slideshow": {
     "slide_type": "slide"
    }
   },
   "source": [
    "## Multiple Linear Regression\n",
    "\n",
    "- So far:\n",
    "    + Is there a relationship between `prestige` and `income`? **Yes**\n",
    "    + How strong is the relationship between `prestige` and `income`? **Yes**\n",
    "    + Which variables are associated with `prestige`?\n",
    "    + How can we accurately predict the prestige of professions not studied in this survey? **Yes, so far...**\n",
    "    + Is the relationship linear? **Yes, so far...**\n",
    "    + Is there a synergy among predictors?\n",
    "    \n",
    "- Can we do better? **Yes**, we have other predictors that we didn't not explore."
   ]
  },
  {
   "cell_type": "markdown",
   "id": "b80cd85c",
   "metadata": {
    "slideshow": {
     "slide_type": "slide"
    }
   },
   "source": [
    "## Multiple Linear Regression\n",
    "\n",
    "Let's fit the following model:\n",
    "\n",
    "$$ \\text{prestige} = \\beta_0 + \\beta_1\\text{income} + \\beta_2\\text{education} + \\varepsilon $$"
   ]
  },
  {
   "cell_type": "code",
   "execution_count": 22,
   "id": "a6a20f07",
   "metadata": {
    "slideshow": {
     "slide_type": "slide"
    }
   },
   "outputs": [
    {
     "name": "stdout",
     "output_type": "stream",
     "text": [
      "Intercept   -6.064663\n",
      "income       0.598733\n",
      "education    0.545834\n",
      "dtype: float64\n"
     ]
    }
   ],
   "source": [
    "## Running the actual regression:\n",
    "\n",
    "# Create the model.Fit the model\n",
    "model3 = ols('prestige ~ income + education', data = duncan).fit()\n",
    "\n",
    "# Print the parameters\n",
    "print(model3.params)"
   ]
  },
  {
   "cell_type": "markdown",
   "id": "fa76ea74",
   "metadata": {
    "slideshow": {
     "slide_type": "fragment"
    }
   },
   "source": [
    "Meaning:\n",
    "\n",
    "$$ \\text{prestige} \\ \\approx \\ -6.06 + 0.60\\text{income} + 0.55\\text{education} $$"
   ]
  },
  {
   "cell_type": "markdown",
   "id": "173dd03b",
   "metadata": {
    "slideshow": {
     "slide_type": "slide"
    }
   },
   "source": [
    "## F-Statistic\n",
    "\n",
    "Are we doing better than the linear regression? We can test that!\n",
    "\n",
    "**Null hypothesis:** The model with fewer parameters is better.\n",
    "\n",
    "**Alternative hypothesis:** At least one variable in the new model does well."
   ]
  },
  {
   "cell_type": "code",
   "execution_count": 23,
   "id": "fc591f90",
   "metadata": {
    "slideshow": {
     "slide_type": "fragment"
    }
   },
   "outputs": [
    {
     "data": {
      "text/html": [
       "<div>\n",
       "<style scoped>\n",
       "    .dataframe tbody tr th:only-of-type {\n",
       "        vertical-align: middle;\n",
       "    }\n",
       "\n",
       "    .dataframe tbody tr th {\n",
       "        vertical-align: top;\n",
       "    }\n",
       "\n",
       "    .dataframe thead th {\n",
       "        text-align: right;\n",
       "    }\n",
       "</style>\n",
       "<table border=\"1\" class=\"dataframe\">\n",
       "  <thead>\n",
       "    <tr style=\"text-align: right;\">\n",
       "      <th></th>\n",
       "      <th>df_resid</th>\n",
       "      <th>ssr</th>\n",
       "      <th>df_diff</th>\n",
       "      <th>ss_diff</th>\n",
       "      <th>F</th>\n",
       "      <th>Pr(&gt;F)</th>\n",
       "    </tr>\n",
       "  </thead>\n",
       "  <tbody>\n",
       "    <tr>\n",
       "      <th>0</th>\n",
       "      <td>43.0</td>\n",
       "      <td>13022.800135</td>\n",
       "      <td>0.0</td>\n",
       "      <td>NaN</td>\n",
       "      <td>NaN</td>\n",
       "      <td>NaN</td>\n",
       "    </tr>\n",
       "    <tr>\n",
       "      <th>1</th>\n",
       "      <td>42.0</td>\n",
       "      <td>7506.698653</td>\n",
       "      <td>1.0</td>\n",
       "      <td>5516.101482</td>\n",
       "      <td>30.862603</td>\n",
       "      <td>0.000002</td>\n",
       "    </tr>\n",
       "  </tbody>\n",
       "</table>\n",
       "</div>"
      ],
      "text/plain": [
       "   df_resid           ssr  df_diff      ss_diff          F    Pr(>F)\n",
       "0      43.0  13022.800135      0.0          NaN        NaN       NaN\n",
       "1      42.0   7506.698653      1.0  5516.101482  30.862603  0.000002"
      ]
     },
     "execution_count": 23,
     "metadata": {},
     "output_type": "execute_result"
    }
   ],
   "source": [
    "## Anova for model without x model with education\n",
    "anova_lm(model, model3)"
   ]
  },
  {
   "cell_type": "markdown",
   "id": "ba1cb86e",
   "metadata": {
    "slideshow": {
     "slide_type": "slide"
    }
   },
   "source": [
    "## RSE and R$^2$\n",
    "\n",
    "We can also look at the Residual Standard Error and the R$^2$ to determine this:"
   ]
  },
  {
   "cell_type": "code",
   "execution_count": 24,
   "id": "1389e460",
   "metadata": {
    "slideshow": {
     "slide_type": "fragment"
    }
   },
   "outputs": [
    {
     "name": "stdout",
     "output_type": "stream",
     "text": [
      "The mean squared error: 302.855817097006\n",
      "The Residual Standard Error: 17.402753147045615\n",
      "0.701911139847978\n"
     ]
    }
   ],
   "source": [
    "# Model with only income\n",
    "mse = model.mse_resid\n",
    "print('The mean squared error: ' + str(mse))\n",
    "\n",
    "# Residual Standard Error\n",
    "rse = np.sqrt(mse)\n",
    "print('The Residual Standard Error: ' + str(rse))\n",
    "\n",
    "# R-squared\n",
    "rsq = model.rsquared\n",
    "print(rsq)"
   ]
  },
  {
   "cell_type": "markdown",
   "id": "dc355842",
   "metadata": {
    "slideshow": {
     "slide_type": "slide"
    }
   },
   "source": [
    "## RSE and R$^2$\n",
    "\n",
    "We can also look at the Residual Standard Error and the R$^2$ to determine this:"
   ]
  },
  {
   "cell_type": "code",
   "execution_count": 25,
   "id": "ea9bee34",
   "metadata": {
    "slideshow": {
     "slide_type": "fragment"
    }
   },
   "outputs": [
    {
     "name": "stdout",
     "output_type": "stream",
     "text": [
      "The mean squared error: 178.7309203117738\n",
      "The Residual Standard Error: 13.3690283981961\n",
      "0.8281734172543814\n"
     ]
    }
   ],
   "source": [
    "# Model with income and education\n",
    "mse = model3.mse_resid\n",
    "print('The mean squared error: ' + str(mse))\n",
    "\n",
    "# Residual Standard Error\n",
    "rse = np.sqrt(mse)\n",
    "print('The Residual Standard Error: ' + str(rse))\n",
    "\n",
    "# R-squared\n",
    "rsq = model3.rsquared\n",
    "print(rsq)"
   ]
  },
  {
   "cell_type": "markdown",
   "id": "dfba4161",
   "metadata": {
    "slideshow": {
     "slide_type": "slide"
    }
   },
   "source": [
    "## Diagnostics\n",
    "\n",
    "Besides the diagnostics that we run before, we can check something called *multicollinearity*\n",
    "\n",
    "### Multicollinearity\n",
    "\n",
    "- Multicollinearity is a situation when your predictors are highly correlated.\n",
    "\n",
    "- In extreme cases, it messes up with the computations in your model.\n",
    "\n",
    "![reg](../img/fig10.png)"
   ]
  },
  {
   "cell_type": "code",
   "execution_count": 26,
   "id": "4c75299a",
   "metadata": {
    "slideshow": {
     "slide_type": "slide"
    }
   },
   "outputs": [
    {
     "data": {
      "image/png": "[encoded data removed]",
      "text/plain": [
       "<Figure size 750x750 with 12 Axes>"
      ]
     },
     "metadata": {},
     "output_type": "display_data"
    }
   ],
   "source": [
    "## Pairplot to check\n",
    "sns.pairplot(duncan[['prestige', 'income', 'education']])\n",
    "plt.show()"
   ]
  },
  {
   "cell_type": "markdown",
   "id": "08a1830c",
   "metadata": {},
   "source": [
    "### Multicollinearity\n",
    "\n",
    "- One measure of multicollinearity is the *Variance Inflation Factor*.\n",
    "    + How much the multicollinearity is messing up with the estimates.\n",
    "    \n",
    "- To compute, it is fairly easy. As a rule-of-thumb, we would like to see values lower than 5.\n",
    "\n",
    "- It is rarely a problem, though... Especially with large datasets."
   ]
  },
  {
   "cell_type": "code",
   "execution_count": 27,
   "id": "63101a5c",
   "metadata": {},
   "outputs": [
    {
     "data": {
      "text/plain": [
       "[7.681386643382841, 7.681386643382841]"
      ]
     },
     "execution_count": 27,
     "metadata": {},
     "output_type": "execute_result"
    }
   ],
   "source": [
    "## VIF\n",
    "variables = duncan[['income', 'education']]\n",
    "vif = [variance_inflation_factor(variables, i) for i in range(variables.shape[1])]\n",
    "vif "
   ]
  },
  {
   "cell_type": "markdown",
   "id": "b7f164fc",
   "metadata": {
    "slideshow": {
     "slide_type": "slide"
    }
   },
   "source": [
    "## Deciding on important variables\n",
    "\n",
    "- Several criteria can be used. We will discuss later their trade-offs.\n",
    "\n",
    "- But we have a couple of automated ways to select them that are easier to implement:\n",
    "\n",
    "1. **Forward selection**:\n",
    "    + Start with the null model and fit $p$ regressions for each predictor. \n",
    "    + Add to the model the variable that results in the lowest RSS.\n",
    "    + Repeat until some stopping rule is satisfied.\n"
   ]
  },
  {
   "cell_type": "markdown",
   "id": "cdcfe002",
   "metadata": {
    "slideshow": {
     "slide_type": "slide"
    }
   },
   "source": [
    "#### Deciding on important variables\n",
    "\n",
    "2. **Backward selection**:\n",
    "    + Start with the full model, with all $p$ predictors. \n",
    "    + Remove the variable with the lowest p-value.\n",
    "    + Fit the new model with p-1 variables.\n",
    "    + Repeat until some stopping rule is satisfied."
   ]
  },
  {
   "cell_type": "markdown",
   "id": "6fa19cf6",
   "metadata": {
    "slideshow": {
     "slide_type": "slide"
    }
   },
   "source": [
    "#### Deciding on important variables\n",
    "\n",
    "3. **Mixed selection**:\n",
    "    + Start with the null model and fit $p$ regressions for each predictor.\n",
    "    + Add to the model the variable that results in the lowest RSS.\n",
    "    + Look at the p-value and remove it if it drops under a certain threshold.\n",
    "    + Repeat until some stopping rule is satisfied.\n"
   ]
  },
  {
   "cell_type": "markdown",
   "id": "bf2f10b4",
   "metadata": {
    "slideshow": {
     "slide_type": "slide"
    }
   },
   "source": [
    "## Application\n",
    "\n",
    "- So far:\n",
    "    + Is there a relationship between `prestige` and `income`? **Yes**\n",
    "    + How strong is the relationship between `prestige` and `income`? **Yes**\n",
    "    + Which variables are associated with `prestige`? **income, education, others?**\n",
    "    + How can we accurately predict the prestige of professions not studied in this survey? **Yes**\n",
    "    + Is the relationship linear? **It seems so**\n",
    "    + Is there a synergy among predictors? **Good question: for PS2!**\n",
    "    \n",
    "- PS2 we are going to expand the study here to the other covariate, the `type` of the job. \n",
    "    + Note that it is a qualitative covariate!"
   ]
  },
  {
   "cell_type": "markdown",
   "id": "a48684a9",
   "metadata": {
    "slideshow": {
     "slide_type": "slide"
    }
   },
   "source": [
    "# Classification"
   ]
  },
  {
   "cell_type": "markdown",
   "id": "75c5a0d1",
   "metadata": {
    "slideshow": {
     "slide_type": "slide"
    }
   },
   "source": [
    "## Classification\n",
    "\n",
    "- Linear regression is great! But it assumes we want to predict a continuous target variable.\n",
    "\n",
    "- But there are situations when our response variables is qualitative.\n",
    "\n",
    "**Examples:**\n",
    "\n",
    "- Whether a country default its debt obligations?\n",
    "\n",
    "- Whether a person voted Republican, Democrat, Independent, voted for a different party, or did not turnout to vote?\n",
    "\n",
    "- What determines the number of FOI requests that a given public office receives every day?\n",
    "\n",
    "- Is a country expected to meet, exceed, or not meet the Paris Treaty Nationally Determined Contributions?\n",
    "\n",
    "All these questions are qualitative in nature."
   ]
  },
  {
   "cell_type": "markdown",
   "id": "ce4a0d00",
   "metadata": {
    "slideshow": {
     "slide_type": "slide"
    }
   },
   "source": [
    "## Class Example\n",
    "\n",
    "- In 1988, the Chilean Dictator Augusto Pinochet conducted a referendum to whether he should step out.\n",
    "\n",
    "- The FLACSO in Chile conducted a surver on 2700 respondents.\n",
    "\n",
    "- We are going to build a model to predict their voting intentions."
   ]
  },
  {
   "cell_type": "markdown",
   "id": "25a2a23d",
   "metadata": {
    "slideshow": {
     "slide_type": "slide"
    }
   },
   "source": [
    "## Data\n",
    "\n",
    "| **Variable** | **Meaning** |\n",
    "|:---:|---|\n",
    "| region | A factor with levels:<br>- `C`, Central; <br>- `M`, Metropolitan Santiago area; <br>- `N`, North; <br>- `S`, South; <br>- `SA`, city of Santiago. |\n",
    "| population | The population size of respondent's community. |\n",
    "| sex | A factor with levels: <br>- `F`, female; <br>- `M`, male. |\n",
    "| age | The respondent's age in years. |\n",
    "| education | A factor with levels: <br>- `P`, Primary; <br>- `S`, Secondary; <br>- `PS`, Post-secondary. |\n",
    "| income | The respondent's monthly income, in Pesos. |\n",
    "| statusquo | A scale of support for the status-quo. |\n",
    "| vote | A factor with levels: <br>- `A`, will abstain; <br>- `N`, will vote no (against Pinochet);<br>- `U`, is undecided; <br>- `Y`, will vote yes (for Pinochet). |"
   ]
  },
  {
   "cell_type": "code",
   "execution_count": null,
   "id": "0c9b911f",
   "metadata": {
    "slideshow": {
     "slide_type": "slide"
    }
   },
   "outputs": [],
   "source": [
    "## Loading the data\n",
    "chile = pd.read_csv('')\n",
    "chile.head()\n",
    "chile = chile.dropna()\n",
    "chile.shape()"
   ]
  },
  {
   "cell_type": "markdown",
   "id": "2ebdf653",
   "metadata": {
    "slideshow": {
     "slide_type": "slide"
    }
   },
   "source": [
    "## Why not run a Linear Regression?\n",
    "\n",
    "You could ask this very valid question. And my answer here differs a bit from the book.\n",
    "\n",
    "**My suggestion:**\n",
    "\n",
    "- If you want to **measure a treatment effect**, or any other fitting where **explanation trumps prediction**, go with the linear regression.\n",
    "    + Easy to explain to a lay audience.\n",
    "    + Good polynomial expansion around the ATE.\n",
    "    + Needs a careful design (in Causal Inference, the design is more important than the statistical method!).\n",
    "    + Interaction terms are just partial derivatives of the fitted equation."
   ]
  },
  {
   "cell_type": "markdown",
   "id": "fe03a3b7",
   "metadata": {
    "slideshow": {
     "slide_type": "slide"
    }
   },
   "source": [
    "## Why not run a Linear Regression?\n",
    "\n",
    "You could ask this very valid question. And my answer here differs a bit from the book.\n",
    "\n",
    "**My suggestion:**\n",
    "\n",
    "- If you want to **predict outcomes**, go with a classification model appropriate for your target variable unit.\n",
    "    + You are not going to do `weird` prediction.\n",
    "    + You have a marginal efficiency gain (in terms of Standard Errors).\n",
    "    + If you have an ordered target variable, your model does look like more meaningful.\n",
    "    + Need to be careful about interaction terms (has to do with taking derivatives of link function in Generalized Linear Models)."
   ]
  },
  {
   "cell_type": "markdown",
   "id": "261fd9ec",
   "metadata": {
    "slideshow": {
     "slide_type": "slide"
    }
   },
   "source": [
    "## Why not run a Linear Regression?\n",
    "\n",
    "You could ask this very valid question. And my answer here differs a bit from the book.\n",
    "\n",
    "**My suggestion:**\n",
    "\n",
    "- Be **careful when you have discrete nominal variation in your target variable**:\n",
    "    + Binary outcome: Linear Regression and Linear Discriminant Analysis are the same.\n",
    "    + Three or more categories, like the `vote` in the Chilean dataset messes up badly with things."
   ]
  },
  {
   "cell_type": "markdown",
   "id": "b7f9708a",
   "metadata": {
    "slideshow": {
     "slide_type": "slide"
    }
   },
   "source": [
    "## Book's Example\n",
    "\n",
    "Chance of Default on Credit Card Debt by Account Balance:\n",
    "\n",
    "![linear x logistic regression IRLR book](../img/linvslogit.png)"
   ]
  },
  {
   "cell_type": "markdown",
   "id": "b9544b19",
   "metadata": {
    "slideshow": {
     "slide_type": "slide"
    }
   },
   "source": [
    "## Logistic Regression\n",
    "\n",
    "- Logistic Regression belongs to a class of models called [Generalized Linear Models](https://en.wikipedia.org/wiki/Generalized_linear_model) (or GLM for short).\n",
    "\n",
    "- A GLM, in a nutshell (and in a proudly lazy definition) is an expansion of Linear Model that assumes:\n",
    "    + A Linear Relationship in part of the model\n",
    "    + But then applies a non-linear transformation to the response variable.\n",
    "\n",
    "- The non-linear transformation is called `link function`. Many link functions around (check [here](https://en.wikipedia.org/wiki/Generalized_linear_model) for various link functions).\n",
    "\n",
    "- The link function is going to determine which types of models we run.\n",
    "\n",
    "- When the outcome variable is binary, we may use the `Logistic` or `Probit` links."
   ]
  },
  {
   "cell_type": "markdown",
   "id": "584a4c1a",
   "metadata": {
    "slideshow": {
     "slide_type": "slide"
    }
   },
   "source": [
    "## Logistic Regression\n",
    "\n",
    "In a regression, we are investigating something along the lines of:\n",
    "\n",
    "$$ \\mathbb{E}[Y | X] \\ = \\ \\beta_0 + \\beta_1 X $$\n",
    "\n",
    "But when the outcome is binary we would like to get:\n",
    "\n",
    "$$ \\mathbb{E}[Y | X] \\ = \\ \\mathbb{P}(Y = 1 | X) $$\n",
    "\n",
    "And the Logistic link is nothing but:\n",
    "\n",
    "$$ \\mathbb{P}(Y = 1 | X) \\ = \\ \\dfrac{e^{(\\beta_0 + \\beta_1X)}}{1 + e^{(\\beta_0 + \\beta_1X)}} $$"
   ]
  },
  {
   "cell_type": "markdown",
   "id": "7ddb576f",
   "metadata": {
    "slideshow": {
     "slide_type": "slide"
    }
   },
   "source": [
    "## Logistic Regression\n",
    "\n",
    "With a bit of manipulation, we get to something called odds ratio:\n",
    "\n",
    "$$ \\dfrac{\\mathbb{P}(Y = 1 | X)}{\\mathbb{P}(Y = 0 | X)} \\ = \\ \\dfrac{\\mathbb{P}(Y = 1 | X)}{1 - \\mathbb{P}(Y = 1 | X)} \\ = \\ e^{(\\beta_0 + \\beta_1X)} $$\n",
    "\n",
    "And logging the thing gets rid of the Euler constant:\n",
    "\n",
    "$$ \\log \\left( \\dfrac{\\mathbb{P}(Y = 1 | X)}{1 - \\mathbb{P}(Y = 1 | X)}\\right) \\ = \\ \\beta_0 + \\beta_1X $$\n",
    "\n",
    "And this is the Logit Link."
   ]
  },
  {
   "cell_type": "markdown",
   "id": "720b2ba7",
   "metadata": {
    "slideshow": {
     "slide_type": "slide"
    }
   },
   "source": [
    "## Logistic Regression\n",
    "\n",
    "Little detour to talk about odd ratios:\n",
    "\n",
    "- Note the odd ratio: $\\dfrac{\\mathbb{P}(Y = 1 | X)}{1 - \\mathbb{P}(Y = 1 | X)}$\n",
    "\n",
    "- It is a ratio between the chance of $Y = 1$ divided by the chance of $Y = 0$.\n",
    "\n",
    "- Since probabilities are between zero and one, the ratio is always between $(0, \\infty)$.\n",
    "\n",
    "Example:\n",
    "\n",
    "- If based on characteristics, two in every ten people vote for Pinochet, $\\mathbb{P}(Y = 1 | X = \\text{some characs.}) = 0.2$ and the odds ratio is $1/4$.\n",
    "\n",
    "- If based on other set of characteristics, nine out of ten people vote for Pinochet, $\\mathbb{P}(Y = 1 | X = \\text{some other characs.}) = 0.9$ and the odds ratio is $9$.\n",
    "\n",
    "- One is like the number that does not change the ratios.\n"
   ]
  },
  {
   "cell_type": "markdown",
   "id": "07f2ef9f",
   "metadata": {
    "slideshow": {
     "slide_type": "slide"
    }
   },
   "source": [
    "## Logistic Regression\n",
    "\n",
    "Little other detour to talk about the coefficients:\n",
    "\n",
    "- In linear regression, changes in one unit of $x_i$ changes your target variable in $\\beta_i$ units, on average.\n",
    "\n",
    "- In logistic regression, changes in one unit of $x_i$ changes **the log odds** your target variable in $\\beta_i$ units, on average.\n",
    "\n",
    "- Multiplies the odds by $e^{\\beta_i}$! This is **not** a straight line!\n",
    "\n",
    "- Easy proxy (does not work for interaction terms): \n",
    "    + When $\\beta_1$ is **positive**, it **increases** the $\\mathbb{P}(Y = 1 | X)$\n",
    "    + When $\\beta_1$ is **negative**, it **decreases** the $\\mathbb{P}(Y = 1 | X)$\n",
    "    \n",
    "- Try to compute the partial derivatives on $X$ and you will see the complications!"
   ]
  },
  {
   "cell_type": "markdown",
   "id": "480eee1a",
   "metadata": {
    "slideshow": {
     "slide_type": "slide"
    }
   },
   "source": [
    "## Logistic Regression\n",
    "\n",
    "Technical:\n",
    "\n",
    "1. The estimation is through [maximizing the likelihood function](https://en.wikipedia.org/wiki/Likelihood_function).\n",
    "    + This is outside the scope of the course, but an interesting topic to learn in an advanced course.\n",
    "\n",
    "\n",
    "2. The hypothesis test for the coefficient's significance in here is a Z-test (based on the Normal distribution).\n",
    "    + Null Hypothesis: $H_0: \\ \\beta_i = 0$ or alternatively $H_0: \\ e^{\\beta_i} = 1$.\n",
    "\n",
    "\n",
    "3. Making predictions:\n",
    "    + Just insert the predicted $\\hat{\\beta}$s on the equation.\n",
    "    \n",
    "$$ \\hat{p}(X) \\ = \\ \\dfrac{e^{\\hat{\\beta}_0 + \\hat{\\beta}_1 X}}{1 + e^{\\hat{\\beta}_0 + \\hat{\\beta}_1 X}} $$"
   ]
  },
  {
   "cell_type": "markdown",
   "id": "3c877b1b",
   "metadata": {
    "slideshow": {
     "slide_type": "slide"
    }
   },
   "source": [
    "## Logistic Regression\n",
    "\n",
    "- Let's fit a Logistic Regression:"
   ]
  },
  {
   "cell_type": "code",
   "execution_count": null,
   "id": "f99657c1",
   "metadata": {
    "slideshow": {
     "slide_type": "fragment"
    }
   },
   "outputs": [],
   "source": [
    "# Initialize\n",
    "\n",
    "modellogit = LogisticRegression().fit()\n"
   ]
  },
  {
   "cell_type": "markdown",
   "id": "d8eace45",
   "metadata": {
    "slideshow": {
     "slide_type": "slide"
    }
   },
   "source": [
    "# Questions?"
   ]
  },
  {
   "cell_type": "markdown",
   "id": "22d252e9",
   "metadata": {
    "slideshow": {
     "slide_type": "slide"
    }
   },
   "source": [
    "# See you next class\n"
   ]
  }
 ],
 "metadata": {
  "celltoolbar": "Slideshow",
  "kernelspec": {
   "display_name": "Python 3 (ipykernel)",
   "language": "python",
   "name": "python3"
  },
  "language_info": {
   "codemirror_mode": {
    "name": "ipython",
    "version": 3
   },
   "file_extension": ".py",
   "mimetype": "text/x-python",
   "name": "python",
   "nbconvert_exporter": "python",
   "pygments_lexer": "ipython3",
   "version": "3.9.12"
  }
 },
 "nbformat": 4,
 "nbformat_minor": 5
}
